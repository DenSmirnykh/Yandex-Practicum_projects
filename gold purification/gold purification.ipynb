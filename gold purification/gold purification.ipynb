{
 "cells": [
  {
   "cell_type": "markdown",
   "metadata": {
    "toc": true
   },
   "source": [
    "<h1>Содержание<span class=\"tocSkip\"></span></h1>\n",
    "<div class=\"toc\"><ul class=\"toc-item\"><li><span><a href=\"#Подготовка-данных\" data-toc-modified-id=\"Подготовка-данных-1\"><span class=\"toc-item-num\">1&nbsp;&nbsp;</span>Подготовка данных</a></span></li><li><span><a href=\"#Анализ-данных\" data-toc-modified-id=\"Анализ-данных-2\"><span class=\"toc-item-num\">2&nbsp;&nbsp;</span>Анализ данных</a></span></li><li><span><a href=\"#Модель\" data-toc-modified-id=\"Модель-3\"><span class=\"toc-item-num\">3&nbsp;&nbsp;</span>Модель</a></span><ul class=\"toc-item\"><li><span><a href=\"#Модель-DecisionTreeRegressor\" data-toc-modified-id=\"Модель-DecisionTreeRegressor-3.1\"><span class=\"toc-item-num\">3.1&nbsp;&nbsp;</span>Модель DecisionTreeRegressor</a></span></li><li><span><a href=\"#Модель-RandomForestRegressor\" data-toc-modified-id=\"Модель-RandomForestRegressor-3.2\"><span class=\"toc-item-num\">3.2&nbsp;&nbsp;</span>Модель RandomForestRegressor</a></span></li><li><span><a href=\"#Модель-LinearRegression\" data-toc-modified-id=\"Модель-LinearRegression-3.3\"><span class=\"toc-item-num\">3.3&nbsp;&nbsp;</span>Модель LinearRegression</a></span></li></ul></li><li><span><a href=\"#Вывод:\" data-toc-modified-id=\"Вывод:-4\"><span class=\"toc-item-num\">4&nbsp;&nbsp;</span>Вывод:</a></span></li><li><span><a href=\"#Чек-лист-готовности-проекта\" data-toc-modified-id=\"Чек-лист-готовности-проекта-5\"><span class=\"toc-item-num\">5&nbsp;&nbsp;</span>Чек-лист готовности проекта</a></span></li></ul></div>"
   ]
  },
  {
   "cell_type": "markdown",
   "metadata": {},
   "source": [
    "# Восстановление золота из руды"
   ]
  },
  {
   "cell_type": "markdown",
   "metadata": {},
   "source": [
    "Необходимо подготовить прототип модели машинного обучения для «Цифры». Компания разрабатывает решения для эффективной работы промышленных предприятий.\n",
    "\n",
    "Модель должна предсказать коэффициент восстановления золота из золотосодержащей руды. Для этого нужно использовать данные с параметрами добычи и очистки. \n",
    "\n",
    "Модель поможет оптимизировать производство, чтобы не запускать предприятие с убыточными характеристиками.\n",
    "\n",
    "Для достижения цели необходимо выполнить следующие задачи:\n",
    "\n",
    "1. Подготовить данные;\n",
    "2. Провести исследовательский анализ данных;\n",
    "3. Построить и обучить модель."
   ]
  },
  {
   "cell_type": "markdown",
   "metadata": {},
   "source": [
    "## Подготовка данных"
   ]
  },
  {
   "cell_type": "code",
   "execution_count": 1,
   "metadata": {},
   "outputs": [],
   "source": [
    "import pandas as pd\n",
    "import matplotlib.pyplot as plt\n",
    "import seaborn as sns\n",
    "from numpy.random import RandomState\n",
    "from sklearn.metrics import mean_absolute_error\n",
    "from sklearn.metrics import make_scorer\n",
    "from sklearn.model_selection import train_test_split\n",
    "from sklearn.model_selection import cross_val_score\n",
    "from sklearn.tree import DecisionTreeRegressor\n",
    "from sklearn.ensemble import RandomForestRegressor\n",
    "from sklearn.linear_model import LinearRegression\n",
    "from sklearn.dummy import DummyRegressor"
   ]
  },
  {
   "cell_type": "code",
   "execution_count": 2,
   "metadata": {},
   "outputs": [],
   "source": [
    "train_data = pd.read_csv('/datasets/gold_recovery_train_new.csv')\n",
    "test_data = pd.read_csv('/datasets/gold_recovery_test_new.csv')\n",
    "data = pd.read_csv('/datasets/gold_recovery_full_new.csv')"
   ]
  },
  {
   "cell_type": "code",
   "execution_count": 3,
   "metadata": {},
   "outputs": [],
   "source": [
    "def data_analyse(data):\n",
    "    print('Количество параметров и объектов', data.shape)\n",
    "    print('Количество дубликатов в датасете', data.duplicated().sum())\n",
    "    print('Количество пропусков в датасете', data.isna().sum().sum())\n",
    "    "
   ]
  },
  {
   "cell_type": "code",
   "execution_count": 4,
   "metadata": {
    "scrolled": false
   },
   "outputs": [
    {
     "name": "stdout",
     "output_type": "stream",
     "text": [
      "Количество параметров и объектов (19439, 87)\n",
      "Количество дубликатов в датасете 0\n",
      "Количество пропусков в датасете 4481\n",
      "--------------------------------------\n",
      "Количество параметров и объектов (14149, 87)\n",
      "Количество дубликатов в датасете 0\n",
      "Количество пропусков в датасете 4100\n",
      "--------------------------------------\n",
      "Количество параметров и объектов (5290, 53)\n",
      "Количество дубликатов в датасете 0\n",
      "Количество пропусков в датасете 90\n"
     ]
    }
   ],
   "source": [
    "data_analyse(data)\n",
    "print('--------------------------------------')\n",
    "data_analyse(train_data)\n",
    "print('--------------------------------------')\n",
    "data_analyse(test_data)"
   ]
  },
  {
   "cell_type": "code",
   "execution_count": 5,
   "metadata": {
    "scrolled": true
   },
   "outputs": [
    {
     "name": "stdout",
     "output_type": "stream",
     "text": [
      "<class 'pandas.core.frame.DataFrame'>\n",
      "RangeIndex: 14149 entries, 0 to 14148\n",
      "Data columns (total 87 columns):\n",
      " #   Column                                              Non-Null Count  Dtype  \n",
      "---  ------                                              --------------  -----  \n",
      " 0   date                                                14149 non-null  object \n",
      " 1   final.output.concentrate_ag                         14148 non-null  float64\n",
      " 2   final.output.concentrate_pb                         14148 non-null  float64\n",
      " 3   final.output.concentrate_sol                        13938 non-null  float64\n",
      " 4   final.output.concentrate_au                         14149 non-null  float64\n",
      " 5   final.output.recovery                               14149 non-null  float64\n",
      " 6   final.output.tail_ag                                14149 non-null  float64\n",
      " 7   final.output.tail_pb                                14049 non-null  float64\n",
      " 8   final.output.tail_sol                               14144 non-null  float64\n",
      " 9   final.output.tail_au                                14149 non-null  float64\n",
      " 10  primary_cleaner.input.sulfate                       14129 non-null  float64\n",
      " 11  primary_cleaner.input.depressant                    14117 non-null  float64\n",
      " 12  primary_cleaner.input.feed_size                     14149 non-null  float64\n",
      " 13  primary_cleaner.input.xanthate                      14049 non-null  float64\n",
      " 14  primary_cleaner.output.concentrate_ag               14149 non-null  float64\n",
      " 15  primary_cleaner.output.concentrate_pb               14063 non-null  float64\n",
      " 16  primary_cleaner.output.concentrate_sol              13863 non-null  float64\n",
      " 17  primary_cleaner.output.concentrate_au               14149 non-null  float64\n",
      " 18  primary_cleaner.output.tail_ag                      14148 non-null  float64\n",
      " 19  primary_cleaner.output.tail_pb                      14134 non-null  float64\n",
      " 20  primary_cleaner.output.tail_sol                     14103 non-null  float64\n",
      " 21  primary_cleaner.output.tail_au                      14149 non-null  float64\n",
      " 22  primary_cleaner.state.floatbank8_a_air              14145 non-null  float64\n",
      " 23  primary_cleaner.state.floatbank8_a_level            14148 non-null  float64\n",
      " 24  primary_cleaner.state.floatbank8_b_air              14145 non-null  float64\n",
      " 25  primary_cleaner.state.floatbank8_b_level            14148 non-null  float64\n",
      " 26  primary_cleaner.state.floatbank8_c_air              14147 non-null  float64\n",
      " 27  primary_cleaner.state.floatbank8_c_level            14148 non-null  float64\n",
      " 28  primary_cleaner.state.floatbank8_d_air              14146 non-null  float64\n",
      " 29  primary_cleaner.state.floatbank8_d_level            14148 non-null  float64\n",
      " 30  rougher.calculation.sulfate_to_au_concentrate       14148 non-null  float64\n",
      " 31  rougher.calculation.floatbank10_sulfate_to_au_feed  14148 non-null  float64\n",
      " 32  rougher.calculation.floatbank11_sulfate_to_au_feed  14148 non-null  float64\n",
      " 33  rougher.calculation.au_pb_ratio                     14149 non-null  float64\n",
      " 34  rougher.input.feed_ag                               14149 non-null  float64\n",
      " 35  rougher.input.feed_pb                               14049 non-null  float64\n",
      " 36  rougher.input.feed_rate                             14141 non-null  float64\n",
      " 37  rougher.input.feed_size                             14005 non-null  float64\n",
      " 38  rougher.input.feed_sol                              14071 non-null  float64\n",
      " 39  rougher.input.feed_au                               14149 non-null  float64\n",
      " 40  rougher.input.floatbank10_sulfate                   14120 non-null  float64\n",
      " 41  rougher.input.floatbank10_xanthate                  14141 non-null  float64\n",
      " 42  rougher.input.floatbank11_sulfate                   14113 non-null  float64\n",
      " 43  rougher.input.floatbank11_xanthate                  13721 non-null  float64\n",
      " 44  rougher.output.concentrate_ag                       14149 non-null  float64\n",
      " 45  rougher.output.concentrate_pb                       14149 non-null  float64\n",
      " 46  rougher.output.concentrate_sol                      14127 non-null  float64\n",
      " 47  rougher.output.concentrate_au                       14149 non-null  float64\n",
      " 48  rougher.output.recovery                             14149 non-null  float64\n",
      " 49  rougher.output.tail_ag                              14148 non-null  float64\n",
      " 50  rougher.output.tail_pb                              14149 non-null  float64\n",
      " 51  rougher.output.tail_sol                             14149 non-null  float64\n",
      " 52  rougher.output.tail_au                              14149 non-null  float64\n",
      " 53  rougher.state.floatbank10_a_air                     14148 non-null  float64\n",
      " 54  rougher.state.floatbank10_a_level                   14148 non-null  float64\n",
      " 55  rougher.state.floatbank10_b_air                     14148 non-null  float64\n",
      " 56  rougher.state.floatbank10_b_level                   14148 non-null  float64\n",
      " 57  rougher.state.floatbank10_c_air                     14148 non-null  float64\n",
      " 58  rougher.state.floatbank10_c_level                   14148 non-null  float64\n",
      " 59  rougher.state.floatbank10_d_air                     14149 non-null  float64\n",
      " 60  rougher.state.floatbank10_d_level                   14149 non-null  float64\n",
      " 61  rougher.state.floatbank10_e_air                     13713 non-null  float64\n",
      " 62  rougher.state.floatbank10_e_level                   14149 non-null  float64\n",
      " 63  rougher.state.floatbank10_f_air                     14149 non-null  float64\n",
      " 64  rougher.state.floatbank10_f_level                   14149 non-null  float64\n",
      " 65  secondary_cleaner.output.tail_ag                    14147 non-null  float64\n",
      " 66  secondary_cleaner.output.tail_pb                    14139 non-null  float64\n",
      " 67  secondary_cleaner.output.tail_sol                   12544 non-null  float64\n",
      " 68  secondary_cleaner.output.tail_au                    14149 non-null  float64\n",
      " 69  secondary_cleaner.state.floatbank2_a_air            13932 non-null  float64\n",
      " 70  secondary_cleaner.state.floatbank2_a_level          14148 non-null  float64\n",
      " 71  secondary_cleaner.state.floatbank2_b_air            14128 non-null  float64\n",
      " 72  secondary_cleaner.state.floatbank2_b_level          14148 non-null  float64\n",
      " 73  secondary_cleaner.state.floatbank3_a_air            14145 non-null  float64\n",
      " 74  secondary_cleaner.state.floatbank3_a_level          14148 non-null  float64\n",
      " 75  secondary_cleaner.state.floatbank3_b_air            14148 non-null  float64\n",
      " 76  secondary_cleaner.state.floatbank3_b_level          14148 non-null  float64\n",
      " 77  secondary_cleaner.state.floatbank4_a_air            14143 non-null  float64\n",
      " 78  secondary_cleaner.state.floatbank4_a_level          14148 non-null  float64\n",
      " 79  secondary_cleaner.state.floatbank4_b_air            14148 non-null  float64\n",
      " 80  secondary_cleaner.state.floatbank4_b_level          14148 non-null  float64\n",
      " 81  secondary_cleaner.state.floatbank5_a_air            14148 non-null  float64\n",
      " 82  secondary_cleaner.state.floatbank5_a_level          14148 non-null  float64\n",
      " 83  secondary_cleaner.state.floatbank5_b_air            14148 non-null  float64\n",
      " 84  secondary_cleaner.state.floatbank5_b_level          14148 non-null  float64\n",
      " 85  secondary_cleaner.state.floatbank6_a_air            14147 non-null  float64\n",
      " 86  secondary_cleaner.state.floatbank6_a_level          14148 non-null  float64\n",
      "dtypes: float64(86), object(1)\n",
      "memory usage: 9.4+ MB\n"
     ]
    }
   ],
   "source": [
    "train_data.info()"
   ]
  },
  {
   "cell_type": "code",
   "execution_count": 6,
   "metadata": {},
   "outputs": [
    {
     "data": {
      "text/html": [
       "<div>\n",
       "<style scoped>\n",
       "    .dataframe tbody tr th:only-of-type {\n",
       "        vertical-align: middle;\n",
       "    }\n",
       "\n",
       "    .dataframe tbody tr th {\n",
       "        vertical-align: top;\n",
       "    }\n",
       "\n",
       "    .dataframe thead th {\n",
       "        text-align: right;\n",
       "    }\n",
       "</style>\n",
       "<table border=\"1\" class=\"dataframe\">\n",
       "  <thead>\n",
       "    <tr style=\"text-align: right;\">\n",
       "      <th></th>\n",
       "      <th>date</th>\n",
       "      <th>primary_cleaner.input.sulfate</th>\n",
       "      <th>primary_cleaner.input.depressant</th>\n",
       "      <th>primary_cleaner.input.feed_size</th>\n",
       "      <th>primary_cleaner.input.xanthate</th>\n",
       "      <th>primary_cleaner.state.floatbank8_a_air</th>\n",
       "      <th>primary_cleaner.state.floatbank8_a_level</th>\n",
       "      <th>primary_cleaner.state.floatbank8_b_air</th>\n",
       "      <th>primary_cleaner.state.floatbank8_b_level</th>\n",
       "      <th>primary_cleaner.state.floatbank8_c_air</th>\n",
       "      <th>...</th>\n",
       "      <th>secondary_cleaner.state.floatbank4_a_air</th>\n",
       "      <th>secondary_cleaner.state.floatbank4_a_level</th>\n",
       "      <th>secondary_cleaner.state.floatbank4_b_air</th>\n",
       "      <th>secondary_cleaner.state.floatbank4_b_level</th>\n",
       "      <th>secondary_cleaner.state.floatbank5_a_air</th>\n",
       "      <th>secondary_cleaner.state.floatbank5_a_level</th>\n",
       "      <th>secondary_cleaner.state.floatbank5_b_air</th>\n",
       "      <th>secondary_cleaner.state.floatbank5_b_level</th>\n",
       "      <th>secondary_cleaner.state.floatbank6_a_air</th>\n",
       "      <th>secondary_cleaner.state.floatbank6_a_level</th>\n",
       "    </tr>\n",
       "  </thead>\n",
       "  <tbody>\n",
       "    <tr>\n",
       "      <th>0</th>\n",
       "      <td>2016-09-01 00:59:59</td>\n",
       "      <td>210.800909</td>\n",
       "      <td>14.993118</td>\n",
       "      <td>8.080000</td>\n",
       "      <td>1.005021</td>\n",
       "      <td>1398.981301</td>\n",
       "      <td>-500.225577</td>\n",
       "      <td>1399.144926</td>\n",
       "      <td>-499.919735</td>\n",
       "      <td>1400.102998</td>\n",
       "      <td>...</td>\n",
       "      <td>12.023554</td>\n",
       "      <td>-497.795834</td>\n",
       "      <td>8.016656</td>\n",
       "      <td>-501.289139</td>\n",
       "      <td>7.946562</td>\n",
       "      <td>-432.317850</td>\n",
       "      <td>4.872511</td>\n",
       "      <td>-500.037437</td>\n",
       "      <td>26.705889</td>\n",
       "      <td>-499.709414</td>\n",
       "    </tr>\n",
       "    <tr>\n",
       "      <th>1</th>\n",
       "      <td>2016-09-01 01:59:59</td>\n",
       "      <td>215.392455</td>\n",
       "      <td>14.987471</td>\n",
       "      <td>8.080000</td>\n",
       "      <td>0.990469</td>\n",
       "      <td>1398.777912</td>\n",
       "      <td>-500.057435</td>\n",
       "      <td>1398.055362</td>\n",
       "      <td>-499.778182</td>\n",
       "      <td>1396.151033</td>\n",
       "      <td>...</td>\n",
       "      <td>12.058140</td>\n",
       "      <td>-498.695773</td>\n",
       "      <td>8.130979</td>\n",
       "      <td>-499.634209</td>\n",
       "      <td>7.958270</td>\n",
       "      <td>-525.839648</td>\n",
       "      <td>4.878850</td>\n",
       "      <td>-500.162375</td>\n",
       "      <td>25.019940</td>\n",
       "      <td>-499.819438</td>\n",
       "    </tr>\n",
       "    <tr>\n",
       "      <th>2</th>\n",
       "      <td>2016-09-01 02:59:59</td>\n",
       "      <td>215.259946</td>\n",
       "      <td>12.884934</td>\n",
       "      <td>7.786667</td>\n",
       "      <td>0.996043</td>\n",
       "      <td>1398.493666</td>\n",
       "      <td>-500.868360</td>\n",
       "      <td>1398.860436</td>\n",
       "      <td>-499.764529</td>\n",
       "      <td>1398.075709</td>\n",
       "      <td>...</td>\n",
       "      <td>11.962366</td>\n",
       "      <td>-498.767484</td>\n",
       "      <td>8.096893</td>\n",
       "      <td>-500.827423</td>\n",
       "      <td>8.071056</td>\n",
       "      <td>-500.801673</td>\n",
       "      <td>4.905125</td>\n",
       "      <td>-499.828510</td>\n",
       "      <td>24.994862</td>\n",
       "      <td>-500.622559</td>\n",
       "    </tr>\n",
       "    <tr>\n",
       "      <th>3</th>\n",
       "      <td>2016-09-01 03:59:59</td>\n",
       "      <td>215.336236</td>\n",
       "      <td>12.006805</td>\n",
       "      <td>7.640000</td>\n",
       "      <td>0.863514</td>\n",
       "      <td>1399.618111</td>\n",
       "      <td>-498.863574</td>\n",
       "      <td>1397.440120</td>\n",
       "      <td>-499.211024</td>\n",
       "      <td>1400.129303</td>\n",
       "      <td>...</td>\n",
       "      <td>12.033091</td>\n",
       "      <td>-498.350935</td>\n",
       "      <td>8.074946</td>\n",
       "      <td>-499.474407</td>\n",
       "      <td>7.897085</td>\n",
       "      <td>-500.868509</td>\n",
       "      <td>4.931400</td>\n",
       "      <td>-499.963623</td>\n",
       "      <td>24.948919</td>\n",
       "      <td>-498.709987</td>\n",
       "    </tr>\n",
       "    <tr>\n",
       "      <th>4</th>\n",
       "      <td>2016-09-01 04:59:59</td>\n",
       "      <td>199.099327</td>\n",
       "      <td>10.682530</td>\n",
       "      <td>7.530000</td>\n",
       "      <td>0.805575</td>\n",
       "      <td>1401.268123</td>\n",
       "      <td>-500.808305</td>\n",
       "      <td>1398.128818</td>\n",
       "      <td>-499.504543</td>\n",
       "      <td>1402.172226</td>\n",
       "      <td>...</td>\n",
       "      <td>12.025367</td>\n",
       "      <td>-500.786497</td>\n",
       "      <td>8.054678</td>\n",
       "      <td>-500.397500</td>\n",
       "      <td>8.107890</td>\n",
       "      <td>-509.526725</td>\n",
       "      <td>4.957674</td>\n",
       "      <td>-500.360026</td>\n",
       "      <td>25.003331</td>\n",
       "      <td>-500.856333</td>\n",
       "    </tr>\n",
       "  </tbody>\n",
       "</table>\n",
       "<p>5 rows × 53 columns</p>\n",
       "</div>"
      ],
      "text/plain": [
       "                  date  primary_cleaner.input.sulfate  \\\n",
       "0  2016-09-01 00:59:59                     210.800909   \n",
       "1  2016-09-01 01:59:59                     215.392455   \n",
       "2  2016-09-01 02:59:59                     215.259946   \n",
       "3  2016-09-01 03:59:59                     215.336236   \n",
       "4  2016-09-01 04:59:59                     199.099327   \n",
       "\n",
       "   primary_cleaner.input.depressant  primary_cleaner.input.feed_size  \\\n",
       "0                         14.993118                         8.080000   \n",
       "1                         14.987471                         8.080000   \n",
       "2                         12.884934                         7.786667   \n",
       "3                         12.006805                         7.640000   \n",
       "4                         10.682530                         7.530000   \n",
       "\n",
       "   primary_cleaner.input.xanthate  primary_cleaner.state.floatbank8_a_air  \\\n",
       "0                        1.005021                             1398.981301   \n",
       "1                        0.990469                             1398.777912   \n",
       "2                        0.996043                             1398.493666   \n",
       "3                        0.863514                             1399.618111   \n",
       "4                        0.805575                             1401.268123   \n",
       "\n",
       "   primary_cleaner.state.floatbank8_a_level  \\\n",
       "0                               -500.225577   \n",
       "1                               -500.057435   \n",
       "2                               -500.868360   \n",
       "3                               -498.863574   \n",
       "4                               -500.808305   \n",
       "\n",
       "   primary_cleaner.state.floatbank8_b_air  \\\n",
       "0                             1399.144926   \n",
       "1                             1398.055362   \n",
       "2                             1398.860436   \n",
       "3                             1397.440120   \n",
       "4                             1398.128818   \n",
       "\n",
       "   primary_cleaner.state.floatbank8_b_level  \\\n",
       "0                               -499.919735   \n",
       "1                               -499.778182   \n",
       "2                               -499.764529   \n",
       "3                               -499.211024   \n",
       "4                               -499.504543   \n",
       "\n",
       "   primary_cleaner.state.floatbank8_c_air  ...  \\\n",
       "0                             1400.102998  ...   \n",
       "1                             1396.151033  ...   \n",
       "2                             1398.075709  ...   \n",
       "3                             1400.129303  ...   \n",
       "4                             1402.172226  ...   \n",
       "\n",
       "   secondary_cleaner.state.floatbank4_a_air  \\\n",
       "0                                 12.023554   \n",
       "1                                 12.058140   \n",
       "2                                 11.962366   \n",
       "3                                 12.033091   \n",
       "4                                 12.025367   \n",
       "\n",
       "   secondary_cleaner.state.floatbank4_a_level  \\\n",
       "0                                 -497.795834   \n",
       "1                                 -498.695773   \n",
       "2                                 -498.767484   \n",
       "3                                 -498.350935   \n",
       "4                                 -500.786497   \n",
       "\n",
       "   secondary_cleaner.state.floatbank4_b_air  \\\n",
       "0                                  8.016656   \n",
       "1                                  8.130979   \n",
       "2                                  8.096893   \n",
       "3                                  8.074946   \n",
       "4                                  8.054678   \n",
       "\n",
       "   secondary_cleaner.state.floatbank4_b_level  \\\n",
       "0                                 -501.289139   \n",
       "1                                 -499.634209   \n",
       "2                                 -500.827423   \n",
       "3                                 -499.474407   \n",
       "4                                 -500.397500   \n",
       "\n",
       "   secondary_cleaner.state.floatbank5_a_air  \\\n",
       "0                                  7.946562   \n",
       "1                                  7.958270   \n",
       "2                                  8.071056   \n",
       "3                                  7.897085   \n",
       "4                                  8.107890   \n",
       "\n",
       "   secondary_cleaner.state.floatbank5_a_level  \\\n",
       "0                                 -432.317850   \n",
       "1                                 -525.839648   \n",
       "2                                 -500.801673   \n",
       "3                                 -500.868509   \n",
       "4                                 -509.526725   \n",
       "\n",
       "   secondary_cleaner.state.floatbank5_b_air  \\\n",
       "0                                  4.872511   \n",
       "1                                  4.878850   \n",
       "2                                  4.905125   \n",
       "3                                  4.931400   \n",
       "4                                  4.957674   \n",
       "\n",
       "   secondary_cleaner.state.floatbank5_b_level  \\\n",
       "0                                 -500.037437   \n",
       "1                                 -500.162375   \n",
       "2                                 -499.828510   \n",
       "3                                 -499.963623   \n",
       "4                                 -500.360026   \n",
       "\n",
       "   secondary_cleaner.state.floatbank6_a_air  \\\n",
       "0                                 26.705889   \n",
       "1                                 25.019940   \n",
       "2                                 24.994862   \n",
       "3                                 24.948919   \n",
       "4                                 25.003331   \n",
       "\n",
       "   secondary_cleaner.state.floatbank6_a_level  \n",
       "0                                 -499.709414  \n",
       "1                                 -499.819438  \n",
       "2                                 -500.622559  \n",
       "3                                 -498.709987  \n",
       "4                                 -500.856333  \n",
       "\n",
       "[5 rows x 53 columns]"
      ]
     },
     "execution_count": 6,
     "metadata": {},
     "output_type": "execute_result"
    }
   ],
   "source": [
    "test_data.head()"
   ]
  },
  {
   "cell_type": "markdown",
   "metadata": {},
   "source": [
    "В данных были обнаружены многочисленные в совокупности пропуски (больше 10% от общего числа данных). В тестовой выборке, как минимум, отсутствуют данные финальных характеристик.\n",
    "\n",
    "Для удобства переведём тип данных в столбце 'date' из object в datetime:"
   ]
  },
  {
   "cell_type": "code",
   "execution_count": 7,
   "metadata": {},
   "outputs": [
    {
     "name": "stdout",
     "output_type": "stream",
     "text": [
      "datetime64[ns] \n",
      "--------------\n",
      "datetime64[ns] \n",
      "--------------\n",
      "datetime64[ns] \n",
      "--------------\n"
     ]
    }
   ],
   "source": [
    "for i in [train_data, test_data, data]:\n",
    "    i['date'] = pd.to_datetime(i['date'], format='%Y-%m-%d %H:%M:%S')\n",
    "    print(i['date'].dtypes, '\\n--------------')"
   ]
  },
  {
   "cell_type": "markdown",
   "metadata": {},
   "source": [
    "Узнаем причину пропуска в данных:"
   ]
  },
  {
   "cell_type": "code",
   "execution_count": 8,
   "metadata": {
    "scrolled": true
   },
   "outputs": [
    {
     "data": {
      "text/html": [
       "<div>\n",
       "<style scoped>\n",
       "    .dataframe tbody tr th:only-of-type {\n",
       "        vertical-align: middle;\n",
       "    }\n",
       "\n",
       "    .dataframe tbody tr th {\n",
       "        vertical-align: top;\n",
       "    }\n",
       "\n",
       "    .dataframe thead th {\n",
       "        text-align: right;\n",
       "    }\n",
       "</style>\n",
       "<table border=\"1\" class=\"dataframe\">\n",
       "  <thead>\n",
       "    <tr style=\"text-align: right;\">\n",
       "      <th></th>\n",
       "      <th>date</th>\n",
       "      <th>final.output.concentrate_ag</th>\n",
       "      <th>final.output.concentrate_pb</th>\n",
       "      <th>final.output.concentrate_sol</th>\n",
       "      <th>final.output.concentrate_au</th>\n",
       "      <th>final.output.recovery</th>\n",
       "      <th>final.output.tail_ag</th>\n",
       "      <th>final.output.tail_pb</th>\n",
       "      <th>final.output.tail_sol</th>\n",
       "      <th>final.output.tail_au</th>\n",
       "      <th>...</th>\n",
       "      <th>secondary_cleaner.state.floatbank4_a_air</th>\n",
       "      <th>secondary_cleaner.state.floatbank4_a_level</th>\n",
       "      <th>secondary_cleaner.state.floatbank4_b_air</th>\n",
       "      <th>secondary_cleaner.state.floatbank4_b_level</th>\n",
       "      <th>secondary_cleaner.state.floatbank5_a_air</th>\n",
       "      <th>secondary_cleaner.state.floatbank5_a_level</th>\n",
       "      <th>secondary_cleaner.state.floatbank5_b_air</th>\n",
       "      <th>secondary_cleaner.state.floatbank5_b_level</th>\n",
       "      <th>secondary_cleaner.state.floatbank6_a_air</th>\n",
       "      <th>secondary_cleaner.state.floatbank6_a_level</th>\n",
       "    </tr>\n",
       "  </thead>\n",
       "  <tbody>\n",
       "    <tr>\n",
       "      <th>47</th>\n",
       "      <td>2016-01-16 23:00:00</td>\n",
       "      <td>4.591462</td>\n",
       "      <td>10.628846</td>\n",
       "      <td>5.688961</td>\n",
       "      <td>46.663335</td>\n",
       "      <td>55.088448</td>\n",
       "      <td>10.694584</td>\n",
       "      <td>1.671644</td>\n",
       "      <td>17.910312</td>\n",
       "      <td>2.686782</td>\n",
       "      <td>...</td>\n",
       "      <td>13.997488</td>\n",
       "      <td>-551.224653</td>\n",
       "      <td>11.971272</td>\n",
       "      <td>-550.095619</td>\n",
       "      <td>9.981163</td>\n",
       "      <td>-502.869109</td>\n",
       "      <td>7.941184</td>\n",
       "      <td>-500.623610</td>\n",
       "      <td>12.018837</td>\n",
       "      <td>-600.916665</td>\n",
       "    </tr>\n",
       "    <tr>\n",
       "      <th>48</th>\n",
       "      <td>2016-01-17 00:00:00</td>\n",
       "      <td>5.296830</td>\n",
       "      <td>10.597469</td>\n",
       "      <td>NaN</td>\n",
       "      <td>44.015642</td>\n",
       "      <td>41.962008</td>\n",
       "      <td>11.975654</td>\n",
       "      <td>1.846558</td>\n",
       "      <td>8.138408</td>\n",
       "      <td>2.889469</td>\n",
       "      <td>...</td>\n",
       "      <td>14.006476</td>\n",
       "      <td>-549.388727</td>\n",
       "      <td>11.975967</td>\n",
       "      <td>-550.778624</td>\n",
       "      <td>9.989726</td>\n",
       "      <td>-499.607365</td>\n",
       "      <td>7.958252</td>\n",
       "      <td>-498.882560</td>\n",
       "      <td>11.967977</td>\n",
       "      <td>-599.440603</td>\n",
       "    </tr>\n",
       "    <tr>\n",
       "      <th>49</th>\n",
       "      <td>2016-01-17 02:00:00</td>\n",
       "      <td>8.162896</td>\n",
       "      <td>8.877528</td>\n",
       "      <td>NaN</td>\n",
       "      <td>40.715973</td>\n",
       "      <td>49.884856</td>\n",
       "      <td>10.381465</td>\n",
       "      <td>1.024030</td>\n",
       "      <td>12.974257</td>\n",
       "      <td>2.739224</td>\n",
       "      <td>...</td>\n",
       "      <td>13.984906</td>\n",
       "      <td>-550.563329</td>\n",
       "      <td>11.999730</td>\n",
       "      <td>-550.549773</td>\n",
       "      <td>9.941869</td>\n",
       "      <td>-503.282068</td>\n",
       "      <td>8.018850</td>\n",
       "      <td>-500.970716</td>\n",
       "      <td>11.991078</td>\n",
       "      <td>-598.475929</td>\n",
       "    </tr>\n",
       "    <tr>\n",
       "      <th>65</th>\n",
       "      <td>2016-01-17 19:00:00</td>\n",
       "      <td>5.976553</td>\n",
       "      <td>10.996561</td>\n",
       "      <td>NaN</td>\n",
       "      <td>43.523390</td>\n",
       "      <td>62.514075</td>\n",
       "      <td>11.439665</td>\n",
       "      <td>1.255373</td>\n",
       "      <td>9.235768</td>\n",
       "      <td>2.770570</td>\n",
       "      <td>...</td>\n",
       "      <td>14.000420</td>\n",
       "      <td>-550.369289</td>\n",
       "      <td>11.993860</td>\n",
       "      <td>-550.801872</td>\n",
       "      <td>10.019677</td>\n",
       "      <td>-502.134984</td>\n",
       "      <td>8.028135</td>\n",
       "      <td>-500.026321</td>\n",
       "      <td>11.999417</td>\n",
       "      <td>-601.306527</td>\n",
       "    </tr>\n",
       "    <tr>\n",
       "      <th>66</th>\n",
       "      <td>2016-01-17 20:00:00</td>\n",
       "      <td>5.849873</td>\n",
       "      <td>10.630010</td>\n",
       "      <td>NaN</td>\n",
       "      <td>43.582899</td>\n",
       "      <td>61.819261</td>\n",
       "      <td>11.415898</td>\n",
       "      <td>1.373004</td>\n",
       "      <td>9.696283</td>\n",
       "      <td>2.816412</td>\n",
       "      <td>...</td>\n",
       "      <td>14.017045</td>\n",
       "      <td>-549.905281</td>\n",
       "      <td>12.002873</td>\n",
       "      <td>-550.416734</td>\n",
       "      <td>9.960796</td>\n",
       "      <td>-497.271602</td>\n",
       "      <td>8.028384</td>\n",
       "      <td>-499.558407</td>\n",
       "      <td>11.978157</td>\n",
       "      <td>-598.788524</td>\n",
       "    </tr>\n",
       "    <tr>\n",
       "      <th>67</th>\n",
       "      <td>2016-01-17 21:00:00</td>\n",
       "      <td>5.608075</td>\n",
       "      <td>10.683667</td>\n",
       "      <td>NaN</td>\n",
       "      <td>44.966499</td>\n",
       "      <td>63.767242</td>\n",
       "      <td>11.462566</td>\n",
       "      <td>1.413849</td>\n",
       "      <td>10.764420</td>\n",
       "      <td>2.755172</td>\n",
       "      <td>...</td>\n",
       "      <td>14.038568</td>\n",
       "      <td>-549.818311</td>\n",
       "      <td>11.972607</td>\n",
       "      <td>-550.311739</td>\n",
       "      <td>10.074953</td>\n",
       "      <td>-500.657987</td>\n",
       "      <td>7.974807</td>\n",
       "      <td>-500.155945</td>\n",
       "      <td>11.985006</td>\n",
       "      <td>-600.107206</td>\n",
       "    </tr>\n",
       "    <tr>\n",
       "      <th>72</th>\n",
       "      <td>2016-01-18 02:00:00</td>\n",
       "      <td>4.537821</td>\n",
       "      <td>11.108789</td>\n",
       "      <td>4.964392</td>\n",
       "      <td>44.631736</td>\n",
       "      <td>72.825821</td>\n",
       "      <td>10.188482</td>\n",
       "      <td>1.410536</td>\n",
       "      <td>20.955075</td>\n",
       "      <td>2.238369</td>\n",
       "      <td>...</td>\n",
       "      <td>14.064474</td>\n",
       "      <td>-551.573603</td>\n",
       "      <td>11.974107</td>\n",
       "      <td>-550.699412</td>\n",
       "      <td>10.028196</td>\n",
       "      <td>-500.331171</td>\n",
       "      <td>8.072443</td>\n",
       "      <td>-499.359611</td>\n",
       "      <td>11.973959</td>\n",
       "      <td>-600.580952</td>\n",
       "    </tr>\n",
       "    <tr>\n",
       "      <th>96</th>\n",
       "      <td>2016-01-19 02:00:00</td>\n",
       "      <td>2.660271</td>\n",
       "      <td>6.020833</td>\n",
       "      <td>2.339234</td>\n",
       "      <td>27.097386</td>\n",
       "      <td>58.017871</td>\n",
       "      <td>5.640190</td>\n",
       "      <td>0.865842</td>\n",
       "      <td>7.574660</td>\n",
       "      <td>1.505868</td>\n",
       "      <td>...</td>\n",
       "      <td>13.947368</td>\n",
       "      <td>-703.993293</td>\n",
       "      <td>12.018188</td>\n",
       "      <td>-559.800324</td>\n",
       "      <td>9.999754</td>\n",
       "      <td>-512.673353</td>\n",
       "      <td>7.946763</td>\n",
       "      <td>-500.475471</td>\n",
       "      <td>11.963962</td>\n",
       "      <td>-607.847547</td>\n",
       "    </tr>\n",
       "    <tr>\n",
       "      <th>97</th>\n",
       "      <td>2016-01-20 16:00:00</td>\n",
       "      <td>6.641615</td>\n",
       "      <td>8.990178</td>\n",
       "      <td>NaN</td>\n",
       "      <td>44.161305</td>\n",
       "      <td>64.045287</td>\n",
       "      <td>12.460954</td>\n",
       "      <td>1.905541</td>\n",
       "      <td>4.360854</td>\n",
       "      <td>3.075640</td>\n",
       "      <td>...</td>\n",
       "      <td>13.977521</td>\n",
       "      <td>-550.386614</td>\n",
       "      <td>12.000013</td>\n",
       "      <td>-550.451984</td>\n",
       "      <td>9.963179</td>\n",
       "      <td>-500.873518</td>\n",
       "      <td>8.051530</td>\n",
       "      <td>-499.780601</td>\n",
       "      <td>11.956762</td>\n",
       "      <td>-599.938457</td>\n",
       "    </tr>\n",
       "    <tr>\n",
       "      <th>98</th>\n",
       "      <td>2016-01-20 17:00:00</td>\n",
       "      <td>6.583268</td>\n",
       "      <td>9.204989</td>\n",
       "      <td>NaN</td>\n",
       "      <td>44.480794</td>\n",
       "      <td>49.836467</td>\n",
       "      <td>12.312460</td>\n",
       "      <td>1.751168</td>\n",
       "      <td>3.777035</td>\n",
       "      <td>2.938621</td>\n",
       "      <td>...</td>\n",
       "      <td>14.055718</td>\n",
       "      <td>-549.694176</td>\n",
       "      <td>12.005398</td>\n",
       "      <td>-550.660760</td>\n",
       "      <td>10.019514</td>\n",
       "      <td>-501.677694</td>\n",
       "      <td>8.123011</td>\n",
       "      <td>-499.966297</td>\n",
       "      <td>11.995185</td>\n",
       "      <td>-601.176360</td>\n",
       "    </tr>\n",
       "  </tbody>\n",
       "</table>\n",
       "<p>10 rows × 87 columns</p>\n",
       "</div>"
      ],
      "text/plain": [
       "                  date  final.output.concentrate_ag  \\\n",
       "47 2016-01-16 23:00:00                     4.591462   \n",
       "48 2016-01-17 00:00:00                     5.296830   \n",
       "49 2016-01-17 02:00:00                     8.162896   \n",
       "65 2016-01-17 19:00:00                     5.976553   \n",
       "66 2016-01-17 20:00:00                     5.849873   \n",
       "67 2016-01-17 21:00:00                     5.608075   \n",
       "72 2016-01-18 02:00:00                     4.537821   \n",
       "96 2016-01-19 02:00:00                     2.660271   \n",
       "97 2016-01-20 16:00:00                     6.641615   \n",
       "98 2016-01-20 17:00:00                     6.583268   \n",
       "\n",
       "    final.output.concentrate_pb  final.output.concentrate_sol  \\\n",
       "47                    10.628846                      5.688961   \n",
       "48                    10.597469                           NaN   \n",
       "49                     8.877528                           NaN   \n",
       "65                    10.996561                           NaN   \n",
       "66                    10.630010                           NaN   \n",
       "67                    10.683667                           NaN   \n",
       "72                    11.108789                      4.964392   \n",
       "96                     6.020833                      2.339234   \n",
       "97                     8.990178                           NaN   \n",
       "98                     9.204989                           NaN   \n",
       "\n",
       "    final.output.concentrate_au  final.output.recovery  final.output.tail_ag  \\\n",
       "47                    46.663335              55.088448             10.694584   \n",
       "48                    44.015642              41.962008             11.975654   \n",
       "49                    40.715973              49.884856             10.381465   \n",
       "65                    43.523390              62.514075             11.439665   \n",
       "66                    43.582899              61.819261             11.415898   \n",
       "67                    44.966499              63.767242             11.462566   \n",
       "72                    44.631736              72.825821             10.188482   \n",
       "96                    27.097386              58.017871              5.640190   \n",
       "97                    44.161305              64.045287             12.460954   \n",
       "98                    44.480794              49.836467             12.312460   \n",
       "\n",
       "    final.output.tail_pb  final.output.tail_sol  final.output.tail_au  ...  \\\n",
       "47              1.671644              17.910312              2.686782  ...   \n",
       "48              1.846558               8.138408              2.889469  ...   \n",
       "49              1.024030              12.974257              2.739224  ...   \n",
       "65              1.255373               9.235768              2.770570  ...   \n",
       "66              1.373004               9.696283              2.816412  ...   \n",
       "67              1.413849              10.764420              2.755172  ...   \n",
       "72              1.410536              20.955075              2.238369  ...   \n",
       "96              0.865842               7.574660              1.505868  ...   \n",
       "97              1.905541               4.360854              3.075640  ...   \n",
       "98              1.751168               3.777035              2.938621  ...   \n",
       "\n",
       "    secondary_cleaner.state.floatbank4_a_air  \\\n",
       "47                                 13.997488   \n",
       "48                                 14.006476   \n",
       "49                                 13.984906   \n",
       "65                                 14.000420   \n",
       "66                                 14.017045   \n",
       "67                                 14.038568   \n",
       "72                                 14.064474   \n",
       "96                                 13.947368   \n",
       "97                                 13.977521   \n",
       "98                                 14.055718   \n",
       "\n",
       "    secondary_cleaner.state.floatbank4_a_level  \\\n",
       "47                                 -551.224653   \n",
       "48                                 -549.388727   \n",
       "49                                 -550.563329   \n",
       "65                                 -550.369289   \n",
       "66                                 -549.905281   \n",
       "67                                 -549.818311   \n",
       "72                                 -551.573603   \n",
       "96                                 -703.993293   \n",
       "97                                 -550.386614   \n",
       "98                                 -549.694176   \n",
       "\n",
       "    secondary_cleaner.state.floatbank4_b_air  \\\n",
       "47                                 11.971272   \n",
       "48                                 11.975967   \n",
       "49                                 11.999730   \n",
       "65                                 11.993860   \n",
       "66                                 12.002873   \n",
       "67                                 11.972607   \n",
       "72                                 11.974107   \n",
       "96                                 12.018188   \n",
       "97                                 12.000013   \n",
       "98                                 12.005398   \n",
       "\n",
       "    secondary_cleaner.state.floatbank4_b_level  \\\n",
       "47                                 -550.095619   \n",
       "48                                 -550.778624   \n",
       "49                                 -550.549773   \n",
       "65                                 -550.801872   \n",
       "66                                 -550.416734   \n",
       "67                                 -550.311739   \n",
       "72                                 -550.699412   \n",
       "96                                 -559.800324   \n",
       "97                                 -550.451984   \n",
       "98                                 -550.660760   \n",
       "\n",
       "    secondary_cleaner.state.floatbank5_a_air  \\\n",
       "47                                  9.981163   \n",
       "48                                  9.989726   \n",
       "49                                  9.941869   \n",
       "65                                 10.019677   \n",
       "66                                  9.960796   \n",
       "67                                 10.074953   \n",
       "72                                 10.028196   \n",
       "96                                  9.999754   \n",
       "97                                  9.963179   \n",
       "98                                 10.019514   \n",
       "\n",
       "    secondary_cleaner.state.floatbank5_a_level  \\\n",
       "47                                 -502.869109   \n",
       "48                                 -499.607365   \n",
       "49                                 -503.282068   \n",
       "65                                 -502.134984   \n",
       "66                                 -497.271602   \n",
       "67                                 -500.657987   \n",
       "72                                 -500.331171   \n",
       "96                                 -512.673353   \n",
       "97                                 -500.873518   \n",
       "98                                 -501.677694   \n",
       "\n",
       "    secondary_cleaner.state.floatbank5_b_air  \\\n",
       "47                                  7.941184   \n",
       "48                                  7.958252   \n",
       "49                                  8.018850   \n",
       "65                                  8.028135   \n",
       "66                                  8.028384   \n",
       "67                                  7.974807   \n",
       "72                                  8.072443   \n",
       "96                                  7.946763   \n",
       "97                                  8.051530   \n",
       "98                                  8.123011   \n",
       "\n",
       "    secondary_cleaner.state.floatbank5_b_level  \\\n",
       "47                                 -500.623610   \n",
       "48                                 -498.882560   \n",
       "49                                 -500.970716   \n",
       "65                                 -500.026321   \n",
       "66                                 -499.558407   \n",
       "67                                 -500.155945   \n",
       "72                                 -499.359611   \n",
       "96                                 -500.475471   \n",
       "97                                 -499.780601   \n",
       "98                                 -499.966297   \n",
       "\n",
       "    secondary_cleaner.state.floatbank6_a_air  \\\n",
       "47                                 12.018837   \n",
       "48                                 11.967977   \n",
       "49                                 11.991078   \n",
       "65                                 11.999417   \n",
       "66                                 11.978157   \n",
       "67                                 11.985006   \n",
       "72                                 11.973959   \n",
       "96                                 11.963962   \n",
       "97                                 11.956762   \n",
       "98                                 11.995185   \n",
       "\n",
       "    secondary_cleaner.state.floatbank6_a_level  \n",
       "47                                 -600.916665  \n",
       "48                                 -599.440603  \n",
       "49                                 -598.475929  \n",
       "65                                 -601.306527  \n",
       "66                                 -598.788524  \n",
       "67                                 -600.107206  \n",
       "72                                 -600.580952  \n",
       "96                                 -607.847547  \n",
       "97                                 -599.938457  \n",
       "98                                 -601.176360  \n",
       "\n",
       "[10 rows x 87 columns]"
      ]
     },
     "execution_count": 8,
     "metadata": {},
     "output_type": "execute_result"
    }
   ],
   "source": [
    "data[data.isna().any(axis=1)].head(10)"
   ]
  },
  {
   "cell_type": "markdown",
   "metadata": {},
   "source": [
    "Можно заметить, что пропуски отсутствую в близких по времени данных ('date'), а в условии задачи сказано, что соседние по времени параметры часто похожи. В соответствие с этим, заполним пропуски близкими по времени данными (с каждым индексом время гармонически увеличивается):"
   ]
  },
  {
   "cell_type": "code",
   "execution_count": 9,
   "metadata": {
    "scrolled": true
   },
   "outputs": [
    {
     "name": "stdout",
     "output_type": "stream",
     "text": [
      "Количество пропусков в датасете: 0 \n",
      "------------------------------------\n",
      "Количество пропусков в датасете: 0 \n",
      "------------------------------------\n",
      "Количество пропусков в датасете: 0 \n",
      "------------------------------------\n"
     ]
    }
   ],
   "source": [
    "for i in [train_data, test_data, data]:\n",
    "    i = i.fillna(method='ffill')\n",
    "    print('Количество пропусков в датасете:', i.isna().sum().sum(), '\\n------------------------------------')"
   ]
  },
  {
   "cell_type": "code",
   "execution_count": 10,
   "metadata": {},
   "outputs": [],
   "source": [
    "data = data.fillna(method='ffill')\n",
    "train_data = train_data.fillna(method='ffill')\n",
    "test_data = test_data.fillna(method='ffill')"
   ]
  },
  {
   "cell_type": "markdown",
   "metadata": {},
   "source": [
    "Проверим, что эффективность обогащения рассчитана правильно:"
   ]
  },
  {
   "cell_type": "code",
   "execution_count": 11,
   "metadata": {
    "scrolled": false
   },
   "outputs": [
    {
     "name": "stdout",
     "output_type": "stream",
     "text": [
      "MAE: 9.73512347450521e-15\n"
     ]
    }
   ],
   "source": [
    "C = train_data['rougher.output.concentrate_au'] # доля золота в концентрате после флотации/очистки\n",
    "F = train_data['rougher.input.feed_au'] # доля золота в сырье/концентрате до флотации/очистки\n",
    "T = train_data['rougher.output.tail_au'] # доля золота в отвальных хвостах после флотации/очистки\n",
    "\n",
    "recovery = ((C*(F-T))/(F*(C-T)))*100\n",
    "\n",
    "print('MAE:', mean_absolute_error(train_data['rougher.output.recovery'], recovery))"
   ]
  },
  {
   "cell_type": "markdown",
   "metadata": {},
   "source": [
    "MAE показывает, как сильно предсказания (в нашем случае, это данные из train_data['rougher.output.recovery']) в среднем отличаются от истинных значений (рассчитанные по формуле). Значение MAE крайне мало, что свидетельствует о том, что рассчёты эффективности обогащения верны"
   ]
  },
  {
   "cell_type": "code",
   "execution_count": 12,
   "metadata": {},
   "outputs": [
    {
     "name": "stdout",
     "output_type": "stream",
     "text": [
      "Отсутствующие признаки в тестовой выборке:\n"
     ]
    },
    {
     "data": {
      "text/plain": [
       "['final.output.concentrate_ag',\n",
       " 'final.output.concentrate_pb',\n",
       " 'final.output.concentrate_sol',\n",
       " 'final.output.concentrate_au',\n",
       " 'final.output.recovery',\n",
       " 'final.output.tail_ag',\n",
       " 'final.output.tail_pb',\n",
       " 'final.output.tail_sol',\n",
       " 'final.output.tail_au',\n",
       " 'primary_cleaner.output.concentrate_ag',\n",
       " 'primary_cleaner.output.concentrate_pb',\n",
       " 'primary_cleaner.output.concentrate_sol',\n",
       " 'primary_cleaner.output.concentrate_au',\n",
       " 'primary_cleaner.output.tail_ag',\n",
       " 'primary_cleaner.output.tail_pb',\n",
       " 'primary_cleaner.output.tail_sol',\n",
       " 'primary_cleaner.output.tail_au',\n",
       " 'rougher.calculation.sulfate_to_au_concentrate',\n",
       " 'rougher.calculation.floatbank10_sulfate_to_au_feed',\n",
       " 'rougher.calculation.floatbank11_sulfate_to_au_feed',\n",
       " 'rougher.calculation.au_pb_ratio',\n",
       " 'rougher.output.concentrate_ag',\n",
       " 'rougher.output.concentrate_pb',\n",
       " 'rougher.output.concentrate_sol',\n",
       " 'rougher.output.concentrate_au',\n",
       " 'rougher.output.recovery',\n",
       " 'rougher.output.tail_ag',\n",
       " 'rougher.output.tail_pb',\n",
       " 'rougher.output.tail_sol',\n",
       " 'rougher.output.tail_au',\n",
       " 'secondary_cleaner.output.tail_ag',\n",
       " 'secondary_cleaner.output.tail_pb',\n",
       " 'secondary_cleaner.output.tail_sol',\n",
       " 'secondary_cleaner.output.tail_au']"
      ]
     },
     "execution_count": 12,
     "metadata": {},
     "output_type": "execute_result"
    }
   ],
   "source": [
    "print('Отсутствующие признаки в тестовой выборке:')\n",
    "inaccessible_signs = [] \n",
    "\n",
    "for i in list(data.columns):\n",
    "    if i not in list(test_data.columns):\n",
    "        inaccessible_signs.append(i)\n",
    "    \n",
    "inaccessible_signs"
   ]
  },
  {
   "cell_type": "code",
   "execution_count": 13,
   "metadata": {
    "scrolled": true
   },
   "outputs": [
    {
     "name": "stdout",
     "output_type": "stream",
     "text": [
      "Для этапа \"Финальные характеристики\" типа \"параметры продукта\" отсутствуют значения: \n",
      " ['concentrate_ag', 'concentrate_pb', 'concentrate_sol', 'concentrate_au', 'recovery', 'tail_ag', 'tail_pb', 'tail_sol', 'tail_au'] \n",
      " -------------------------------------------------------------------------------------------------------------------\n",
      "Для этапа \"Первичная очистка\" типа \"параметры продукта\" отсутствуют значения: \n",
      " ['concentrate_ag', 'concentrate_pb', 'concentrate_sol', 'concentrate_au', 'tail_ag', 'tail_pb', 'tail_sol', 'tail_au'] \n",
      " -------------------------------------------------------------------------------------------------------------------\n",
      "Для этапа \"Флотация\" типа \"параметры продукта\" отсутствуют значения: \n",
      " ['concentrate_ag', 'concentrate_pb', 'concentrate_sol', 'concentrate_au', 'recovery', 'tail_ag', 'tail_pb', 'tail_sol', 'tail_au'] \n",
      " -------------------------------------------------------------------------------------------------------------------\n",
      "Для этапа \"Флотация\" типа \"расчётные характеристики\" отсутствуют значения: \n",
      " ['sulfate_to_au_concentrate', 'floatbank10_sulfate_to_au_feed', 'floatbank11_sulfate_to_au_feed', 'au_pb_ratio'] \n",
      " -------------------------------------------------------------------------------------------------------------------\n",
      "Для этапа \"Вторичная очистка\" типа \"параметры продукта\" отсутствуют значения: \n",
      " ['tail_ag', 'tail_pb', 'tail_sol', 'tail_au']\n"
     ]
    }
   ],
   "source": [
    "final_signs = []\n",
    "primary_signs = []\n",
    "rougher_signs = []\n",
    "secondary_signs = []\n",
    "\n",
    "for i in inaccessible_signs:\n",
    "    if 'final' in i:\n",
    "        final_signs.append(i.split('.')[2])\n",
    "    if 'primary' in i:\n",
    "        primary_signs.append(i.split('.')[2])\n",
    "    if 'rougher' in i:\n",
    "        rougher_signs.append(i.split('.')[2])\n",
    "    if 'secondary' in i:\n",
    "        secondary_signs.append(i.split('.')[2])\n",
    "\n",
    "print('Для этапа \"Финальные характеристики\" типа \"параметры продукта\" отсутствуют значения:', '\\n', final_signs, '\\n','-'*115)\n",
    "print('Для этапа \"Первичная очистка\" типа \"параметры продукта\" отсутствуют значения:', '\\n', primary_signs, '\\n','-'*115)\n",
    "print('Для этапа \"Флотация\" типа \"параметры продукта\" отсутствуют значения:', '\\n', rougher_signs[4:], '\\n','-'*115)\n",
    "print('Для этапа \"Флотация\" типа \"расчётные характеристики\" отсутствуют значения:', '\\n', rougher_signs[0:4], '\\n','-'*115)\n",
    "print('Для этапа \"Вторичная очистка\" типа \"параметры продукта\" отсутствуют значения:', '\\n', secondary_signs)"
   ]
  },
  {
   "cell_type": "markdown",
   "metadata": {},
   "source": [
    "Добавим целевые признаки для тестовой выборки, без которых модели нечего будет предсказывать. Признаки возьмём из исходного полного датафрейма:"
   ]
  },
  {
   "cell_type": "code",
   "execution_count": 14,
   "metadata": {},
   "outputs": [],
   "source": [
    "test_data = test_data.merge(data.loc[:, ['date','final.output.recovery', 'rougher.output.recovery']], on='date')"
   ]
  },
  {
   "cell_type": "markdown",
   "metadata": {},
   "source": [
    "## Анализ данных"
   ]
  },
  {
   "cell_type": "code",
   "execution_count": 15,
   "metadata": {
    "scrolled": true
   },
   "outputs": [
    {
     "data": {
      "image/png": "[encoded data removed]",
      "text/plain": [
       "<Figure size 1296x504 with 1 Axes>"
      ]
     },
     "metadata": {},
     "output_type": "display_data"
    },
    {
     "data": {
      "image/png": "[encoded data removed]",
      "text/plain": [
       "<Figure size 1296x504 with 1 Axes>"
      ]
     },
     "metadata": {},
     "output_type": "display_data"
    },
    {
     "data": {
      "image/png": "[encoded data removed]",
      "text/plain": [
       "<Figure size 1296x504 with 1 Axes>"
      ]
     },
     "metadata": {},
     "output_type": "display_data"
    }
   ],
   "source": [
    "for i in ['au', 'pb', 'ag']:\n",
    "    sns.set_style('whitegrid')\n",
    "    plt.figure(figsize=[18, 7])\n",
    "    plt.title(f'График изменения концентрации {i} на различных этапах очистки', fontsize=20)\n",
    "    sns.histplot(data[f'final.output.concentrate_{i}'], label='Финальная концетрация', element='step')\n",
    "    sns.histplot(data[f'primary_cleaner.output.concentrate_{i}'], color='y', label='Концентрация после первичной очистки', element='step')\n",
    "    sns.histplot(data[f'rougher.output.concentrate_{i}'], color='g', label='Концентрация после флотации', element='step')\n",
    "    sns.histplot(data[f'rougher.input.feed_{i}'], color='r', label='Концентрация до флотации', element='step')\n",
    "    plt.xlabel(f'Концентрация {i}', fontsize=15)\n",
    "    plt.ylabel('Количество наблюдений', fontsize=15)\n",
    "    plt.legend()\n",
    "    plt.show()"
   ]
  },
  {
   "cell_type": "markdown",
   "metadata": {},
   "source": [
    "На графиках для каждого металла прослеживаются следующие характерные моменты:\n",
    "\n",
    "- С каждым последующим этапом очистки концентрация Au в золотоносной руде увеличивается, что отображает суть процесса;\n",
    "- С каждым последующим этапом очистки концентрация Pb в золотоносной руде увеличивается, но на финальном этапе концентрация остаётся на уровне первичной очистки (вторичная очистка не влияет на концентрацию Pb);\n",
    "- В результате всех этапов, концентрация Ag уменьшается по сравнению с начальной концентрации в золотоносной руде;\n",
    "- Иногда концентрация веществ после фотации и первичной очистки падает до нуля. При рассмотрении гистограммы с концентрациями золота, такое явление похоже на аномалию"
   ]
  },
  {
   "cell_type": "code",
   "execution_count": 16,
   "metadata": {
    "scrolled": true
   },
   "outputs": [
    {
     "data": {
      "image/png": "[encoded data removed]",
      "text/plain": [
       "<Figure size 1080x504 with 1 Axes>"
      ]
     },
     "metadata": {},
     "output_type": "display_data"
    },
    {
     "data": {
      "image/png": "[encoded data removed]",
      "text/plain": [
       "<Figure size 1080x504 with 1 Axes>"
      ]
     },
     "metadata": {},
     "output_type": "display_data"
    }
   ],
   "source": [
    "for i in ['primary_cleaner', 'rougher']:\n",
    "    sns.set_style('whitegrid')\n",
    "    plt.figure(figsize=[15, 7])\n",
    "    plt.title(f'График распределения размеров гранул сырья для этапа {i} на обучающей и тестовой выборках', fontsize=20)\n",
    "    sns.kdeplot(train_data[f'{i}.input.feed_size'], label='Обучающая выборка')\n",
    "    sns.kdeplot(test_data[f'{i}.input.feed_size'], color='orange', label='Тестовая выборка')\n",
    "    plt.xlabel(f'Размер гранул', fontsize=15)\n",
    "    plt.ylabel('Количество наблюдений', fontsize=15)\n",
    "    plt.legend()\n",
    "    plt.show()"
   ]
  },
  {
   "cell_type": "markdown",
   "metadata": {},
   "source": [
    "Несмотря на то, что у обучающей выборки, в целом, наблюдается большее количество наблюдений, значимых различий между распределениями размеров гранул сырья на обучающей и тестовой выборках не было выявлено"
   ]
  },
  {
   "cell_type": "code",
   "execution_count": 17,
   "metadata": {},
   "outputs": [],
   "source": [
    "concentration_rougher_input = 0\n",
    "concentration_rougher_output = 0\n",
    "concentration_final_output = 0\n",
    "concentration_primary_cleaner_output = 0\n",
    "\n",
    "for i in ['au', 'pb', 'ag', 'sol']:\n",
    "    concentration_final_output += data[f'final.output.concentrate_{i}']\n",
    "    concentration_primary_cleaner_output += data[f'primary_cleaner.output.concentrate_{i}']\n",
    "    concentration_rougher_output += data[f'rougher.output.concentrate_{i}']\n",
    "    concentration_rougher_input += data[f'rougher.input.feed_{i}'] "
   ]
  },
  {
   "cell_type": "code",
   "execution_count": 18,
   "metadata": {},
   "outputs": [
    {
     "data": {
      "image/png": "[encoded data removed]",
      "text/plain": [
       "<Figure size 1440x576 with 1 Axes>"
      ]
     },
     "metadata": {},
     "output_type": "display_data"
    }
   ],
   "source": [
    "sns.set_style('whitegrid')\n",
    "plt.figure(figsize=[20, 8])\n",
    "plt.title('График распределения суммарных концентраций веществ на разных стадиях', fontsize=20)\n",
    "sns.histplot(concentration_rougher_input, label='Концентрация до флотации', element='step',)\n",
    "sns.histplot(concentration_rougher_output, color='purple', label='Концентрация после флотации', element='step')\n",
    "sns.histplot(concentration_primary_cleaner_output, color='r', label='Концентрация после первичной очистки', element='step')\n",
    "sns.histplot(concentration_final_output, color='y', label='Финальная концетрация', element='step')\n",
    "plt.xlabel('Концентрация веществ', fontsize=15)\n",
    "plt.ylabel('Количество наблюдений', fontsize=15)\n",
    "plt.legend()\n",
    "plt.show()"
   ]
  },
  {
   "cell_type": "code",
   "execution_count": 19,
   "metadata": {},
   "outputs": [
    {
     "name": "stdout",
     "output_type": "stream",
     "text": [
      "Количество данных с нулевой концентрацией всех веществ (после флотации): 394\n",
      "Количество данных с нулевой концентрацией всех веществ (финальный этап): 98\n",
      "Количество данных с нулевой концентрацией всех веществ (после первичной обработки): 108\n"
     ]
    }
   ],
   "source": [
    "print('Количество данных с нулевой концентрацией всех веществ (после флотации):', len(data[(data['rougher.output.concentrate_au'] == 0) & (data['rougher.output.concentrate_pb'] == 0) & (data['rougher.output.concentrate_ag'] == 0) & (data['rougher.output.concentrate_sol'] == 0)]))\n",
    "print('Количество данных с нулевой концентрацией всех веществ (финальный этап):', len(data[(data['final.output.concentrate_au'] == 0) & (data['final.output.concentrate_pb'] == 0) & (data['final.output.concentrate_ag'] == 0) & (data['final.output.concentrate_sol'] == 0)]))\n",
    "print('Количество данных с нулевой концентрацией всех веществ (после первичной обработки):', len(data[(data['primary_cleaner.output.concentrate_au'] == 0) & (data['primary_cleaner.output.concentrate_pb'] == 0) & (data['primary_cleaner.output.concentrate_ag'] == 0) & (data['primary_cleaner.output.concentrate_sol'] == 0)]))"
   ]
  },
  {
   "cell_type": "markdown",
   "metadata": {},
   "source": [
    "На последней гистаграмме, а также на гистограммах с концентрацией каждого металла (au, pb, ag) заметны выбросы. Незначительную часть аномальных данных (меньше 10% от всех данных) мы уберём, чтобы избежать обучения моделей на недостоверных значениях признаков:"
   ]
  },
  {
   "cell_type": "code",
   "execution_count": 20,
   "metadata": {},
   "outputs": [],
   "source": [
    "data = data[(data['rougher.output.concentrate_au'] != 0) & (data['rougher.output.concentrate_pb'] != 0) & (data['rougher.output.concentrate_ag'] != 0) & (data['rougher.output.concentrate_sol'] != 0)]\n",
    "data = data[(data['final.output.concentrate_au'] != 0) & (data['final.output.concentrate_pb'] != 0) & (data['final.output.concentrate_ag'] != 0) & (data['final.output.concentrate_sol'] != 0)]\n",
    "data = data[(data['primary_cleaner.output.concentrate_au'] != 0) & (data['primary_cleaner.output.concentrate_pb'] != 0) & (data['primary_cleaner.output.concentrate_ag'] != 0) & (data['primary_cleaner.output.concentrate_sol'] != 0)]\n",
    "\n",
    "train_data = train_data[(train_data['rougher.output.concentrate_au'] != 0) & (train_data['rougher.output.concentrate_pb'] != 0) & (train_data['rougher.output.concentrate_ag'] != 0) & (train_data['rougher.output.concentrate_sol'] != 0)]\n",
    "train_data = train_data[(train_data['final.output.concentrate_au'] != 0) & (train_data['final.output.concentrate_pb'] != 0) & (train_data['final.output.concentrate_ag'] != 0) & (train_data['final.output.concentrate_sol'] != 0)]\n",
    "train_data = train_data[(train_data['primary_cleaner.output.concentrate_au'] != 0) & (train_data['primary_cleaner.output.concentrate_pb'] != 0) & (train_data['primary_cleaner.output.concentrate_ag'] != 0) & (train_data['primary_cleaner.output.concentrate_sol'] != 0)]"
   ]
  },
  {
   "cell_type": "code",
   "execution_count": 21,
   "metadata": {},
   "outputs": [
    {
     "name": "stdout",
     "output_type": "stream",
     "text": [
      "Количество данных с нулевой концентрацией всех веществ (после флотации): 0\n",
      "Количество данных с нулевой концентрацией всех веществ (финальный этап): 0\n",
      "Количество данных с нулевой концентрацией всех веществ (после первичной обработки): 0\n"
     ]
    }
   ],
   "source": [
    "print('Количество данных с нулевой концентрацией всех веществ (после флотации):', len(data[(data['rougher.output.concentrate_au'] == 0) & (data['rougher.output.concentrate_pb'] == 0) & (data['rougher.output.concentrate_ag'] == 0) & (data['rougher.output.concentrate_sol'] == 0)]))\n",
    "print('Количество данных с нулевой концентрацией всех веществ (финальный этап):', len(data[(data['final.output.concentrate_au'] == 0) & (data['final.output.concentrate_pb'] == 0) & (data['final.output.concentrate_ag'] == 0) & (data['final.output.concentrate_sol'] == 0)]))\n",
    "print('Количество данных с нулевой концентрацией всех веществ (после первичной обработки):', len(data[(data['primary_cleaner.output.concentrate_au'] == 0) & (data['primary_cleaner.output.concentrate_pb'] == 0) & (data['primary_cleaner.output.concentrate_ag'] == 0) & (data['primary_cleaner.output.concentrate_sol'] == 0)]))"
   ]
  },
  {
   "cell_type": "markdown",
   "metadata": {},
   "source": [
    "## Модель"
   ]
  },
  {
   "cell_type": "code",
   "execution_count": 22,
   "metadata": {},
   "outputs": [],
   "source": [
    "def sMAPE(target, prediction):\n",
    "    sMAPE_result = (1/len(target))*sum((abs(target - prediction))/( (abs(target)+abs(prediction))/2))*100\n",
    "    return sMAPE_result"
   ]
  },
  {
   "cell_type": "code",
   "execution_count": 23,
   "metadata": {},
   "outputs": [],
   "source": [
    "sMAPE_scoring = make_scorer(sMAPE, greater_is_better=False)"
   ]
  },
  {
   "cell_type": "code",
   "execution_count": 24,
   "metadata": {},
   "outputs": [],
   "source": [
    "def final_sMAPE(sMAPE_rougher, sMAPE_final):\n",
    "    final_sMAPE_result = 0.25*sMAPE_rougher+0.75*sMAPE_final\n",
    "    return final_sMAPE_result"
   ]
  },
  {
   "cell_type": "code",
   "execution_count": 25,
   "metadata": {},
   "outputs": [],
   "source": [
    "target_signs = set(inaccessible_signs)-set(['final.output.recovery', 'rougher.output.recovery'])\n",
    "train_data = train_data.drop(columns=target_signs, axis=1)"
   ]
  },
  {
   "cell_type": "code",
   "execution_count": 26,
   "metadata": {},
   "outputs": [],
   "source": [
    "train_data = train_data.drop('date', axis=1)\n",
    "\n",
    "features = train_data.drop(['rougher.output.recovery','final.output.recovery'], axis=1)\n",
    "target_rougher = train_data['rougher.output.recovery']\n",
    "target_final = train_data['final.output.recovery']"
   ]
  },
  {
   "cell_type": "markdown",
   "metadata": {},
   "source": [
    "### Модель DecisionTreeRegressor"
   ]
  },
  {
   "cell_type": "code",
   "execution_count": 27,
   "metadata": {
    "scrolled": true
   },
   "outputs": [
    {
     "name": "stdout",
     "output_type": "stream",
     "text": [
      "CPU times: user 22.6 s, sys: 7.13 ms, total: 22.6 s\n",
      "Wall time: 22.6 s\n"
     ]
    }
   ],
   "source": [
    "%%time\n",
    "best_result = 100\n",
    "best_depth = 0\n",
    "\n",
    "for depth in range(1, 10):\n",
    "    model_rougher = DecisionTreeRegressor(max_depth=depth, random_state=12345)\n",
    "    scores_rougher = cross_val_score(model_rougher, features, target_rougher, scoring=sMAPE_scoring, cv=5)\n",
    "    sMAPE_rougher = scores_rougher.mean()\n",
    "        \n",
    "    model_final = DecisionTreeRegressor(max_depth=depth, random_state=12345)\n",
    "    scores_final = cross_val_score(model_final, features, target_final, scoring=sMAPE_scoring, cv=5)\n",
    "    sMAPE_final = scores_final.mean()\n",
    "        \n",
    "    true_result = final_sMAPE(sMAPE_rougher, sMAPE_final)*(-1)\n",
    "    if true_result < best_result:\n",
    "        best_result = true_result\n",
    "        best_depth = depth"
   ]
  },
  {
   "cell_type": "code",
   "execution_count": 41,
   "metadata": {
    "scrolled": false
   },
   "outputs": [
    {
     "name": "stdout",
     "output_type": "stream",
     "text": [
      "sMAPE наилучшей модели на тренировочной  выборке: 8.894948412843098 Максимальная глубина: 3\n"
     ]
    }
   ],
   "source": [
    "print(\"sMAPE наилучшей модели на тренировочной  выборке:\", best_result, \"Максимальная глубина:\", best_depth)"
   ]
  },
  {
   "cell_type": "markdown",
   "metadata": {},
   "source": [
    "### Модель RandomForestRegressor"
   ]
  },
  {
   "cell_type": "code",
   "execution_count": 28,
   "metadata": {},
   "outputs": [
    {
     "name": "stdout",
     "output_type": "stream",
     "text": [
      "CPU times: user 1h 38min 53s, sys: 10.5 s, total: 1h 39min 3s\n",
      "Wall time: 1h 39min 9s\n"
     ]
    }
   ],
   "source": [
    "%%time\n",
    "best_result = 100\n",
    "best_depth = 0\n",
    "\n",
    "for est in range(10, 100, 10):\n",
    "    for depth in range(1, 10):\n",
    "        model_rougher = RandomForestRegressor(n_estimators=est, max_depth=depth, random_state=12345)\n",
    "        scores_rougher = cross_val_score(model_rougher, features, target_rougher, scoring=sMAPE_scoring, cv=5)\n",
    "        sMAPE_rougher = scores_rougher.mean()\n",
    "        \n",
    "        model_final = RandomForestRegressor(n_estimators=est, max_depth=depth, random_state=12345)\n",
    "        scores_final = cross_val_score(model_final, features, target_final, scoring=sMAPE_scoring, cv=5)\n",
    "        sMAPE_final = scores_final.mean()\n",
    "        \n",
    "        true_result = final_sMAPE(sMAPE_rougher, sMAPE_final)*(-1)\n",
    "        if true_result < best_result:\n",
    "            best_result = true_result\n",
    "            best_depth = depth\n",
    "            best_est = est"
   ]
  },
  {
   "cell_type": "code",
   "execution_count": 47,
   "metadata": {},
   "outputs": [
    {
     "name": "stdout",
     "output_type": "stream",
     "text": [
      "sMAPE наилучшей модели на тренировочной выборке: 8.41054222202701 Количество деревьев: 40 Максимальная глубина: 4\n"
     ]
    }
   ],
   "source": [
    "print(\"sMAPE наилучшей модели на тренировочной выборке:\", best_result, \"Количество деревьев:\", best_est, \"Максимальная глубина:\", best_depth)"
   ]
  },
  {
   "cell_type": "markdown",
   "metadata": {},
   "source": [
    "### Модель LinearRegression"
   ]
  },
  {
   "cell_type": "code",
   "execution_count": 42,
   "metadata": {},
   "outputs": [
    {
     "name": "stdout",
     "output_type": "stream",
     "text": [
      "CPU times: user 1.29 s, sys: 1.22 s, total: 2.51 s\n",
      "Wall time: 2.44 s\n"
     ]
    }
   ],
   "source": [
    "%%time\n",
    "model_rougher = LinearRegression()\n",
    "scores_rougher = cross_val_score(model_rougher, features, target_rougher, scoring=sMAPE_scoring, cv=5)\n",
    "sMAPE_rougher = scores_rougher.mean()\n",
    "        \n",
    "model_final = LinearRegression()\n",
    "scores_final = cross_val_score(model_final, features, target_final, scoring=sMAPE_scoring, cv=5)\n",
    "sMAPE_final = scores_final.mean()\n",
    "\n",
    "true_result = final_sMAPE(sMAPE_rougher, sMAPE_final)*(-1)"
   ]
  },
  {
   "cell_type": "code",
   "execution_count": 43,
   "metadata": {},
   "outputs": [
    {
     "name": "stdout",
     "output_type": "stream",
     "text": [
      "sMAPE на тренировочной выборке: 10.02312452485542\n"
     ]
    }
   ],
   "source": [
    "print(\"sMAPE на тренировочной выборке:\", true_result)"
   ]
  },
  {
   "cell_type": "markdown",
   "metadata": {},
   "source": [
    "Лучшей моделью оказалась RandomForestRegressor с гиперпараметрами: количество деревьев: 40, максимальная глубина: 4"
   ]
  },
  {
   "cell_type": "code",
   "execution_count": 26,
   "metadata": {},
   "outputs": [],
   "source": [
    "test_data = test_data.drop('date', axis=1)\n",
    "train_data = train_data.drop('date', axis=1)\n",
    "\n",
    "features_fit = train_data.drop(['final.output.recovery', 'rougher.output.recovery'], axis=1)\n",
    "features_predict = test_data.drop(['final.output.recovery', 'rougher.output.recovery'], axis=1)\n",
    "\n",
    "target_rougher_train = train_data['rougher.output.recovery']\n",
    "target_final_train = train_data['final.output.recovery']\n",
    "target_rougher_test = test_data['rougher.output.recovery']\n",
    "target_final_test = test_data['final.output.recovery']"
   ]
  },
  {
   "cell_type": "code",
   "execution_count": 27,
   "metadata": {},
   "outputs": [],
   "source": [
    "model_rougher = RandomForestRegressor(n_estimators=40, max_depth=4, random_state=12345)\n",
    "model_rougher.fit(features_fit, target_rougher_train)\n",
    "prediction_rougher = model_rougher.predict(features_predict)\n",
    "        \n",
    "model_final = RandomForestRegressor(n_estimators=40, max_depth=4, random_state=12345)\n",
    "model_final.fit(features_fit, target_final_train)\n",
    "prediction_final = model_final.predict(features_predict)\n",
    "        \n",
    "sMAPE_rougher = sMAPE(target_rougher_test, prediction_rougher)\n",
    "sMAPE_final = sMAPE(target_final_test, prediction_final)\n",
    "result = final_sMAPE(sMAPE_rougher, sMAPE_final)"
   ]
  },
  {
   "cell_type": "code",
   "execution_count": 28,
   "metadata": {},
   "outputs": [
    {
     "name": "stdout",
     "output_type": "stream",
     "text": [
      "sMAPE на тестовой выборке: 9.408783788062468\n"
     ]
    }
   ],
   "source": [
    "print(\"sMAPE на тестовой выборке:\", result)"
   ]
  },
  {
   "cell_type": "markdown",
   "metadata": {},
   "source": [
    "Проверим выбранную нами лучшую модель на адекватность:"
   ]
  },
  {
   "cell_type": "code",
   "execution_count": 26,
   "metadata": {},
   "outputs": [],
   "source": [
    "features = train_data.drop(['rougher.output.recovery','final.output.recovery'], axis=1)\n",
    "target_rougher = train_data['rougher.output.recovery']\n",
    "target_final = train_data['final.output.recovery']"
   ]
  },
  {
   "cell_type": "code",
   "execution_count": 38,
   "metadata": {},
   "outputs": [
    {
     "data": {
      "text/plain": [
       "9.476528227933201"
      ]
     },
     "execution_count": 38,
     "metadata": {},
     "output_type": "execute_result"
    }
   ],
   "source": [
    "dummy_reg_rougher = DummyRegressor(strategy=\"mean\")\n",
    "dummy_reg_final = DummyRegressor(strategy=\"mean\")\n",
    "\n",
    "dummy_reg_rougher.fit(features, target_rougher)\n",
    "dummy_reg_final.fit(features, target_final)\n",
    "prediction_rougher = dummy_reg_rougher.predict(features)\n",
    "prediction_final = dummy_reg_final.predict(features)\n",
    "\n",
    "sMAPE_rougher = sMAPE(target_rougher, prediction_rougher)\n",
    "sMAPE_final = sMAPE(target_final, prediction_final)\n",
    "\n",
    "final_result = final_sMAPE(sMAPE_rougher, sMAPE_final)\n",
    "final_result"
   ]
  },
  {
   "cell_type": "markdown",
   "metadata": {},
   "source": [
    "Результат работы DummyRegressor почти равен результату работы нашей модели, что говорит о хорошем уровне качестве нашей модели"
   ]
  },
  {
   "cell_type": "markdown",
   "metadata": {},
   "source": [
    "## Вывод:"
   ]
  },
  {
   "cell_type": "markdown",
   "metadata": {},
   "source": [
    "Полученные данные подверглись обработки для обеспечения возможности модели адекватно работать с признаками. Подробнее шаги были описаны в п.1\n",
    "\n",
    "Затем был проведён анализ данных, в результате которого была обозначена возможность дальнейшей работы с данными (данные оказались верными и поддающимися объяснению). Подробнее шаги были описаны в п.2\n",
    "\n",
    "На последнем этапе на основе эффективно обработанных данных была построена самая эффективная модель RandomForestRegressor с максимально продуктивными гиперпараметрами, а sMAPE на тестовой выборке равняется 9.4, что является лучшим результатом среди остальных моделей. Результат работы DummyRegressor почти равен результату работы нашей модели, что говорит о хорошем уровне качестве нашей модели"
   ]
  }
 ],
 "metadata": {
  "ExecuteTimeLog": [
   {
    "duration": 468,
    "start_time": "2023-03-13T09:44:00.677Z"
   },
   {
    "duration": 2446,
    "start_time": "2023-03-13T09:44:01.775Z"
   },
   {
    "duration": 86,
    "start_time": "2023-03-13T09:45:48.824Z"
   },
   {
    "duration": 23,
    "start_time": "2023-03-13T09:46:10.575Z"
   },
   {
    "duration": 29,
    "start_time": "2023-03-13T09:46:38.974Z"
   },
   {
    "duration": 13,
    "start_time": "2023-03-13T09:47:53.211Z"
   },
   {
    "duration": 3,
    "start_time": "2023-03-13T10:00:24.927Z"
   },
   {
    "duration": 127,
    "start_time": "2023-03-13T10:00:38.511Z"
   },
   {
    "duration": 3,
    "start_time": "2023-03-13T10:01:19.514Z"
   },
   {
    "duration": 119,
    "start_time": "2023-03-13T10:01:20.135Z"
   },
   {
    "duration": 24,
    "start_time": "2023-03-13T10:01:27.114Z"
   },
   {
    "duration": 95,
    "start_time": "2023-03-13T10:01:35.187Z"
   },
   {
    "duration": 117,
    "start_time": "2023-03-13T10:03:44.030Z"
   },
   {
    "duration": 21,
    "start_time": "2023-03-13T10:03:51.488Z"
   },
   {
    "duration": 92,
    "start_time": "2023-03-13T10:03:55.761Z"
   },
   {
    "duration": 33,
    "start_time": "2023-03-13T10:04:14.127Z"
   },
   {
    "duration": 118,
    "start_time": "2023-03-13T10:04:20.085Z"
   },
   {
    "duration": 93,
    "start_time": "2023-03-13T10:04:24.157Z"
   },
   {
    "duration": 239,
    "start_time": "2023-03-13T10:04:54.717Z"
   },
   {
    "duration": 250,
    "start_time": "2023-03-13T10:05:34.490Z"
   },
   {
    "duration": 226,
    "start_time": "2023-03-13T10:05:42.721Z"
   },
   {
    "duration": 230,
    "start_time": "2023-03-13T10:05:47.726Z"
   },
   {
    "duration": 231,
    "start_time": "2023-03-13T10:05:56.674Z"
   },
   {
    "duration": 4,
    "start_time": "2023-03-13T10:08:31.310Z"
   },
   {
    "duration": 261,
    "start_time": "2023-03-13T10:08:32.021Z"
   },
   {
    "duration": 14,
    "start_time": "2023-03-13T10:11:41.520Z"
   },
   {
    "duration": 12,
    "start_time": "2023-03-13T10:11:52.382Z"
   },
   {
    "duration": 10,
    "start_time": "2023-03-13T10:11:57.337Z"
   },
   {
    "duration": 20,
    "start_time": "2023-03-13T10:18:11.060Z"
   },
   {
    "duration": 110,
    "start_time": "2023-03-13T10:21:01.755Z"
   },
   {
    "duration": 6,
    "start_time": "2023-03-13T10:21:09.334Z"
   },
   {
    "duration": 7,
    "start_time": "2023-03-13T10:21:26.944Z"
   },
   {
    "duration": 11,
    "start_time": "2023-03-13T10:21:54.319Z"
   },
   {
    "duration": 21,
    "start_time": "2023-03-13T10:22:22.977Z"
   },
   {
    "duration": 23,
    "start_time": "2023-03-13T10:22:38.052Z"
   },
   {
    "duration": 20,
    "start_time": "2023-03-13T10:22:50.053Z"
   },
   {
    "duration": 45,
    "start_time": "2023-03-13T10:23:50.140Z"
   },
   {
    "duration": 21,
    "start_time": "2023-03-13T10:23:59.484Z"
   },
   {
    "duration": 44,
    "start_time": "2023-03-13T10:24:28.214Z"
   },
   {
    "duration": 19,
    "start_time": "2023-03-13T10:24:42.123Z"
   },
   {
    "duration": 19,
    "start_time": "2023-03-13T10:24:58.633Z"
   },
   {
    "duration": 27,
    "start_time": "2023-03-13T10:28:50.463Z"
   },
   {
    "duration": 23,
    "start_time": "2023-03-13T10:29:18.070Z"
   },
   {
    "duration": 25,
    "start_time": "2023-03-13T10:29:21.167Z"
   },
   {
    "duration": 4,
    "start_time": "2023-03-13T10:41:02.453Z"
   },
   {
    "duration": 30,
    "start_time": "2023-03-13T10:41:22.552Z"
   },
   {
    "duration": 23,
    "start_time": "2023-03-13T10:41:28.125Z"
   },
   {
    "duration": 21,
    "start_time": "2023-03-13T10:41:52.918Z"
   },
   {
    "duration": 22,
    "start_time": "2023-03-13T10:41:59.803Z"
   },
   {
    "duration": 21,
    "start_time": "2023-03-13T10:42:04.896Z"
   },
   {
    "duration": 20,
    "start_time": "2023-03-13T10:42:08.250Z"
   },
   {
    "duration": 15,
    "start_time": "2023-03-13T10:53:26.632Z"
   },
   {
    "duration": 3,
    "start_time": "2023-03-13T10:56:21.024Z"
   },
   {
    "duration": 658,
    "start_time": "2023-03-13T10:59:29.305Z"
   },
   {
    "duration": 26,
    "start_time": "2023-03-13T11:13:04.596Z"
   },
   {
    "duration": 6,
    "start_time": "2023-03-13T11:13:32.455Z"
   },
   {
    "duration": 95,
    "start_time": "2023-03-13T12:08:22.145Z"
   },
   {
    "duration": 18,
    "start_time": "2023-03-13T12:08:33.965Z"
   },
   {
    "duration": 5,
    "start_time": "2023-03-13T12:08:51.081Z"
   },
   {
    "duration": 4,
    "start_time": "2023-03-13T12:09:10.869Z"
   },
   {
    "duration": 10,
    "start_time": "2023-03-13T12:09:26.137Z"
   },
   {
    "duration": 5,
    "start_time": "2023-03-13T12:11:33.927Z"
   },
   {
    "duration": 4,
    "start_time": "2023-03-13T12:11:47.979Z"
   },
   {
    "duration": 5,
    "start_time": "2023-03-13T12:11:49.930Z"
   },
   {
    "duration": 6,
    "start_time": "2023-03-13T12:12:06.088Z"
   },
   {
    "duration": 5,
    "start_time": "2023-03-13T12:12:43.355Z"
   },
   {
    "duration": 5,
    "start_time": "2023-03-13T12:12:52.238Z"
   },
   {
    "duration": 5,
    "start_time": "2023-03-13T12:13:23.233Z"
   },
   {
    "duration": 6,
    "start_time": "2023-03-13T12:13:58.752Z"
   },
   {
    "duration": 2,
    "start_time": "2023-03-13T12:14:37.450Z"
   },
   {
    "duration": 6,
    "start_time": "2023-03-13T12:14:43.235Z"
   },
   {
    "duration": 3,
    "start_time": "2023-03-13T12:14:57.208Z"
   },
   {
    "duration": 5,
    "start_time": "2023-03-13T12:15:19.574Z"
   },
   {
    "duration": 4,
    "start_time": "2023-03-13T12:15:23.847Z"
   },
   {
    "duration": 4,
    "start_time": "2023-03-13T12:15:46.890Z"
   },
   {
    "duration": 5,
    "start_time": "2023-03-13T12:16:52.999Z"
   },
   {
    "duration": 4,
    "start_time": "2023-03-13T12:36:01.474Z"
   },
   {
    "duration": 6,
    "start_time": "2023-03-13T12:36:12.636Z"
   },
   {
    "duration": 9,
    "start_time": "2023-03-13T12:37:43.100Z"
   },
   {
    "duration": 4,
    "start_time": "2023-03-13T12:38:09.760Z"
   },
   {
    "duration": 7,
    "start_time": "2023-03-13T12:38:16.168Z"
   },
   {
    "duration": 10,
    "start_time": "2023-03-13T12:43:31.561Z"
   },
   {
    "duration": 4,
    "start_time": "2023-03-13T12:46:22.070Z"
   },
   {
    "duration": 6,
    "start_time": "2023-03-13T12:46:52.757Z"
   },
   {
    "duration": 4,
    "start_time": "2023-03-13T12:47:08.539Z"
   },
   {
    "duration": 5,
    "start_time": "2023-03-13T12:47:25.324Z"
   },
   {
    "duration": 4,
    "start_time": "2023-03-13T12:47:35.889Z"
   },
   {
    "duration": 4,
    "start_time": "2023-03-13T12:48:45.434Z"
   },
   {
    "duration": 8,
    "start_time": "2023-03-13T12:49:02.687Z"
   },
   {
    "duration": 7,
    "start_time": "2023-03-13T12:49:22.713Z"
   },
   {
    "duration": 6,
    "start_time": "2023-03-13T12:50:18.962Z"
   },
   {
    "duration": 6,
    "start_time": "2023-03-13T12:50:37.389Z"
   },
   {
    "duration": 5,
    "start_time": "2023-03-13T13:02:42.047Z"
   },
   {
    "duration": 4,
    "start_time": "2023-03-13T13:02:48.455Z"
   },
   {
    "duration": 6,
    "start_time": "2023-03-13T13:03:23.194Z"
   },
   {
    "duration": 5,
    "start_time": "2023-03-13T13:04:27.809Z"
   },
   {
    "duration": 6,
    "start_time": "2023-03-13T13:04:43.910Z"
   },
   {
    "duration": 6,
    "start_time": "2023-03-13T13:05:19.339Z"
   },
   {
    "duration": 75,
    "start_time": "2023-03-13T13:05:26.695Z"
   },
   {
    "duration": 5,
    "start_time": "2023-03-13T13:05:42.989Z"
   },
   {
    "duration": 5,
    "start_time": "2023-03-13T13:05:53.003Z"
   },
   {
    "duration": 7,
    "start_time": "2023-03-13T13:06:01.491Z"
   },
   {
    "duration": 5,
    "start_time": "2023-03-13T13:06:11.643Z"
   },
   {
    "duration": 6,
    "start_time": "2023-03-13T13:06:15.968Z"
   },
   {
    "duration": 6,
    "start_time": "2023-03-13T13:06:22.429Z"
   },
   {
    "duration": 7,
    "start_time": "2023-03-13T13:06:26.587Z"
   },
   {
    "duration": 6,
    "start_time": "2023-03-13T13:06:33.326Z"
   },
   {
    "duration": 8,
    "start_time": "2023-03-13T13:07:08.363Z"
   },
   {
    "duration": 9,
    "start_time": "2023-03-13T13:07:17.685Z"
   },
   {
    "duration": 8,
    "start_time": "2023-03-13T13:11:04.549Z"
   },
   {
    "duration": 10,
    "start_time": "2023-03-13T13:11:22.886Z"
   },
   {
    "duration": 9,
    "start_time": "2023-03-13T13:11:42.343Z"
   },
   {
    "duration": 10,
    "start_time": "2023-03-13T13:11:54.725Z"
   },
   {
    "duration": 6,
    "start_time": "2023-03-13T13:12:16.568Z"
   },
   {
    "duration": 9,
    "start_time": "2023-03-13T13:12:45.850Z"
   },
   {
    "duration": 8,
    "start_time": "2023-03-13T13:12:55.086Z"
   },
   {
    "duration": 8,
    "start_time": "2023-03-13T13:13:43.316Z"
   },
   {
    "duration": 1055,
    "start_time": "2023-03-14T08:57:39.520Z"
   },
   {
    "duration": 2579,
    "start_time": "2023-03-14T08:57:40.577Z"
   },
   {
    "duration": 2,
    "start_time": "2023-03-14T08:57:43.158Z"
   },
   {
    "duration": 245,
    "start_time": "2023-03-14T08:57:44.014Z"
   },
   {
    "duration": 17,
    "start_time": "2023-03-14T08:57:44.918Z"
   },
   {
    "duration": 26,
    "start_time": "2023-03-14T08:57:45.606Z"
   },
   {
    "duration": 15,
    "start_time": "2023-03-14T08:57:47.583Z"
   },
   {
    "duration": 27,
    "start_time": "2023-03-14T08:57:48.831Z"
   },
   {
    "duration": 27,
    "start_time": "2023-03-14T08:57:50.191Z"
   },
   {
    "duration": 7,
    "start_time": "2023-03-14T08:57:51.212Z"
   },
   {
    "duration": 5,
    "start_time": "2023-03-14T08:57:52.217Z"
   },
   {
    "duration": 8,
    "start_time": "2023-03-14T08:57:52.826Z"
   },
   {
    "duration": 395,
    "start_time": "2023-03-14T09:07:05.527Z"
   },
   {
    "duration": 77,
    "start_time": "2023-03-14T09:14:42.152Z"
   },
   {
    "duration": 3,
    "start_time": "2023-03-14T09:14:59.074Z"
   },
   {
    "duration": 79,
    "start_time": "2023-03-14T09:15:05.419Z"
   },
   {
    "duration": 90,
    "start_time": "2023-03-14T09:15:15.861Z"
   },
   {
    "duration": 79,
    "start_time": "2023-03-14T09:15:23.506Z"
   },
   {
    "duration": 848,
    "start_time": "2023-03-14T09:15:37.097Z"
   },
   {
    "duration": 145,
    "start_time": "2023-03-14T09:16:06.402Z"
   },
   {
    "duration": 83,
    "start_time": "2023-03-14T09:16:27.249Z"
   },
   {
    "duration": 649,
    "start_time": "2023-03-14T09:16:38.860Z"
   },
   {
    "duration": 994,
    "start_time": "2023-03-14T09:16:50.470Z"
   },
   {
    "duration": 3,
    "start_time": "2023-03-14T09:17:21.841Z"
   },
   {
    "duration": 901,
    "start_time": "2023-03-14T09:17:39.801Z"
   },
   {
    "duration": 11,
    "start_time": "2023-03-14T09:18:40.915Z"
   },
   {
    "duration": 11,
    "start_time": "2023-03-14T09:18:57.451Z"
   },
   {
    "duration": 1008,
    "start_time": "2023-03-14T09:19:01.336Z"
   },
   {
    "duration": 76,
    "start_time": "2023-03-14T09:19:38.682Z"
   },
   {
    "duration": 4,
    "start_time": "2023-03-14T09:21:16.490Z"
   },
   {
    "duration": 938,
    "start_time": "2023-03-14T09:21:27.089Z"
   },
   {
    "duration": 879,
    "start_time": "2023-03-14T09:23:55.415Z"
   },
   {
    "duration": 1070,
    "start_time": "2023-03-14T09:24:44.146Z"
   },
   {
    "duration": 855,
    "start_time": "2023-03-14T09:26:05.942Z"
   },
   {
    "duration": 1020,
    "start_time": "2023-03-14T09:26:24.992Z"
   },
   {
    "duration": 955,
    "start_time": "2023-03-14T09:27:13.551Z"
   },
   {
    "duration": 885,
    "start_time": "2023-03-14T09:27:30.058Z"
   },
   {
    "duration": 1076,
    "start_time": "2023-03-14T09:27:49.454Z"
   },
   {
    "duration": 987,
    "start_time": "2023-03-14T09:27:56.962Z"
   },
   {
    "duration": 71,
    "start_time": "2023-03-14T09:30:00.794Z"
   },
   {
    "duration": 103,
    "start_time": "2023-03-14T09:31:05.494Z"
   },
   {
    "duration": 863,
    "start_time": "2023-03-14T09:31:14.633Z"
   },
   {
    "duration": 1053,
    "start_time": "2023-03-14T09:31:27.665Z"
   },
   {
    "duration": 995,
    "start_time": "2023-03-14T09:31:32.336Z"
   },
   {
    "duration": 954,
    "start_time": "2023-03-14T09:31:39.895Z"
   },
   {
    "duration": 1166,
    "start_time": "2023-03-14T09:31:47.793Z"
   },
   {
    "duration": 182,
    "start_time": "2023-03-14T09:33:16.797Z"
   },
   {
    "duration": 1064,
    "start_time": "2023-03-14T09:33:27.654Z"
   },
   {
    "duration": 884,
    "start_time": "2023-03-14T09:33:32.936Z"
   },
   {
    "duration": 1047,
    "start_time": "2023-03-14T09:33:38.629Z"
   },
   {
    "duration": 1340,
    "start_time": "2023-03-14T09:37:49.716Z"
   },
   {
    "duration": 1197,
    "start_time": "2023-03-14T09:40:16.540Z"
   },
   {
    "duration": 1306,
    "start_time": "2023-03-14T09:40:33.572Z"
   },
   {
    "duration": 1250,
    "start_time": "2023-03-14T09:41:07.211Z"
   },
   {
    "duration": 1244,
    "start_time": "2023-03-14T09:41:16.194Z"
   },
   {
    "duration": 1285,
    "start_time": "2023-03-14T09:41:27.398Z"
   },
   {
    "duration": 1247,
    "start_time": "2023-03-14T09:41:38.023Z"
   },
   {
    "duration": 12,
    "start_time": "2023-03-14T09:46:26.678Z"
   },
   {
    "duration": 11,
    "start_time": "2023-03-14T09:46:33.876Z"
   },
   {
    "duration": 3008,
    "start_time": "2023-03-14T09:47:12.456Z"
   },
   {
    "duration": 2933,
    "start_time": "2023-03-14T09:47:37.759Z"
   },
   {
    "duration": 2838,
    "start_time": "2023-03-14T09:48:39.172Z"
   },
   {
    "duration": 2949,
    "start_time": "2023-03-14T09:48:52.366Z"
   },
   {
    "duration": 3077,
    "start_time": "2023-03-14T09:50:19.550Z"
   },
   {
    "duration": 3224,
    "start_time": "2023-03-14T09:50:53.701Z"
   },
   {
    "duration": 3153,
    "start_time": "2023-03-14T09:51:04.883Z"
   },
   {
    "duration": 3037,
    "start_time": "2023-03-14T09:51:21.667Z"
   },
   {
    "duration": 3020,
    "start_time": "2023-03-14T09:51:32.977Z"
   },
   {
    "duration": 3091,
    "start_time": "2023-03-14T09:51:52.973Z"
   },
   {
    "duration": 3007,
    "start_time": "2023-03-14T09:52:37.621Z"
   },
   {
    "duration": 1364,
    "start_time": "2023-03-14T09:58:16.493Z"
   },
   {
    "duration": 3027,
    "start_time": "2023-03-14T09:58:26.796Z"
   },
   {
    "duration": 184,
    "start_time": "2023-03-14T10:00:15.297Z"
   },
   {
    "duration": 3083,
    "start_time": "2023-03-14T10:00:21.976Z"
   },
   {
    "duration": 2203,
    "start_time": "2023-03-14T10:01:42.519Z"
   },
   {
    "duration": 867,
    "start_time": "2023-03-14T10:02:11.399Z"
   },
   {
    "duration": 975,
    "start_time": "2023-03-14T10:16:04.497Z"
   },
   {
    "duration": 536,
    "start_time": "2023-03-14T10:25:31.960Z"
   },
   {
    "duration": 538,
    "start_time": "2023-03-14T10:25:38.252Z"
   },
   {
    "duration": 503,
    "start_time": "2023-03-14T10:25:53.493Z"
   },
   {
    "duration": 537,
    "start_time": "2023-03-14T10:26:00.003Z"
   },
   {
    "duration": 731,
    "start_time": "2023-03-14T10:26:07.733Z"
   },
   {
    "duration": 526,
    "start_time": "2023-03-14T10:26:14.171Z"
   },
   {
    "duration": 523,
    "start_time": "2023-03-14T10:26:31.026Z"
   },
   {
    "duration": 525,
    "start_time": "2023-03-14T10:26:37.955Z"
   },
   {
    "duration": 592,
    "start_time": "2023-03-14T10:26:44.227Z"
   },
   {
    "duration": 518,
    "start_time": "2023-03-14T10:26:49.203Z"
   },
   {
    "duration": 229,
    "start_time": "2023-03-14T10:27:46.594Z"
   },
   {
    "duration": 229,
    "start_time": "2023-03-14T10:27:50.706Z"
   },
   {
    "duration": 600,
    "start_time": "2023-03-14T10:27:54.699Z"
   },
   {
    "duration": 540,
    "start_time": "2023-03-14T10:28:34.396Z"
   },
   {
    "duration": 619,
    "start_time": "2023-03-14T10:28:45.977Z"
   },
   {
    "duration": 201,
    "start_time": "2023-03-14T10:29:14.013Z"
   },
   {
    "duration": 524,
    "start_time": "2023-03-14T10:29:36.734Z"
   },
   {
    "duration": 669,
    "start_time": "2023-03-14T10:29:49.039Z"
   },
   {
    "duration": 527,
    "start_time": "2023-03-14T10:29:54.034Z"
   },
   {
    "duration": 297,
    "start_time": "2023-03-14T10:30:10.702Z"
   },
   {
    "duration": 502,
    "start_time": "2023-03-14T10:30:15.271Z"
   },
   {
    "duration": 470,
    "start_time": "2023-03-14T10:30:31.750Z"
   },
   {
    "duration": 511,
    "start_time": "2023-03-14T10:30:38.934Z"
   },
   {
    "duration": 513,
    "start_time": "2023-03-14T10:30:42.317Z"
   },
   {
    "duration": 560,
    "start_time": "2023-03-14T10:32:16.724Z"
   },
   {
    "duration": 521,
    "start_time": "2023-03-14T10:33:24.778Z"
   },
   {
    "duration": 616,
    "start_time": "2023-03-14T10:33:28.025Z"
   },
   {
    "duration": 497,
    "start_time": "2023-03-14T10:33:33.119Z"
   },
   {
    "duration": 11,
    "start_time": "2023-03-14T11:10:58.178Z"
   },
   {
    "duration": 11,
    "start_time": "2023-03-14T11:12:24.937Z"
   },
   {
    "duration": 9,
    "start_time": "2023-03-14T11:15:08.895Z"
   },
   {
    "duration": 8,
    "start_time": "2023-03-14T11:15:19.083Z"
   },
   {
    "duration": 6,
    "start_time": "2023-03-14T11:18:35.810Z"
   },
   {
    "duration": 6,
    "start_time": "2023-03-14T11:18:49.046Z"
   },
   {
    "duration": 2,
    "start_time": "2023-03-14T12:07:54.292Z"
   },
   {
    "duration": 720,
    "start_time": "2023-03-14T12:07:54.501Z"
   },
   {
    "duration": 3,
    "start_time": "2023-03-14T12:07:55.223Z"
   },
   {
    "duration": 259,
    "start_time": "2023-03-14T12:07:55.228Z"
   },
   {
    "duration": 13,
    "start_time": "2023-03-14T12:07:55.489Z"
   },
   {
    "duration": 20,
    "start_time": "2023-03-14T12:07:55.503Z"
   },
   {
    "duration": 20,
    "start_time": "2023-03-14T12:07:55.807Z"
   },
   {
    "duration": 26,
    "start_time": "2023-03-14T12:07:56.209Z"
   },
   {
    "duration": 28,
    "start_time": "2023-03-14T12:07:56.626Z"
   },
   {
    "duration": 8,
    "start_time": "2023-03-14T12:07:57.040Z"
   },
   {
    "duration": 5,
    "start_time": "2023-03-14T12:07:57.458Z"
   },
   {
    "duration": 7,
    "start_time": "2023-03-14T12:07:57.655Z"
   },
   {
    "duration": 893,
    "start_time": "2023-03-14T12:07:58.055Z"
   },
   {
    "duration": 490,
    "start_time": "2023-03-14T12:07:58.951Z"
   },
   {
    "duration": 8,
    "start_time": "2023-03-14T12:07:59.442Z"
   },
   {
    "duration": 267,
    "start_time": "2023-03-14T12:13:02.614Z"
   },
   {
    "duration": 278,
    "start_time": "2023-03-14T12:13:52.726Z"
   },
   {
    "duration": 393,
    "start_time": "2023-03-14T12:14:00.794Z"
   },
   {
    "duration": 262,
    "start_time": "2023-03-14T12:14:08.392Z"
   },
   {
    "duration": 278,
    "start_time": "2023-03-14T12:14:19.049Z"
   },
   {
    "duration": 263,
    "start_time": "2023-03-14T12:14:23.157Z"
   },
   {
    "duration": 265,
    "start_time": "2023-03-14T12:15:39.146Z"
   },
   {
    "duration": 298,
    "start_time": "2023-03-14T12:16:23.420Z"
   },
   {
    "duration": 271,
    "start_time": "2023-03-14T12:17:23.889Z"
   },
   {
    "duration": 276,
    "start_time": "2023-03-14T12:17:54.391Z"
   },
   {
    "duration": 277,
    "start_time": "2023-03-14T12:18:05.799Z"
   },
   {
    "duration": 288,
    "start_time": "2023-03-14T12:18:10.570Z"
   },
   {
    "duration": 1641,
    "start_time": "2023-03-15T11:37:00.637Z"
   },
   {
    "duration": 2194,
    "start_time": "2023-03-15T11:37:02.280Z"
   },
   {
    "duration": 4,
    "start_time": "2023-03-15T11:37:04.477Z"
   },
   {
    "duration": 288,
    "start_time": "2023-03-15T11:37:04.483Z"
   },
   {
    "duration": 16,
    "start_time": "2023-03-15T11:37:04.773Z"
   },
   {
    "duration": 39,
    "start_time": "2023-03-15T11:37:04.792Z"
   },
   {
    "duration": 33,
    "start_time": "2023-03-15T11:37:04.833Z"
   },
   {
    "duration": 61,
    "start_time": "2023-03-15T11:37:04.869Z"
   },
   {
    "duration": 47,
    "start_time": "2023-03-15T11:37:04.932Z"
   },
   {
    "duration": 10,
    "start_time": "2023-03-15T11:37:04.982Z"
   },
   {
    "duration": 24,
    "start_time": "2023-03-15T11:37:04.994Z"
   },
   {
    "duration": 80,
    "start_time": "2023-03-15T11:37:05.020Z"
   },
   {
    "duration": 1080,
    "start_time": "2023-03-15T11:37:05.102Z"
   },
   {
    "duration": 552,
    "start_time": "2023-03-15T11:37:06.185Z"
   },
   {
    "duration": 8,
    "start_time": "2023-03-15T11:37:06.739Z"
   },
   {
    "duration": 396,
    "start_time": "2023-03-15T11:37:06.748Z"
   },
   {
    "duration": 50,
    "start_time": "2023-03-15T11:41:41.807Z"
   },
   {
    "duration": 46,
    "start_time": "2023-03-15T11:41:55.624Z"
   },
   {
    "duration": 155,
    "start_time": "2023-03-15T11:42:12.290Z"
   },
   {
    "duration": 13,
    "start_time": "2023-03-15T11:44:16.025Z"
   },
   {
    "duration": 52,
    "start_time": "2023-03-15T11:44:20.813Z"
   },
   {
    "duration": 41,
    "start_time": "2023-03-15T11:48:34.515Z"
   },
   {
    "duration": 14,
    "start_time": "2023-03-15T11:49:08.728Z"
   },
   {
    "duration": 14,
    "start_time": "2023-03-15T11:49:28.600Z"
   },
   {
    "duration": 15,
    "start_time": "2023-03-15T11:49:39.214Z"
   },
   {
    "duration": 9,
    "start_time": "2023-03-15T11:50:53.238Z"
   },
   {
    "duration": 10,
    "start_time": "2023-03-15T12:00:48.050Z"
   },
   {
    "duration": 29,
    "start_time": "2023-03-15T12:12:24.306Z"
   },
   {
    "duration": 11,
    "start_time": "2023-03-15T12:12:25.698Z"
   },
   {
    "duration": 1034,
    "start_time": "2023-03-15T12:13:02.342Z"
   },
   {
    "duration": 7,
    "start_time": "2023-03-15T12:21:16.728Z"
   },
   {
    "duration": 13,
    "start_time": "2023-03-15T12:22:14.197Z"
   },
   {
    "duration": 40,
    "start_time": "2023-03-15T12:23:45.318Z"
   },
   {
    "duration": 14,
    "start_time": "2023-03-15T12:23:47.450Z"
   },
   {
    "duration": 13,
    "start_time": "2023-03-15T12:23:49.856Z"
   },
   {
    "duration": 15,
    "start_time": "2023-03-15T12:26:42.664Z"
   },
   {
    "duration": 9,
    "start_time": "2023-03-15T12:26:48.617Z"
   },
   {
    "duration": 25,
    "start_time": "2023-03-15T12:27:11.804Z"
   },
   {
    "duration": 7,
    "start_time": "2023-03-15T12:27:12.462Z"
   },
   {
    "duration": 23,
    "start_time": "2023-03-15T12:27:18.475Z"
   },
   {
    "duration": 9,
    "start_time": "2023-03-15T12:27:27.477Z"
   },
   {
    "duration": 2,
    "start_time": "2023-03-15T12:27:45.508Z"
   },
   {
    "duration": 672,
    "start_time": "2023-03-15T12:27:45.744Z"
   },
   {
    "duration": 4,
    "start_time": "2023-03-15T12:27:46.419Z"
   },
   {
    "duration": 248,
    "start_time": "2023-03-15T12:27:46.922Z"
   },
   {
    "duration": 14,
    "start_time": "2023-03-15T12:27:47.674Z"
   },
   {
    "duration": 19,
    "start_time": "2023-03-15T12:27:48.341Z"
   },
   {
    "duration": 18,
    "start_time": "2023-03-15T12:27:50.687Z"
   },
   {
    "duration": 38,
    "start_time": "2023-03-15T12:27:55.576Z"
   },
   {
    "duration": 23,
    "start_time": "2023-03-15T12:27:57.936Z"
   },
   {
    "duration": 7,
    "start_time": "2023-03-15T12:28:05.281Z"
   },
   {
    "duration": 25,
    "start_time": "2023-03-15T12:28:08.093Z"
   },
   {
    "duration": 8,
    "start_time": "2023-03-15T12:28:08.988Z"
   },
   {
    "duration": 9,
    "start_time": "2023-03-15T12:28:13.150Z"
   },
   {
    "duration": 25,
    "start_time": "2023-03-15T12:29:49.254Z"
   },
   {
    "duration": 9,
    "start_time": "2023-03-15T12:29:51.048Z"
   },
   {
    "duration": 26,
    "start_time": "2023-03-15T12:29:56.383Z"
   },
   {
    "duration": 25,
    "start_time": "2023-03-15T12:30:34.193Z"
   },
   {
    "duration": 26,
    "start_time": "2023-03-15T12:30:42.327Z"
   },
   {
    "duration": 25,
    "start_time": "2023-03-15T12:30:50.793Z"
   },
   {
    "duration": 11,
    "start_time": "2023-03-15T12:31:42.451Z"
   },
   {
    "duration": 15,
    "start_time": "2023-03-15T12:32:12.973Z"
   },
   {
    "duration": 9,
    "start_time": "2023-03-15T12:32:29.045Z"
   },
   {
    "duration": 33,
    "start_time": "2023-03-15T12:33:40.691Z"
   },
   {
    "duration": 17,
    "start_time": "2023-03-15T12:33:45.099Z"
   },
   {
    "duration": 3,
    "start_time": "2023-03-15T12:34:50.244Z"
   },
   {
    "duration": 766,
    "start_time": "2023-03-15T12:34:50.694Z"
   },
   {
    "duration": 3,
    "start_time": "2023-03-15T12:34:55.808Z"
   },
   {
    "duration": 262,
    "start_time": "2023-03-15T12:34:56.386Z"
   },
   {
    "duration": 15,
    "start_time": "2023-03-15T12:34:58.113Z"
   },
   {
    "duration": 21,
    "start_time": "2023-03-15T12:34:58.990Z"
   },
   {
    "duration": 24,
    "start_time": "2023-03-15T12:35:02.709Z"
   },
   {
    "duration": 30,
    "start_time": "2023-03-15T12:35:04.522Z"
   },
   {
    "duration": 17,
    "start_time": "2023-03-15T12:35:46.528Z"
   },
   {
    "duration": 15,
    "start_time": "2023-03-15T12:35:51.993Z"
   },
   {
    "duration": 3,
    "start_time": "2023-03-15T12:36:03.686Z"
   },
   {
    "duration": 808,
    "start_time": "2023-03-15T12:36:03.830Z"
   },
   {
    "duration": 3,
    "start_time": "2023-03-15T12:36:04.640Z"
   },
   {
    "duration": 281,
    "start_time": "2023-03-15T12:36:04.645Z"
   },
   {
    "duration": 14,
    "start_time": "2023-03-15T12:36:04.928Z"
   },
   {
    "duration": 49,
    "start_time": "2023-03-15T12:36:04.943Z"
   },
   {
    "duration": 21,
    "start_time": "2023-03-15T12:36:04.994Z"
   },
   {
    "duration": 39,
    "start_time": "2023-03-15T12:36:05.703Z"
   },
   {
    "duration": 25,
    "start_time": "2023-03-15T12:36:07.310Z"
   },
   {
    "duration": 20,
    "start_time": "2023-03-15T12:36:07.925Z"
   },
   {
    "duration": 7,
    "start_time": "2023-03-15T12:36:10.988Z"
   },
   {
    "duration": 6,
    "start_time": "2023-03-15T12:36:11.950Z"
   },
   {
    "duration": 7,
    "start_time": "2023-03-15T12:36:12.490Z"
   },
   {
    "duration": 1118,
    "start_time": "2023-03-15T12:36:22.145Z"
   },
   {
    "duration": 545,
    "start_time": "2023-03-15T12:36:32.287Z"
   },
   {
    "duration": 11,
    "start_time": "2023-03-15T12:36:34.166Z"
   },
   {
    "duration": 357,
    "start_time": "2023-03-15T12:36:34.826Z"
   },
   {
    "duration": 20,
    "start_time": "2023-03-15T12:36:35.284Z"
   },
   {
    "duration": 135,
    "start_time": "2023-03-15T12:36:37.498Z"
   },
   {
    "duration": 13,
    "start_time": "2023-03-15T12:36:38.484Z"
   },
   {
    "duration": 9,
    "start_time": "2023-03-15T12:37:49.040Z"
   },
   {
    "duration": 3,
    "start_time": "2023-03-15T12:47:58.089Z"
   },
   {
    "duration": 12,
    "start_time": "2023-03-15T13:06:28.626Z"
   },
   {
    "duration": 15,
    "start_time": "2023-03-15T13:06:38.913Z"
   },
   {
    "duration": 267,
    "start_time": "2023-03-15T13:07:23.909Z"
   },
   {
    "duration": 13,
    "start_time": "2023-03-15T13:07:52.700Z"
   },
   {
    "duration": 14,
    "start_time": "2023-03-15T13:08:05.514Z"
   },
   {
    "duration": 9,
    "start_time": "2023-03-15T13:08:13.492Z"
   },
   {
    "duration": 614,
    "start_time": "2023-03-15T13:08:17.455Z"
   },
   {
    "duration": 12,
    "start_time": "2023-03-15T13:08:31.408Z"
   },
   {
    "duration": 40,
    "start_time": "2023-03-15T13:08:32.892Z"
   },
   {
    "duration": 13,
    "start_time": "2023-03-15T13:08:34.520Z"
   },
   {
    "duration": 4,
    "start_time": "2023-03-15T13:08:47.144Z"
   },
   {
    "duration": 3,
    "start_time": "2023-03-15T13:08:47.835Z"
   },
   {
    "duration": 7,
    "start_time": "2023-03-15T13:08:48.915Z"
   },
   {
    "duration": 610,
    "start_time": "2023-03-15T13:09:39.721Z"
   },
   {
    "duration": 978,
    "start_time": "2023-03-15T13:10:18.394Z"
   },
   {
    "duration": 7,
    "start_time": "2023-03-15T13:10:38.232Z"
   },
   {
    "duration": 9,
    "start_time": "2023-03-15T13:13:14.222Z"
   },
   {
    "duration": 9,
    "start_time": "2023-03-15T13:16:26.592Z"
   },
   {
    "duration": 19,
    "start_time": "2023-03-15T13:38:07.813Z"
   },
   {
    "duration": 13,
    "start_time": "2023-03-15T13:38:10.235Z"
   },
   {
    "duration": 16,
    "start_time": "2023-03-15T13:39:26.205Z"
   },
   {
    "duration": 43,
    "start_time": "2023-03-15T13:39:32.502Z"
   },
   {
    "duration": 94,
    "start_time": "2023-03-15T13:39:36.225Z"
   },
   {
    "duration": 34186,
    "start_time": "2023-03-15T13:41:44.805Z"
   },
   {
    "duration": 35,
    "start_time": "2023-03-15T13:43:41.708Z"
   },
   {
    "duration": 719,
    "start_time": "2023-03-15T13:44:15.851Z"
   },
   {
    "duration": 37417,
    "start_time": "2023-03-15T13:44:43.724Z"
   },
   {
    "duration": 1550,
    "start_time": "2023-03-15T16:38:49.676Z"
   },
   {
    "duration": 2322,
    "start_time": "2023-03-15T16:38:51.227Z"
   },
   {
    "duration": 4,
    "start_time": "2023-03-15T16:38:53.557Z"
   },
   {
    "duration": 247,
    "start_time": "2023-03-15T16:38:53.563Z"
   },
   {
    "duration": 13,
    "start_time": "2023-03-15T16:38:53.811Z"
   },
   {
    "duration": 43,
    "start_time": "2023-03-15T16:38:53.825Z"
   },
   {
    "duration": 14,
    "start_time": "2023-03-15T16:38:53.871Z"
   },
   {
    "duration": 32,
    "start_time": "2023-03-15T16:38:53.886Z"
   },
   {
    "duration": 43,
    "start_time": "2023-03-15T16:38:53.919Z"
   },
   {
    "duration": 21,
    "start_time": "2023-03-15T16:38:53.969Z"
   },
   {
    "duration": 7,
    "start_time": "2023-03-15T16:38:53.992Z"
   },
   {
    "duration": 11,
    "start_time": "2023-03-15T16:38:54.000Z"
   },
   {
    "duration": 28,
    "start_time": "2023-03-15T16:38:54.012Z"
   },
   {
    "duration": 991,
    "start_time": "2023-03-15T16:38:54.043Z"
   },
   {
    "duration": 614,
    "start_time": "2023-03-15T16:38:55.666Z"
   },
   {
    "duration": 8,
    "start_time": "2023-03-15T16:38:56.282Z"
   },
   {
    "duration": 611,
    "start_time": "2023-03-15T16:38:56.333Z"
   },
   {
    "duration": 13,
    "start_time": "2023-03-15T16:38:56.946Z"
   },
   {
    "duration": 41,
    "start_time": "2023-03-15T16:38:57.227Z"
   },
   {
    "duration": 11,
    "start_time": "2023-03-15T16:38:57.801Z"
   },
   {
    "duration": 3,
    "start_time": "2023-03-15T16:39:54.280Z"
   },
   {
    "duration": 3,
    "start_time": "2023-03-15T16:39:55.906Z"
   },
   {
    "duration": 6,
    "start_time": "2023-03-15T16:39:56.430Z"
   },
   {
    "duration": 28043,
    "start_time": "2023-03-15T16:40:00.981Z"
   },
   {
    "duration": 4,
    "start_time": "2023-03-15T16:40:51.481Z"
   },
   {
    "duration": 26278,
    "start_time": "2023-03-15T16:43:48.267Z"
   },
   {
    "duration": 4,
    "start_time": "2023-03-15T16:44:32.652Z"
   },
   {
    "duration": 25718,
    "start_time": "2023-03-15T16:44:43.710Z"
   },
   {
    "duration": 3,
    "start_time": "2023-03-15T16:45:16.483Z"
   },
   {
    "duration": 4,
    "start_time": "2023-03-15T16:45:21.155Z"
   },
   {
    "duration": 26424,
    "start_time": "2023-03-15T16:46:07.962Z"
   },
   {
    "duration": 4,
    "start_time": "2023-03-15T16:47:36.418Z"
   },
   {
    "duration": 370,
    "start_time": "2023-03-15T16:55:02.046Z"
   },
   {
    "duration": 3,
    "start_time": "2023-03-15T16:55:12.930Z"
   },
   {
    "duration": 615,
    "start_time": "2023-03-15T16:55:13.613Z"
   },
   {
    "duration": 3,
    "start_time": "2023-03-15T16:55:15.022Z"
   },
   {
    "duration": 231,
    "start_time": "2023-03-15T16:55:15.522Z"
   },
   {
    "duration": 13,
    "start_time": "2023-03-15T16:55:15.772Z"
   },
   {
    "duration": 18,
    "start_time": "2023-03-15T16:55:16.070Z"
   },
   {
    "duration": 14,
    "start_time": "2023-03-15T16:55:16.825Z"
   },
   {
    "duration": 25,
    "start_time": "2023-03-15T16:55:17.652Z"
   },
   {
    "duration": 23,
    "start_time": "2023-03-15T16:55:18.278Z"
   },
   {
    "duration": 18,
    "start_time": "2023-03-15T16:55:18.554Z"
   },
   {
    "duration": 8,
    "start_time": "2023-03-15T16:55:18.958Z"
   },
   {
    "duration": 7,
    "start_time": "2023-03-15T16:55:19.352Z"
   },
   {
    "duration": 6,
    "start_time": "2023-03-15T16:55:19.574Z"
   },
   {
    "duration": 921,
    "start_time": "2023-03-15T16:55:20.285Z"
   },
   {
    "duration": 503,
    "start_time": "2023-03-15T16:55:22.404Z"
   },
   {
    "duration": 8,
    "start_time": "2023-03-15T16:55:24.208Z"
   },
   {
    "duration": 323,
    "start_time": "2023-03-15T16:55:24.955Z"
   },
   {
    "duration": 14,
    "start_time": "2023-03-15T16:55:25.636Z"
   },
   {
    "duration": 29,
    "start_time": "2023-03-15T16:55:26.751Z"
   },
   {
    "duration": 10,
    "start_time": "2023-03-15T16:55:27.356Z"
   },
   {
    "duration": 3,
    "start_time": "2023-03-15T16:55:28.372Z"
   },
   {
    "duration": 2,
    "start_time": "2023-03-15T16:55:28.717Z"
   },
   {
    "duration": 8,
    "start_time": "2023-03-15T16:55:30.428Z"
   },
   {
    "duration": 26421,
    "start_time": "2023-03-15T16:56:58.482Z"
   },
   {
    "duration": 27446,
    "start_time": "2023-03-15T16:57:39.012Z"
   },
   {
    "duration": 66,
    "start_time": "2023-03-16T11:40:27.355Z"
   },
   {
    "duration": 2015,
    "start_time": "2023-03-16T11:40:34.001Z"
   },
   {
    "duration": 4641,
    "start_time": "2023-03-16T11:40:36.018Z"
   },
   {
    "duration": 4,
    "start_time": "2023-03-16T11:40:40.661Z"
   },
   {
    "duration": 343,
    "start_time": "2023-03-16T11:40:40.667Z"
   },
   {
    "duration": 15,
    "start_time": "2023-03-16T11:40:41.012Z"
   },
   {
    "duration": 45,
    "start_time": "2023-03-16T11:40:41.028Z"
   },
   {
    "duration": 24,
    "start_time": "2023-03-16T11:40:41.078Z"
   },
   {
    "duration": 45,
    "start_time": "2023-03-16T11:40:41.104Z"
   },
   {
    "duration": 46,
    "start_time": "2023-03-16T11:40:41.151Z"
   },
   {
    "duration": 34,
    "start_time": "2023-03-16T11:40:41.200Z"
   },
   {
    "duration": 12,
    "start_time": "2023-03-16T11:40:41.236Z"
   },
   {
    "duration": 50,
    "start_time": "2023-03-16T11:40:41.250Z"
   },
   {
    "duration": 13,
    "start_time": "2023-03-16T11:40:41.302Z"
   },
   {
    "duration": 1287,
    "start_time": "2023-03-16T11:40:41.316Z"
   },
   {
    "duration": 724,
    "start_time": "2023-03-16T11:40:42.605Z"
   },
   {
    "duration": 10,
    "start_time": "2023-03-16T11:40:43.331Z"
   },
   {
    "duration": 479,
    "start_time": "2023-03-16T11:40:43.344Z"
   },
   {
    "duration": 14,
    "start_time": "2023-03-16T11:40:44.893Z"
   },
   {
    "duration": 39,
    "start_time": "2023-03-16T11:40:45.871Z"
   },
   {
    "duration": 19,
    "start_time": "2023-03-16T11:40:46.326Z"
   },
   {
    "duration": 6,
    "start_time": "2023-03-16T11:40:47.958Z"
   },
   {
    "duration": 6,
    "start_time": "2023-03-16T11:40:48.558Z"
   },
   {
    "duration": 101,
    "start_time": "2023-03-16T11:40:50.181Z"
   },
   {
    "duration": 13,
    "start_time": "2023-03-16T11:43:19.399Z"
   },
   {
    "duration": 9,
    "start_time": "2023-03-16T11:43:32.587Z"
   },
   {
    "duration": 12,
    "start_time": "2023-03-16T11:45:19.222Z"
   },
   {
    "duration": 11,
    "start_time": "2023-03-16T11:45:31.486Z"
   },
   {
    "duration": 14,
    "start_time": "2023-03-16T11:45:40.853Z"
   },
   {
    "duration": 10,
    "start_time": "2023-03-16T11:49:23.990Z"
   },
   {
    "duration": 3,
    "start_time": "2023-03-16T12:12:04.491Z"
   },
   {
    "duration": 4,
    "start_time": "2023-03-16T12:12:15.796Z"
   },
   {
    "duration": 3,
    "start_time": "2023-03-16T12:12:19.009Z"
   },
   {
    "duration": 5,
    "start_time": "2023-03-16T12:13:44.388Z"
   },
   {
    "duration": 6,
    "start_time": "2023-03-16T12:13:47.980Z"
   },
   {
    "duration": 4,
    "start_time": "2023-03-16T12:18:11.195Z"
   },
   {
    "duration": 3,
    "start_time": "2023-03-16T12:20:29.806Z"
   },
   {
    "duration": 6,
    "start_time": "2023-03-16T12:20:30.588Z"
   },
   {
    "duration": 2,
    "start_time": "2023-03-16T12:20:31.520Z"
   },
   {
    "duration": 18,
    "start_time": "2023-03-16T12:20:33.705Z"
   },
   {
    "duration": 8,
    "start_time": "2023-03-16T12:20:34.105Z"
   },
   {
    "duration": 6,
    "start_time": "2023-03-16T12:20:59.131Z"
   },
   {
    "duration": 943,
    "start_time": "2023-03-16T12:20:59.306Z"
   },
   {
    "duration": 24,
    "start_time": "2023-03-16T12:21:00.255Z"
   },
   {
    "duration": 341,
    "start_time": "2023-03-16T12:21:00.281Z"
   },
   {
    "duration": 30,
    "start_time": "2023-03-16T12:21:00.625Z"
   },
   {
    "duration": 160,
    "start_time": "2023-03-16T12:21:00.659Z"
   },
   {
    "duration": 82,
    "start_time": "2023-03-16T12:21:00.821Z"
   },
   {
    "duration": 72,
    "start_time": "2023-03-16T12:21:00.905Z"
   },
   {
    "duration": 61,
    "start_time": "2023-03-16T12:21:00.982Z"
   },
   {
    "duration": 33,
    "start_time": "2023-03-16T12:21:01.048Z"
   },
   {
    "duration": 11,
    "start_time": "2023-03-16T12:21:01.428Z"
   },
   {
    "duration": 6,
    "start_time": "2023-03-16T12:21:01.910Z"
   },
   {
    "duration": 10,
    "start_time": "2023-03-16T12:21:02.107Z"
   },
   {
    "duration": 1210,
    "start_time": "2023-03-16T12:21:02.608Z"
   },
   {
    "duration": 736,
    "start_time": "2023-03-16T12:21:03.820Z"
   },
   {
    "duration": 11,
    "start_time": "2023-03-16T12:21:04.786Z"
   },
   {
    "duration": 458,
    "start_time": "2023-03-16T12:21:05.394Z"
   },
   {
    "duration": 25,
    "start_time": "2023-03-16T12:21:05.858Z"
   },
   {
    "duration": 54,
    "start_time": "2023-03-16T12:21:06.251Z"
   },
   {
    "duration": 13,
    "start_time": "2023-03-16T12:21:06.505Z"
   },
   {
    "duration": 5,
    "start_time": "2023-03-16T12:21:09.493Z"
   },
   {
    "duration": 6,
    "start_time": "2023-03-16T12:21:10.258Z"
   },
   {
    "duration": 8,
    "start_time": "2023-03-16T12:21:10.749Z"
   },
   {
    "duration": 6,
    "start_time": "2023-03-16T12:21:11.923Z"
   },
   {
    "duration": 12,
    "start_time": "2023-03-16T12:21:14.352Z"
   },
   {
    "duration": 25270,
    "start_time": "2023-03-16T12:24:12.389Z"
   },
   {
    "duration": 6,
    "start_time": "2023-03-16T12:26:00.327Z"
   },
   {
    "duration": 406,
    "start_time": "2023-03-16T12:27:15.592Z"
   },
   {
    "duration": 372,
    "start_time": "2023-03-16T12:27:39.579Z"
   },
   {
    "duration": 4,
    "start_time": "2023-03-16T12:27:52.884Z"
   },
   {
    "duration": 378,
    "start_time": "2023-03-16T12:31:53.006Z"
   },
   {
    "duration": 399,
    "start_time": "2023-03-16T12:33:05.508Z"
   },
   {
    "duration": 439,
    "start_time": "2023-03-16T12:33:37.203Z"
   },
   {
    "duration": 4,
    "start_time": "2023-03-16T12:33:41.371Z"
   },
   {
    "duration": 376,
    "start_time": "2023-03-16T12:33:53.407Z"
   },
   {
    "duration": 380,
    "start_time": "2023-03-16T12:34:31.311Z"
   },
   {
    "duration": 4,
    "start_time": "2023-03-16T12:35:12.640Z"
   },
   {
    "duration": 3,
    "start_time": "2023-03-16T12:35:13.316Z"
   },
   {
    "duration": 3,
    "start_time": "2023-03-16T12:35:14.383Z"
   },
   {
    "duration": 16,
    "start_time": "2023-03-16T12:35:36.004Z"
   },
   {
    "duration": 6,
    "start_time": "2023-03-16T12:35:40.218Z"
   },
   {
    "duration": 166,
    "start_time": "2023-03-16T12:35:42.051Z"
   },
   {
    "duration": 3,
    "start_time": "2023-03-16T12:36:46.483Z"
   },
   {
    "duration": 2,
    "start_time": "2023-03-16T12:36:47.179Z"
   },
   {
    "duration": 6,
    "start_time": "2023-03-16T12:36:47.632Z"
   },
   {
    "duration": 390,
    "start_time": "2023-03-16T12:36:51.979Z"
   },
   {
    "duration": 4,
    "start_time": "2023-03-16T12:37:00.802Z"
   },
   {
    "duration": 497,
    "start_time": "2023-03-16T12:38:56.923Z"
   },
   {
    "duration": 434,
    "start_time": "2023-03-16T12:41:44.863Z"
   },
   {
    "duration": 4,
    "start_time": "2023-03-16T12:41:54.904Z"
   },
   {
    "duration": 4,
    "start_time": "2023-03-16T12:42:37.851Z"
   },
   {
    "duration": 816,
    "start_time": "2023-03-16T12:42:38.001Z"
   },
   {
    "duration": 5,
    "start_time": "2023-03-16T12:42:38.819Z"
   },
   {
    "duration": 269,
    "start_time": "2023-03-16T12:42:38.830Z"
   },
   {
    "duration": 15,
    "start_time": "2023-03-16T12:42:39.102Z"
   },
   {
    "duration": 34,
    "start_time": "2023-03-16T12:42:39.130Z"
   },
   {
    "duration": 20,
    "start_time": "2023-03-16T12:42:39.166Z"
   },
   {
    "duration": 36,
    "start_time": "2023-03-16T12:42:39.308Z"
   },
   {
    "duration": 31,
    "start_time": "2023-03-16T12:42:39.635Z"
   },
   {
    "duration": 19,
    "start_time": "2023-03-16T12:42:39.798Z"
   },
   {
    "duration": 9,
    "start_time": "2023-03-16T12:42:40.306Z"
   },
   {
    "duration": 8,
    "start_time": "2023-03-16T12:42:40.794Z"
   },
   {
    "duration": 11,
    "start_time": "2023-03-16T12:42:40.951Z"
   },
   {
    "duration": 1164,
    "start_time": "2023-03-16T12:42:41.459Z"
   },
   {
    "duration": 570,
    "start_time": "2023-03-16T12:42:42.625Z"
   },
   {
    "duration": 9,
    "start_time": "2023-03-16T12:42:43.197Z"
   },
   {
    "duration": 396,
    "start_time": "2023-03-16T12:42:43.208Z"
   },
   {
    "duration": 28,
    "start_time": "2023-03-16T12:42:43.606Z"
   },
   {
    "duration": 34,
    "start_time": "2023-03-16T12:42:43.640Z"
   },
   {
    "duration": 12,
    "start_time": "2023-03-16T12:42:43.676Z"
   },
   {
    "duration": 4,
    "start_time": "2023-03-16T12:42:44.691Z"
   },
   {
    "duration": 3,
    "start_time": "2023-03-16T12:42:44.970Z"
   },
   {
    "duration": 3,
    "start_time": "2023-03-16T12:42:45.351Z"
   },
   {
    "duration": 11,
    "start_time": "2023-03-16T12:42:46.046Z"
   },
   {
    "duration": 8,
    "start_time": "2023-03-16T12:42:46.987Z"
   },
   {
    "duration": 440,
    "start_time": "2023-03-16T12:42:48.379Z"
   },
   {
    "duration": 4,
    "start_time": "2023-03-16T12:42:54.845Z"
   },
   {
    "duration": 413,
    "start_time": "2023-03-16T12:44:32.406Z"
   },
   {
    "duration": 3,
    "start_time": "2023-03-16T12:44:53.007Z"
   },
   {
    "duration": 397,
    "start_time": "2023-03-16T12:45:24.244Z"
   },
   {
    "duration": 3,
    "start_time": "2023-03-16T12:45:31.091Z"
   },
   {
    "duration": 3,
    "start_time": "2023-03-16T12:46:21.602Z"
   },
   {
    "duration": 2,
    "start_time": "2023-03-16T12:46:27.322Z"
   },
   {
    "duration": 471,
    "start_time": "2023-03-16T12:46:36.626Z"
   },
   {
    "duration": 3,
    "start_time": "2023-03-16T12:46:40.274Z"
   },
   {
    "duration": 396,
    "start_time": "2023-03-16T12:46:40.755Z"
   },
   {
    "duration": 438,
    "start_time": "2023-03-16T12:47:06.886Z"
   },
   {
    "duration": 3,
    "start_time": "2023-03-16T12:49:48.179Z"
   },
   {
    "duration": 3,
    "start_time": "2023-03-16T12:49:48.912Z"
   },
   {
    "duration": 3,
    "start_time": "2023-03-16T12:49:49.195Z"
   },
   {
    "duration": 19,
    "start_time": "2023-03-16T12:49:49.816Z"
   },
   {
    "duration": 6,
    "start_time": "2023-03-16T12:49:50.218Z"
   },
   {
    "duration": 3,
    "start_time": "2023-03-16T12:49:51.707Z"
   },
   {
    "duration": 395,
    "start_time": "2023-03-16T12:49:53.071Z"
   },
   {
    "duration": 37,
    "start_time": "2023-03-16T12:55:44.672Z"
   },
   {
    "duration": 96,
    "start_time": "2023-03-16T12:55:58.508Z"
   },
   {
    "duration": 12,
    "start_time": "2023-03-16T12:56:06.193Z"
   },
   {
    "duration": 3297,
    "start_time": "2023-03-16T12:56:11.173Z"
   },
   {
    "duration": 18,
    "start_time": "2023-03-16T12:58:16.105Z"
   },
   {
    "duration": 9,
    "start_time": "2023-03-16T12:58:24.628Z"
   },
   {
    "duration": 712,
    "start_time": "2023-03-16T12:58:24.751Z"
   },
   {
    "duration": 3,
    "start_time": "2023-03-16T12:58:25.465Z"
   },
   {
    "duration": 273,
    "start_time": "2023-03-16T12:58:25.470Z"
   },
   {
    "duration": 14,
    "start_time": "2023-03-16T12:58:25.746Z"
   },
   {
    "duration": 19,
    "start_time": "2023-03-16T12:58:25.762Z"
   },
   {
    "duration": 21,
    "start_time": "2023-03-16T12:58:25.783Z"
   },
   {
    "duration": 26,
    "start_time": "2023-03-16T12:58:25.867Z"
   },
   {
    "duration": 24,
    "start_time": "2023-03-16T12:58:26.144Z"
   },
   {
    "duration": 18,
    "start_time": "2023-03-16T12:58:26.286Z"
   },
   {
    "duration": 8,
    "start_time": "2023-03-16T12:58:26.726Z"
   },
   {
    "duration": 6,
    "start_time": "2023-03-16T12:58:27.183Z"
   },
   {
    "duration": 8,
    "start_time": "2023-03-16T12:58:27.343Z"
   },
   {
    "duration": 980,
    "start_time": "2023-03-16T12:58:27.802Z"
   },
   {
    "duration": 531,
    "start_time": "2023-03-16T12:58:28.784Z"
   },
   {
    "duration": 21,
    "start_time": "2023-03-16T12:58:29.316Z"
   },
   {
    "duration": 343,
    "start_time": "2023-03-16T12:58:29.338Z"
   },
   {
    "duration": 12,
    "start_time": "2023-03-16T12:58:29.952Z"
   },
   {
    "duration": 30,
    "start_time": "2023-03-16T12:58:30.850Z"
   },
   {
    "duration": 12,
    "start_time": "2023-03-16T12:58:31.203Z"
   },
   {
    "duration": 4,
    "start_time": "2023-03-16T12:58:31.951Z"
   },
   {
    "duration": 2,
    "start_time": "2023-03-16T12:58:32.589Z"
   },
   {
    "duration": 3,
    "start_time": "2023-03-16T12:58:33.067Z"
   },
   {
    "duration": 36,
    "start_time": "2023-03-16T12:58:34.315Z"
   },
   {
    "duration": 15,
    "start_time": "2023-03-16T12:58:54.294Z"
   },
   {
    "duration": 17,
    "start_time": "2023-03-16T12:59:01.025Z"
   },
   {
    "duration": 498,
    "start_time": "2023-03-16T12:59:02.571Z"
   },
   {
    "duration": 4,
    "start_time": "2023-03-16T12:59:13.775Z"
   },
   {
    "duration": 14,
    "start_time": "2023-03-16T12:59:45.466Z"
   },
   {
    "duration": 6,
    "start_time": "2023-03-16T12:59:48.248Z"
   },
   {
    "duration": 397,
    "start_time": "2023-03-16T12:59:48.878Z"
   },
   {
    "duration": 4,
    "start_time": "2023-03-16T12:59:56.449Z"
   },
   {
    "duration": 20,
    "start_time": "2023-03-16T13:01:56.898Z"
   },
   {
    "duration": 14,
    "start_time": "2023-03-16T13:02:11.775Z"
   },
   {
    "duration": 5,
    "start_time": "2023-03-16T13:02:15.536Z"
   },
   {
    "duration": 405,
    "start_time": "2023-03-16T13:02:16.723Z"
   },
   {
    "duration": 3,
    "start_time": "2023-03-16T13:03:53.843Z"
   },
   {
    "duration": 642,
    "start_time": "2023-03-16T13:03:54.443Z"
   },
   {
    "duration": 4,
    "start_time": "2023-03-16T13:03:55.538Z"
   },
   {
    "duration": 249,
    "start_time": "2023-03-16T13:03:56.830Z"
   },
   {
    "duration": 15,
    "start_time": "2023-03-16T13:03:58.252Z"
   },
   {
    "duration": 23,
    "start_time": "2023-03-16T13:04:04.019Z"
   },
   {
    "duration": 28,
    "start_time": "2023-03-16T13:04:15.125Z"
   },
   {
    "duration": 22,
    "start_time": "2023-03-16T13:04:15.292Z"
   },
   {
    "duration": 7,
    "start_time": "2023-03-16T13:04:15.788Z"
   },
   {
    "duration": 6,
    "start_time": "2023-03-16T13:04:16.286Z"
   },
   {
    "duration": 9,
    "start_time": "2023-03-16T13:04:16.467Z"
   },
   {
    "duration": 948,
    "start_time": "2023-03-16T13:04:16.993Z"
   },
   {
    "duration": 552,
    "start_time": "2023-03-16T13:04:17.943Z"
   },
   {
    "duration": 8,
    "start_time": "2023-03-16T13:04:18.497Z"
   },
   {
    "duration": 416,
    "start_time": "2023-03-16T13:04:18.507Z"
   },
   {
    "duration": 14,
    "start_time": "2023-03-16T13:04:18.925Z"
   },
   {
    "duration": 65,
    "start_time": "2023-03-16T13:04:18.940Z"
   },
   {
    "duration": 15,
    "start_time": "2023-03-16T13:04:19.007Z"
   },
   {
    "duration": 4,
    "start_time": "2023-03-16T13:04:19.164Z"
   },
   {
    "duration": 2,
    "start_time": "2023-03-16T13:04:19.287Z"
   },
   {
    "duration": 6,
    "start_time": "2023-03-16T13:04:19.435Z"
   },
   {
    "duration": 9,
    "start_time": "2023-03-16T13:04:19.737Z"
   },
   {
    "duration": 6,
    "start_time": "2023-03-16T13:04:19.903Z"
   },
   {
    "duration": 24161,
    "start_time": "2023-03-16T13:04:22.220Z"
   },
   {
    "duration": 3,
    "start_time": "2023-03-16T13:04:49.436Z"
   },
   {
    "duration": 205609,
    "start_time": "2023-03-16T13:05:02.478Z"
   },
   {
    "duration": 24838,
    "start_time": "2023-03-16T13:08:35.466Z"
   },
   {
    "duration": 4,
    "start_time": "2023-03-16T13:09:00.306Z"
   },
   {
    "duration": 24888,
    "start_time": "2023-03-16T13:09:56.479Z"
   },
   {
    "duration": 43247,
    "start_time": "2023-03-16T13:10:21.369Z"
   },
   {
    "duration": 759698,
    "start_time": "2023-03-16T13:12:30.915Z"
   },
   {
    "duration": 80,
    "start_time": "2023-03-16T13:25:10.615Z"
   },
   {
    "duration": 4,
    "start_time": "2023-03-16T13:34:49.191Z"
   },
   {
    "duration": 13,
    "start_time": "2023-03-16T13:35:48.507Z"
   },
   {
    "duration": 18859,
    "start_time": "2023-03-16T13:36:01.483Z"
   },
   {
    "duration": 0,
    "start_time": "2023-03-16T13:36:20.346Z"
   },
   {
    "duration": 295600,
    "start_time": "2023-03-16T13:36:22.550Z"
   },
   {
    "duration": 119,
    "start_time": "2023-03-16T13:41:18.152Z"
   },
   {
    "duration": 4,
    "start_time": "2023-03-16T14:09:50.784Z"
   },
   {
    "duration": 3330,
    "start_time": "2023-03-16T14:10:45.312Z"
   },
   {
    "duration": 5,
    "start_time": "2023-03-16T14:10:48.732Z"
   },
   {
    "duration": 14,
    "start_time": "2023-03-16T14:15:40.082Z"
   },
   {
    "duration": 4,
    "start_time": "2023-03-16T14:15:59.030Z"
   },
   {
    "duration": 726,
    "start_time": "2023-03-16T14:15:59.623Z"
   },
   {
    "duration": 3,
    "start_time": "2023-03-16T14:16:00.351Z"
   },
   {
    "duration": 260,
    "start_time": "2023-03-16T14:16:01.048Z"
   },
   {
    "duration": 14,
    "start_time": "2023-03-16T14:16:02.525Z"
   },
   {
    "duration": 22,
    "start_time": "2023-03-16T14:16:03.473Z"
   },
   {
    "duration": 29,
    "start_time": "2023-03-16T14:16:09.127Z"
   },
   {
    "duration": 29,
    "start_time": "2023-03-16T14:16:10.437Z"
   },
   {
    "duration": 24,
    "start_time": "2023-03-16T14:16:11.574Z"
   },
   {
    "duration": 7,
    "start_time": "2023-03-16T14:16:12.596Z"
   },
   {
    "duration": 7,
    "start_time": "2023-03-16T14:16:13.096Z"
   },
   {
    "duration": 9,
    "start_time": "2023-03-16T14:16:13.256Z"
   },
   {
    "duration": 976,
    "start_time": "2023-03-16T14:16:13.736Z"
   },
   {
    "duration": 552,
    "start_time": "2023-03-16T14:16:14.713Z"
   },
   {
    "duration": 8,
    "start_time": "2023-03-16T14:16:15.829Z"
   },
   {
    "duration": 338,
    "start_time": "2023-03-16T14:16:16.490Z"
   },
   {
    "duration": 12,
    "start_time": "2023-03-16T14:16:17.683Z"
   },
   {
    "duration": 38,
    "start_time": "2023-03-16T14:16:18.677Z"
   },
   {
    "duration": 12,
    "start_time": "2023-03-16T14:16:18.873Z"
   },
   {
    "duration": 4,
    "start_time": "2023-03-16T14:16:20.415Z"
   },
   {
    "duration": 2,
    "start_time": "2023-03-16T14:16:20.722Z"
   },
   {
    "duration": 3,
    "start_time": "2023-03-16T14:16:21.075Z"
   },
   {
    "duration": 9,
    "start_time": "2023-03-16T14:16:23.943Z"
   },
   {
    "duration": 5,
    "start_time": "2023-03-16T14:16:36.515Z"
   },
   {
    "duration": 14,
    "start_time": "2023-03-16T14:16:41.230Z"
   },
   {
    "duration": 4,
    "start_time": "2023-03-16T14:17:59.777Z"
   },
   {
    "duration": 730,
    "start_time": "2023-03-16T14:18:00.134Z"
   },
   {
    "duration": 4,
    "start_time": "2023-03-16T14:18:00.866Z"
   },
   {
    "duration": 283,
    "start_time": "2023-03-16T14:18:00.871Z"
   },
   {
    "duration": 19,
    "start_time": "2023-03-16T14:18:01.156Z"
   },
   {
    "duration": 22,
    "start_time": "2023-03-16T14:18:02.595Z"
   },
   {
    "duration": 32,
    "start_time": "2023-03-16T14:18:07.599Z"
   },
   {
    "duration": 32,
    "start_time": "2023-03-16T14:18:07.970Z"
   },
   {
    "duration": 23,
    "start_time": "2023-03-16T14:18:08.134Z"
   },
   {
    "duration": 6,
    "start_time": "2023-03-16T14:18:08.640Z"
   },
   {
    "duration": 6,
    "start_time": "2023-03-16T14:18:09.135Z"
   },
   {
    "duration": 9,
    "start_time": "2023-03-16T14:18:10.049Z"
   },
   {
    "duration": 1019,
    "start_time": "2023-03-16T14:18:11.069Z"
   },
   {
    "duration": 643,
    "start_time": "2023-03-16T14:18:12.091Z"
   },
   {
    "duration": 8,
    "start_time": "2023-03-16T14:18:12.735Z"
   },
   {
    "duration": 355,
    "start_time": "2023-03-16T14:18:12.745Z"
   },
   {
    "duration": 12,
    "start_time": "2023-03-16T14:18:13.101Z"
   },
   {
    "duration": 44,
    "start_time": "2023-03-16T14:18:13.114Z"
   },
   {
    "duration": 11,
    "start_time": "2023-03-16T14:18:13.160Z"
   },
   {
    "duration": 5,
    "start_time": "2023-03-16T14:18:14.283Z"
   },
   {
    "duration": 3,
    "start_time": "2023-03-16T14:18:14.619Z"
   },
   {
    "duration": 3,
    "start_time": "2023-03-16T14:18:14.852Z"
   },
   {
    "duration": 8,
    "start_time": "2023-03-16T14:18:26.446Z"
   },
   {
    "duration": 15,
    "start_time": "2023-03-16T14:18:36.275Z"
   },
   {
    "duration": 4,
    "start_time": "2023-03-16T14:22:54.425Z"
   },
   {
    "duration": 734,
    "start_time": "2023-03-16T14:22:54.602Z"
   },
   {
    "duration": 3,
    "start_time": "2023-03-16T14:22:55.339Z"
   },
   {
    "duration": 282,
    "start_time": "2023-03-16T14:22:55.344Z"
   },
   {
    "duration": 17,
    "start_time": "2023-03-16T14:22:55.631Z"
   },
   {
    "duration": 29,
    "start_time": "2023-03-16T14:22:55.650Z"
   },
   {
    "duration": 16,
    "start_time": "2023-03-16T14:23:01.487Z"
   },
   {
    "duration": 3,
    "start_time": "2023-03-16T14:23:30.060Z"
   },
   {
    "duration": 678,
    "start_time": "2023-03-16T14:23:30.409Z"
   },
   {
    "duration": 3,
    "start_time": "2023-03-16T14:23:31.089Z"
   },
   {
    "duration": 258,
    "start_time": "2023-03-16T14:23:31.342Z"
   },
   {
    "duration": 14,
    "start_time": "2023-03-16T14:23:31.795Z"
   },
   {
    "duration": 20,
    "start_time": "2023-03-16T14:23:32.399Z"
   },
   {
    "duration": 21,
    "start_time": "2023-03-16T14:23:34.291Z"
   },
   {
    "duration": 3,
    "start_time": "2023-03-16T14:23:57.009Z"
   },
   {
    "duration": 674,
    "start_time": "2023-03-16T14:23:58.539Z"
   },
   {
    "duration": 3,
    "start_time": "2023-03-16T14:23:59.289Z"
   },
   {
    "duration": 245,
    "start_time": "2023-03-16T14:24:00.214Z"
   },
   {
    "duration": 15,
    "start_time": "2023-03-16T14:24:02.179Z"
   },
   {
    "duration": 20,
    "start_time": "2023-03-16T14:24:03.416Z"
   },
   {
    "duration": 28,
    "start_time": "2023-03-16T14:24:10.491Z"
   },
   {
    "duration": 31,
    "start_time": "2023-03-16T14:24:11.475Z"
   },
   {
    "duration": 20,
    "start_time": "2023-03-16T14:24:11.967Z"
   },
   {
    "duration": 7,
    "start_time": "2023-03-16T14:24:12.918Z"
   },
   {
    "duration": 7,
    "start_time": "2023-03-16T14:24:13.792Z"
   },
   {
    "duration": 8,
    "start_time": "2023-03-16T14:24:14.071Z"
   },
   {
    "duration": 941,
    "start_time": "2023-03-16T14:24:14.908Z"
   },
   {
    "duration": 550,
    "start_time": "2023-03-16T14:24:15.852Z"
   },
   {
    "duration": 9,
    "start_time": "2023-03-16T14:24:17.088Z"
   },
   {
    "duration": 325,
    "start_time": "2023-03-16T14:24:17.286Z"
   },
   {
    "duration": 17,
    "start_time": "2023-03-16T14:24:17.613Z"
   },
   {
    "duration": 32,
    "start_time": "2023-03-16T14:24:17.749Z"
   },
   {
    "duration": 12,
    "start_time": "2023-03-16T14:24:17.931Z"
   },
   {
    "duration": 3,
    "start_time": "2023-03-16T14:24:19.365Z"
   },
   {
    "duration": 3,
    "start_time": "2023-03-16T14:24:19.743Z"
   },
   {
    "duration": 3,
    "start_time": "2023-03-16T14:24:20.195Z"
   },
   {
    "duration": 9,
    "start_time": "2023-03-16T14:24:34.251Z"
   },
   {
    "duration": 12,
    "start_time": "2023-03-16T14:24:43.397Z"
   },
   {
    "duration": 14,
    "start_time": "2023-03-16T14:28:02.542Z"
   },
   {
    "duration": 13,
    "start_time": "2023-03-16T14:28:08.707Z"
   },
   {
    "duration": 17,
    "start_time": "2023-03-16T14:28:16.559Z"
   },
   {
    "duration": 4,
    "start_time": "2023-03-16T14:32:36.423Z"
   },
   {
    "duration": 722,
    "start_time": "2023-03-16T14:32:36.584Z"
   },
   {
    "duration": 3,
    "start_time": "2023-03-16T14:32:37.308Z"
   },
   {
    "duration": 251,
    "start_time": "2023-03-16T14:32:37.313Z"
   },
   {
    "duration": 13,
    "start_time": "2023-03-16T14:32:37.565Z"
   },
   {
    "duration": 22,
    "start_time": "2023-03-16T14:32:37.779Z"
   },
   {
    "duration": 15,
    "start_time": "2023-03-16T14:32:38.714Z"
   },
   {
    "duration": 30,
    "start_time": "2023-03-16T14:32:40.089Z"
   },
   {
    "duration": 25,
    "start_time": "2023-03-16T14:32:40.917Z"
   },
   {
    "duration": 19,
    "start_time": "2023-03-16T14:32:41.257Z"
   },
   {
    "duration": 8,
    "start_time": "2023-03-16T14:32:49.558Z"
   },
   {
    "duration": 5,
    "start_time": "2023-03-16T14:32:53.183Z"
   },
   {
    "duration": 8,
    "start_time": "2023-03-16T14:32:54.195Z"
   },
   {
    "duration": 9,
    "start_time": "2023-03-16T14:34:01.561Z"
   },
   {
    "duration": 10,
    "start_time": "2023-03-16T14:36:51.639Z"
   },
   {
    "duration": 957,
    "start_time": "2023-03-16T14:37:02.556Z"
   },
   {
    "duration": 654,
    "start_time": "2023-03-16T14:37:03.515Z"
   },
   {
    "duration": 8,
    "start_time": "2023-03-16T14:37:04.171Z"
   },
   {
    "duration": 358,
    "start_time": "2023-03-16T14:37:04.181Z"
   },
   {
    "duration": 11,
    "start_time": "2023-03-16T14:37:04.541Z"
   },
   {
    "duration": 35,
    "start_time": "2023-03-16T14:37:04.554Z"
   },
   {
    "duration": 11,
    "start_time": "2023-03-16T14:37:04.591Z"
   },
   {
    "duration": 3,
    "start_time": "2023-03-16T14:37:05.086Z"
   },
   {
    "duration": 3,
    "start_time": "2023-03-16T14:37:05.458Z"
   },
   {
    "duration": 3,
    "start_time": "2023-03-16T14:37:05.682Z"
   },
   {
    "duration": 8,
    "start_time": "2023-03-16T14:37:06.006Z"
   },
   {
    "duration": 5,
    "start_time": "2023-03-16T14:37:06.180Z"
   },
   {
    "duration": 22527,
    "start_time": "2023-03-16T14:37:07.388Z"
   },
   {
    "duration": 4,
    "start_time": "2023-03-16T14:37:29.917Z"
   },
   {
    "duration": 5397,
    "start_time": "2023-03-16T14:37:29.922Z"
   },
   {
    "duration": 4,
    "start_time": "2023-03-16T14:37:35.321Z"
   },
   {
    "duration": 2509,
    "start_time": "2023-03-16T14:37:35.327Z"
   },
   {
    "duration": 93,
    "start_time": "2023-03-16T14:37:37.839Z"
   },
   {
    "duration": 23,
    "start_time": "2023-03-16T14:38:37.918Z"
   },
   {
    "duration": 13,
    "start_time": "2023-03-16T14:38:45.715Z"
   },
   {
    "duration": 12,
    "start_time": "2023-03-16T14:38:49.727Z"
   },
   {
    "duration": 13,
    "start_time": "2023-03-16T14:39:36.328Z"
   },
   {
    "duration": 1567,
    "start_time": "2023-03-16T14:39:59.193Z"
   },
   {
    "duration": 739,
    "start_time": "2023-03-16T14:40:00.762Z"
   },
   {
    "duration": 3,
    "start_time": "2023-03-16T14:40:01.503Z"
   },
   {
    "duration": 254,
    "start_time": "2023-03-16T14:40:02.314Z"
   },
   {
    "duration": 16,
    "start_time": "2023-03-16T14:40:02.887Z"
   },
   {
    "duration": 23,
    "start_time": "2023-03-16T14:40:03.636Z"
   },
   {
    "duration": 24,
    "start_time": "2023-03-16T14:40:04.884Z"
   },
   {
    "duration": 30,
    "start_time": "2023-03-16T14:40:06.381Z"
   },
   {
    "duration": 32,
    "start_time": "2023-03-16T14:40:07.204Z"
   },
   {
    "duration": 24,
    "start_time": "2023-03-16T14:40:07.709Z"
   },
   {
    "duration": 8,
    "start_time": "2023-03-16T14:40:10.750Z"
   },
   {
    "duration": 7,
    "start_time": "2023-03-16T14:40:11.539Z"
   },
   {
    "duration": 7,
    "start_time": "2023-03-16T14:40:11.730Z"
   },
   {
    "duration": 11,
    "start_time": "2023-03-16T14:40:13.152Z"
   },
   {
    "duration": 1023,
    "start_time": "2023-03-16T14:40:20.074Z"
   },
   {
    "duration": 593,
    "start_time": "2023-03-16T14:40:22.114Z"
   },
   {
    "duration": 9,
    "start_time": "2023-03-16T14:40:22.709Z"
   },
   {
    "duration": 362,
    "start_time": "2023-03-16T14:40:22.776Z"
   },
   {
    "duration": 12,
    "start_time": "2023-03-16T14:40:23.140Z"
   },
   {
    "duration": 48,
    "start_time": "2023-03-16T14:40:23.245Z"
   },
   {
    "duration": 13,
    "start_time": "2023-03-16T14:40:23.419Z"
   },
   {
    "duration": 4,
    "start_time": "2023-03-16T14:40:23.878Z"
   },
   {
    "duration": 3,
    "start_time": "2023-03-16T14:40:24.029Z"
   },
   {
    "duration": 3,
    "start_time": "2023-03-16T14:40:24.200Z"
   },
   {
    "duration": 7,
    "start_time": "2023-03-16T14:40:25.579Z"
   },
   {
    "duration": 7,
    "start_time": "2023-03-16T14:40:26.642Z"
   },
   {
    "duration": 3158,
    "start_time": "2023-03-16T14:40:36.677Z"
   },
   {
    "duration": 5,
    "start_time": "2023-03-16T14:40:43.159Z"
   },
   {
    "duration": 8,
    "start_time": "2023-03-16T14:40:47.588Z"
   },
   {
    "duration": 206,
    "start_time": "2023-03-16T14:43:47.906Z"
   },
   {
    "duration": 2531567,
    "start_time": "2023-03-16T14:44:06.063Z"
   },
   {
    "duration": 5,
    "start_time": "2023-03-16T15:26:17.633Z"
   },
   {
    "duration": 9603,
    "start_time": "2023-03-16T15:31:45.763Z"
   },
   {
    "duration": 4,
    "start_time": "2023-03-16T15:31:55.368Z"
   },
   {
    "duration": 2576,
    "start_time": "2023-03-16T15:32:25.762Z"
   },
   {
    "duration": 91,
    "start_time": "2023-03-16T15:32:28.342Z"
   },
   {
    "duration": 26,
    "start_time": "2023-03-16T15:33:24.225Z"
   },
   {
    "duration": 14,
    "start_time": "2023-03-16T15:33:44.130Z"
   },
   {
    "duration": 5,
    "start_time": "2023-03-16T15:33:45.055Z"
   },
   {
    "duration": 24801,
    "start_time": "2023-03-16T15:33:50.748Z"
   },
   {
    "duration": 4,
    "start_time": "2023-03-16T15:34:15.552Z"
   },
   {
    "duration": 2534,
    "start_time": "2023-03-16T15:34:15.597Z"
   },
   {
    "duration": 3,
    "start_time": "2023-03-16T15:34:18.133Z"
   },
   {
    "duration": 2515731,
    "start_time": "2023-03-16T15:34:27.584Z"
   },
   {
    "duration": 4,
    "start_time": "2023-03-16T16:16:23.317Z"
   },
   {
    "duration": 3273843,
    "start_time": "2023-03-16T16:16:24.998Z"
   },
   {
    "duration": 3,
    "start_time": "2023-03-16T17:10:58.843Z"
   },
   {
    "duration": 14,
    "start_time": "2023-03-16T17:13:18.210Z"
   },
   {
    "duration": 53496,
    "start_time": "2023-03-16T17:13:51.468Z"
   },
   {
    "duration": 4,
    "start_time": "2023-03-16T17:14:44.965Z"
   },
   {
    "duration": 3,
    "start_time": "2023-03-16T17:14:59.091Z"
   },
   {
    "duration": 1291,
    "start_time": "2023-03-16T17:15:42.889Z"
   },
   {
    "duration": 765,
    "start_time": "2023-03-16T17:15:44.637Z"
   },
   {
    "duration": 4,
    "start_time": "2023-03-16T17:15:45.613Z"
   },
   {
    "duration": 248,
    "start_time": "2023-03-16T17:15:47.157Z"
   },
   {
    "duration": 15,
    "start_time": "2023-03-16T17:15:48.645Z"
   },
   {
    "duration": 22,
    "start_time": "2023-03-16T17:15:50.049Z"
   },
   {
    "duration": 30,
    "start_time": "2023-03-16T17:15:55.384Z"
   },
   {
    "duration": 35,
    "start_time": "2023-03-16T17:15:56.883Z"
   },
   {
    "duration": 25,
    "start_time": "2023-03-16T17:15:57.091Z"
   },
   {
    "duration": 7,
    "start_time": "2023-03-16T17:15:57.935Z"
   },
   {
    "duration": 6,
    "start_time": "2023-03-16T17:15:58.399Z"
   },
   {
    "duration": 7,
    "start_time": "2023-03-16T17:15:58.567Z"
   },
   {
    "duration": 14,
    "start_time": "2023-03-16T17:15:58.850Z"
   },
   {
    "duration": 962,
    "start_time": "2023-03-16T17:16:00.209Z"
   },
   {
    "duration": 579,
    "start_time": "2023-03-16T17:16:01.174Z"
   },
   {
    "duration": 8,
    "start_time": "2023-03-16T17:16:01.937Z"
   },
   {
    "duration": 361,
    "start_time": "2023-03-16T17:16:02.454Z"
   },
   {
    "duration": 11,
    "start_time": "2023-03-16T17:16:02.933Z"
   },
   {
    "duration": 41,
    "start_time": "2023-03-16T17:16:03.677Z"
   },
   {
    "duration": 12,
    "start_time": "2023-03-16T17:16:03.977Z"
   },
   {
    "duration": 3,
    "start_time": "2023-03-16T17:16:04.632Z"
   },
   {
    "duration": 3,
    "start_time": "2023-03-16T17:16:05.362Z"
   },
   {
    "duration": 3,
    "start_time": "2023-03-16T17:16:05.756Z"
   },
   {
    "duration": 8,
    "start_time": "2023-03-16T17:16:11.274Z"
   },
   {
    "duration": 7,
    "start_time": "2023-03-16T17:16:29.368Z"
   },
   {
    "duration": 19645,
    "start_time": "2023-03-16T17:16:32.177Z"
   },
   {
    "duration": 8,
    "start_time": "2023-03-16T17:16:51.823Z"
   },
   {
    "duration": 3,
    "start_time": "2023-03-16T17:27:29.441Z"
   },
   {
    "duration": 2,
    "start_time": "2023-03-16T17:28:43.168Z"
   },
   {
    "duration": 6,
    "start_time": "2023-03-16T17:30:00.656Z"
   },
   {
    "duration": 8,
    "start_time": "2023-03-16T17:32:13.477Z"
   },
   {
    "duration": 495,
    "start_time": "2023-03-16T17:35:48.044Z"
   },
   {
    "duration": 956,
    "start_time": "2023-03-16T17:36:04.842Z"
   },
   {
    "duration": 10,
    "start_time": "2023-03-16T17:53:22.088Z"
   },
   {
    "duration": 10,
    "start_time": "2023-03-16T17:53:46.674Z"
   },
   {
    "duration": 11,
    "start_time": "2023-03-16T18:00:23.053Z"
   },
   {
    "duration": 6,
    "start_time": "2023-03-16T18:07:04.763Z"
   },
   {
    "duration": 12,
    "start_time": "2023-03-16T18:07:08.099Z"
   },
   {
    "duration": 0,
    "start_time": "2023-03-17T13:54:43.231Z"
   },
   {
    "duration": 18,
    "start_time": "2023-03-17T13:54:45.477Z"
   },
   {
    "duration": 1789,
    "start_time": "2023-03-18T04:20:12.896Z"
   },
   {
    "duration": 3116,
    "start_time": "2023-03-18T04:20:14.687Z"
   },
   {
    "duration": 3,
    "start_time": "2023-03-18T04:20:17.805Z"
   },
   {
    "duration": 350,
    "start_time": "2023-03-18T04:20:17.811Z"
   },
   {
    "duration": 37,
    "start_time": "2023-03-18T04:20:18.164Z"
   },
   {
    "duration": 34,
    "start_time": "2023-03-18T04:20:18.206Z"
   },
   {
    "duration": 19,
    "start_time": "2023-03-18T04:20:18.242Z"
   },
   {
    "duration": 33,
    "start_time": "2023-03-18T04:20:24.296Z"
   },
   {
    "duration": 37,
    "start_time": "2023-03-18T04:20:30.557Z"
   },
   {
    "duration": 39,
    "start_time": "2023-03-18T04:20:34.565Z"
   },
   {
    "duration": 28,
    "start_time": "2023-03-18T04:20:35.206Z"
   },
   {
    "duration": 9,
    "start_time": "2023-03-18T04:20:39.229Z"
   },
   {
    "duration": 9,
    "start_time": "2023-03-18T04:20:43.253Z"
   },
   {
    "duration": 9,
    "start_time": "2023-03-18T04:20:43.968Z"
   },
   {
    "duration": 11,
    "start_time": "2023-03-18T04:20:46.367Z"
   },
   {
    "duration": 1210,
    "start_time": "2023-03-18T04:20:52.013Z"
   },
   {
    "duration": 1258,
    "start_time": "2023-03-18T04:20:53.225Z"
   },
   {
    "duration": 14,
    "start_time": "2023-03-18T04:20:54.491Z"
   },
   {
    "duration": 395,
    "start_time": "2023-03-18T04:20:54.509Z"
   },
   {
    "duration": 12,
    "start_time": "2023-03-18T04:20:54.906Z"
   },
   {
    "duration": 42,
    "start_time": "2023-03-18T04:20:55.031Z"
   },
   {
    "duration": 16,
    "start_time": "2023-03-18T04:20:55.838Z"
   },
   {
    "duration": 4,
    "start_time": "2023-03-18T04:21:00.299Z"
   },
   {
    "duration": 7,
    "start_time": "2023-03-18T04:21:00.687Z"
   },
   {
    "duration": 4,
    "start_time": "2023-03-18T04:21:01.034Z"
   },
   {
    "duration": 12,
    "start_time": "2023-03-18T04:21:15.275Z"
   },
   {
    "duration": 18,
    "start_time": "2023-03-18T04:21:24.771Z"
   },
   {
    "duration": 275,
    "start_time": "2023-03-18T04:27:46.413Z"
   },
   {
    "duration": 1718,
    "start_time": "2023-03-18T04:28:14.142Z"
   },
   {
    "duration": 899,
    "start_time": "2023-03-18T04:28:16.353Z"
   },
   {
    "duration": 4,
    "start_time": "2023-03-18T04:28:17.254Z"
   },
   {
    "duration": 322,
    "start_time": "2023-03-18T04:28:17.881Z"
   },
   {
    "duration": 28,
    "start_time": "2023-03-18T04:28:18.975Z"
   },
   {
    "duration": 33,
    "start_time": "2023-03-18T04:28:19.805Z"
   },
   {
    "duration": 34,
    "start_time": "2023-03-18T04:28:29.223Z"
   },
   {
    "duration": 55,
    "start_time": "2023-03-18T04:28:33.074Z"
   },
   {
    "duration": 41,
    "start_time": "2023-03-18T04:28:33.977Z"
   },
   {
    "duration": 15,
    "start_time": "2023-03-18T04:28:36.016Z"
   },
   {
    "duration": 8,
    "start_time": "2023-03-18T04:28:37.342Z"
   },
   {
    "duration": 10,
    "start_time": "2023-03-18T04:28:37.886Z"
   },
   {
    "duration": 21,
    "start_time": "2023-03-18T04:28:38.583Z"
   },
   {
    "duration": 1216,
    "start_time": "2023-03-18T04:28:39.801Z"
   },
   {
    "duration": 1243,
    "start_time": "2023-03-18T04:28:41.020Z"
   },
   {
    "duration": 19,
    "start_time": "2023-03-18T04:28:42.266Z"
   },
   {
    "duration": 472,
    "start_time": "2023-03-18T04:28:42.849Z"
   },
   {
    "duration": 17,
    "start_time": "2023-03-18T04:28:43.597Z"
   },
   {
    "duration": 48,
    "start_time": "2023-03-18T04:28:44.723Z"
   },
   {
    "duration": 12,
    "start_time": "2023-03-18T04:28:45.020Z"
   },
   {
    "duration": 5,
    "start_time": "2023-03-18T04:28:46.597Z"
   },
   {
    "duration": 3,
    "start_time": "2023-03-18T04:28:46.945Z"
   },
   {
    "duration": 4,
    "start_time": "2023-03-18T04:28:47.569Z"
   },
   {
    "duration": 10,
    "start_time": "2023-03-18T04:28:57.438Z"
   },
   {
    "duration": 12,
    "start_time": "2023-03-18T04:29:08.353Z"
   },
   {
    "duration": 152,
    "start_time": "2023-03-18T04:29:09.430Z"
   },
   {
    "duration": 24,
    "start_time": "2023-03-18T04:30:04.319Z"
   },
   {
    "duration": 20,
    "start_time": "2023-03-18T04:30:04.758Z"
   },
   {
    "duration": 12,
    "start_time": "2023-03-18T04:30:28.316Z"
   },
   {
    "duration": 23,
    "start_time": "2023-03-18T04:30:31.254Z"
   },
   {
    "duration": 1724,
    "start_time": "2023-03-18T04:31:15.645Z"
   },
   {
    "duration": 847,
    "start_time": "2023-03-18T04:31:17.372Z"
   },
   {
    "duration": 4,
    "start_time": "2023-03-18T04:31:18.221Z"
   },
   {
    "duration": 309,
    "start_time": "2023-03-18T04:31:20.253Z"
   },
   {
    "duration": 23,
    "start_time": "2023-03-18T04:31:23.171Z"
   },
   {
    "duration": 33,
    "start_time": "2023-03-18T04:31:24.505Z"
   },
   {
    "duration": 24,
    "start_time": "2023-03-18T04:31:50.425Z"
   },
   {
    "duration": 28,
    "start_time": "2023-03-18T04:31:51.740Z"
   },
   {
    "duration": 61,
    "start_time": "2023-03-18T04:31:53.779Z"
   },
   {
    "duration": 25,
    "start_time": "2023-03-18T04:31:53.843Z"
   },
   {
    "duration": 12,
    "start_time": "2023-03-18T04:31:55.305Z"
   },
   {
    "duration": 11,
    "start_time": "2023-03-18T04:31:57.009Z"
   },
   {
    "duration": 11,
    "start_time": "2023-03-18T04:31:57.459Z"
   },
   {
    "duration": 19,
    "start_time": "2023-03-18T04:31:58.878Z"
   },
   {
    "duration": 1190,
    "start_time": "2023-03-18T04:32:00.482Z"
   },
   {
    "duration": 1332,
    "start_time": "2023-03-18T04:32:01.681Z"
   },
   {
    "duration": 12,
    "start_time": "2023-03-18T04:32:03.015Z"
   },
   {
    "duration": 425,
    "start_time": "2023-03-18T04:32:03.029Z"
   },
   {
    "duration": 12,
    "start_time": "2023-03-18T04:32:03.456Z"
   },
   {
    "duration": 48,
    "start_time": "2023-03-18T04:32:04.016Z"
   },
   {
    "duration": 16,
    "start_time": "2023-03-18T04:32:04.377Z"
   },
   {
    "duration": 4,
    "start_time": "2023-03-18T04:32:07.301Z"
   },
   {
    "duration": 7,
    "start_time": "2023-03-18T04:32:08.083Z"
   },
   {
    "duration": 3,
    "start_time": "2023-03-18T04:32:08.419Z"
   },
   {
    "duration": 10,
    "start_time": "2023-03-18T04:32:13.621Z"
   },
   {
    "duration": 9,
    "start_time": "2023-03-18T04:32:18.706Z"
   },
   {
    "duration": 12,
    "start_time": "2023-03-18T04:32:28.305Z"
   },
   {
    "duration": 166,
    "start_time": "2023-03-18T04:32:31.780Z"
   },
   {
    "duration": 34,
    "start_time": "2023-03-18T04:37:08.271Z"
   },
   {
    "duration": 19,
    "start_time": "2023-03-18T04:38:13.002Z"
   },
   {
    "duration": 12,
    "start_time": "2023-03-18T04:39:52.696Z"
   },
   {
    "duration": 16,
    "start_time": "2023-03-18T04:39:59.900Z"
   },
   {
    "duration": 17,
    "start_time": "2023-03-18T04:40:02.762Z"
   },
   {
    "duration": 1596,
    "start_time": "2023-03-18T04:40:55.970Z"
   },
   {
    "duration": 826,
    "start_time": "2023-03-18T04:40:57.568Z"
   },
   {
    "duration": 4,
    "start_time": "2023-03-18T04:40:58.399Z"
   },
   {
    "duration": 305,
    "start_time": "2023-03-18T04:40:58.406Z"
   },
   {
    "duration": 17,
    "start_time": "2023-03-18T04:40:58.713Z"
   },
   {
    "duration": 52,
    "start_time": "2023-03-18T04:40:58.732Z"
   },
   {
    "duration": 27,
    "start_time": "2023-03-18T04:40:58.793Z"
   },
   {
    "duration": 56,
    "start_time": "2023-03-18T04:41:00.340Z"
   },
   {
    "duration": 58,
    "start_time": "2023-03-18T04:41:00.627Z"
   },
   {
    "duration": 39,
    "start_time": "2023-03-18T04:41:00.781Z"
   },
   {
    "duration": 12,
    "start_time": "2023-03-18T04:41:01.166Z"
   },
   {
    "duration": 15,
    "start_time": "2023-03-18T04:41:01.576Z"
   },
   {
    "duration": 15,
    "start_time": "2023-03-18T04:41:01.731Z"
   },
   {
    "duration": 23,
    "start_time": "2023-03-18T04:41:02.028Z"
   },
   {
    "duration": 1170,
    "start_time": "2023-03-18T04:41:02.536Z"
   },
   {
    "duration": 1233,
    "start_time": "2023-03-18T04:41:03.708Z"
   },
   {
    "duration": 12,
    "start_time": "2023-03-18T04:41:06.068Z"
   },
   {
    "duration": 410,
    "start_time": "2023-03-18T04:41:06.598Z"
   },
   {
    "duration": 13,
    "start_time": "2023-03-18T04:41:07.098Z"
   },
   {
    "duration": 61,
    "start_time": "2023-03-18T04:41:08.028Z"
   },
   {
    "duration": 16,
    "start_time": "2023-03-18T04:41:08.430Z"
   },
   {
    "duration": 4,
    "start_time": "2023-03-18T04:41:16.728Z"
   },
   {
    "duration": 3,
    "start_time": "2023-03-18T04:41:17.044Z"
   },
   {
    "duration": 3,
    "start_time": "2023-03-18T04:41:17.362Z"
   },
   {
    "duration": 6,
    "start_time": "2023-03-18T04:41:32.874Z"
   },
   {
    "duration": 13,
    "start_time": "2023-03-18T04:41:54.413Z"
   },
   {
    "duration": 14491,
    "start_time": "2023-03-18T04:41:55.994Z"
   },
   {
    "duration": 8,
    "start_time": "2023-03-18T04:42:10.493Z"
   },
   {
    "duration": 2476,
    "start_time": "2023-05-16T10:25:00.498Z"
   },
   {
    "duration": 3143,
    "start_time": "2023-05-16T10:25:02.977Z"
   },
   {
    "duration": 4,
    "start_time": "2023-05-16T10:25:06.122Z"
   },
   {
    "duration": 456,
    "start_time": "2023-05-16T10:25:06.129Z"
   },
   {
    "duration": 20,
    "start_time": "2023-05-16T10:25:06.587Z"
   },
   {
    "duration": 56,
    "start_time": "2023-05-16T10:25:06.610Z"
   },
   {
    "duration": 46,
    "start_time": "2023-05-16T10:25:06.668Z"
   },
   {
    "duration": 32,
    "start_time": "2023-05-16T10:25:09.399Z"
   },
   {
    "duration": 49,
    "start_time": "2023-05-16T10:25:14.156Z"
   },
   {
    "duration": 34,
    "start_time": "2023-05-16T10:25:26.413Z"
   },
   {
    "duration": 5,
    "start_time": "2023-05-16T10:49:59.864Z"
   },
   {
    "duration": 799,
    "start_time": "2023-05-16T10:50:00.010Z"
   },
   {
    "duration": 5,
    "start_time": "2023-05-16T10:50:00.811Z"
   },
   {
    "duration": 371,
    "start_time": "2023-05-16T10:50:00.818Z"
   },
   {
    "duration": 17,
    "start_time": "2023-05-16T10:50:01.192Z"
   },
   {
    "duration": 42,
    "start_time": "2023-05-16T10:50:01.212Z"
   },
   {
    "duration": 40,
    "start_time": "2023-05-16T10:50:01.256Z"
   },
   {
    "duration": 81,
    "start_time": "2023-05-16T10:50:01.298Z"
   },
   {
    "duration": 36,
    "start_time": "2023-05-16T10:50:01.486Z"
   },
   {
    "duration": 25,
    "start_time": "2023-05-16T10:50:01.657Z"
   },
   {
    "duration": 8,
    "start_time": "2023-05-16T10:50:03.941Z"
   },
   {
    "duration": 17,
    "start_time": "2023-05-16T10:50:03.952Z"
   },
   {
    "duration": 6,
    "start_time": "2023-05-16T10:50:04.661Z"
   },
   {
    "duration": 15,
    "start_time": "2023-05-16T10:50:10.260Z"
   },
   {
    "duration": 14,
    "start_time": "2023-05-16T10:50:23.754Z"
   },
   {
    "duration": 13,
    "start_time": "2023-05-16T10:50:24.790Z"
   },
   {
    "duration": 1675,
    "start_time": "2023-06-11T08:39:45.589Z"
   },
   {
    "duration": 3434,
    "start_time": "2023-06-11T08:39:48.867Z"
   },
   {
    "duration": 3,
    "start_time": "2023-06-11T08:39:52.302Z"
   },
   {
    "duration": 249,
    "start_time": "2023-06-11T08:39:52.657Z"
   },
   {
    "duration": 16,
    "start_time": "2023-06-11T08:39:54.660Z"
   },
   {
    "duration": 25,
    "start_time": "2023-06-11T08:39:56.420Z"
   },
   {
    "duration": 15,
    "start_time": "2023-06-11T08:39:59.048Z"
   },
   {
    "duration": 30,
    "start_time": "2023-06-11T08:40:05.676Z"
   },
   {
    "duration": 35,
    "start_time": "2023-06-11T08:40:09.268Z"
   },
   {
    "duration": 22,
    "start_time": "2023-06-11T08:40:10.246Z"
   },
   {
    "duration": 8,
    "start_time": "2023-06-11T08:40:20.161Z"
   },
   {
    "duration": 6,
    "start_time": "2023-06-11T08:40:24.461Z"
   },
   {
    "duration": 9,
    "start_time": "2023-06-11T08:40:25.099Z"
   },
   {
    "duration": 10,
    "start_time": "2023-06-11T08:40:28.173Z"
   },
   {
    "duration": 944,
    "start_time": "2023-06-11T08:40:35.639Z"
   },
   {
    "duration": 1130,
    "start_time": "2023-06-11T08:40:38.110Z"
   },
   {
    "duration": 11,
    "start_time": "2023-06-11T08:40:40.457Z"
   },
   {
    "duration": 384,
    "start_time": "2023-06-11T08:40:41.044Z"
   },
   {
    "duration": 16,
    "start_time": "2023-06-11T08:40:41.534Z"
   },
   {
    "duration": 41,
    "start_time": "2023-06-11T08:40:42.856Z"
   },
   {
    "duration": 13,
    "start_time": "2023-06-11T08:40:43.615Z"
   },
   {
    "duration": 3,
    "start_time": "2023-06-11T08:40:50.950Z"
   },
   {
    "duration": 3,
    "start_time": "2023-06-11T08:40:51.614Z"
   },
   {
    "duration": 3,
    "start_time": "2023-06-11T08:40:52.330Z"
   },
   {
    "duration": 6,
    "start_time": "2023-06-11T08:40:57.848Z"
   },
   {
    "duration": 8,
    "start_time": "2023-06-11T08:40:58.067Z"
   },
   {
    "duration": 22602,
    "start_time": "2023-06-11T08:41:02.230Z"
   },
   {
    "duration": 5949551,
    "start_time": "2023-06-11T08:41:51.882Z"
   }
  ],
  "kernelspec": {
   "display_name": "Python 3 (ipykernel)",
   "language": "python",
   "name": "python3"
  },
  "language_info": {
   "codemirror_mode": {
    "name": "ipython",
    "version": 3
   },
   "file_extension": ".py",
   "mimetype": "text/x-python",
   "name": "python",
   "nbconvert_exporter": "python",
   "pygments_lexer": "ipython3",
   "version": "3.9.5"
  },
  "toc": {
   "base_numbering": 1,
   "nav_menu": {},
   "number_sections": true,
   "sideBar": true,
   "skip_h1_title": true,
   "title_cell": "Содержание",
   "title_sidebar": "Contents",
   "toc_cell": true,
   "toc_position": {
    "height": "calc(100% - 180px)",
    "left": "10px",
    "top": "150px",
    "width": "165px"
   },
   "toc_section_display": true,
   "toc_window_display": true
  }
 },
 "nbformat": 4,
 "nbformat_minor": 2
}
