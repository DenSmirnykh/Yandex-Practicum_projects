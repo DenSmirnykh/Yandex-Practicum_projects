{
 "cells": [
  {
   "cell_type": "markdown",
   "metadata": {
    "toc": true
   },
   "source": [
    "<h1>Содержание<span class=\"tocSkip\"></span></h1>\n",
    "<div class=\"toc\"><ul class=\"toc-item\"><li><span><a href=\"#Подготовка-данных\" data-toc-modified-id=\"Подготовка-данных-1\"><span class=\"toc-item-num\">1&nbsp;&nbsp;</span>Подготовка данных</a></span></li><li><span><a href=\"#Исследование-задачи\" data-toc-modified-id=\"Исследование-задачи-2\"><span class=\"toc-item-num\">2&nbsp;&nbsp;</span>Исследование задачи</a></span></li><li><span><a href=\"#Борьба-с-дисбалансом\" data-toc-modified-id=\"Борьба-с-дисбалансом-3\"><span class=\"toc-item-num\">3&nbsp;&nbsp;</span>Борьба с дисбалансом</a></span></li><li><span><a href=\"#Тестирование-модели\" data-toc-modified-id=\"Тестирование-модели-4\"><span class=\"toc-item-num\">4&nbsp;&nbsp;</span>Тестирование модели</a></span></li></ul></div>"
   ]
  },
  {
   "cell_type": "markdown",
   "metadata": {},
   "source": [
    "# Отток клиентов"
   ]
  },
  {
   "cell_type": "markdown",
   "metadata": {},
   "source": [
    "Из «Бета-Банка» стали уходить клиенты. Каждый месяц. Немного, но заметно. Банковские маркетологи посчитали: сохранять текущих клиентов дешевле, чем привлекать новых.\n",
    "\n",
    "Нужно спрогнозировать, уйдёт клиент из банка в ближайшее время или нет. Для работы были предоставлены исторические данные о поведении клиентов и расторжении договоров с банком. \n",
    "\n",
    "Необходимо постройте модель с предельно большим значением *F1*-меры. Для успешного выполнения задачи, нужно довести метрику до 0.59.\n",
    "\n",
    "Дополнительно измерить *AUC-ROC*, и сравнить её значение с *F1*-мерой.\n",
    "\n",
    "Источник данных: [https://www.kaggle.com/barelydedicated/bank-customer-churn-modeling](https://www.kaggle.com/barelydedicated/bank-customer-churn-modeling)"
   ]
  },
  {
   "cell_type": "markdown",
   "metadata": {},
   "source": [
    "## Подготовка данных"
   ]
  },
  {
   "cell_type": "code",
   "execution_count": 1,
   "metadata": {},
   "outputs": [],
   "source": [
    "import pandas as pd\n",
    "import numpy as np\n",
    "from tqdm import tqdm\n",
    "import matplotlib.pyplot as plt\n",
    "from sklearn.model_selection import train_test_split\n",
    "from sklearn.linear_model import LogisticRegression\n",
    "from sklearn.tree import DecisionTreeClassifier\n",
    "from sklearn.preprocessing import StandardScaler \n",
    "from sklearn.metrics import accuracy_score\n",
    "from sklearn.metrics import f1_score\n",
    "from sklearn.utils import shuffle\n",
    "from sklearn.metrics import roc_auc_score \n",
    "from sklearn.metrics import roc_curve \n",
    "from sklearn.ensemble import RandomForestClassifier"
   ]
  },
  {
   "cell_type": "code",
   "execution_count": 2,
   "metadata": {},
   "outputs": [],
   "source": [
    "data = pd.read_csv('/datasets/Churn.csv')"
   ]
  },
  {
   "cell_type": "code",
   "execution_count": 3,
   "metadata": {},
   "outputs": [
    {
     "name": "stdout",
     "output_type": "stream",
     "text": [
      "<class 'pandas.core.frame.DataFrame'>\n",
      "RangeIndex: 10000 entries, 0 to 9999\n",
      "Data columns (total 14 columns):\n",
      " #   Column           Non-Null Count  Dtype  \n",
      "---  ------           --------------  -----  \n",
      " 0   RowNumber        10000 non-null  int64  \n",
      " 1   CustomerId       10000 non-null  int64  \n",
      " 2   Surname          10000 non-null  object \n",
      " 3   CreditScore      10000 non-null  int64  \n",
      " 4   Geography        10000 non-null  object \n",
      " 5   Gender           10000 non-null  object \n",
      " 6   Age              10000 non-null  int64  \n",
      " 7   Tenure           9091 non-null   float64\n",
      " 8   Balance          10000 non-null  float64\n",
      " 9   NumOfProducts    10000 non-null  int64  \n",
      " 10  HasCrCard        10000 non-null  int64  \n",
      " 11  IsActiveMember   10000 non-null  int64  \n",
      " 12  EstimatedSalary  10000 non-null  float64\n",
      " 13  Exited           10000 non-null  int64  \n",
      "dtypes: float64(3), int64(8), object(3)\n",
      "memory usage: 1.1+ MB\n"
     ]
    },
    {
     "data": {
      "text/html": [
       "<div>\n",
       "<style scoped>\n",
       "    .dataframe tbody tr th:only-of-type {\n",
       "        vertical-align: middle;\n",
       "    }\n",
       "\n",
       "    .dataframe tbody tr th {\n",
       "        vertical-align: top;\n",
       "    }\n",
       "\n",
       "    .dataframe thead th {\n",
       "        text-align: right;\n",
       "    }\n",
       "</style>\n",
       "<table border=\"1\" class=\"dataframe\">\n",
       "  <thead>\n",
       "    <tr style=\"text-align: right;\">\n",
       "      <th></th>\n",
       "      <th>RowNumber</th>\n",
       "      <th>CustomerId</th>\n",
       "      <th>Surname</th>\n",
       "      <th>CreditScore</th>\n",
       "      <th>Geography</th>\n",
       "      <th>Gender</th>\n",
       "      <th>Age</th>\n",
       "      <th>Tenure</th>\n",
       "      <th>Balance</th>\n",
       "      <th>NumOfProducts</th>\n",
       "      <th>HasCrCard</th>\n",
       "      <th>IsActiveMember</th>\n",
       "      <th>EstimatedSalary</th>\n",
       "      <th>Exited</th>\n",
       "    </tr>\n",
       "  </thead>\n",
       "  <tbody>\n",
       "    <tr>\n",
       "      <th>0</th>\n",
       "      <td>1</td>\n",
       "      <td>15634602</td>\n",
       "      <td>Hargrave</td>\n",
       "      <td>619</td>\n",
       "      <td>France</td>\n",
       "      <td>Female</td>\n",
       "      <td>42</td>\n",
       "      <td>2.0</td>\n",
       "      <td>0.00</td>\n",
       "      <td>1</td>\n",
       "      <td>1</td>\n",
       "      <td>1</td>\n",
       "      <td>101348.88</td>\n",
       "      <td>1</td>\n",
       "    </tr>\n",
       "    <tr>\n",
       "      <th>1</th>\n",
       "      <td>2</td>\n",
       "      <td>15647311</td>\n",
       "      <td>Hill</td>\n",
       "      <td>608</td>\n",
       "      <td>Spain</td>\n",
       "      <td>Female</td>\n",
       "      <td>41</td>\n",
       "      <td>1.0</td>\n",
       "      <td>83807.86</td>\n",
       "      <td>1</td>\n",
       "      <td>0</td>\n",
       "      <td>1</td>\n",
       "      <td>112542.58</td>\n",
       "      <td>0</td>\n",
       "    </tr>\n",
       "    <tr>\n",
       "      <th>2</th>\n",
       "      <td>3</td>\n",
       "      <td>15619304</td>\n",
       "      <td>Onio</td>\n",
       "      <td>502</td>\n",
       "      <td>France</td>\n",
       "      <td>Female</td>\n",
       "      <td>42</td>\n",
       "      <td>8.0</td>\n",
       "      <td>159660.80</td>\n",
       "      <td>3</td>\n",
       "      <td>1</td>\n",
       "      <td>0</td>\n",
       "      <td>113931.57</td>\n",
       "      <td>1</td>\n",
       "    </tr>\n",
       "    <tr>\n",
       "      <th>3</th>\n",
       "      <td>4</td>\n",
       "      <td>15701354</td>\n",
       "      <td>Boni</td>\n",
       "      <td>699</td>\n",
       "      <td>France</td>\n",
       "      <td>Female</td>\n",
       "      <td>39</td>\n",
       "      <td>1.0</td>\n",
       "      <td>0.00</td>\n",
       "      <td>2</td>\n",
       "      <td>0</td>\n",
       "      <td>0</td>\n",
       "      <td>93826.63</td>\n",
       "      <td>0</td>\n",
       "    </tr>\n",
       "    <tr>\n",
       "      <th>4</th>\n",
       "      <td>5</td>\n",
       "      <td>15737888</td>\n",
       "      <td>Mitchell</td>\n",
       "      <td>850</td>\n",
       "      <td>Spain</td>\n",
       "      <td>Female</td>\n",
       "      <td>43</td>\n",
       "      <td>2.0</td>\n",
       "      <td>125510.82</td>\n",
       "      <td>1</td>\n",
       "      <td>1</td>\n",
       "      <td>1</td>\n",
       "      <td>79084.10</td>\n",
       "      <td>0</td>\n",
       "    </tr>\n",
       "  </tbody>\n",
       "</table>\n",
       "</div>"
      ],
      "text/plain": [
       "   RowNumber  CustomerId   Surname  CreditScore Geography  Gender  Age  \\\n",
       "0          1    15634602  Hargrave          619    France  Female   42   \n",
       "1          2    15647311      Hill          608     Spain  Female   41   \n",
       "2          3    15619304      Onio          502    France  Female   42   \n",
       "3          4    15701354      Boni          699    France  Female   39   \n",
       "4          5    15737888  Mitchell          850     Spain  Female   43   \n",
       "\n",
       "   Tenure    Balance  NumOfProducts  HasCrCard  IsActiveMember  \\\n",
       "0     2.0       0.00              1          1               1   \n",
       "1     1.0   83807.86              1          0               1   \n",
       "2     8.0  159660.80              3          1               0   \n",
       "3     1.0       0.00              2          0               0   \n",
       "4     2.0  125510.82              1          1               1   \n",
       "\n",
       "   EstimatedSalary  Exited  \n",
       "0        101348.88       1  \n",
       "1        112542.58       0  \n",
       "2        113931.57       1  \n",
       "3         93826.63       0  \n",
       "4         79084.10       0  "
      ]
     },
     "execution_count": 3,
     "metadata": {},
     "output_type": "execute_result"
    }
   ],
   "source": [
    "data.info()\n",
    "data.head()"
   ]
  },
  {
   "cell_type": "markdown",
   "metadata": {},
   "source": [
    "Около тысячи пропусков было обнаружено в столбце Tenure, что составляет 10% от суммарного количества данных. В стоблце заменим пропущенные значения медианным: так данные слабо повлияют на общее распределение:"
   ]
  },
  {
   "cell_type": "code",
   "execution_count": 4,
   "metadata": {
    "scrolled": true
   },
   "outputs": [
    {
     "data": {
      "text/plain": [
       "0"
      ]
     },
     "execution_count": 4,
     "metadata": {},
     "output_type": "execute_result"
    }
   ],
   "source": [
    "data['Tenure'] = data['Tenure'].fillna(data['Tenure'].median())\n",
    "data['Tenure'].isna().sum()"
   ]
  },
  {
   "cell_type": "markdown",
   "metadata": {},
   "source": [
    "В остальном, типы данных по смыслу соответствуют категории данных: года измерены в целых числах, пол клиента характеризуется object (str) и т.д."
   ]
  },
  {
   "cell_type": "code",
   "execution_count": 5,
   "metadata": {
    "scrolled": true
   },
   "outputs": [
    {
     "data": {
      "text/plain": [
       "0    7963\n",
       "1    2037\n",
       "Name: Exited, dtype: int64"
      ]
     },
     "execution_count": 5,
     "metadata": {},
     "output_type": "execute_result"
    }
   ],
   "source": [
    "#data.describe()\n",
    "data['Exited'].value_counts()"
   ]
  },
  {
   "cell_type": "markdown",
   "metadata": {},
   "source": [
    "Соотношение классов целевого признака далеко от 1:1 (приблизительно 1:4), что может плохо сказазаться на обучении модели в будущем. Скорее всего, наблюдается **дисбаланс классов**\n",
    "\n"
   ]
  },
  {
   "cell_type": "code",
   "execution_count": 6,
   "metadata": {
    "scrolled": true
   },
   "outputs": [
    {
     "data": {
      "text/html": [
       "<div>\n",
       "<style scoped>\n",
       "    .dataframe tbody tr th:only-of-type {\n",
       "        vertical-align: middle;\n",
       "    }\n",
       "\n",
       "    .dataframe tbody tr th {\n",
       "        vertical-align: top;\n",
       "    }\n",
       "\n",
       "    .dataframe thead th {\n",
       "        text-align: right;\n",
       "    }\n",
       "</style>\n",
       "<table border=\"1\" class=\"dataframe\">\n",
       "  <thead>\n",
       "    <tr style=\"text-align: right;\">\n",
       "      <th></th>\n",
       "      <th>CreditScore</th>\n",
       "      <th>Geography</th>\n",
       "      <th>Gender</th>\n",
       "      <th>Age</th>\n",
       "      <th>Tenure</th>\n",
       "      <th>Balance</th>\n",
       "      <th>NumOfProducts</th>\n",
       "      <th>HasCrCard</th>\n",
       "      <th>IsActiveMember</th>\n",
       "      <th>EstimatedSalary</th>\n",
       "      <th>Exited</th>\n",
       "    </tr>\n",
       "  </thead>\n",
       "  <tbody>\n",
       "    <tr>\n",
       "      <th>0</th>\n",
       "      <td>619</td>\n",
       "      <td>France</td>\n",
       "      <td>Female</td>\n",
       "      <td>42</td>\n",
       "      <td>2.0</td>\n",
       "      <td>0.00</td>\n",
       "      <td>1</td>\n",
       "      <td>1</td>\n",
       "      <td>1</td>\n",
       "      <td>101348.88</td>\n",
       "      <td>1</td>\n",
       "    </tr>\n",
       "    <tr>\n",
       "      <th>1</th>\n",
       "      <td>608</td>\n",
       "      <td>Spain</td>\n",
       "      <td>Female</td>\n",
       "      <td>41</td>\n",
       "      <td>1.0</td>\n",
       "      <td>83807.86</td>\n",
       "      <td>1</td>\n",
       "      <td>0</td>\n",
       "      <td>1</td>\n",
       "      <td>112542.58</td>\n",
       "      <td>0</td>\n",
       "    </tr>\n",
       "    <tr>\n",
       "      <th>2</th>\n",
       "      <td>502</td>\n",
       "      <td>France</td>\n",
       "      <td>Female</td>\n",
       "      <td>42</td>\n",
       "      <td>8.0</td>\n",
       "      <td>159660.80</td>\n",
       "      <td>3</td>\n",
       "      <td>1</td>\n",
       "      <td>0</td>\n",
       "      <td>113931.57</td>\n",
       "      <td>1</td>\n",
       "    </tr>\n",
       "    <tr>\n",
       "      <th>3</th>\n",
       "      <td>699</td>\n",
       "      <td>France</td>\n",
       "      <td>Female</td>\n",
       "      <td>39</td>\n",
       "      <td>1.0</td>\n",
       "      <td>0.00</td>\n",
       "      <td>2</td>\n",
       "      <td>0</td>\n",
       "      <td>0</td>\n",
       "      <td>93826.63</td>\n",
       "      <td>0</td>\n",
       "    </tr>\n",
       "    <tr>\n",
       "      <th>4</th>\n",
       "      <td>850</td>\n",
       "      <td>Spain</td>\n",
       "      <td>Female</td>\n",
       "      <td>43</td>\n",
       "      <td>2.0</td>\n",
       "      <td>125510.82</td>\n",
       "      <td>1</td>\n",
       "      <td>1</td>\n",
       "      <td>1</td>\n",
       "      <td>79084.10</td>\n",
       "      <td>0</td>\n",
       "    </tr>\n",
       "  </tbody>\n",
       "</table>\n",
       "</div>"
      ],
      "text/plain": [
       "   CreditScore Geography  Gender  Age  Tenure    Balance  NumOfProducts  \\\n",
       "0          619    France  Female   42     2.0       0.00              1   \n",
       "1          608     Spain  Female   41     1.0   83807.86              1   \n",
       "2          502    France  Female   42     8.0  159660.80              3   \n",
       "3          699    France  Female   39     1.0       0.00              2   \n",
       "4          850     Spain  Female   43     2.0  125510.82              1   \n",
       "\n",
       "   HasCrCard  IsActiveMember  EstimatedSalary  Exited  \n",
       "0          1               1        101348.88       1  \n",
       "1          0               1        112542.58       0  \n",
       "2          1               0        113931.57       1  \n",
       "3          0               0         93826.63       0  \n",
       "4          1               1         79084.10       0  "
      ]
     },
     "execution_count": 6,
     "metadata": {},
     "output_type": "execute_result"
    }
   ],
   "source": [
    "data_new = data.drop(['RowNumber', 'CustomerId', 'Surname'], axis=1)\n",
    "data_new.head()"
   ]
  },
  {
   "cell_type": "markdown",
   "metadata": {},
   "source": [
    "Индекс строки в данных, уникальный идентификатор клиента и его фамилия никак не помогут модели предугадать уход клиента, лишь только запутают её. Поэтому стоит удалить первые три столбца при исследовании моделей"
   ]
  },
  {
   "cell_type": "markdown",
   "metadata": {},
   "source": [
    "## Исследование задачи"
   ]
  },
  {
   "cell_type": "markdown",
   "metadata": {},
   "source": [
    "Судя по предыдущему наблюдению, в наших данных наблюдается дисбаланс классов. Изучим работоспособность моделей без учёта дисбаланса классов. Также применим аргумент stratify, который позволит сохранить изначальное распределение таргетов во всех новых датасетах:"
   ]
  },
  {
   "cell_type": "code",
   "execution_count": 7,
   "metadata": {},
   "outputs": [],
   "source": [
    "target = data_new['Exited']\n",
    "features = data_new.drop('Exited', axis=1)\n",
    "\n",
    "features_train, features_valid_and_test, target_train, target_valid_and_test = train_test_split(\n",
    "    features, target, test_size=0.4, random_state=12345, stratify=target)\n",
    "\n",
    "features_valid, features_test, target_valid, target_test = train_test_split(\n",
    "    features_valid_and_test, target_valid_and_test, test_size=0.5, random_state=12345, stratify=target_valid_and_test)\n",
    "\n",
    "features_train = pd.get_dummies(features_train, drop_first=True)\n",
    "features_valid = pd.get_dummies(features_valid, drop_first=True)\n",
    "features_test = pd.get_dummies(features_test, drop_first=True)\n",
    "\n",
    "numeric = ['CreditScore', 'Age', 'Tenure', 'Balance', 'NumOfProducts', 'EstimatedSalary']\n",
    "\n",
    "scaler = StandardScaler()\n",
    "scaler.fit(features_train[numeric])\n",
    "features_train[numeric] = scaler.transform(features_train[numeric])\n",
    "features_valid[numeric] = scaler.transform(features_valid[numeric])\n",
    "features_test[numeric] = scaler.transform(features_test[numeric])\n",
    "\n",
    "pd.options.mode.chained_assignment = None"
   ]
  },
  {
   "cell_type": "markdown",
   "metadata": {},
   "source": [
    "Совместили кодирование категориальных и масштабирование численных признаков, а также провели разделение наши данные на тестовую и валидационную выборки. Теперь проверим accuracy для решающего дерева, а также частоты классов в результатах предсказаний:"
   ]
  },
  {
   "cell_type": "code",
   "execution_count": 8,
   "metadata": {},
   "outputs": [
    {
     "name": "stdout",
     "output_type": "stream",
     "text": [
      "accuracy для решающего дерева:  0.793\n",
      "0    0.787\n",
      "1    0.213\n",
      "dtype: float64\n"
     ]
    },
    {
     "data": {
      "text/plain": [
       "<AxesSubplot:>"
      ]
     },
     "execution_count": 8,
     "metadata": {},
     "output_type": "execute_result"
    },
    {
     "data": {
      "image/png": "[encoded data removed]",
      "text/plain": [
       "<Figure size 432x288 with 1 Axes>"
      ]
     },
     "metadata": {
      "needs_background": "light"
     },
     "output_type": "display_data"
    }
   ],
   "source": [
    "model = DecisionTreeClassifier(random_state=12345)\n",
    "model.fit(features_train, target_train)\n",
    "predicted_valid = model.predict(features_valid)\n",
    "\n",
    "accuracy_valid = accuracy_score(target_valid, predicted_valid)\n",
    "print('accuracy для решающего дерева: ', accuracy_valid)\n",
    "\n",
    "predicted_valid = pd.Series(model.predict(features_valid))\n",
    "\n",
    "class_frequency = predicted_valid.value_counts(normalize=True)\n",
    "print(class_frequency)\n",
    "class_frequency.plot(kind='bar')"
   ]
  },
  {
   "cell_type": "markdown",
   "metadata": {},
   "source": [
    "В результате обучения решающего дерева на тренировочной выборке и последующего предсказания результатов валидационной выборки, можно заметить:\n",
    "\n",
    "1. Значение accurecy для всех классов максимально приближено к accurecy класса \"0\"\n",
    "2. Значение accurecy класса \"0\" почти в 3.5 раза больше значения accurecy класса \"1\"\n",
    "\n",
    "Всё это ещё раз говорит об отсутствии балланса классов. Следовательно, accuracy не подойдёт для оценки качества работы нашей модели. Нужно использовать метрику F1."
   ]
  },
  {
   "cell_type": "markdown",
   "metadata": {},
   "source": [
    "## Борьба с дисбалансом"
   ]
  },
  {
   "cell_type": "markdown",
   "metadata": {},
   "source": [
    "Определим F1-меру для дерева решений:"
   ]
  },
  {
   "cell_type": "code",
   "execution_count": 21,
   "metadata": {},
   "outputs": [
    {
     "name": "stdout",
     "output_type": "stream",
     "text": [
      "Значение F1-меры:  0.6126656848306332\n"
     ]
    }
   ],
   "source": [
    "model = RandomForestClassifier(random_state=12345)\n",
    "model.fit(features_train, target_train)\n",
    "predicted_valid = model.predict(features_valid)\n",
    "\n",
    "print('Значение F1-меры: ', f1_score(target_valid, predicted_valid))"
   ]
  },
  {
   "cell_type": "markdown",
   "metadata": {},
   "source": [
    " Для выполнения задания, нужно довести метрику до 0.59. Сравним эффект от применения upsample и downsample, а также попромуем изменить пороговое значение класса для модели логистической регрессии:"
   ]
  },
  {
   "cell_type": "code",
   "execution_count": 22,
   "metadata": {},
   "outputs": [
    {
     "name": "stdout",
     "output_type": "stream",
     "text": [
      "F1: 0.6358839050131926\n"
     ]
    }
   ],
   "source": [
    "def upsample(features, target, repeat):\n",
    "    features_zeros = features[target == 0]\n",
    "    features_ones = features[target == 1]\n",
    "    target_zeros = target[target == 0]\n",
    "    target_ones = target[target == 1]\n",
    "\n",
    "    features_upsampled = pd.concat([features_zeros] + [features_ones] * repeat)\n",
    "    target_upsampled = pd.concat([target_zeros] + [target_ones] * repeat)\n",
    "    \n",
    "    features_upsampled, target_upsampled = shuffle(\n",
    "        features_upsampled, target_upsampled, random_state=12345)\n",
    "    \n",
    "    return features_upsampled, target_upsampled\n",
    "\n",
    "features_upsampled, target_upsampled = upsample(features_train, target_train, 4)\n",
    "\n",
    "model = RandomForestClassifier(random_state=12345)\n",
    "model.fit(features_upsampled, target_upsampled)\n",
    "predicted_valid = model.predict(features_valid)\n",
    "print(\"F1:\", f1_score(target_valid, predicted_valid))"
   ]
  },
  {
   "cell_type": "code",
   "execution_count": 23,
   "metadata": {
    "scrolled": true
   },
   "outputs": [
    {
     "name": "stdout",
     "output_type": "stream",
     "text": [
      "F1: 0.6573957016434893\n"
     ]
    }
   ],
   "source": [
    "def downsample(features, target, fraction):\n",
    "    features_zeros = features[target == 0]\n",
    "    features_ones = features[target == 1]\n",
    "    target_zeros = target[target == 0]\n",
    "    target_ones = target[target == 1]\n",
    "\n",
    "    features_downsampled = pd.concat(\n",
    "        [features_zeros.sample(frac=fraction, random_state=12345)] + [features_ones])\n",
    "    target_downsampled = pd.concat(\n",
    "        [target_zeros.sample(frac=fraction, random_state=12345)] + [target_ones])\n",
    "    \n",
    "    features_downsampled, target_downsampled = shuffle(\n",
    "        features_downsampled, target_downsampled, random_state=12345)\n",
    "    \n",
    "    return features_downsampled, target_downsampled\n",
    "\n",
    "features_downsampled, target_downsampled = downsample(features_train, target_train, 0.55)\n",
    "\n",
    "model = RandomForestClassifier(random_state=12345, n_estimators=90, max_depth=23)\n",
    "model.fit(features_downsampled, target_downsampled)\n",
    "predicted_valid = model.predict(features_valid)\n",
    "\n",
    "print(\"F1:\", f1_score(target_valid, predicted_valid))"
   ]
  },
  {
   "cell_type": "markdown",
   "metadata": {},
   "source": [
    "Значение accuracy сильнее увеличилось при применении техники downsample. Добавим оптимальное значение гиперпараметра глубины дерева в нашу модель для улучшение метрики F1:"
   ]
  },
  {
   "cell_type": "code",
   "execution_count": 10,
   "metadata": {},
   "outputs": [
    {
     "name": "stderr",
     "output_type": "stream",
     "text": [
      "100%|██████████| 55/55 [09:59<00:00, 10.90s/it]"
     ]
    },
    {
     "name": "stdout",
     "output_type": "stream",
     "text": [
      "F1 наилучшей модели на валидационной выборке: 0.6572528883183568 Максимальная глубина: 11\n"
     ]
    },
    {
     "name": "stderr",
     "output_type": "stream",
     "text": [
      "\n"
     ]
    }
   ],
   "source": [
    "def downsample(features, target, fraction):\n",
    "    features_zeros = features[target == 0]\n",
    "    features_ones = features[target == 1]\n",
    "    target_zeros = target[target == 0]\n",
    "    target_ones = target[target == 1]\n",
    "\n",
    "    features_downsampled = pd.concat(\n",
    "        [features_zeros.sample(frac=fraction, random_state=12345)] + [features_ones])\n",
    "    target_downsampled = pd.concat(\n",
    "        [target_zeros.sample(frac=fraction, random_state=12345)] + [target_ones])\n",
    "    \n",
    "    features_downsampled, target_downsampled = shuffle(\n",
    "        features_downsampled, target_downsampled, random_state=12345)\n",
    "    \n",
    "    return features_downsampled, target_downsampled\n",
    "\n",
    "features_downsampled, target_downsampled = downsample(features_train, target_train, 0.55)\n",
    "\n",
    "best_result = 0\n",
    "for n_estimators in tqdm(range(3,58)):\n",
    "    for depth in range(1, 25):\n",
    "        model = RandomForestClassifier(max_depth=depth, random_state=12345)\n",
    "        model.fit(features_downsampled, target_downsampled)\n",
    "        predicted_valid = model.predict(features_valid)\n",
    "        result = f1_score(target_valid, predicted_valid) \n",
    "        if result > best_result:\n",
    "            best_result = result\n",
    "            best_depth = depth\n",
    "\n",
    "print(\"F1 наилучшей модели на валидационной выборке:\", best_result, \"Максимальная глубина:\", best_depth)"
   ]
  },
  {
   "cell_type": "code",
   "execution_count": 11,
   "metadata": {},
   "outputs": [
    {
     "name": "stderr",
     "output_type": "stream",
     "text": [
      "100%|██████████| 55/55 [20:49<00:00, 22.73s/it]"
     ]
    },
    {
     "name": "stdout",
     "output_type": "stream",
     "text": [
      "F1 наилучшей модели на валидационной выборке: 0.6598465473145779 Количество деревьев: 20\n"
     ]
    },
    {
     "name": "stderr",
     "output_type": "stream",
     "text": [
      "\n"
     ]
    }
   ],
   "source": [
    "def downsample(features, target, fraction):\n",
    "    features_zeros = features[target == 0]\n",
    "    features_ones = features[target == 1]\n",
    "    target_zeros = target[target == 0]\n",
    "    target_ones = target[target == 1]\n",
    "\n",
    "    features_downsampled = pd.concat(\n",
    "        [features_zeros.sample(frac=fraction, random_state=12345)] + [features_ones])\n",
    "    target_downsampled = pd.concat(\n",
    "        [target_zeros.sample(frac=fraction, random_state=12345)] + [target_ones])\n",
    "    \n",
    "    features_downsampled, target_downsampled = shuffle(\n",
    "        features_downsampled, target_downsampled, random_state=12345)\n",
    "    \n",
    "    return features_downsampled, target_downsampled\n",
    "\n",
    "features_downsampled, target_downsampled = downsample(features_train, target_train, 0.55)\n",
    "\n",
    "best_result = 0\n",
    "for n_estimators in tqdm(range(3,58)):\n",
    "    for est in range(1, 100):\n",
    "        model = RandomForestClassifier(n_estimators=est, max_depth=10, random_state=12345)\n",
    "        model.fit(features_downsampled, target_downsampled)\n",
    "        predicted_valid = model.predict(features_valid)\n",
    "        result = f1_score(target_valid, predicted_valid) \n",
    "        if result > best_result:\n",
    "            best_result = result\n",
    "            best_est = est\n",
    "\n",
    "print(\"F1 наилучшей модели на валидационной выборке:\", best_result, \"Количество деревьев:\", best_est)"
   ]
  },
  {
   "cell_type": "code",
   "execution_count": 15,
   "metadata": {},
   "outputs": [
    {
     "data": {
      "image/png": "[encoded data removed]",
      "text/plain": [
       "<Figure size 432x288 with 1 Axes>"
      ]
     },
     "metadata": {
      "needs_background": "light"
     },
     "output_type": "display_data"
    },
    {
     "data": {
      "image/png": "[encoded data removed]",
      "text/plain": [
       "<Figure size 432x288 with 1 Axes>"
      ]
     },
     "metadata": {
      "needs_background": "light"
     },
     "output_type": "display_data"
    },
    {
     "name": "stdout",
     "output_type": "stream",
     "text": [
      "AUC-ROC: 0.8672575500049267\n"
     ]
    }
   ],
   "source": [
    "probabilities_valid = model.predict_proba(features_valid)\n",
    "probabilities_one_valid = probabilities_valid[:, 1]\n",
    "\n",
    "fpr, tpr, thresholds = roc_curve(target_valid, probabilities_one_valid)\n",
    "\n",
    "plt.figure()\n",
    "plt.plot(fpr, tpr)\n",
    "plt.xlim([0.0, 1.0])\n",
    "plt.ylim([0.0, 1.0])\n",
    "plt.xlabel('False Positive Rate')\n",
    "plt.ylabel('True Positive Rate')\n",
    "plt.title('ROC-кривая')\n",
    "plt.show()\n",
    "\n",
    "plt.plot([0, 1], [0, 1], linestyle='--')\n",
    "plt.show()\n",
    "\n",
    "auc_roc = roc_auc_score(target_valid, probabilities_one_valid)\n",
    "print('AUC-ROC:', auc_roc)"
   ]
  },
  {
   "cell_type": "markdown",
   "metadata": {},
   "source": [
    "**Вывод:** в результате уменьшения выборки при применении техники downsampling и добавления оптимального значения гиперпараметра глубины деревьев, удалось построить модель с предельно большим значением F1-меры, равным 0.65 (значение увеличилось от первоноачальной модели на 0.04)\n",
    "\n",
    "ROC-кривая идёт из левого нижнего угла в верхний правый, что указывает на то, что наша модель отвечает случайно, а высота графика свидетельствует о достаточно высоком качестве модели. Высокое значение метрики AUC-ROC (больше значения метрики случайной модели) вновь указывает на высокое качество модели"
   ]
  },
  {
   "cell_type": "markdown",
   "metadata": {},
   "source": [
    "## Тестирование модели"
   ]
  },
  {
   "cell_type": "code",
   "execution_count": 9,
   "metadata": {},
   "outputs": [
    {
     "name": "stdout",
     "output_type": "stream",
     "text": [
      "Ошибок: 318 из 2000 \n",
      "Accuracy: 0.8645\n",
      "F-1 мера:  0.5984848484848485\n"
     ]
    }
   ],
   "source": [
    "def downsample(features, target, fraction):\n",
    "    features_zeros = features[target == 0]\n",
    "    features_ones = features[target == 1]\n",
    "    target_zeros = target[target == 0]\n",
    "    target_ones = target[target == 1]\n",
    "\n",
    "    features_downsampled = pd.concat(\n",
    "        [features_zeros.sample(frac=fraction, random_state=12345)] + [features_ones])\n",
    "    target_downsampled = pd.concat(\n",
    "        [target_zeros.sample(frac=fraction, random_state=12345)] + [target_ones])\n",
    "    \n",
    "    features_downsampled, target_downsampled = shuffle(\n",
    "        features_downsampled, target_downsampled, random_state=12345)\n",
    "    \n",
    "    return features_downsampled, target_downsampled\n",
    "\n",
    "features_downsampled, target_downsampled = downsample(features_train, target_train, 0.55)\n",
    "\n",
    "model = RandomForestClassifier(n_estimators=90, max_depth=23, random_state=12345)\n",
    "model.fit(features_downsampled, target_downsampled)\n",
    "result = model.score(features_valid, target_valid)\n",
    "test_predictions = model.predict(features_test)\n",
    "\n",
    "def error_count(answers, predictions):\n",
    "    answers=answers.tolist()\n",
    "    predictions=predictions.tolist()\n",
    "    error_number=0\n",
    "    for i in range(len(answers)):\n",
    "        if answers[i] != predictions[i]:\n",
    "            error_number+=1\n",
    "    return error_number\n",
    "\n",
    "print(\"Ошибок:\", error_count(target_test, test_predictions), \"из\", len(target_test),'\\nAccuracy:', result)\n",
    "print('F-1 мера: ', f1_score(target_test, test_predictions))"
   ]
  },
  {
   "cell_type": "markdown",
   "metadata": {},
   "source": [
    "**Вывод:** в результате удалось обучить модель случайного леса, имеющую F1-меру, большую 0.59, и accuracy, равную 0.864, что соответствует условию выполнения поставленной задачи.\n",
    "\n",
    "Для достижения этого результата, была проведена работа с данными (замена пропусков на медианные значения, удаление лишних столбцов), экспериментирование с различными техниками повышения значения F1-меры, подборка максимально точных моделей и их гиперпараметров. Итоговый результат рекомендуется использовать для предсказания поведения клиентов. "
   ]
  },
  {
   "cell_type": "code",
   "execution_count": null,
   "metadata": {},
   "outputs": [],
   "source": []
  }
 ],
 "metadata": {
  "ExecuteTimeLog": [
   {
    "duration": 360,
    "start_time": "2023-02-17T09:47:54.553Z"
   },
   {
    "duration": 81,
    "start_time": "2023-02-17T09:47:55.473Z"
   },
   {
    "duration": 13,
    "start_time": "2023-02-17T09:48:13.069Z"
   },
   {
    "duration": 10,
    "start_time": "2023-02-17T09:58:20.929Z"
   },
   {
    "duration": 8,
    "start_time": "2023-02-17T10:14:04.823Z"
   },
   {
    "duration": 7,
    "start_time": "2023-02-17T10:14:29.925Z"
   },
   {
    "duration": 5,
    "start_time": "2023-02-17T10:14:34.686Z"
   },
   {
    "duration": 8,
    "start_time": "2023-02-17T10:14:46.434Z"
   },
   {
    "duration": 6,
    "start_time": "2023-02-17T10:15:35.796Z"
   },
   {
    "duration": 7,
    "start_time": "2023-02-17T10:18:24.521Z"
   },
   {
    "duration": 15,
    "start_time": "2023-02-17T10:20:28.717Z"
   },
   {
    "duration": 42,
    "start_time": "2023-02-17T10:22:05.612Z"
   },
   {
    "duration": 22,
    "start_time": "2023-02-17T10:22:31.688Z"
   },
   {
    "duration": 40,
    "start_time": "2023-02-17T10:22:59.393Z"
   },
   {
    "duration": 66,
    "start_time": "2023-02-17T10:24:44.407Z"
   },
   {
    "duration": 6,
    "start_time": "2023-02-17T10:24:49.039Z"
   },
   {
    "duration": 33,
    "start_time": "2023-02-17T10:25:35.731Z"
   },
   {
    "duration": 48,
    "start_time": "2023-02-17T10:25:47.237Z"
   },
   {
    "duration": 5,
    "start_time": "2023-02-17T10:26:21.633Z"
   },
   {
    "duration": 5,
    "start_time": "2023-02-17T10:53:42.028Z"
   },
   {
    "duration": 709,
    "start_time": "2023-02-17T11:20:29.202Z"
   },
   {
    "duration": 249,
    "start_time": "2023-02-17T11:23:13.733Z"
   },
   {
    "duration": 1128,
    "start_time": "2023-02-17T11:27:38.876Z"
   },
   {
    "duration": 42,
    "start_time": "2023-02-17T11:27:40.007Z"
   },
   {
    "duration": 32,
    "start_time": "2023-02-17T11:27:40.051Z"
   },
   {
    "duration": 7,
    "start_time": "2023-02-17T11:27:40.406Z"
   },
   {
    "duration": 5,
    "start_time": "2023-02-17T11:27:41.494Z"
   },
   {
    "duration": 4,
    "start_time": "2023-02-17T11:27:42.356Z"
   },
   {
    "duration": 5,
    "start_time": "2023-02-17T11:27:47.164Z"
   },
   {
    "duration": 20,
    "start_time": "2023-02-17T11:28:04.759Z"
   },
   {
    "duration": 14,
    "start_time": "2023-02-17T11:28:16.930Z"
   },
   {
    "duration": 12,
    "start_time": "2023-02-17T11:28:24.662Z"
   },
   {
    "duration": 51,
    "start_time": "2023-02-17T11:31:54.510Z"
   },
   {
    "duration": 4,
    "start_time": "2023-02-17T11:34:55.811Z"
   },
   {
    "duration": 3,
    "start_time": "2023-02-17T11:36:39.047Z"
   },
   {
    "duration": 53,
    "start_time": "2023-02-17T11:36:47.469Z"
   },
   {
    "duration": 36,
    "start_time": "2023-02-17T11:42:56.575Z"
   },
   {
    "duration": 36,
    "start_time": "2023-02-17T11:43:19.305Z"
   },
   {
    "duration": 49,
    "start_time": "2023-02-17T11:43:21.445Z"
   },
   {
    "duration": 33,
    "start_time": "2023-02-17T11:43:25.188Z"
   },
   {
    "duration": 40,
    "start_time": "2023-02-17T11:43:37.228Z"
   },
   {
    "duration": 13,
    "start_time": "2023-02-17T11:43:40.895Z"
   },
   {
    "duration": 34,
    "start_time": "2023-02-17T11:43:42.335Z"
   },
   {
    "duration": 3,
    "start_time": "2023-02-17T11:45:27.937Z"
   },
   {
    "duration": 38,
    "start_time": "2023-02-17T11:45:28.231Z"
   },
   {
    "duration": 23,
    "start_time": "2023-02-17T11:45:28.424Z"
   },
   {
    "duration": 7,
    "start_time": "2023-02-17T11:45:28.822Z"
   },
   {
    "duration": 6,
    "start_time": "2023-02-17T11:45:29.362Z"
   },
   {
    "duration": 16,
    "start_time": "2023-02-17T11:45:30.018Z"
   },
   {
    "duration": 33,
    "start_time": "2023-02-17T11:45:31.624Z"
   },
   {
    "duration": 140,
    "start_time": "2023-02-17T11:49:44.964Z"
   },
   {
    "duration": 46,
    "start_time": "2023-02-17T11:50:00.117Z"
   },
   {
    "duration": 3,
    "start_time": "2023-02-17T11:50:28.191Z"
   },
   {
    "duration": 42,
    "start_time": "2023-02-17T11:50:31.968Z"
   },
   {
    "duration": 42,
    "start_time": "2023-02-17T11:52:39.140Z"
   },
   {
    "duration": 604,
    "start_time": "2023-02-17T11:56:15.911Z"
   },
   {
    "duration": 1179,
    "start_time": "2023-02-18T10:48:00.716Z"
   },
   {
    "duration": 179,
    "start_time": "2023-02-18T10:48:01.897Z"
   },
   {
    "duration": 32,
    "start_time": "2023-02-18T10:48:02.078Z"
   },
   {
    "duration": 20,
    "start_time": "2023-02-18T10:48:02.112Z"
   },
   {
    "duration": 37,
    "start_time": "2023-02-18T10:48:02.134Z"
   },
   {
    "duration": 14,
    "start_time": "2023-02-18T10:48:03.975Z"
   },
   {
    "duration": 38,
    "start_time": "2023-02-18T10:48:05.751Z"
   },
   {
    "duration": 639,
    "start_time": "2023-02-18T10:48:09.182Z"
   },
   {
    "duration": 42,
    "start_time": "2023-02-18T10:48:28.014Z"
   },
   {
    "duration": 73,
    "start_time": "2023-02-18T10:50:23.758Z"
   },
   {
    "duration": 42,
    "start_time": "2023-02-18T10:50:31.644Z"
   },
   {
    "duration": 40,
    "start_time": "2023-02-18T10:53:48.102Z"
   },
   {
    "duration": 3,
    "start_time": "2023-02-18T10:56:27.553Z"
   },
   {
    "duration": 105,
    "start_time": "2023-02-18T10:58:55.132Z"
   },
   {
    "duration": 165,
    "start_time": "2023-02-18T10:59:07.572Z"
   },
   {
    "duration": 61,
    "start_time": "2023-02-18T10:59:11.812Z"
   },
   {
    "duration": 44,
    "start_time": "2023-02-18T10:59:27.957Z"
   },
   {
    "duration": 84,
    "start_time": "2023-02-18T10:59:41.106Z"
   },
   {
    "duration": 265,
    "start_time": "2023-02-18T10:59:58.986Z"
   },
   {
    "duration": 111,
    "start_time": "2023-02-18T11:00:07.935Z"
   },
   {
    "duration": 120,
    "start_time": "2023-02-18T11:01:40.926Z"
   },
   {
    "duration": 124,
    "start_time": "2023-02-18T11:01:47.019Z"
   },
   {
    "duration": 106,
    "start_time": "2023-02-18T11:01:52.129Z"
   },
   {
    "duration": 36,
    "start_time": "2023-02-18T11:01:59.483Z"
   },
   {
    "duration": 36,
    "start_time": "2023-02-18T11:02:03.414Z"
   },
   {
    "duration": 47,
    "start_time": "2023-02-18T11:02:06.289Z"
   },
   {
    "duration": 41,
    "start_time": "2023-02-18T11:02:09.215Z"
   },
   {
    "duration": 35,
    "start_time": "2023-02-18T11:25:41.301Z"
   },
   {
    "duration": 26,
    "start_time": "2023-02-18T11:25:54.861Z"
   },
   {
    "duration": 26,
    "start_time": "2023-02-18T11:26:04.328Z"
   },
   {
    "duration": 24,
    "start_time": "2023-02-18T11:26:09.131Z"
   },
   {
    "duration": 25,
    "start_time": "2023-02-18T11:26:12.097Z"
   },
   {
    "duration": 28,
    "start_time": "2023-02-18T11:26:15.932Z"
   },
   {
    "duration": 23,
    "start_time": "2023-02-18T11:26:19.590Z"
   },
   {
    "duration": 23,
    "start_time": "2023-02-18T11:26:22.213Z"
   },
   {
    "duration": 29,
    "start_time": "2023-02-18T11:26:25.503Z"
   },
   {
    "duration": 25,
    "start_time": "2023-02-18T11:28:17.527Z"
   },
   {
    "duration": 24,
    "start_time": "2023-02-18T11:28:25.117Z"
   },
   {
    "duration": 26,
    "start_time": "2023-02-18T11:28:28.758Z"
   },
   {
    "duration": 42,
    "start_time": "2023-02-18T11:30:48.059Z"
   },
   {
    "duration": 102,
    "start_time": "2023-02-18T11:31:01.935Z"
   },
   {
    "duration": 25,
    "start_time": "2023-02-18T11:31:04.155Z"
   },
   {
    "duration": 111,
    "start_time": "2023-02-18T11:46:10.342Z"
   },
   {
    "duration": 3,
    "start_time": "2023-02-18T12:03:57.478Z"
   },
   {
    "duration": 94,
    "start_time": "2023-02-18T12:04:06.644Z"
   },
   {
    "duration": 15,
    "start_time": "2023-02-18T12:04:31.895Z"
   },
   {
    "duration": 100,
    "start_time": "2023-02-18T12:04:38.538Z"
   },
   {
    "duration": 27,
    "start_time": "2023-02-18T12:17:54.435Z"
   },
   {
    "duration": 41,
    "start_time": "2023-02-18T12:21:28.392Z"
   },
   {
    "duration": 33,
    "start_time": "2023-02-18T12:21:33.628Z"
   },
   {
    "duration": 33,
    "start_time": "2023-02-18T12:21:37.980Z"
   },
   {
    "duration": 37,
    "start_time": "2023-02-18T12:21:41.904Z"
   },
   {
    "duration": 36,
    "start_time": "2023-02-18T12:21:45.518Z"
   },
   {
    "duration": 44,
    "start_time": "2023-02-18T12:22:17.468Z"
   },
   {
    "duration": 22,
    "start_time": "2023-02-18T12:22:24.368Z"
   },
   {
    "duration": 60,
    "start_time": "2023-02-18T12:22:30.663Z"
   },
   {
    "duration": 20,
    "start_time": "2023-02-18T12:24:13.885Z"
   },
   {
    "duration": 42,
    "start_time": "2023-02-18T12:24:28.406Z"
   },
   {
    "duration": 33,
    "start_time": "2023-02-18T12:24:34.828Z"
   },
   {
    "duration": 28,
    "start_time": "2023-02-18T12:24:39.939Z"
   },
   {
    "duration": 30,
    "start_time": "2023-02-18T12:24:43.899Z"
   },
   {
    "duration": 38,
    "start_time": "2023-02-18T12:24:49.922Z"
   },
   {
    "duration": 29,
    "start_time": "2023-02-18T12:24:53.714Z"
   },
   {
    "duration": 40,
    "start_time": "2023-02-18T12:45:06.350Z"
   },
   {
    "duration": 142,
    "start_time": "2023-02-18T12:45:15.378Z"
   },
   {
    "duration": 39,
    "start_time": "2023-02-18T12:45:24.774Z"
   },
   {
    "duration": 37,
    "start_time": "2023-02-18T12:47:12.470Z"
   },
   {
    "duration": 172,
    "start_time": "2023-02-18T12:47:13.297Z"
   },
   {
    "duration": 35,
    "start_time": "2023-02-18T12:47:28.958Z"
   },
   {
    "duration": 48,
    "start_time": "2023-02-18T12:47:32.449Z"
   },
   {
    "duration": 30,
    "start_time": "2023-02-18T12:47:38.288Z"
   },
   {
    "duration": 49,
    "start_time": "2023-02-18T12:47:42.547Z"
   },
   {
    "duration": 27,
    "start_time": "2023-02-18T12:48:22.492Z"
   },
   {
    "duration": 29,
    "start_time": "2023-02-18T12:48:33.332Z"
   },
   {
    "duration": 27,
    "start_time": "2023-02-18T12:48:42.685Z"
   },
   {
    "duration": 30,
    "start_time": "2023-02-18T12:49:31.298Z"
   },
   {
    "duration": 28,
    "start_time": "2023-02-18T12:49:36.881Z"
   },
   {
    "duration": 25,
    "start_time": "2023-02-18T12:49:41.930Z"
   },
   {
    "duration": 27,
    "start_time": "2023-02-18T12:49:46.001Z"
   },
   {
    "duration": 29,
    "start_time": "2023-02-18T12:50:01.568Z"
   },
   {
    "duration": 29,
    "start_time": "2023-02-18T12:50:06.702Z"
   },
   {
    "duration": 32,
    "start_time": "2023-02-18T12:50:10.768Z"
   },
   {
    "duration": 30,
    "start_time": "2023-02-18T12:50:17.482Z"
   },
   {
    "duration": 60,
    "start_time": "2023-02-18T12:50:26.763Z"
   },
   {
    "duration": 58,
    "start_time": "2023-02-18T12:50:31.776Z"
   },
   {
    "duration": 45,
    "start_time": "2023-02-18T12:50:36.686Z"
   },
   {
    "duration": 50,
    "start_time": "2023-02-18T12:50:41.015Z"
   },
   {
    "duration": 50,
    "start_time": "2023-02-18T12:50:46.215Z"
   },
   {
    "duration": 48,
    "start_time": "2023-02-18T12:50:49.624Z"
   },
   {
    "duration": 38,
    "start_time": "2023-02-18T12:50:55.515Z"
   },
   {
    "duration": 46,
    "start_time": "2023-02-18T12:50:56.815Z"
   },
   {
    "duration": 31,
    "start_time": "2023-02-18T12:50:59.472Z"
   },
   {
    "duration": 33,
    "start_time": "2023-02-18T12:51:04.137Z"
   },
   {
    "duration": 33,
    "start_time": "2023-02-18T12:51:08.239Z"
   },
   {
    "duration": 42,
    "start_time": "2023-02-18T12:51:12.657Z"
   },
   {
    "duration": 28,
    "start_time": "2023-02-18T12:51:16.923Z"
   },
   {
    "duration": 34,
    "start_time": "2023-02-18T12:51:20.182Z"
   },
   {
    "duration": 47,
    "start_time": "2023-02-18T12:51:24.379Z"
   },
   {
    "duration": 39,
    "start_time": "2023-02-18T12:51:27.730Z"
   },
   {
    "duration": 35,
    "start_time": "2023-02-18T12:51:31.671Z"
   },
   {
    "duration": 39,
    "start_time": "2023-02-18T12:51:35.035Z"
   },
   {
    "duration": 37,
    "start_time": "2023-02-18T12:51:39.899Z"
   },
   {
    "duration": 43,
    "start_time": "2023-02-18T12:51:44.294Z"
   },
   {
    "duration": 51,
    "start_time": "2023-02-18T12:51:54.445Z"
   },
   {
    "duration": 39,
    "start_time": "2023-02-18T12:51:57.520Z"
   },
   {
    "duration": 26,
    "start_time": "2023-02-18T12:52:18.320Z"
   },
   {
    "duration": 35,
    "start_time": "2023-02-18T12:52:25.969Z"
   },
   {
    "duration": 34,
    "start_time": "2023-02-18T12:52:28.583Z"
   },
   {
    "duration": 36,
    "start_time": "2023-02-18T12:52:34.631Z"
   },
   {
    "duration": 32,
    "start_time": "2023-02-18T12:52:37.455Z"
   },
   {
    "duration": 35,
    "start_time": "2023-02-18T12:52:41.159Z"
   },
   {
    "duration": 35,
    "start_time": "2023-02-18T12:52:44.063Z"
   },
   {
    "duration": 37,
    "start_time": "2023-02-18T12:52:46.996Z"
   },
   {
    "duration": 1084,
    "start_time": "2023-02-18T12:52:55.770Z"
   },
   {
    "duration": 42,
    "start_time": "2023-02-18T12:52:56.856Z"
   },
   {
    "duration": 32,
    "start_time": "2023-02-18T12:52:56.900Z"
   },
   {
    "duration": 6,
    "start_time": "2023-02-18T12:52:56.934Z"
   },
   {
    "duration": 61,
    "start_time": "2023-02-18T12:52:56.941Z"
   },
   {
    "duration": 62,
    "start_time": "2023-02-18T12:52:57.003Z"
   },
   {
    "duration": 43,
    "start_time": "2023-02-18T12:52:57.389Z"
   },
   {
    "duration": 479,
    "start_time": "2023-02-18T12:52:58.202Z"
   },
   {
    "duration": 36,
    "start_time": "2023-02-18T12:52:59.640Z"
   },
   {
    "duration": 50,
    "start_time": "2023-02-18T12:53:01.262Z"
   },
   {
    "duration": 41,
    "start_time": "2023-02-18T12:53:01.977Z"
   },
   {
    "duration": 35,
    "start_time": "2023-02-18T12:53:04.090Z"
   },
   {
    "duration": 33,
    "start_time": "2023-02-18T12:53:10.023Z"
   },
   {
    "duration": 37,
    "start_time": "2023-02-18T12:53:18.069Z"
   },
   {
    "duration": 36,
    "start_time": "2023-02-18T12:53:21.090Z"
   },
   {
    "duration": 35,
    "start_time": "2023-02-18T12:53:26.836Z"
   },
   {
    "duration": 42,
    "start_time": "2023-02-18T12:53:38.577Z"
   },
   {
    "duration": 36,
    "start_time": "2023-02-18T12:53:44.231Z"
   },
   {
    "duration": 23,
    "start_time": "2023-02-18T12:53:49.031Z"
   },
   {
    "duration": 39,
    "start_time": "2023-02-18T12:53:52.914Z"
   },
   {
    "duration": 45,
    "start_time": "2023-02-18T12:53:57.700Z"
   },
   {
    "duration": 35,
    "start_time": "2023-02-18T12:54:05.152Z"
   },
   {
    "duration": 28,
    "start_time": "2023-02-18T12:54:20.684Z"
   },
   {
    "duration": 28,
    "start_time": "2023-02-18T12:54:23.197Z"
   },
   {
    "duration": 30,
    "start_time": "2023-02-18T12:54:25.170Z"
   },
   {
    "duration": 41,
    "start_time": "2023-02-18T12:54:31.459Z"
   },
   {
    "duration": 1132,
    "start_time": "2023-02-18T12:54:46.849Z"
   },
   {
    "duration": 42,
    "start_time": "2023-02-18T12:54:47.983Z"
   },
   {
    "duration": 30,
    "start_time": "2023-02-18T12:54:48.027Z"
   },
   {
    "duration": 8,
    "start_time": "2023-02-18T12:54:48.722Z"
   },
   {
    "duration": 6,
    "start_time": "2023-02-18T12:54:49.453Z"
   },
   {
    "duration": 14,
    "start_time": "2023-02-18T12:54:49.964Z"
   },
   {
    "duration": 45,
    "start_time": "2023-02-18T12:54:50.964Z"
   },
   {
    "duration": 457,
    "start_time": "2023-02-18T12:54:51.495Z"
   },
   {
    "duration": 38,
    "start_time": "2023-02-18T12:54:52.577Z"
   },
   {
    "duration": 53,
    "start_time": "2023-02-18T12:54:53.120Z"
   },
   {
    "duration": 42,
    "start_time": "2023-02-18T12:54:53.380Z"
   },
   {
    "duration": 27,
    "start_time": "2023-02-18T12:54:55.684Z"
   },
   {
    "duration": 32,
    "start_time": "2023-02-18T12:55:00.934Z"
   },
   {
    "duration": 36,
    "start_time": "2023-02-18T12:55:10.776Z"
   },
   {
    "duration": 38,
    "start_time": "2023-02-18T12:55:18.089Z"
   },
   {
    "duration": 36,
    "start_time": "2023-02-18T12:55:21.764Z"
   },
   {
    "duration": 3,
    "start_time": "2023-02-18T12:55:47.025Z"
   },
   {
    "duration": 40,
    "start_time": "2023-02-18T12:55:47.190Z"
   },
   {
    "duration": 24,
    "start_time": "2023-02-18T12:55:47.359Z"
   },
   {
    "duration": 6,
    "start_time": "2023-02-18T12:55:47.714Z"
   },
   {
    "duration": 6,
    "start_time": "2023-02-18T12:55:48.114Z"
   },
   {
    "duration": 17,
    "start_time": "2023-02-18T12:55:48.663Z"
   },
   {
    "duration": 41,
    "start_time": "2023-02-18T12:55:49.816Z"
   },
   {
    "duration": 156,
    "start_time": "2023-02-18T12:55:51.226Z"
   },
   {
    "duration": 41,
    "start_time": "2023-02-18T12:55:53.292Z"
   },
   {
    "duration": 56,
    "start_time": "2023-02-18T12:55:55.100Z"
   },
   {
    "duration": 39,
    "start_time": "2023-02-18T12:56:00.158Z"
   },
   {
    "duration": 34,
    "start_time": "2023-02-18T12:56:02.063Z"
   },
   {
    "duration": 39,
    "start_time": "2023-02-18T12:56:15.515Z"
   },
   {
    "duration": 37,
    "start_time": "2023-02-18T12:56:18.807Z"
   },
   {
    "duration": 41,
    "start_time": "2023-02-18T12:56:22.459Z"
   },
   {
    "duration": 88,
    "start_time": "2023-02-18T12:56:26.491Z"
   },
   {
    "duration": 82,
    "start_time": "2023-02-18T12:56:32.874Z"
   },
   {
    "duration": 26,
    "start_time": "2023-02-18T12:56:40.358Z"
   },
   {
    "duration": 26,
    "start_time": "2023-02-18T12:56:43.043Z"
   },
   {
    "duration": 34,
    "start_time": "2023-02-18T12:57:29.607Z"
   },
   {
    "duration": 151,
    "start_time": "2023-02-18T12:57:42.855Z"
   },
   {
    "duration": 39,
    "start_time": "2023-02-18T12:58:26.576Z"
   },
   {
    "duration": 37,
    "start_time": "2023-02-18T12:58:37.419Z"
   },
   {
    "duration": 39,
    "start_time": "2023-02-18T13:04:36.993Z"
   },
   {
    "duration": 35,
    "start_time": "2023-02-18T13:05:36.880Z"
   },
   {
    "duration": 37,
    "start_time": "2023-02-18T13:05:40.332Z"
   },
   {
    "duration": 4,
    "start_time": "2023-02-18T13:06:25.493Z"
   },
   {
    "duration": 35,
    "start_time": "2023-02-18T13:08:05.688Z"
   },
   {
    "duration": 194,
    "start_time": "2023-02-18T13:08:08.378Z"
   },
   {
    "duration": 36,
    "start_time": "2023-02-18T13:08:12.879Z"
   },
   {
    "duration": 48,
    "start_time": "2023-02-18T13:08:16.253Z"
   },
   {
    "duration": 42,
    "start_time": "2023-02-18T13:08:17.848Z"
   },
   {
    "duration": 37,
    "start_time": "2023-02-18T13:08:21.736Z"
   },
   {
    "duration": 38,
    "start_time": "2023-02-18T13:08:30.416Z"
   },
   {
    "duration": 30,
    "start_time": "2023-02-18T13:08:35.268Z"
   },
   {
    "duration": 29,
    "start_time": "2023-02-18T13:08:38.732Z"
   },
   {
    "duration": 28,
    "start_time": "2023-02-18T13:08:41.795Z"
   },
   {
    "duration": 35,
    "start_time": "2023-02-18T13:08:45.681Z"
   },
   {
    "duration": 30,
    "start_time": "2023-02-18T13:08:48.075Z"
   },
   {
    "duration": 32,
    "start_time": "2023-02-18T13:08:50.779Z"
   },
   {
    "duration": 32,
    "start_time": "2023-02-18T13:08:54.634Z"
   },
   {
    "duration": 31,
    "start_time": "2023-02-18T13:08:57.650Z"
   },
   {
    "duration": 31,
    "start_time": "2023-02-18T13:09:00.554Z"
   },
   {
    "duration": 48,
    "start_time": "2023-02-18T13:09:03.682Z"
   },
   {
    "duration": 56,
    "start_time": "2023-02-18T13:09:07.186Z"
   },
   {
    "duration": 48,
    "start_time": "2023-02-18T13:09:10.078Z"
   },
   {
    "duration": 47,
    "start_time": "2023-02-18T13:09:14.132Z"
   },
   {
    "duration": 52,
    "start_time": "2023-02-18T13:09:17.856Z"
   },
   {
    "duration": 58,
    "start_time": "2023-02-18T13:09:21.643Z"
   },
   {
    "duration": 52,
    "start_time": "2023-02-18T13:09:24.335Z"
   },
   {
    "duration": 30,
    "start_time": "2023-02-18T13:09:27.517Z"
   },
   {
    "duration": 28,
    "start_time": "2023-02-18T13:09:29.222Z"
   },
   {
    "duration": 28,
    "start_time": "2023-02-18T13:09:49.170Z"
   },
   {
    "duration": 28,
    "start_time": "2023-02-18T13:09:54.002Z"
   },
   {
    "duration": 29,
    "start_time": "2023-02-18T13:09:58.100Z"
   },
   {
    "duration": 25,
    "start_time": "2023-02-18T13:10:02.178Z"
   },
   {
    "duration": 28,
    "start_time": "2023-02-18T13:10:05.790Z"
   },
   {
    "duration": 24,
    "start_time": "2023-02-18T13:10:09.512Z"
   },
   {
    "duration": 24,
    "start_time": "2023-02-18T13:10:12.724Z"
   },
   {
    "duration": 25,
    "start_time": "2023-02-18T13:10:17.150Z"
   },
   {
    "duration": 39,
    "start_time": "2023-02-18T13:10:52.888Z"
   },
   {
    "duration": 153,
    "start_time": "2023-02-18T13:10:54.686Z"
   },
   {
    "duration": 39,
    "start_time": "2023-02-18T13:10:57.358Z"
   },
   {
    "duration": 67,
    "start_time": "2023-02-18T13:10:59.313Z"
   },
   {
    "duration": 53,
    "start_time": "2023-02-18T13:11:04.500Z"
   },
   {
    "duration": 45,
    "start_time": "2023-02-18T13:11:07.551Z"
   },
   {
    "duration": 50,
    "start_time": "2023-02-18T13:11:10.722Z"
   },
   {
    "duration": 32,
    "start_time": "2023-02-18T13:11:14.527Z"
   },
   {
    "duration": 43,
    "start_time": "2023-02-18T13:11:21.961Z"
   },
   {
    "duration": 43,
    "start_time": "2023-02-18T13:11:26.553Z"
   },
   {
    "duration": 44,
    "start_time": "2023-02-18T13:11:33.194Z"
   },
   {
    "duration": 41,
    "start_time": "2023-02-18T13:11:37.382Z"
   },
   {
    "duration": 45,
    "start_time": "2023-02-18T13:11:42.758Z"
   },
   {
    "duration": 43,
    "start_time": "2023-02-18T13:11:46.522Z"
   },
   {
    "duration": 42,
    "start_time": "2023-02-18T13:11:51.426Z"
   },
   {
    "duration": 45,
    "start_time": "2023-02-18T13:11:55.248Z"
   },
   {
    "duration": 42,
    "start_time": "2023-02-18T13:11:59.193Z"
   },
   {
    "duration": 132,
    "start_time": "2023-02-18T13:12:02.313Z"
   },
   {
    "duration": 45,
    "start_time": "2023-02-18T13:12:05.329Z"
   },
   {
    "duration": 31,
    "start_time": "2023-02-18T13:12:39.698Z"
   },
   {
    "duration": 26,
    "start_time": "2023-02-18T13:12:44.380Z"
   },
   {
    "duration": 40,
    "start_time": "2023-02-18T13:12:48.133Z"
   },
   {
    "duration": 37,
    "start_time": "2023-02-18T13:12:52.370Z"
   },
   {
    "duration": 32,
    "start_time": "2023-02-18T13:12:57.409Z"
   },
   {
    "duration": 33,
    "start_time": "2023-02-18T13:13:01.581Z"
   },
   {
    "duration": 36,
    "start_time": "2023-02-18T13:13:08.001Z"
   },
   {
    "duration": 28,
    "start_time": "2023-02-18T13:13:12.174Z"
   },
   {
    "duration": 39,
    "start_time": "2023-02-18T13:13:17.516Z"
   },
   {
    "duration": 35,
    "start_time": "2023-02-18T13:13:20.900Z"
   },
   {
    "duration": 34,
    "start_time": "2023-02-18T13:13:24.987Z"
   },
   {
    "duration": 32,
    "start_time": "2023-02-18T13:13:28.752Z"
   },
   {
    "duration": 117,
    "start_time": "2023-02-18T13:18:38.478Z"
   },
   {
    "duration": 4,
    "start_time": "2023-02-18T13:19:15.960Z"
   },
   {
    "duration": 135,
    "start_time": "2023-02-18T13:19:19.952Z"
   },
   {
    "duration": 241,
    "start_time": "2023-02-18T13:19:41.039Z"
   },
   {
    "duration": 233,
    "start_time": "2023-02-18T13:24:34.018Z"
   },
   {
    "duration": 59,
    "start_time": "2023-02-18T13:34:29.738Z"
   },
   {
    "duration": 174,
    "start_time": "2023-02-18T13:34:52.975Z"
   },
   {
    "duration": 64,
    "start_time": "2023-02-18T13:35:30.503Z"
   },
   {
    "duration": 51,
    "start_time": "2023-02-18T13:35:49.476Z"
   },
   {
    "duration": 61,
    "start_time": "2023-02-18T13:35:56.868Z"
   },
   {
    "duration": 60,
    "start_time": "2023-02-18T13:37:18.085Z"
   },
   {
    "duration": 62,
    "start_time": "2023-02-18T13:37:22.050Z"
   },
   {
    "duration": 96,
    "start_time": "2023-02-18T13:38:09.841Z"
   },
   {
    "duration": 145,
    "start_time": "2023-02-18T13:38:28.501Z"
   },
   {
    "duration": 186,
    "start_time": "2023-02-18T13:38:46.876Z"
   },
   {
    "duration": 133,
    "start_time": "2023-02-18T13:38:56.114Z"
   },
   {
    "duration": 196,
    "start_time": "2023-02-18T13:39:31.964Z"
   },
   {
    "duration": 204,
    "start_time": "2023-02-18T13:39:40.443Z"
   },
   {
    "duration": 213,
    "start_time": "2023-02-18T13:39:47.926Z"
   },
   {
    "duration": 181,
    "start_time": "2023-02-18T13:40:03.373Z"
   },
   {
    "duration": 158,
    "start_time": "2023-02-18T13:46:47.196Z"
   },
   {
    "duration": 26,
    "start_time": "2023-02-18T13:47:18.536Z"
   },
   {
    "duration": 40,
    "start_time": "2023-02-18T13:47:26.546Z"
   },
   {
    "duration": 216,
    "start_time": "2023-02-18T13:47:30.029Z"
   },
   {
    "duration": 48,
    "start_time": "2023-02-18T13:49:57.950Z"
   },
   {
    "duration": 32,
    "start_time": "2023-02-18T13:50:05.793Z"
   },
   {
    "duration": 1457,
    "start_time": "2023-02-19T07:58:09.987Z"
   },
   {
    "duration": 173,
    "start_time": "2023-02-19T07:58:11.446Z"
   },
   {
    "duration": 25,
    "start_time": "2023-02-19T07:58:11.621Z"
   },
   {
    "duration": 6,
    "start_time": "2023-02-19T07:58:11.795Z"
   },
   {
    "duration": 5,
    "start_time": "2023-02-19T07:58:12.960Z"
   },
   {
    "duration": 12,
    "start_time": "2023-02-19T07:58:16.565Z"
   },
   {
    "duration": 49,
    "start_time": "2023-02-19T08:01:40.432Z"
   },
   {
    "duration": 10,
    "start_time": "2023-02-19T08:12:53.609Z"
   },
   {
    "duration": 708,
    "start_time": "2023-02-19T08:14:29.698Z"
   },
   {
    "duration": 4,
    "start_time": "2023-02-19T08:14:47.805Z"
   },
   {
    "duration": 41,
    "start_time": "2023-02-19T08:14:48.593Z"
   },
   {
    "duration": 21,
    "start_time": "2023-02-19T08:14:48.794Z"
   },
   {
    "duration": 6,
    "start_time": "2023-02-19T08:14:49.199Z"
   },
   {
    "duration": 6,
    "start_time": "2023-02-19T08:14:50.005Z"
   },
   {
    "duration": 14,
    "start_time": "2023-02-19T08:14:50.844Z"
   },
   {
    "duration": 50,
    "start_time": "2023-02-19T08:14:51.973Z"
   },
   {
    "duration": 156,
    "start_time": "2023-02-19T08:14:56.591Z"
   },
   {
    "duration": 731,
    "start_time": "2023-02-19T08:15:00.614Z"
   },
   {
    "duration": 994,
    "start_time": "2023-02-19T08:15:13.820Z"
   },
   {
    "duration": 662,
    "start_time": "2023-02-19T08:15:23.445Z"
   },
   {
    "duration": 1006,
    "start_time": "2023-02-19T08:16:03.826Z"
   },
   {
    "duration": 983,
    "start_time": "2023-02-19T08:16:09.391Z"
   },
   {
    "duration": 963,
    "start_time": "2023-02-19T08:16:14.018Z"
   },
   {
    "duration": 394,
    "start_time": "2023-02-19T08:16:21.948Z"
   },
   {
    "duration": 379,
    "start_time": "2023-02-19T08:16:27.752Z"
   },
   {
    "duration": 448,
    "start_time": "2023-02-19T08:16:32.091Z"
   },
   {
    "duration": 476,
    "start_time": "2023-02-19T08:16:37.514Z"
   },
   {
    "duration": 455,
    "start_time": "2023-02-19T08:16:41.747Z"
   },
   {
    "duration": 524,
    "start_time": "2023-02-19T08:16:47.335Z"
   },
   {
    "duration": 461,
    "start_time": "2023-02-19T08:16:50.614Z"
   },
   {
    "duration": 527,
    "start_time": "2023-02-19T08:16:54.940Z"
   },
   {
    "duration": 491,
    "start_time": "2023-02-19T08:17:01.184Z"
   },
   {
    "duration": 486,
    "start_time": "2023-02-19T08:17:04.970Z"
   },
   {
    "duration": 484,
    "start_time": "2023-02-19T08:17:08.304Z"
   },
   {
    "duration": 7,
    "start_time": "2023-02-19T08:22:48.684Z"
   },
   {
    "duration": 117,
    "start_time": "2023-02-19T08:22:57.540Z"
   },
   {
    "duration": 11,
    "start_time": "2023-02-19T08:24:15.465Z"
   },
   {
    "duration": 398437,
    "start_time": "2023-02-19T08:24:22.766Z"
   },
   {
    "duration": 157651,
    "start_time": "2023-02-19T08:32:31.210Z"
   },
   {
    "duration": 159274,
    "start_time": "2023-02-19T08:35:50.756Z"
   },
   {
    "duration": 21,
    "start_time": "2023-02-19T08:39:35.822Z"
   },
   {
    "duration": 19,
    "start_time": "2023-02-19T08:39:40.998Z"
   },
   {
    "duration": 511,
    "start_time": "2023-02-19T08:39:50.480Z"
   },
   {
    "duration": 22,
    "start_time": "2023-02-19T08:43:57.516Z"
   },
   {
    "duration": 229781,
    "start_time": "2023-02-19T08:44:23.593Z"
   },
   {
    "duration": 135,
    "start_time": "2023-02-19T08:50:12.649Z"
   },
   {
    "duration": 227,
    "start_time": "2023-02-19T08:50:18.518Z"
   },
   {
    "duration": 243,
    "start_time": "2023-02-19T08:50:24.608Z"
   },
   {
    "duration": 294,
    "start_time": "2023-02-19T08:50:31.039Z"
   },
   {
    "duration": 307,
    "start_time": "2023-02-19T08:50:36.642Z"
   },
   {
    "duration": 263,
    "start_time": "2023-02-19T08:50:39.794Z"
   },
   {
    "duration": 248,
    "start_time": "2023-02-19T08:50:43.952Z"
   },
   {
    "duration": 244,
    "start_time": "2023-02-19T08:50:48.003Z"
   },
   {
    "duration": 310,
    "start_time": "2023-02-19T08:51:12.916Z"
   },
   {
    "duration": 427,
    "start_time": "2023-02-19T08:51:17.975Z"
   },
   {
    "duration": 441,
    "start_time": "2023-02-19T08:51:25.067Z"
   },
   {
    "duration": 358,
    "start_time": "2023-02-19T08:51:29.643Z"
   },
   {
    "duration": 311,
    "start_time": "2023-02-19T08:51:37.635Z"
   },
   {
    "duration": 411,
    "start_time": "2023-02-19T08:51:45.096Z"
   },
   {
    "duration": 365,
    "start_time": "2023-02-19T08:51:49.487Z"
   },
   {
    "duration": 398,
    "start_time": "2023-02-19T08:51:54.504Z"
   },
   {
    "duration": 1374,
    "start_time": "2023-02-19T08:53:53.441Z"
   },
   {
    "duration": 54,
    "start_time": "2023-02-19T08:53:54.818Z"
   },
   {
    "duration": 37,
    "start_time": "2023-02-19T08:53:54.874Z"
   },
   {
    "duration": 9,
    "start_time": "2023-02-19T08:53:54.914Z"
   },
   {
    "duration": 18,
    "start_time": "2023-02-19T08:53:54.925Z"
   },
   {
    "duration": 12,
    "start_time": "2023-02-19T08:53:55.343Z"
   },
   {
    "duration": 53,
    "start_time": "2023-02-19T08:53:56.515Z"
   },
   {
    "duration": 149,
    "start_time": "2023-02-19T08:53:59.295Z"
   },
   {
    "duration": 751,
    "start_time": "2023-02-19T08:54:02.263Z"
   },
   {
    "duration": 1024,
    "start_time": "2023-02-19T08:54:03.522Z"
   },
   {
    "duration": 421,
    "start_time": "2023-02-19T08:54:04.702Z"
   },
   {
    "duration": 283632,
    "start_time": "2023-02-19T08:54:07.700Z"
   },
   {
    "duration": 34975,
    "start_time": "2023-02-19T09:03:55.135Z"
   },
   {
    "duration": 331724,
    "start_time": "2023-02-19T09:04:55.725Z"
   },
   {
    "duration": 392,
    "start_time": "2023-02-19T09:13:14.285Z"
   },
   {
    "duration": 325,
    "start_time": "2023-02-19T09:13:17.812Z"
   },
   {
    "duration": 240700,
    "start_time": "2023-02-19T09:15:30.986Z"
   },
   {
    "duration": 515,
    "start_time": "2023-02-19T09:20:10.303Z"
   },
   {
    "duration": 495,
    "start_time": "2023-02-19T09:20:52.648Z"
   },
   {
    "duration": 15818,
    "start_time": "2023-02-19T09:23:20.899Z"
   },
   {
    "duration": 49,
    "start_time": "2023-02-19T09:26:00.535Z"
   },
   {
    "duration": 1290,
    "start_time": "2023-02-19T09:26:07.350Z"
   },
   {
    "duration": 41,
    "start_time": "2023-02-19T09:26:08.642Z"
   },
   {
    "duration": 24,
    "start_time": "2023-02-19T09:26:08.684Z"
   },
   {
    "duration": 6,
    "start_time": "2023-02-19T09:26:08.710Z"
   },
   {
    "duration": 7,
    "start_time": "2023-02-19T09:26:08.717Z"
   },
   {
    "duration": 13,
    "start_time": "2023-02-19T09:26:08.884Z"
   },
   {
    "duration": 52,
    "start_time": "2023-02-19T09:26:09.669Z"
   },
   {
    "duration": 161,
    "start_time": "2023-02-19T09:26:10.657Z"
   },
   {
    "duration": 662,
    "start_time": "2023-02-19T09:26:11.893Z"
   },
   {
    "duration": 891,
    "start_time": "2023-02-19T09:26:12.557Z"
   },
   {
    "duration": 510,
    "start_time": "2023-02-19T09:26:13.449Z"
   },
   {
    "duration": 234450,
    "start_time": "2023-02-19T09:26:14.446Z"
   },
   {
    "duration": 296,
    "start_time": "2023-02-19T09:30:08.898Z"
   },
   {
    "duration": 3,
    "start_time": "2023-02-19T09:45:17.071Z"
   },
   {
    "duration": 43,
    "start_time": "2023-02-19T09:45:17.076Z"
   },
   {
    "duration": 44,
    "start_time": "2023-02-19T09:45:17.120Z"
   },
   {
    "duration": 1656,
    "start_time": "2023-02-20T09:55:30.947Z"
   },
   {
    "duration": 86,
    "start_time": "2023-02-20T09:55:34.095Z"
   },
   {
    "duration": 28,
    "start_time": "2023-02-20T09:55:34.465Z"
   },
   {
    "duration": 6,
    "start_time": "2023-02-20T09:55:35.420Z"
   },
   {
    "duration": 6,
    "start_time": "2023-02-20T09:55:36.379Z"
   },
   {
    "duration": 14,
    "start_time": "2023-02-20T09:55:37.413Z"
   },
   {
    "duration": 63,
    "start_time": "2023-02-20T09:55:38.856Z"
   },
   {
    "duration": 169,
    "start_time": "2023-02-20T09:55:40.612Z"
   },
   {
    "duration": 735,
    "start_time": "2023-02-20T09:55:42.285Z"
   },
   {
    "duration": 1013,
    "start_time": "2023-02-20T09:55:44.103Z"
   },
   {
    "duration": 578,
    "start_time": "2023-02-20T09:55:47.867Z"
   },
   {
    "duration": 258320,
    "start_time": "2023-02-20T09:55:51.654Z"
   },
   {
    "duration": 381,
    "start_time": "2023-02-20T10:00:09.976Z"
   },
   {
    "duration": 411,
    "start_time": "2023-02-20T10:05:25.284Z"
   },
   {
    "duration": 500,
    "start_time": "2023-02-20T10:05:36.952Z"
   },
   {
    "duration": 423,
    "start_time": "2023-02-20T10:05:44.548Z"
   },
   {
    "duration": 385,
    "start_time": "2023-02-20T10:05:49.391Z"
   },
   {
    "duration": 420,
    "start_time": "2023-02-20T10:06:00.740Z"
   },
   {
    "duration": 369,
    "start_time": "2023-02-20T10:08:33.408Z"
   },
   {
    "duration": 402,
    "start_time": "2023-02-20T10:08:38.430Z"
   },
   {
    "duration": 378,
    "start_time": "2023-02-20T10:08:43.053Z"
   },
   {
    "duration": 396,
    "start_time": "2023-02-20T10:08:45.980Z"
   },
   {
    "duration": 403,
    "start_time": "2023-02-20T10:08:50.575Z"
   },
   {
    "duration": 417,
    "start_time": "2023-02-20T10:08:53.573Z"
   },
   {
    "duration": 433,
    "start_time": "2023-02-20T10:09:01.215Z"
   },
   {
    "duration": 494,
    "start_time": "2023-02-20T10:09:04.842Z"
   },
   {
    "duration": 409,
    "start_time": "2023-02-20T10:09:10.067Z"
   },
   {
    "duration": 536,
    "start_time": "2023-02-20T10:09:16.613Z"
   },
   {
    "duration": 493,
    "start_time": "2023-02-20T10:09:20.599Z"
   },
   {
    "duration": 497,
    "start_time": "2023-02-20T10:09:44.405Z"
   },
   {
    "duration": 513,
    "start_time": "2023-02-20T10:09:51.015Z"
   },
   {
    "duration": 501,
    "start_time": "2023-02-20T10:09:56.111Z"
   },
   {
    "duration": 489,
    "start_time": "2023-02-20T10:10:01.227Z"
   },
   {
    "duration": 516,
    "start_time": "2023-02-20T10:10:05.216Z"
   },
   {
    "duration": 566,
    "start_time": "2023-02-20T10:10:08.743Z"
   },
   {
    "duration": 517,
    "start_time": "2023-02-20T10:10:16.146Z"
   },
   {
    "duration": 504,
    "start_time": "2023-02-20T10:10:21.114Z"
   },
   {
    "duration": 537,
    "start_time": "2023-02-20T10:10:26.013Z"
   },
   {
    "duration": 500,
    "start_time": "2023-02-20T10:10:31.077Z"
   },
   {
    "duration": 500,
    "start_time": "2023-02-20T10:10:36.253Z"
   },
   {
    "duration": 603,
    "start_time": "2023-02-20T10:11:17.674Z"
   },
   {
    "duration": 423,
    "start_time": "2023-02-20T10:11:41.739Z"
   },
   {
    "duration": 50,
    "start_time": "2023-02-23T09:13:19.469Z"
   },
   {
    "duration": 14,
    "start_time": "2023-02-23T09:14:26.455Z"
   },
   {
    "duration": 1534,
    "start_time": "2023-02-23T09:14:32.323Z"
   },
   {
    "duration": 81,
    "start_time": "2023-02-23T09:14:33.859Z"
   },
   {
    "duration": 27,
    "start_time": "2023-02-23T09:14:33.941Z"
   },
   {
    "duration": 7,
    "start_time": "2023-02-23T09:14:33.970Z"
   },
   {
    "duration": 6,
    "start_time": "2023-02-23T09:14:33.978Z"
   },
   {
    "duration": 14,
    "start_time": "2023-02-23T09:14:33.986Z"
   },
   {
    "duration": 56,
    "start_time": "2023-02-23T09:14:34.594Z"
   },
   {
    "duration": 153,
    "start_time": "2023-02-23T09:14:36.474Z"
   },
   {
    "duration": 696,
    "start_time": "2023-02-23T09:14:38.714Z"
   },
   {
    "duration": 935,
    "start_time": "2023-02-23T09:14:41.640Z"
   },
   {
    "duration": 467,
    "start_time": "2023-02-23T09:14:46.379Z"
   },
   {
    "duration": 235954,
    "start_time": "2023-02-23T09:14:51.581Z"
   },
   {
    "duration": 268,
    "start_time": "2023-02-23T09:18:47.538Z"
   },
   {
    "duration": 421,
    "start_time": "2023-02-23T09:18:47.808Z"
   },
   {
    "duration": 370,
    "start_time": "2023-02-23T09:21:00.694Z"
   },
   {
    "duration": 386,
    "start_time": "2023-02-23T09:21:32.417Z"
   },
   {
    "duration": 387,
    "start_time": "2023-02-23T09:21:36.660Z"
   },
   {
    "duration": 421,
    "start_time": "2023-02-23T09:21:45.865Z"
   },
   {
    "duration": 360,
    "start_time": "2023-02-23T09:21:52.879Z"
   },
   {
    "duration": 429,
    "start_time": "2023-02-23T09:21:58.408Z"
   },
   {
    "duration": 397,
    "start_time": "2023-02-23T09:22:03.353Z"
   },
   {
    "duration": 377,
    "start_time": "2023-02-23T09:22:08.656Z"
   },
   {
    "duration": 414,
    "start_time": "2023-02-23T09:22:14.005Z"
   },
   {
    "duration": 380,
    "start_time": "2023-02-23T09:22:17.225Z"
   },
   {
    "duration": 372,
    "start_time": "2023-02-23T09:22:24.116Z"
   },
   {
    "duration": 350,
    "start_time": "2023-02-23T09:22:28.541Z"
   },
   {
    "duration": 348,
    "start_time": "2023-02-23T09:22:35.594Z"
   },
   {
    "duration": 368,
    "start_time": "2023-02-23T09:22:39.241Z"
   },
   {
    "duration": 384,
    "start_time": "2023-02-23T09:22:42.823Z"
   },
   {
    "duration": 370,
    "start_time": "2023-02-23T09:22:49.223Z"
   },
   {
    "duration": 398,
    "start_time": "2023-02-23T09:22:53.880Z"
   },
   {
    "duration": 345,
    "start_time": "2023-02-23T09:22:58.225Z"
   },
   {
    "duration": 383,
    "start_time": "2023-02-23T09:23:02.454Z"
   },
   {
    "duration": 387,
    "start_time": "2023-02-23T09:23:08.258Z"
   },
   {
    "duration": 346,
    "start_time": "2023-02-23T09:23:12.732Z"
   },
   {
    "duration": 380,
    "start_time": "2023-02-23T09:23:15.898Z"
   },
   {
    "duration": 389,
    "start_time": "2023-02-23T09:23:22.288Z"
   },
   {
    "duration": 420,
    "start_time": "2023-02-23T09:23:28.214Z"
   },
   {
    "duration": 437,
    "start_time": "2023-02-23T09:23:32.130Z"
   },
   {
    "duration": 401,
    "start_time": "2023-02-23T09:23:39.720Z"
   },
   {
    "duration": 86,
    "start_time": "2023-02-23T09:23:44.612Z"
   },
   {
    "duration": 395,
    "start_time": "2023-02-23T09:23:48.648Z"
   },
   {
    "duration": 400,
    "start_time": "2023-02-23T09:23:53.020Z"
   },
   {
    "duration": 388,
    "start_time": "2023-02-23T09:23:57.405Z"
   },
   {
    "duration": 406,
    "start_time": "2023-02-23T09:24:02.906Z"
   },
   {
    "duration": 383,
    "start_time": "2023-02-23T09:24:17.412Z"
   },
   {
    "duration": 372,
    "start_time": "2023-02-23T09:27:05.469Z"
   },
   {
    "duration": 384,
    "start_time": "2023-02-23T09:27:10.545Z"
   },
   {
    "duration": 378,
    "start_time": "2023-02-23T09:27:21.118Z"
   },
   {
    "duration": 428,
    "start_time": "2023-02-23T09:27:47.820Z"
   },
   {
    "duration": 401,
    "start_time": "2023-02-23T09:27:53.274Z"
   },
   {
    "duration": 398,
    "start_time": "2023-02-23T09:27:58.163Z"
   },
   {
    "duration": 379,
    "start_time": "2023-02-23T09:28:05.461Z"
   },
   {
    "duration": 409,
    "start_time": "2023-02-23T09:28:07.885Z"
   },
   {
    "duration": 508,
    "start_time": "2023-02-23T09:29:51.997Z"
   },
   {
    "duration": 1707,
    "start_time": "2023-05-13T12:00:58.188Z"
   },
   {
    "duration": 94,
    "start_time": "2023-05-13T12:01:00.984Z"
   },
   {
    "duration": 28,
    "start_time": "2023-05-13T12:01:02.278Z"
   },
   {
    "duration": 11,
    "start_time": "2023-05-13T12:05:59.233Z"
   },
   {
    "duration": 6,
    "start_time": "2023-05-13T12:06:14.648Z"
   },
   {
    "duration": 15,
    "start_time": "2023-05-13T12:07:18.634Z"
   },
   {
    "duration": 64,
    "start_time": "2023-05-13T12:08:57.239Z"
   },
   {
    "duration": 183,
    "start_time": "2023-05-13T12:19:12.855Z"
   },
   {
    "duration": 734,
    "start_time": "2023-05-13T12:19:15.220Z"
   },
   {
    "duration": 1085,
    "start_time": "2023-05-13T12:19:20.375Z"
   },
   {
    "duration": 501,
    "start_time": "2023-05-13T12:19:23.177Z"
   },
   {
    "duration": 119,
    "start_time": "2023-05-13T12:19:32.703Z"
   },
   {
    "duration": 6,
    "start_time": "2023-05-13T12:19:41.133Z"
   },
   {
    "duration": 51,
    "start_time": "2023-05-13T12:19:41.537Z"
   },
   {
    "duration": 35,
    "start_time": "2023-05-13T12:19:42.254Z"
   },
   {
    "duration": 7,
    "start_time": "2023-05-13T12:19:42.784Z"
   },
   {
    "duration": 6,
    "start_time": "2023-05-13T12:19:43.407Z"
   },
   {
    "duration": 17,
    "start_time": "2023-05-13T12:19:43.971Z"
   },
   {
    "duration": 61,
    "start_time": "2023-05-13T12:19:45.225Z"
   },
   {
    "duration": 153,
    "start_time": "2023-05-13T12:19:49.768Z"
   },
   {
    "duration": 694,
    "start_time": "2023-05-13T12:19:51.254Z"
   },
   {
    "duration": 1004,
    "start_time": "2023-05-13T12:19:51.995Z"
   },
   {
    "duration": 501,
    "start_time": "2023-05-13T12:19:53.718Z"
   },
   {
    "duration": 33,
    "start_time": "2023-05-13T12:19:55.572Z"
   },
   {
    "duration": 92423,
    "start_time": "2023-05-13T12:22:54.147Z"
   },
   {
    "duration": 2004,
    "start_time": "2023-06-11T12:05:01.013Z"
   },
   {
    "duration": 111,
    "start_time": "2023-06-11T12:05:03.018Z"
   },
   {
    "duration": 47,
    "start_time": "2023-06-11T12:05:03.132Z"
   },
   {
    "duration": 11,
    "start_time": "2023-06-11T12:05:03.188Z"
   },
   {
    "duration": 10,
    "start_time": "2023-06-11T12:05:03.201Z"
   },
   {
    "duration": 24,
    "start_time": "2023-06-11T12:05:03.213Z"
   },
   {
    "duration": 84,
    "start_time": "2023-06-11T12:05:08.513Z"
   },
   {
    "duration": 192,
    "start_time": "2023-06-11T12:05:12.706Z"
   },
   {
    "duration": 609,
    "start_time": "2023-06-11T12:05:42.290Z"
   },
   {
    "duration": 599276,
    "start_time": "2023-06-11T12:06:16.684Z"
   },
   {
    "duration": 1249968,
    "start_time": "2023-06-11T12:16:15.975Z"
   }
  ],
  "kernelspec": {
   "display_name": "Python 3 (ipykernel)",
   "language": "python",
   "name": "python3"
  },
  "language_info": {
   "codemirror_mode": {
    "name": "ipython",
    "version": 3
   },
   "file_extension": ".py",
   "mimetype": "text/x-python",
   "name": "python",
   "nbconvert_exporter": "python",
   "pygments_lexer": "ipython3",
   "version": "3.9.5"
  },
  "toc": {
   "base_numbering": 1,
   "nav_menu": {},
   "number_sections": true,
   "sideBar": true,
   "skip_h1_title": true,
   "title_cell": "Содержание",
   "title_sidebar": "Contents",
   "toc_cell": true,
   "toc_position": {
    "height": "calc(100% - 180px)",
    "left": "10px",
    "top": "150px",
    "width": "165px"
   },
   "toc_section_display": true,
   "toc_window_display": true
  }
 },
 "nbformat": 4,
 "nbformat_minor": 2
}
