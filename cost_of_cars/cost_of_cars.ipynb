{
 "cells": [
  {
   "cell_type": "markdown",
   "metadata": {},
   "source": [
    "# Определение стоимости автомобилей"
   ]
  },
  {
   "cell_type": "markdown",
   "metadata": {},
   "source": [
    "Сервис по продаже автомобилей с пробегом «Не бит, не крашен» разрабатывает приложение для привлечения новых клиентов. В нём можно быстро узнать рыночную стоимость своего автомобиля. В вашем распоряжении исторические данные: технические характеристики, комплектации и цены автомобилей. Необходимо построить модель для определения стоимости. \n",
    "\n",
    "Заказчику важны:\n",
    "\n",
    "- качество предсказания;\n",
    "- скорость предсказания;\n",
    "- время обучения."
   ]
  },
  {
   "cell_type": "markdown",
   "metadata": {},
   "source": [
    "## Подготовка данных"
   ]
  },
  {
   "cell_type": "code",
   "execution_count": 2,
   "metadata": {},
   "outputs": [],
   "source": [
    "import pandas as pd\n",
    "import numpy as np\n",
    "from sklearn.linear_model import LinearRegression\n",
    "from lightgbm import LGBMRegressor\n",
    "from sklearn.metrics import mean_squared_error, make_scorer\n",
    "from sklearn.model_selection import train_test_split\n",
    "from sklearn.model_selection import GridSearchCV\n",
    "from sklearn.preprocessing import OrdinalEncoder\n",
    "from sklearn.preprocessing import StandardScaler\n",
    "from sklearn.model_selection import cross_val_score\n",
    "from sklearn.tree import DecisionTreeRegressor"
   ]
  },
  {
   "cell_type": "code",
   "execution_count": 3,
   "metadata": {},
   "outputs": [
    {
     "data": {
      "text/html": [
       "<div>\n",
       "<style scoped>\n",
       "    .dataframe tbody tr th:only-of-type {\n",
       "        vertical-align: middle;\n",
       "    }\n",
       "\n",
       "    .dataframe tbody tr th {\n",
       "        vertical-align: top;\n",
       "    }\n",
       "\n",
       "    .dataframe thead th {\n",
       "        text-align: right;\n",
       "    }\n",
       "</style>\n",
       "<table border=\"1\" class=\"dataframe\">\n",
       "  <thead>\n",
       "    <tr style=\"text-align: right;\">\n",
       "      <th></th>\n",
       "      <th>DateCrawled</th>\n",
       "      <th>Price</th>\n",
       "      <th>VehicleType</th>\n",
       "      <th>RegistrationYear</th>\n",
       "      <th>Gearbox</th>\n",
       "      <th>Power</th>\n",
       "      <th>Model</th>\n",
       "      <th>Kilometer</th>\n",
       "      <th>RegistrationMonth</th>\n",
       "      <th>FuelType</th>\n",
       "      <th>Brand</th>\n",
       "      <th>Repaired</th>\n",
       "      <th>DateCreated</th>\n",
       "      <th>NumberOfPictures</th>\n",
       "      <th>PostalCode</th>\n",
       "      <th>LastSeen</th>\n",
       "    </tr>\n",
       "  </thead>\n",
       "  <tbody>\n",
       "    <tr>\n",
       "      <th>0</th>\n",
       "      <td>2016-03-24 11:52:17</td>\n",
       "      <td>480</td>\n",
       "      <td>NaN</td>\n",
       "      <td>1993</td>\n",
       "      <td>manual</td>\n",
       "      <td>0</td>\n",
       "      <td>golf</td>\n",
       "      <td>150000</td>\n",
       "      <td>0</td>\n",
       "      <td>petrol</td>\n",
       "      <td>volkswagen</td>\n",
       "      <td>NaN</td>\n",
       "      <td>2016-03-24 00:00:00</td>\n",
       "      <td>0</td>\n",
       "      <td>70435</td>\n",
       "      <td>2016-04-07 03:16:57</td>\n",
       "    </tr>\n",
       "    <tr>\n",
       "      <th>1</th>\n",
       "      <td>2016-03-24 10:58:45</td>\n",
       "      <td>18300</td>\n",
       "      <td>coupe</td>\n",
       "      <td>2011</td>\n",
       "      <td>manual</td>\n",
       "      <td>190</td>\n",
       "      <td>NaN</td>\n",
       "      <td>125000</td>\n",
       "      <td>5</td>\n",
       "      <td>gasoline</td>\n",
       "      <td>audi</td>\n",
       "      <td>yes</td>\n",
       "      <td>2016-03-24 00:00:00</td>\n",
       "      <td>0</td>\n",
       "      <td>66954</td>\n",
       "      <td>2016-04-07 01:46:50</td>\n",
       "    </tr>\n",
       "    <tr>\n",
       "      <th>2</th>\n",
       "      <td>2016-03-14 12:52:21</td>\n",
       "      <td>9800</td>\n",
       "      <td>suv</td>\n",
       "      <td>2004</td>\n",
       "      <td>auto</td>\n",
       "      <td>163</td>\n",
       "      <td>grand</td>\n",
       "      <td>125000</td>\n",
       "      <td>8</td>\n",
       "      <td>gasoline</td>\n",
       "      <td>jeep</td>\n",
       "      <td>NaN</td>\n",
       "      <td>2016-03-14 00:00:00</td>\n",
       "      <td>0</td>\n",
       "      <td>90480</td>\n",
       "      <td>2016-04-05 12:47:46</td>\n",
       "    </tr>\n",
       "    <tr>\n",
       "      <th>3</th>\n",
       "      <td>2016-03-17 16:54:04</td>\n",
       "      <td>1500</td>\n",
       "      <td>small</td>\n",
       "      <td>2001</td>\n",
       "      <td>manual</td>\n",
       "      <td>75</td>\n",
       "      <td>golf</td>\n",
       "      <td>150000</td>\n",
       "      <td>6</td>\n",
       "      <td>petrol</td>\n",
       "      <td>volkswagen</td>\n",
       "      <td>no</td>\n",
       "      <td>2016-03-17 00:00:00</td>\n",
       "      <td>0</td>\n",
       "      <td>91074</td>\n",
       "      <td>2016-03-17 17:40:17</td>\n",
       "    </tr>\n",
       "    <tr>\n",
       "      <th>4</th>\n",
       "      <td>2016-03-31 17:25:20</td>\n",
       "      <td>3600</td>\n",
       "      <td>small</td>\n",
       "      <td>2008</td>\n",
       "      <td>manual</td>\n",
       "      <td>69</td>\n",
       "      <td>fabia</td>\n",
       "      <td>90000</td>\n",
       "      <td>7</td>\n",
       "      <td>gasoline</td>\n",
       "      <td>skoda</td>\n",
       "      <td>no</td>\n",
       "      <td>2016-03-31 00:00:00</td>\n",
       "      <td>0</td>\n",
       "      <td>60437</td>\n",
       "      <td>2016-04-06 10:17:21</td>\n",
       "    </tr>\n",
       "    <tr>\n",
       "      <th>5</th>\n",
       "      <td>2016-04-04 17:36:23</td>\n",
       "      <td>650</td>\n",
       "      <td>sedan</td>\n",
       "      <td>1995</td>\n",
       "      <td>manual</td>\n",
       "      <td>102</td>\n",
       "      <td>3er</td>\n",
       "      <td>150000</td>\n",
       "      <td>10</td>\n",
       "      <td>petrol</td>\n",
       "      <td>bmw</td>\n",
       "      <td>yes</td>\n",
       "      <td>2016-04-04 00:00:00</td>\n",
       "      <td>0</td>\n",
       "      <td>33775</td>\n",
       "      <td>2016-04-06 19:17:07</td>\n",
       "    </tr>\n",
       "    <tr>\n",
       "      <th>6</th>\n",
       "      <td>2016-04-01 20:48:51</td>\n",
       "      <td>2200</td>\n",
       "      <td>convertible</td>\n",
       "      <td>2004</td>\n",
       "      <td>manual</td>\n",
       "      <td>109</td>\n",
       "      <td>2_reihe</td>\n",
       "      <td>150000</td>\n",
       "      <td>8</td>\n",
       "      <td>petrol</td>\n",
       "      <td>peugeot</td>\n",
       "      <td>no</td>\n",
       "      <td>2016-04-01 00:00:00</td>\n",
       "      <td>0</td>\n",
       "      <td>67112</td>\n",
       "      <td>2016-04-05 18:18:39</td>\n",
       "    </tr>\n",
       "    <tr>\n",
       "      <th>7</th>\n",
       "      <td>2016-03-21 18:54:38</td>\n",
       "      <td>0</td>\n",
       "      <td>sedan</td>\n",
       "      <td>1980</td>\n",
       "      <td>manual</td>\n",
       "      <td>50</td>\n",
       "      <td>other</td>\n",
       "      <td>40000</td>\n",
       "      <td>7</td>\n",
       "      <td>petrol</td>\n",
       "      <td>volkswagen</td>\n",
       "      <td>no</td>\n",
       "      <td>2016-03-21 00:00:00</td>\n",
       "      <td>0</td>\n",
       "      <td>19348</td>\n",
       "      <td>2016-03-25 16:47:58</td>\n",
       "    </tr>\n",
       "    <tr>\n",
       "      <th>8</th>\n",
       "      <td>2016-04-04 23:42:13</td>\n",
       "      <td>14500</td>\n",
       "      <td>bus</td>\n",
       "      <td>2014</td>\n",
       "      <td>manual</td>\n",
       "      <td>125</td>\n",
       "      <td>c_max</td>\n",
       "      <td>30000</td>\n",
       "      <td>8</td>\n",
       "      <td>petrol</td>\n",
       "      <td>ford</td>\n",
       "      <td>NaN</td>\n",
       "      <td>2016-04-04 00:00:00</td>\n",
       "      <td>0</td>\n",
       "      <td>94505</td>\n",
       "      <td>2016-04-04 23:42:13</td>\n",
       "    </tr>\n",
       "    <tr>\n",
       "      <th>9</th>\n",
       "      <td>2016-03-17 10:53:50</td>\n",
       "      <td>999</td>\n",
       "      <td>small</td>\n",
       "      <td>1998</td>\n",
       "      <td>manual</td>\n",
       "      <td>101</td>\n",
       "      <td>golf</td>\n",
       "      <td>150000</td>\n",
       "      <td>0</td>\n",
       "      <td>NaN</td>\n",
       "      <td>volkswagen</td>\n",
       "      <td>NaN</td>\n",
       "      <td>2016-03-17 00:00:00</td>\n",
       "      <td>0</td>\n",
       "      <td>27472</td>\n",
       "      <td>2016-03-31 17:17:06</td>\n",
       "    </tr>\n",
       "  </tbody>\n",
       "</table>\n",
       "</div>"
      ],
      "text/plain": [
       "           DateCrawled  Price  VehicleType  RegistrationYear Gearbox  Power  \\\n",
       "0  2016-03-24 11:52:17    480          NaN              1993  manual      0   \n",
       "1  2016-03-24 10:58:45  18300        coupe              2011  manual    190   \n",
       "2  2016-03-14 12:52:21   9800          suv              2004    auto    163   \n",
       "3  2016-03-17 16:54:04   1500        small              2001  manual     75   \n",
       "4  2016-03-31 17:25:20   3600        small              2008  manual     69   \n",
       "5  2016-04-04 17:36:23    650        sedan              1995  manual    102   \n",
       "6  2016-04-01 20:48:51   2200  convertible              2004  manual    109   \n",
       "7  2016-03-21 18:54:38      0        sedan              1980  manual     50   \n",
       "8  2016-04-04 23:42:13  14500          bus              2014  manual    125   \n",
       "9  2016-03-17 10:53:50    999        small              1998  manual    101   \n",
       "\n",
       "     Model  Kilometer  RegistrationMonth  FuelType       Brand Repaired  \\\n",
       "0     golf     150000                  0    petrol  volkswagen      NaN   \n",
       "1      NaN     125000                  5  gasoline        audi      yes   \n",
       "2    grand     125000                  8  gasoline        jeep      NaN   \n",
       "3     golf     150000                  6    petrol  volkswagen       no   \n",
       "4    fabia      90000                  7  gasoline       skoda       no   \n",
       "5      3er     150000                 10    petrol         bmw      yes   \n",
       "6  2_reihe     150000                  8    petrol     peugeot       no   \n",
       "7    other      40000                  7    petrol  volkswagen       no   \n",
       "8    c_max      30000                  8    petrol        ford      NaN   \n",
       "9     golf     150000                  0       NaN  volkswagen      NaN   \n",
       "\n",
       "           DateCreated  NumberOfPictures  PostalCode             LastSeen  \n",
       "0  2016-03-24 00:00:00                 0       70435  2016-04-07 03:16:57  \n",
       "1  2016-03-24 00:00:00                 0       66954  2016-04-07 01:46:50  \n",
       "2  2016-03-14 00:00:00                 0       90480  2016-04-05 12:47:46  \n",
       "3  2016-03-17 00:00:00                 0       91074  2016-03-17 17:40:17  \n",
       "4  2016-03-31 00:00:00                 0       60437  2016-04-06 10:17:21  \n",
       "5  2016-04-04 00:00:00                 0       33775  2016-04-06 19:17:07  \n",
       "6  2016-04-01 00:00:00                 0       67112  2016-04-05 18:18:39  \n",
       "7  2016-03-21 00:00:00                 0       19348  2016-03-25 16:47:58  \n",
       "8  2016-04-04 00:00:00                 0       94505  2016-04-04 23:42:13  \n",
       "9  2016-03-17 00:00:00                 0       27472  2016-03-31 17:17:06  "
      ]
     },
     "execution_count": 3,
     "metadata": {},
     "output_type": "execute_result"
    }
   ],
   "source": [
    "df = pd.read_csv('/datasets/autos.csv')\n",
    "df.head(10)"
   ]
  },
  {
   "cell_type": "code",
   "execution_count": 4,
   "metadata": {},
   "outputs": [],
   "source": [
    "def df_analyse(df):\n",
    "    print('Количество параметров и объектов', df.shape)\n",
    "    print('Количество дубликатов в датасете', df.duplicated().sum())\n",
    "    print('Количество пропусков в датасете', df.isna().sum().sum())"
   ]
  },
  {
   "cell_type": "code",
   "execution_count": 5,
   "metadata": {
    "scrolled": false
   },
   "outputs": [
    {
     "name": "stdout",
     "output_type": "stream",
     "text": [
      "<class 'pandas.core.frame.DataFrame'>\n",
      "RangeIndex: 354369 entries, 0 to 354368\n",
      "Data columns (total 16 columns):\n",
      " #   Column             Non-Null Count   Dtype \n",
      "---  ------             --------------   ----- \n",
      " 0   DateCrawled        354369 non-null  object\n",
      " 1   Price              354369 non-null  int64 \n",
      " 2   VehicleType        316879 non-null  object\n",
      " 3   RegistrationYear   354369 non-null  int64 \n",
      " 4   Gearbox            334536 non-null  object\n",
      " 5   Power              354369 non-null  int64 \n",
      " 6   Model              334664 non-null  object\n",
      " 7   Kilometer          354369 non-null  int64 \n",
      " 8   RegistrationMonth  354369 non-null  int64 \n",
      " 9   FuelType           321474 non-null  object\n",
      " 10  Brand              354369 non-null  object\n",
      " 11  Repaired           283215 non-null  object\n",
      " 12  DateCreated        354369 non-null  object\n",
      " 13  NumberOfPictures   354369 non-null  int64 \n",
      " 14  PostalCode         354369 non-null  int64 \n",
      " 15  LastSeen           354369 non-null  object\n",
      "dtypes: int64(7), object(9)\n",
      "memory usage: 43.3+ MB\n",
      "Количество параметров и объектов (354369, 16)\n",
      "Количество дубликатов в датасете 4\n",
      "Количество пропусков в датасете 181077\n"
     ]
    }
   ],
   "source": [
    "df.info()\n",
    "df_analyse(df)"
   ]
  },
  {
   "cell_type": "code",
   "execution_count": 6,
   "metadata": {},
   "outputs": [
    {
     "data": {
      "text/html": [
       "<div>\n",
       "<style scoped>\n",
       "    .dataframe tbody tr th:only-of-type {\n",
       "        vertical-align: middle;\n",
       "    }\n",
       "\n",
       "    .dataframe tbody tr th {\n",
       "        vertical-align: top;\n",
       "    }\n",
       "\n",
       "    .dataframe thead th {\n",
       "        text-align: right;\n",
       "    }\n",
       "</style>\n",
       "<table border=\"1\" class=\"dataframe\">\n",
       "  <thead>\n",
       "    <tr style=\"text-align: right;\">\n",
       "      <th></th>\n",
       "      <th>Price</th>\n",
       "      <th>RegistrationYear</th>\n",
       "      <th>Power</th>\n",
       "      <th>Kilometer</th>\n",
       "      <th>RegistrationMonth</th>\n",
       "      <th>NumberOfPictures</th>\n",
       "      <th>PostalCode</th>\n",
       "    </tr>\n",
       "  </thead>\n",
       "  <tbody>\n",
       "    <tr>\n",
       "      <th>count</th>\n",
       "      <td>354369.000000</td>\n",
       "      <td>354369.000000</td>\n",
       "      <td>354369.000000</td>\n",
       "      <td>354369.000000</td>\n",
       "      <td>354369.000000</td>\n",
       "      <td>354369.0</td>\n",
       "      <td>354369.000000</td>\n",
       "    </tr>\n",
       "    <tr>\n",
       "      <th>mean</th>\n",
       "      <td>4416.656776</td>\n",
       "      <td>2004.234448</td>\n",
       "      <td>110.094337</td>\n",
       "      <td>128211.172535</td>\n",
       "      <td>5.714645</td>\n",
       "      <td>0.0</td>\n",
       "      <td>50508.689087</td>\n",
       "    </tr>\n",
       "    <tr>\n",
       "      <th>std</th>\n",
       "      <td>4514.158514</td>\n",
       "      <td>90.227958</td>\n",
       "      <td>189.850405</td>\n",
       "      <td>37905.341530</td>\n",
       "      <td>3.726421</td>\n",
       "      <td>0.0</td>\n",
       "      <td>25783.096248</td>\n",
       "    </tr>\n",
       "    <tr>\n",
       "      <th>min</th>\n",
       "      <td>0.000000</td>\n",
       "      <td>1000.000000</td>\n",
       "      <td>0.000000</td>\n",
       "      <td>5000.000000</td>\n",
       "      <td>0.000000</td>\n",
       "      <td>0.0</td>\n",
       "      <td>1067.000000</td>\n",
       "    </tr>\n",
       "    <tr>\n",
       "      <th>25%</th>\n",
       "      <td>1050.000000</td>\n",
       "      <td>1999.000000</td>\n",
       "      <td>69.000000</td>\n",
       "      <td>125000.000000</td>\n",
       "      <td>3.000000</td>\n",
       "      <td>0.0</td>\n",
       "      <td>30165.000000</td>\n",
       "    </tr>\n",
       "    <tr>\n",
       "      <th>50%</th>\n",
       "      <td>2700.000000</td>\n",
       "      <td>2003.000000</td>\n",
       "      <td>105.000000</td>\n",
       "      <td>150000.000000</td>\n",
       "      <td>6.000000</td>\n",
       "      <td>0.0</td>\n",
       "      <td>49413.000000</td>\n",
       "    </tr>\n",
       "    <tr>\n",
       "      <th>75%</th>\n",
       "      <td>6400.000000</td>\n",
       "      <td>2008.000000</td>\n",
       "      <td>143.000000</td>\n",
       "      <td>150000.000000</td>\n",
       "      <td>9.000000</td>\n",
       "      <td>0.0</td>\n",
       "      <td>71083.000000</td>\n",
       "    </tr>\n",
       "    <tr>\n",
       "      <th>max</th>\n",
       "      <td>20000.000000</td>\n",
       "      <td>9999.000000</td>\n",
       "      <td>20000.000000</td>\n",
       "      <td>150000.000000</td>\n",
       "      <td>12.000000</td>\n",
       "      <td>0.0</td>\n",
       "      <td>99998.000000</td>\n",
       "    </tr>\n",
       "  </tbody>\n",
       "</table>\n",
       "</div>"
      ],
      "text/plain": [
       "               Price  RegistrationYear          Power      Kilometer  \\\n",
       "count  354369.000000     354369.000000  354369.000000  354369.000000   \n",
       "mean     4416.656776       2004.234448     110.094337  128211.172535   \n",
       "std      4514.158514         90.227958     189.850405   37905.341530   \n",
       "min         0.000000       1000.000000       0.000000    5000.000000   \n",
       "25%      1050.000000       1999.000000      69.000000  125000.000000   \n",
       "50%      2700.000000       2003.000000     105.000000  150000.000000   \n",
       "75%      6400.000000       2008.000000     143.000000  150000.000000   \n",
       "max     20000.000000       9999.000000   20000.000000  150000.000000   \n",
       "\n",
       "       RegistrationMonth  NumberOfPictures     PostalCode  \n",
       "count      354369.000000          354369.0  354369.000000  \n",
       "mean            5.714645               0.0   50508.689087  \n",
       "std             3.726421               0.0   25783.096248  \n",
       "min             0.000000               0.0    1067.000000  \n",
       "25%             3.000000               0.0   30165.000000  \n",
       "50%             6.000000               0.0   49413.000000  \n",
       "75%             9.000000               0.0   71083.000000  \n",
       "max            12.000000               0.0   99998.000000  "
      ]
     },
     "execution_count": 6,
     "metadata": {},
     "output_type": "execute_result"
    }
   ],
   "source": [
    "df.describe()"
   ]
  },
  {
   "cell_type": "markdown",
   "metadata": {},
   "source": [
    "В результате изучения полученных данных, были выявлены следующие особенности:\n",
    "\n",
    "1. В некоторых объявлений указаны некорректные значения года регистрации автомобиля;\n",
    "2. В некоторых объявлений указаны некорректные значения мощности (л. с.) автомобиля;\n",
    "3. Для некоторых автомобилей указана цена 0 евро.\n",
    "\n",
    "Для начала удалим неинформативные для моделей признаки:"
   ]
  },
  {
   "cell_type": "code",
   "execution_count": 7,
   "metadata": {},
   "outputs": [],
   "source": [
    "new_df = df.drop(\n",
    "    ['DateCrawled', 'LastSeen', 'PostalCode',\n",
    "     'NumberOfPictures', 'DateCreated',\n",
    "    'RegistrationMonth', ], axis=1)"
   ]
  },
  {
   "cell_type": "code",
   "execution_count": 8,
   "metadata": {
    "scrolled": true
   },
   "outputs": [
    {
     "name": "stdout",
     "output_type": "stream",
     "text": [
      "<class 'pandas.core.frame.DataFrame'>\n",
      "RangeIndex: 354369 entries, 0 to 354368\n",
      "Data columns (total 10 columns):\n",
      " #   Column            Non-Null Count   Dtype \n",
      "---  ------            --------------   ----- \n",
      " 0   Price             354369 non-null  int64 \n",
      " 1   VehicleType       316879 non-null  object\n",
      " 2   RegistrationYear  354369 non-null  int64 \n",
      " 3   Gearbox           334536 non-null  object\n",
      " 4   Power             354369 non-null  int64 \n",
      " 5   Model             334664 non-null  object\n",
      " 6   Kilometer         354369 non-null  int64 \n",
      " 7   FuelType          321474 non-null  object\n",
      " 8   Brand             354369 non-null  object\n",
      " 9   Repaired          283215 non-null  object\n",
      "dtypes: int64(4), object(6)\n",
      "memory usage: 27.0+ MB\n",
      "Количество параметров и объектов (354369, 10)\n",
      "Количество дубликатов в датасете 45040\n",
      "Количество пропусков в датасете 181077\n"
     ]
    }
   ],
   "source": [
    "new_df.info()\n",
    "df_analyse(new_df)"
   ]
  },
  {
   "cell_type": "code",
   "execution_count": 9,
   "metadata": {},
   "outputs": [
    {
     "data": {
      "text/html": [
       "<div>\n",
       "<style scoped>\n",
       "    .dataframe tbody tr th:only-of-type {\n",
       "        vertical-align: middle;\n",
       "    }\n",
       "\n",
       "    .dataframe tbody tr th {\n",
       "        vertical-align: top;\n",
       "    }\n",
       "\n",
       "    .dataframe thead th {\n",
       "        text-align: right;\n",
       "    }\n",
       "</style>\n",
       "<table border=\"1\" class=\"dataframe\">\n",
       "  <thead>\n",
       "    <tr style=\"text-align: right;\">\n",
       "      <th></th>\n",
       "      <th>Price</th>\n",
       "      <th>RegistrationYear</th>\n",
       "      <th>Power</th>\n",
       "      <th>Kilometer</th>\n",
       "    </tr>\n",
       "  </thead>\n",
       "  <tbody>\n",
       "    <tr>\n",
       "      <th>count</th>\n",
       "      <td>309329.000000</td>\n",
       "      <td>309329.000000</td>\n",
       "      <td>309329.000000</td>\n",
       "      <td>309329.000000</td>\n",
       "    </tr>\n",
       "    <tr>\n",
       "      <th>mean</th>\n",
       "      <td>4486.937196</td>\n",
       "      <td>2004.360105</td>\n",
       "      <td>110.976908</td>\n",
       "      <td>127217.735809</td>\n",
       "    </tr>\n",
       "    <tr>\n",
       "      <th>std</th>\n",
       "      <td>4564.852796</td>\n",
       "      <td>92.541399</td>\n",
       "      <td>200.969473</td>\n",
       "      <td>38532.941010</td>\n",
       "    </tr>\n",
       "    <tr>\n",
       "      <th>min</th>\n",
       "      <td>0.000000</td>\n",
       "      <td>1000.000000</td>\n",
       "      <td>0.000000</td>\n",
       "      <td>5000.000000</td>\n",
       "    </tr>\n",
       "    <tr>\n",
       "      <th>25%</th>\n",
       "      <td>1100.000000</td>\n",
       "      <td>1999.000000</td>\n",
       "      <td>69.000000</td>\n",
       "      <td>125000.000000</td>\n",
       "    </tr>\n",
       "    <tr>\n",
       "      <th>50%</th>\n",
       "      <td>2800.000000</td>\n",
       "      <td>2003.000000</td>\n",
       "      <td>105.000000</td>\n",
       "      <td>150000.000000</td>\n",
       "    </tr>\n",
       "    <tr>\n",
       "      <th>75%</th>\n",
       "      <td>6500.000000</td>\n",
       "      <td>2008.000000</td>\n",
       "      <td>143.000000</td>\n",
       "      <td>150000.000000</td>\n",
       "    </tr>\n",
       "    <tr>\n",
       "      <th>max</th>\n",
       "      <td>20000.000000</td>\n",
       "      <td>9999.000000</td>\n",
       "      <td>20000.000000</td>\n",
       "      <td>150000.000000</td>\n",
       "    </tr>\n",
       "  </tbody>\n",
       "</table>\n",
       "</div>"
      ],
      "text/plain": [
       "               Price  RegistrationYear          Power      Kilometer\n",
       "count  309329.000000     309329.000000  309329.000000  309329.000000\n",
       "mean     4486.937196       2004.360105     110.976908  127217.735809\n",
       "std      4564.852796         92.541399     200.969473   38532.941010\n",
       "min         0.000000       1000.000000       0.000000    5000.000000\n",
       "25%      1100.000000       1999.000000      69.000000  125000.000000\n",
       "50%      2800.000000       2003.000000     105.000000  150000.000000\n",
       "75%      6500.000000       2008.000000     143.000000  150000.000000\n",
       "max     20000.000000       9999.000000   20000.000000  150000.000000"
      ]
     },
     "execution_count": 9,
     "metadata": {},
     "output_type": "execute_result"
    }
   ],
   "source": [
    "new_df = new_df.drop_duplicates()\n",
    "new_df.describe()"
   ]
  },
  {
   "cell_type": "markdown",
   "metadata": {},
   "source": [
    "**1. Исправим некорректные значения года регистрации автомобиля:**"
   ]
  },
  {
   "cell_type": "code",
   "execution_count": 10,
   "metadata": {},
   "outputs": [
    {
     "data": {
      "text/plain": [
       "array([1993, 2011, 2004, 2001, 2008, 1995, 1980, 2014, 1998, 2005, 1910,\n",
       "       2016, 2007, 2009, 2002, 2018, 1997, 1990, 2017, 1981, 2003, 1994,\n",
       "       1991, 1984, 2006, 1999, 2012, 2010, 2000, 1992, 2013, 1996, 1985,\n",
       "       1989, 2015, 1982, 1976, 1983, 1973, 1111, 1969, 1971, 1987, 1986,\n",
       "       1988, 1970, 1965, 1945, 1925, 1974, 1979, 1955, 1978, 1972, 1968,\n",
       "       1977, 1961, 1960, 1966, 1975, 1963, 1964, 5000, 1954, 1958, 1967,\n",
       "       1959, 9999, 1956, 3200, 1000, 1941, 8888, 1500, 2200, 4100, 1962,\n",
       "       1929, 1957, 1940, 3000, 2066, 1949, 2019, 1937, 1951, 1800, 1953,\n",
       "       1234, 8000, 5300, 9000, 2900, 6000, 5900, 5911, 1933, 1400, 1950,\n",
       "       4000, 1948, 1952, 1200, 8500, 1932, 1255, 3700, 3800, 4800, 1942,\n",
       "       7000, 1935, 1936, 6500, 1923, 2290, 2500, 1930, 1001, 9450, 1944,\n",
       "       1943, 1934, 1938, 1688, 2800, 1253, 1928, 1919, 5555, 5600, 1600,\n",
       "       2222, 1039, 9996, 1300, 8455, 1931, 1915, 4500, 1920, 1602, 7800,\n",
       "       9229, 1947, 1927, 7100, 8200, 1946, 7500, 3500])"
      ]
     },
     "execution_count": 10,
     "metadata": {},
     "output_type": "execute_result"
    }
   ],
   "source": [
    "new_df['RegistrationYear'].unique()"
   ]
  },
  {
   "cell_type": "code",
   "execution_count": 11,
   "metadata": {},
   "outputs": [
    {
     "data": {
      "text/html": [
       "<div>\n",
       "<style scoped>\n",
       "    .dataframe tbody tr th:only-of-type {\n",
       "        vertical-align: middle;\n",
       "    }\n",
       "\n",
       "    .dataframe tbody tr th {\n",
       "        vertical-align: top;\n",
       "    }\n",
       "\n",
       "    .dataframe thead th {\n",
       "        text-align: right;\n",
       "    }\n",
       "</style>\n",
       "<table border=\"1\" class=\"dataframe\">\n",
       "  <thead>\n",
       "    <tr style=\"text-align: right;\">\n",
       "      <th></th>\n",
       "      <th>Price</th>\n",
       "      <th>VehicleType</th>\n",
       "      <th>RegistrationYear</th>\n",
       "      <th>Gearbox</th>\n",
       "      <th>Power</th>\n",
       "      <th>Model</th>\n",
       "      <th>Kilometer</th>\n",
       "      <th>FuelType</th>\n",
       "      <th>Brand</th>\n",
       "      <th>Repaired</th>\n",
       "    </tr>\n",
       "  </thead>\n",
       "  <tbody>\n",
       "    <tr>\n",
       "      <th>360</th>\n",
       "      <td>10000</td>\n",
       "      <td>bus</td>\n",
       "      <td>1976</td>\n",
       "      <td>NaN</td>\n",
       "      <td>0</td>\n",
       "      <td>transporter</td>\n",
       "      <td>5000</td>\n",
       "      <td>petrol</td>\n",
       "      <td>volkswagen</td>\n",
       "      <td>NaN</td>\n",
       "    </tr>\n",
       "    <tr>\n",
       "      <th>534</th>\n",
       "      <td>4900</td>\n",
       "      <td>convertible</td>\n",
       "      <td>1973</td>\n",
       "      <td>manual</td>\n",
       "      <td>44</td>\n",
       "      <td>kaefer</td>\n",
       "      <td>90000</td>\n",
       "      <td>petrol</td>\n",
       "      <td>volkswagen</td>\n",
       "      <td>no</td>\n",
       "    </tr>\n",
       "    <tr>\n",
       "      <th>630</th>\n",
       "      <td>12000</td>\n",
       "      <td>sedan</td>\n",
       "      <td>1969</td>\n",
       "      <td>manual</td>\n",
       "      <td>140</td>\n",
       "      <td>s_klasse</td>\n",
       "      <td>80000</td>\n",
       "      <td>petrol</td>\n",
       "      <td>mercedes_benz</td>\n",
       "      <td>no</td>\n",
       "    </tr>\n",
       "    <tr>\n",
       "      <th>650</th>\n",
       "      <td>15000</td>\n",
       "      <td>coupe</td>\n",
       "      <td>1971</td>\n",
       "      <td>NaN</td>\n",
       "      <td>0</td>\n",
       "      <td>NaN</td>\n",
       "      <td>5000</td>\n",
       "      <td>NaN</td>\n",
       "      <td>sonstige_autos</td>\n",
       "      <td>no</td>\n",
       "    </tr>\n",
       "    <tr>\n",
       "      <th>981</th>\n",
       "      <td>2900</td>\n",
       "      <td>sedan</td>\n",
       "      <td>1971</td>\n",
       "      <td>auto</td>\n",
       "      <td>90</td>\n",
       "      <td>other</td>\n",
       "      <td>90000</td>\n",
       "      <td>petrol</td>\n",
       "      <td>opel</td>\n",
       "      <td>no</td>\n",
       "    </tr>\n",
       "    <tr>\n",
       "      <th>...</th>\n",
       "      <td>...</td>\n",
       "      <td>...</td>\n",
       "      <td>...</td>\n",
       "      <td>...</td>\n",
       "      <td>...</td>\n",
       "      <td>...</td>\n",
       "      <td>...</td>\n",
       "      <td>...</td>\n",
       "      <td>...</td>\n",
       "      <td>...</td>\n",
       "    </tr>\n",
       "    <tr>\n",
       "      <th>353910</th>\n",
       "      <td>11500</td>\n",
       "      <td>suv</td>\n",
       "      <td>1976</td>\n",
       "      <td>manual</td>\n",
       "      <td>100</td>\n",
       "      <td>other</td>\n",
       "      <td>150000</td>\n",
       "      <td>petrol</td>\n",
       "      <td>jeep</td>\n",
       "      <td>NaN</td>\n",
       "    </tr>\n",
       "    <tr>\n",
       "      <th>353912</th>\n",
       "      <td>800</td>\n",
       "      <td>NaN</td>\n",
       "      <td>1970</td>\n",
       "      <td>NaN</td>\n",
       "      <td>0</td>\n",
       "      <td>other</td>\n",
       "      <td>150000</td>\n",
       "      <td>NaN</td>\n",
       "      <td>trabant</td>\n",
       "      <td>NaN</td>\n",
       "    </tr>\n",
       "    <tr>\n",
       "      <th>354037</th>\n",
       "      <td>10500</td>\n",
       "      <td>convertible</td>\n",
       "      <td>1968</td>\n",
       "      <td>manual</td>\n",
       "      <td>54</td>\n",
       "      <td>other</td>\n",
       "      <td>20000</td>\n",
       "      <td>NaN</td>\n",
       "      <td>renault</td>\n",
       "      <td>no</td>\n",
       "    </tr>\n",
       "    <tr>\n",
       "      <th>354063</th>\n",
       "      <td>0</td>\n",
       "      <td>NaN</td>\n",
       "      <td>1970</td>\n",
       "      <td>NaN</td>\n",
       "      <td>0</td>\n",
       "      <td>sl</td>\n",
       "      <td>150000</td>\n",
       "      <td>NaN</td>\n",
       "      <td>mercedes_benz</td>\n",
       "      <td>NaN</td>\n",
       "    </tr>\n",
       "    <tr>\n",
       "      <th>354286</th>\n",
       "      <td>16500</td>\n",
       "      <td>coupe</td>\n",
       "      <td>1973</td>\n",
       "      <td>manual</td>\n",
       "      <td>200</td>\n",
       "      <td>other</td>\n",
       "      <td>150000</td>\n",
       "      <td>petrol</td>\n",
       "      <td>bmw</td>\n",
       "      <td>yes</td>\n",
       "    </tr>\n",
       "  </tbody>\n",
       "</table>\n",
       "<p>2724 rows × 10 columns</p>\n",
       "</div>"
      ],
      "text/plain": [
       "        Price  VehicleType  RegistrationYear Gearbox  Power        Model  \\\n",
       "360     10000          bus              1976     NaN      0  transporter   \n",
       "534      4900  convertible              1973  manual     44       kaefer   \n",
       "630     12000        sedan              1969  manual    140     s_klasse   \n",
       "650     15000        coupe              1971     NaN      0          NaN   \n",
       "981      2900        sedan              1971    auto     90        other   \n",
       "...       ...          ...               ...     ...    ...          ...   \n",
       "353910  11500          suv              1976  manual    100        other   \n",
       "353912    800          NaN              1970     NaN      0        other   \n",
       "354037  10500  convertible              1968  manual     54        other   \n",
       "354063      0          NaN              1970     NaN      0           sl   \n",
       "354286  16500        coupe              1973  manual    200        other   \n",
       "\n",
       "        Kilometer FuelType           Brand Repaired  \n",
       "360          5000   petrol      volkswagen      NaN  \n",
       "534         90000   petrol      volkswagen       no  \n",
       "630         80000   petrol   mercedes_benz       no  \n",
       "650          5000      NaN  sonstige_autos       no  \n",
       "981         90000   petrol            opel       no  \n",
       "...           ...      ...             ...      ...  \n",
       "353910     150000   petrol            jeep      NaN  \n",
       "353912     150000      NaN         trabant      NaN  \n",
       "354037      20000      NaN         renault       no  \n",
       "354063     150000      NaN   mercedes_benz      NaN  \n",
       "354286     150000   petrol             bmw      yes  \n",
       "\n",
       "[2724 rows x 10 columns]"
      ]
     },
     "execution_count": 11,
     "metadata": {},
     "output_type": "execute_result"
    }
   ],
   "source": [
    "new_df.query('1980 > RegistrationYear >= 1961')"
   ]
  },
  {
   "cell_type": "markdown",
   "metadata": {},
   "source": [
    "Отфильтруем данные по наиболее реалистичным данным:"
   ]
  },
  {
   "cell_type": "code",
   "execution_count": 12,
   "metadata": {},
   "outputs": [],
   "source": [
    "new_df = new_df.query('1960 < RegistrationYear <= 2016')"
   ]
  },
  {
   "cell_type": "markdown",
   "metadata": {},
   "source": [
    "**2. Исправим  некорректные значения мощности (л. с.) автомобиля:**"
   ]
  },
  {
   "cell_type": "code",
   "execution_count": 13,
   "metadata": {},
   "outputs": [
    {
     "data": {
      "text/plain": [
       "<AxesSubplot:>"
      ]
     },
     "execution_count": 13,
     "metadata": {},
     "output_type": "execute_result"
    },
    {
     "data": {
      "image/png": "[encoded data removed]",
      "text/plain": [
       "<Figure size 1080x720 with 1 Axes>"
      ]
     },
     "metadata": {
      "needs_background": "light"
     },
     "output_type": "display_data"
    }
   ],
   "source": [
    "new_df['Power'].hist(bins=100, figsize=(15,10))"
   ]
  },
  {
   "cell_type": "code",
   "execution_count": 14,
   "metadata": {},
   "outputs": [
    {
     "data": {
      "text/plain": [
       "<AxesSubplot:>"
      ]
     },
     "execution_count": 14,
     "metadata": {},
     "output_type": "execute_result"
    },
    {
     "data": {
      "image/png": "[encoded data removed]",
      "text/plain": [
       "<Figure size 1080x720 with 1 Axes>"
      ]
     },
     "metadata": {
      "needs_background": "light"
     },
     "output_type": "display_data"
    }
   ],
   "source": [
    "new_df = new_df.query('0 < Power <= 400')\n",
    "new_df['Power'].hist(bins=100, figsize=(15,10))"
   ]
  },
  {
   "cell_type": "markdown",
   "metadata": {},
   "source": [
    "**3. Рассмотрим распределение данных по стобцу \"Price\":**"
   ]
  },
  {
   "cell_type": "code",
   "execution_count": 15,
   "metadata": {
    "scrolled": false
   },
   "outputs": [
    {
     "data": {
      "text/plain": [
       "<AxesSubplot:>"
      ]
     },
     "execution_count": 15,
     "metadata": {},
     "output_type": "execute_result"
    },
    {
     "data": {
      "image/png": "[encoded data removed]",
      "text/plain": [
       "<Figure size 1080x720 with 1 Axes>"
      ]
     },
     "metadata": {
      "needs_background": "light"
     },
     "output_type": "display_data"
    }
   ],
   "source": [
    "new_df['Price'].hist(bins=100, figsize=(15,10))"
   ]
  },
  {
   "cell_type": "code",
   "execution_count": 16,
   "metadata": {},
   "outputs": [
    {
     "data": {
      "text/plain": [
       "0        5413\n",
       "1500     3641\n",
       "500      3560\n",
       "2500     3084\n",
       "1200     3002\n",
       "         ... \n",
       "8211        1\n",
       "12978       1\n",
       "9577        1\n",
       "6583        1\n",
       "8188        1\n",
       "Name: Price, Length: 3590, dtype: int64"
      ]
     },
     "execution_count": 16,
     "metadata": {},
     "output_type": "execute_result"
    }
   ],
   "source": [
    "new_df['Price'].value_counts()"
   ]
  },
  {
   "cell_type": "markdown",
   "metadata": {},
   "source": [
    "Для максимального точных и реалистичных анализа и резултатов, удалим значения, равные нулю (при условии сохранения нормального распределения данных):"
   ]
  },
  {
   "cell_type": "code",
   "execution_count": 17,
   "metadata": {},
   "outputs": [
    {
     "data": {
      "text/plain": [
       "<AxesSubplot:>"
      ]
     },
     "execution_count": 17,
     "metadata": {},
     "output_type": "execute_result"
    },
    {
     "data": {
      "image/png": "[encoded data removed]",
      "text/plain": [
       "<Figure size 1080x720 with 1 Axes>"
      ]
     },
     "metadata": {
      "needs_background": "light"
     },
     "output_type": "display_data"
    }
   ],
   "source": [
    "new_df = new_df.query('Price != 0')\n",
    "new_df['Price'].hist(bins=100, figsize=(15,10))"
   ]
  },
  {
   "cell_type": "markdown",
   "metadata": {},
   "source": [
    "**4. Булевый тип**"
   ]
  },
  {
   "cell_type": "markdown",
   "metadata": {},
   "source": [
    "Приведём данные в столбцах \"Gearbox\" и \"Repaired\" к булевуму типу. Так моделям будет легче работать с данными:"
   ]
  },
  {
   "cell_type": "code",
   "execution_count": 18,
   "metadata": {},
   "outputs": [],
   "source": [
    "new_df['Gearbox'] = new_df['Gearbox'].replace({'manual': True, 'auto': False})\n",
    "new_df['Repaired'] = new_df['Repaired'].replace({'yes': True, 'no': False})\n",
    "new_df.rename(columns={'Gearbox': 'Gearbox_manual'}, inplace=True)"
   ]
  },
  {
   "cell_type": "markdown",
   "metadata": {},
   "source": [
    "Заменим пропуски на наиболее часто встречающиеся значения:"
   ]
  },
  {
   "cell_type": "code",
   "execution_count": 19,
   "metadata": {},
   "outputs": [],
   "source": [
    "new_df.fillna({'Gearbox_manual': True, 'Repaired':False}, inplace=True)"
   ]
  },
  {
   "cell_type": "markdown",
   "metadata": {},
   "source": [
    "**5. Заполнение пропусков**"
   ]
  },
  {
   "cell_type": "markdown",
   "metadata": {},
   "source": [
    "Заменим пропуски на наиболее часто встречающиеся значения:"
   ]
  },
  {
   "cell_type": "code",
   "execution_count": 20,
   "metadata": {},
   "outputs": [],
   "source": [
    "new_df.fillna({'VehicleType':'sedan', 'FuelType':'petrol', 'Model':'unknown'}, inplace=True)"
   ]
  },
  {
   "cell_type": "code",
   "execution_count": 21,
   "metadata": {},
   "outputs": [
    {
     "name": "stdout",
     "output_type": "stream",
     "text": [
      "<class 'pandas.core.frame.DataFrame'>\n",
      "Int64Index: 256964 entries, 1 to 354368\n",
      "Data columns (total 10 columns):\n",
      " #   Column            Non-Null Count   Dtype \n",
      "---  ------            --------------   ----- \n",
      " 0   Price             256964 non-null  int64 \n",
      " 1   VehicleType       256964 non-null  object\n",
      " 2   RegistrationYear  256964 non-null  int64 \n",
      " 3   Gearbox_manual    256964 non-null  bool  \n",
      " 4   Power             256964 non-null  int64 \n",
      " 5   Model             256964 non-null  object\n",
      " 6   Kilometer         256964 non-null  int64 \n",
      " 7   FuelType          256964 non-null  object\n",
      " 8   Brand             256964 non-null  object\n",
      " 9   Repaired          256964 non-null  bool  \n",
      "dtypes: bool(2), int64(4), object(4)\n",
      "memory usage: 18.1+ MB\n"
     ]
    }
   ],
   "source": [
    "new_df.info()"
   ]
  },
  {
   "cell_type": "markdown",
   "metadata": {},
   "source": [
    "## Обучение моделей"
   ]
  },
  {
   "cell_type": "markdown",
   "metadata": {},
   "source": [
    "### Разделим данные на три выборки"
   ]
  },
  {
   "cell_type": "code",
   "execution_count": 22,
   "metadata": {},
   "outputs": [],
   "source": [
    "features = new_df.drop('Price', axis=1)\n",
    "target = new_df['Price']\n",
    "\n",
    "features_train, features_valid_and_test, target_train, target_valid_and_test = train_test_split(\n",
    "    features, target, test_size=0.4, random_state=12345)\n",
    "\n",
    "features_valid, features_test, target_valid, target_test = train_test_split(\n",
    "    features_valid_and_test, target_valid_and_test, test_size=0.5, random_state=12345)"
   ]
  },
  {
   "cell_type": "markdown",
   "metadata": {},
   "source": [
    "### Кодирование выборок"
   ]
  },
  {
   "cell_type": "code",
   "execution_count": 23,
   "metadata": {},
   "outputs": [],
   "source": [
    "# прямое кодирование (для линейных моделей)\n",
    "features_train_ohe = pd.get_dummies(features_train, drop_first=True)\n",
    "features_valid_ohe = pd.get_dummies(features_valid, drop_first=True)\n",
    "features_test_ohe = pd.get_dummies(features_test, drop_first=True)\n",
    "# после прямого кодирования кол-во признаков в выборках будет отличаться\n",
    "# поэтому стоит удалить лишние признаки в каждой выборке\n",
    "\n",
    "# Найдем общие признаки между обучающей, валидационной и тестовой выборками\n",
    "common_columns = set(features_train_ohe.columns) & set(features_valid_ohe.columns) & set(features_test_ohe.columns)\n",
    "\n",
    "# Оставим в каждой выборке только общие признаки\n",
    "features_train_ohe = features_train_ohe[list(common_columns)]\n",
    "features_valid_ohe = features_valid_ohe[list(common_columns)]\n",
    "features_test_ohe = features_test_ohe[list(common_columns)]"
   ]
  },
  {
   "cell_type": "code",
   "execution_count": 24,
   "metadata": {},
   "outputs": [],
   "source": [
    "# порядковое кодирование\n",
    "encoder = OrdinalEncoder(handle_unknown='use_encoded_value', unknown_value=9999)\n",
    "cat_columns = ['VehicleType','FuelType','Brand','Model']\n",
    "encoder.fit(features_train[cat_columns])\n",
    "\n",
    "features_train_ord = features_train.copy()\n",
    "features_valid_ord = features_valid.copy()\n",
    "features_test_ord = features_test.copy()\n",
    "\n",
    "features_train_ord[cat_columns] = encoder.transform(features_train_ord[cat_columns])\n",
    "features_valid_ord[cat_columns] = encoder.transform(features_valid_ord[cat_columns])\n",
    "features_test_ord[cat_columns] = encoder.transform(features_test_ord[cat_columns])"
   ]
  },
  {
   "cell_type": "markdown",
   "metadata": {},
   "source": [
    "### Масштабирование численных признаков для линейных моделей"
   ]
  },
  {
   "cell_type": "code",
   "execution_count": 25,
   "metadata": {
    "scrolled": true
   },
   "outputs": [
    {
     "name": "stderr",
     "output_type": "stream",
     "text": [
      "/tmp/ipykernel_31/4174547328.py:6: SettingWithCopyWarning: \n",
      "A value is trying to be set on a copy of a slice from a DataFrame.\n",
      "Try using .loc[row_indexer,col_indexer] = value instead\n",
      "\n",
      "See the caveats in the documentation: https://pandas.pydata.org/pandas-docs/stable/user_guide/indexing.html#returning-a-view-versus-a-copy\n",
      "  features_train[numeric] = scaler.transform(features_train[numeric])\n",
      "/opt/conda/lib/python3.9/site-packages/pandas/core/indexing.py:1738: SettingWithCopyWarning: \n",
      "A value is trying to be set on a copy of a slice from a DataFrame.\n",
      "Try using .loc[row_indexer,col_indexer] = value instead\n",
      "\n",
      "See the caveats in the documentation: https://pandas.pydata.org/pandas-docs/stable/user_guide/indexing.html#returning-a-view-versus-a-copy\n",
      "  self._setitem_single_column(loc, value[:, i].tolist(), pi)\n",
      "/tmp/ipykernel_31/4174547328.py:7: SettingWithCopyWarning: \n",
      "A value is trying to be set on a copy of a slice from a DataFrame.\n",
      "Try using .loc[row_indexer,col_indexer] = value instead\n",
      "\n",
      "See the caveats in the documentation: https://pandas.pydata.org/pandas-docs/stable/user_guide/indexing.html#returning-a-view-versus-a-copy\n",
      "  features_valid[numeric] = scaler.transform(features_valid[numeric])\n",
      "/opt/conda/lib/python3.9/site-packages/pandas/core/indexing.py:1738: SettingWithCopyWarning: \n",
      "A value is trying to be set on a copy of a slice from a DataFrame.\n",
      "Try using .loc[row_indexer,col_indexer] = value instead\n",
      "\n",
      "See the caveats in the documentation: https://pandas.pydata.org/pandas-docs/stable/user_guide/indexing.html#returning-a-view-versus-a-copy\n",
      "  self._setitem_single_column(loc, value[:, i].tolist(), pi)\n"
     ]
    }
   ],
   "source": [
    "numeric = ['RegistrationYear', 'Power', 'Kilometer']\n",
    "\n",
    "scaler = StandardScaler()\n",
    "scaler.fit(features_train[numeric])\n",
    "\n",
    "features_train[numeric] = scaler.transform(features_train[numeric])\n",
    "features_valid[numeric] = scaler.transform(features_valid[numeric])\n",
    "\n",
    "pd.options.mode.chained_assignment = None"
   ]
  },
  {
   "cell_type": "markdown",
   "metadata": {},
   "source": [
    "### Модель LGBMRegressor"
   ]
  },
  {
   "cell_type": "code",
   "execution_count": 26,
   "metadata": {
    "scrolled": true
   },
   "outputs": [],
   "source": [
    "# Определение функции RMSE\n",
    "def rmse(y_true, y_pred):\n",
    "    return np.sqrt(mean_squared_error(y_true, y_pred))\n",
    "\n",
    "# Создание объекта скорера с использованием функции RMSE\n",
    "rmse_scorer = make_scorer(rmse, greater_is_better=False)"
   ]
  },
  {
   "cell_type": "code",
   "execution_count": 46,
   "metadata": {},
   "outputs": [
    {
     "name": "stdout",
     "output_type": "stream",
     "text": [
      "CPU times: user 1h 28min 18s, sys: 45.9 s, total: 1h 29min 4s\n",
      "Wall time: 1h 29min 35s\n"
     ]
    },
    {
     "data": {
      "text/plain": [
       "GridSearchCV(cv=5, estimator=LGBMRegressor(),\n",
       "             param_grid={'learning_rate': [0.01, 0.1, 1],\n",
       "                         'max_depth': [3, 5, 7], 'n_estimators': [50, 100, 200],\n",
       "                         'num_leaves': [31, 50, 100]},\n",
       "             scoring=make_scorer(rmse, greater_is_better=False))"
      ]
     },
     "execution_count": 46,
     "metadata": {},
     "output_type": "execute_result"
    }
   ],
   "source": [
    "%%time\n",
    "\n",
    "param_grid = {\n",
    "    'num_leaves': [31, 50, 100],\n",
    "    'learning_rate': [0.01, 0.1, 1],\n",
    "    'max_depth': [3, 5, 7],\n",
    "    'n_estimators': [50, 100, 200]\n",
    "}\n",
    "\n",
    "model = LGBMRegressor()\n",
    "grid_search = GridSearchCV(model, param_grid, cv=5, scoring=rmse_scorer)\n",
    "grid_search.fit(features_train_ord, target_train)"
   ]
  },
  {
   "cell_type": "code",
   "execution_count": 49,
   "metadata": {},
   "outputs": [
    {
     "data": {
      "text/plain": [
       "{'learning_rate': 0.1, 'max_depth': 7, 'n_estimators': 200, 'num_leaves': 100}"
      ]
     },
     "execution_count": 49,
     "metadata": {},
     "output_type": "execute_result"
    }
   ],
   "source": [
    "best_lgbm = grid_search.best_params_\n",
    "best_lgbm"
   ]
  },
  {
   "cell_type": "code",
   "execution_count": 53,
   "metadata": {},
   "outputs": [
    {
     "name": "stdout",
     "output_type": "stream",
     "text": [
      "CPU times: user 7.98 s, sys: 28.9 ms, total: 8.01 s\n",
      "Wall time: 8.03 s\n"
     ]
    },
    {
     "data": {
      "text/plain": [
       "LGBMRegressor(max_depth=7, n_estimators=200, num_leaves=100)"
      ]
     },
     "execution_count": 53,
     "metadata": {},
     "output_type": "execute_result"
    }
   ],
   "source": [
    "%%time\n",
    "model = LGBMRegressor(learning_rate=0.1, max_depth=7, n_estimators=200, num_leaves=100)\n",
    "model.fit(features_train_ord, target_train)"
   ]
  },
  {
   "cell_type": "markdown",
   "metadata": {},
   "source": [
    "### Модель LinearRegression"
   ]
  },
  {
   "cell_type": "code",
   "execution_count": 35,
   "metadata": {
    "scrolled": true
   },
   "outputs": [
    {
     "name": "stdout",
     "output_type": "stream",
     "text": [
      "CPU times: user 10.1 s, sys: 4.79 s, total: 14.9 s\n",
      "Wall time: 15 s\n"
     ]
    },
    {
     "data": {
      "text/plain": [
       "LinearRegression()"
      ]
     },
     "execution_count": 35,
     "metadata": {},
     "output_type": "execute_result"
    }
   ],
   "source": [
    "%%time\n",
    "model = LinearRegression()\n",
    "model.fit(features_train_ohe, target_train)"
   ]
  },
  {
   "cell_type": "code",
   "execution_count": 36,
   "metadata": {},
   "outputs": [
    {
     "name": "stdout",
     "output_type": "stream",
     "text": [
      "CPU times: user 646 ms, sys: 242 ms, total: 888 ms\n",
      "Wall time: 960 ms\n"
     ]
    }
   ],
   "source": [
    "%%time\n",
    "model_prediction = model.predict(features_valid_ohe)"
   ]
  },
  {
   "cell_type": "code",
   "execution_count": 37,
   "metadata": {},
   "outputs": [
    {
     "name": "stdout",
     "output_type": "stream",
     "text": [
      "RMSE для линейной модели на тестовой выборке: 2640.03098428405\n"
     ]
    }
   ],
   "source": [
    "RMSE = (mean_squared_error(target_valid, model_prediction))** 0.5\n",
    "print('RMSE для линейной модели на валидационной выборке:', RMSE)"
   ]
  },
  {
   "cell_type": "markdown",
   "metadata": {},
   "source": [
    "### Модель DecisionTreeRegressor"
   ]
  },
  {
   "cell_type": "code",
   "execution_count": 38,
   "metadata": {},
   "outputs": [
    {
     "name": "stdout",
     "output_type": "stream",
     "text": [
      "CPU times: user 378 ms, sys: 25.9 ms, total: 404 ms\n",
      "Wall time: 403 ms\n"
     ]
    },
    {
     "data": {
      "text/plain": [
       "DecisionTreeRegressor(max_depth=13, random_state=12345)"
      ]
     },
     "execution_count": 38,
     "metadata": {},
     "output_type": "execute_result"
    }
   ],
   "source": [
    "%%time\n",
    "model = DecisionTreeRegressor(criterion='mse', max_depth=13, random_state=12345) \n",
    "model.fit(features_train_ord, target_train)"
   ]
  },
  {
   "cell_type": "code",
   "execution_count": 39,
   "metadata": {},
   "outputs": [
    {
     "name": "stdout",
     "output_type": "stream",
     "text": [
      "CPU times: user 33.7 ms, sys: 1.27 ms, total: 35 ms\n",
      "Wall time: 33.5 ms\n"
     ]
    }
   ],
   "source": [
    "%%time\n",
    "model_prediction = model.predict(features_valid_ord)"
   ]
  },
  {
   "cell_type": "code",
   "execution_count": 40,
   "metadata": {},
   "outputs": [
    {
     "name": "stdout",
     "output_type": "stream",
     "text": [
      "RMSE для случайного леса на тестовой выборке: 1917.3013849582255\n"
     ]
    }
   ],
   "source": [
    "RMSE = (mean_squared_error(target_valid, model_prediction))** 0.5\n",
    "print('RMSE для случайного леса на валидационной выборке:', RMSE)"
   ]
  },
  {
   "cell_type": "markdown",
   "metadata": {},
   "source": [
    "## Анализ моделей"
   ]
  },
  {
   "cell_type": "code",
   "execution_count": 56,
   "metadata": {},
   "outputs": [
    {
     "data": {
      "text/html": [
       "<div>\n",
       "<style scoped>\n",
       "    .dataframe tbody tr th:only-of-type {\n",
       "        vertical-align: middle;\n",
       "    }\n",
       "\n",
       "    .dataframe tbody tr th {\n",
       "        vertical-align: top;\n",
       "    }\n",
       "\n",
       "    .dataframe thead th {\n",
       "        text-align: right;\n",
       "    }\n",
       "</style>\n",
       "<table border=\"1\" class=\"dataframe\">\n",
       "  <thead>\n",
       "    <tr style=\"text-align: right;\">\n",
       "      <th></th>\n",
       "      <th>fit_time</th>\n",
       "      <th>predict_time</th>\n",
       "      <th>RMSE</th>\n",
       "    </tr>\n",
       "  </thead>\n",
       "  <tbody>\n",
       "    <tr>\n",
       "      <th>LGBMRegressor</th>\n",
       "      <td>8.03 s</td>\n",
       "      <td>906 ms</td>\n",
       "      <td>1623.865</td>\n",
       "    </tr>\n",
       "    <tr>\n",
       "      <th>LinearRegression</th>\n",
       "      <td>15 s</td>\n",
       "      <td>960 ms</td>\n",
       "      <td>2640.030</td>\n",
       "    </tr>\n",
       "    <tr>\n",
       "      <th>DecisionTreeRegressor</th>\n",
       "      <td>403 ms</td>\n",
       "      <td>33.5 ms</td>\n",
       "      <td>1917.300</td>\n",
       "    </tr>\n",
       "  </tbody>\n",
       "</table>\n",
       "</div>"
      ],
      "text/plain": [
       "                      fit_time predict_time      RMSE\n",
       "LGBMRegressor           8.03 s       906 ms  1623.865\n",
       "LinearRegression          15 s       960 ms  2640.030\n",
       "DecisionTreeRegressor   403 ms      33.5 ms  1917.300"
      ]
     },
     "execution_count": 56,
     "metadata": {},
     "output_type": "execute_result"
    }
   ],
   "source": [
    "analysis_model = [['8.03 s', '906 ms', 1623.865],\n",
    "        ['15 s', '960 ms', 2640.03],\n",
    "        ['403 ms', '33.5 ms', 1917.3]]\n",
    "        \n",
    "model_types = ['LGBMRegressor', 'LinearRegression', 'DecisionTreeRegressor']\n",
    "\n",
    "\n",
    "pd.DataFrame(data=analysis_model, index=model_types, columns=['fit_time', 'predict_time', 'RMSE'])"
   ]
  },
  {
   "cell_type": "markdown",
   "metadata": {},
   "source": [
    "## Тестирование лучшей модели"
   ]
  },
  {
   "cell_type": "code",
   "execution_count": 27,
   "metadata": {},
   "outputs": [
    {
     "name": "stdout",
     "output_type": "stream",
     "text": [
      "RMSE для случайного леса на тестовой выборке: 1620.2067124896068\n"
     ]
    }
   ],
   "source": [
    "model = LGBMRegressor(learning_rate=0.1, max_depth=7, n_estimators=200, num_leaves=100)\n",
    "model.fit(features_train_ord, target_train)\n",
    "\n",
    "model_prediction = model.predict(features_test_ord)\n",
    "RMSE = (mean_squared_error(target_test, model_prediction))** 0.5\n",
    "print('RMSE для случайного леса на тестовой выборке:', RMSE)"
   ]
  },
  {
   "cell_type": "markdown",
   "metadata": {},
   "source": [
    "## Вывод"
   ]
  },
  {
   "cell_type": "markdown",
   "metadata": {},
   "source": [
    "Полученные данные подверглись обработки для обеспечения возможности модели адекватно работать с признаками. Подробнее шаги были описаны в п.1\n",
    "\n",
    "На этапах обучения и анализа моделей были выявлены две наиболее подходящие модели для заказчика:\n",
    "\n",
    "1. LGBMRegressor показал наилучший показатель RMSE при самых оптимальных параметрах, однако время выполнения процессов уступает второй подходящей модели. При этом время обучения и предсказания модели остаётся в пределах разумного;\n",
    "2. DecisionTreeRegressor в разы быстрее завершила процессы обучения и предсказания, по сравнению с первой подходящей модели. Однако значение RMSE превышает значение RMSE LGBMRegressor на 300 единиц.\n",
    "\n",
    "В связи с этим, заказчику рекомендуется воспользоваться моделью LGBMRegressor, подходящая по всем запрашиваемым условиям. Однако если же выполнение предсказания и обучения необходимо макимально быстрое, подойдёт использование модели DecisionTreeRegressor, но в таком случае нужно быть готовым пожертвовать более качественной работой модели (более низким показателем RMSE)"
   ]
  }
 ],
 "metadata": {
  "ExecuteTimeLog": [
   {
    "duration": 434,
    "start_time": "2023-04-17T10:04:06.963Z"
   },
   {
    "duration": 1087,
    "start_time": "2023-04-17T10:04:28.613Z"
   },
   {
    "duration": 518,
    "start_time": "2023-04-17T10:04:41.904Z"
   },
   {
    "duration": 833,
    "start_time": "2023-04-17T10:05:04.962Z"
   },
   {
    "duration": 776,
    "start_time": "2023-04-17T10:05:09.947Z"
   },
   {
    "duration": 150,
    "start_time": "2023-04-17T10:06:29.720Z"
   },
   {
    "duration": 134,
    "start_time": "2023-04-17T10:17:32.882Z"
   },
   {
    "duration": 95,
    "start_time": "2023-04-17T10:22:31.657Z"
   },
   {
    "duration": 18,
    "start_time": "2023-04-17T10:36:47.234Z"
   },
   {
    "duration": 425,
    "start_time": "2023-04-17T10:37:08.224Z"
   },
   {
    "duration": 830,
    "start_time": "2023-04-17T10:37:08.651Z"
   },
   {
    "duration": 614,
    "start_time": "2023-04-17T10:37:09.981Z"
   },
   {
    "duration": 116,
    "start_time": "2023-04-17T10:37:10.863Z"
   },
   {
    "duration": 92,
    "start_time": "2023-04-17T10:37:12.707Z"
   },
   {
    "duration": 17,
    "start_time": "2023-04-17T10:37:14.113Z"
   },
   {
    "duration": 73,
    "start_time": "2023-04-17T10:37:26.754Z"
   },
   {
    "duration": 348,
    "start_time": "2023-04-17T10:40:20.961Z"
   },
   {
    "duration": 652,
    "start_time": "2023-04-17T10:40:33.461Z"
   },
   {
    "duration": 187,
    "start_time": "2023-04-17T10:41:31.381Z"
   },
   {
    "duration": 229,
    "start_time": "2023-04-17T10:49:15.546Z"
   },
   {
    "duration": 808,
    "start_time": "2023-04-17T10:53:06.303Z"
   },
   {
    "duration": 259,
    "start_time": "2023-04-17T10:53:26.559Z"
   },
   {
    "duration": 321,
    "start_time": "2023-04-17T10:53:33.676Z"
   },
   {
    "duration": 297,
    "start_time": "2023-04-17T10:53:39.710Z"
   },
   {
    "duration": 321,
    "start_time": "2023-04-17T10:55:07.122Z"
   },
   {
    "duration": 9,
    "start_time": "2023-04-17T10:55:31.321Z"
   },
   {
    "duration": 13,
    "start_time": "2023-04-17T10:56:02.357Z"
   },
   {
    "duration": 8,
    "start_time": "2023-04-17T10:56:08.432Z"
   },
   {
    "duration": 31,
    "start_time": "2023-04-17T10:59:38.820Z"
   },
   {
    "duration": 317,
    "start_time": "2023-04-17T10:59:50.509Z"
   },
   {
    "duration": 24,
    "start_time": "2023-04-17T11:09:36.765Z"
   },
   {
    "duration": 24,
    "start_time": "2023-04-17T11:09:53.956Z"
   },
   {
    "duration": 8,
    "start_time": "2023-04-17T11:10:37.310Z"
   },
   {
    "duration": 20,
    "start_time": "2023-04-17T11:14:37.956Z"
   },
   {
    "duration": 23,
    "start_time": "2023-04-17T11:14:56.114Z"
   },
   {
    "duration": 20,
    "start_time": "2023-04-17T11:15:19.431Z"
   },
   {
    "duration": 20,
    "start_time": "2023-04-17T11:15:33.561Z"
   },
   {
    "duration": 19,
    "start_time": "2023-04-17T11:15:40.185Z"
   },
   {
    "duration": 18,
    "start_time": "2023-04-17T11:15:44.594Z"
   },
   {
    "duration": 36,
    "start_time": "2023-04-17T11:16:06.307Z"
   },
   {
    "duration": 20,
    "start_time": "2023-04-17T11:16:22.161Z"
   },
   {
    "duration": 20,
    "start_time": "2023-04-17T11:16:38.710Z"
   },
   {
    "duration": 29,
    "start_time": "2023-04-17T11:17:03.656Z"
   },
   {
    "duration": 35,
    "start_time": "2023-04-17T11:17:16.796Z"
   },
   {
    "duration": 25,
    "start_time": "2023-04-17T11:17:33.529Z"
   },
   {
    "duration": 7,
    "start_time": "2023-04-17T11:27:08.146Z"
   },
   {
    "duration": 309,
    "start_time": "2023-04-17T11:27:22.451Z"
   },
   {
    "duration": 340,
    "start_time": "2023-04-17T11:27:31.753Z"
   },
   {
    "duration": 244,
    "start_time": "2023-04-17T11:27:46.977Z"
   },
   {
    "duration": 226,
    "start_time": "2023-04-17T11:29:42.009Z"
   },
   {
    "duration": 295,
    "start_time": "2023-04-17T11:29:57.965Z"
   },
   {
    "duration": 296,
    "start_time": "2023-04-17T11:37:07.560Z"
   },
   {
    "duration": 50,
    "start_time": "2023-04-17T11:45:54.633Z"
   },
   {
    "duration": 97,
    "start_time": "2023-04-17T11:46:16.180Z"
   },
   {
    "duration": 199,
    "start_time": "2023-04-17T11:46:45.810Z"
   },
   {
    "duration": 97,
    "start_time": "2023-04-17T11:47:08.637Z"
   },
   {
    "duration": 99,
    "start_time": "2023-04-17T11:58:19.812Z"
   },
   {
    "duration": 1559,
    "start_time": "2023-04-17T12:00:45.192Z"
   },
   {
    "duration": 26,
    "start_time": "2023-04-17T12:01:24.189Z"
   },
   {
    "duration": 28,
    "start_time": "2023-04-17T12:01:44.940Z"
   },
   {
    "duration": 31,
    "start_time": "2023-04-17T12:02:59.264Z"
   },
   {
    "duration": 58,
    "start_time": "2023-04-17T12:10:55.339Z"
   },
   {
    "duration": 416,
    "start_time": "2023-04-17T12:13:39.941Z"
   },
   {
    "duration": 797,
    "start_time": "2023-04-17T12:13:40.464Z"
   },
   {
    "duration": 3,
    "start_time": "2023-04-17T12:13:41.263Z"
   },
   {
    "duration": 659,
    "start_time": "2023-04-17T12:13:41.395Z"
   },
   {
    "duration": 98,
    "start_time": "2023-04-17T12:13:42.942Z"
   },
   {
    "duration": 29,
    "start_time": "2023-04-17T12:13:43.042Z"
   },
   {
    "duration": 356,
    "start_time": "2023-04-17T12:13:43.072Z"
   },
   {
    "duration": 298,
    "start_time": "2023-04-17T12:13:43.430Z"
   },
   {
    "duration": 19,
    "start_time": "2023-04-17T12:13:43.731Z"
   },
   {
    "duration": 32,
    "start_time": "2023-04-17T12:13:43.751Z"
   },
   {
    "duration": 23,
    "start_time": "2023-04-17T12:13:43.785Z"
   },
   {
    "duration": 629,
    "start_time": "2023-04-17T12:13:43.832Z"
   },
   {
    "duration": 312,
    "start_time": "2023-04-17T12:13:44.463Z"
   },
   {
    "duration": 314,
    "start_time": "2023-04-17T12:13:44.776Z"
   },
   {
    "duration": 8,
    "start_time": "2023-04-17T12:13:45.092Z"
   },
   {
    "duration": 285,
    "start_time": "2023-04-17T12:13:45.226Z"
   },
   {
    "duration": 111,
    "start_time": "2023-04-17T12:13:46.759Z"
   },
   {
    "duration": 46,
    "start_time": "2023-04-17T12:14:57.096Z"
   },
   {
    "duration": 34,
    "start_time": "2023-04-17T12:15:06.508Z"
   },
   {
    "duration": 41,
    "start_time": "2023-04-17T12:15:15.199Z"
   },
   {
    "duration": 35,
    "start_time": "2023-04-17T12:15:28.097Z"
   },
   {
    "duration": 53,
    "start_time": "2023-04-17T12:15:57.597Z"
   },
   {
    "duration": 78,
    "start_time": "2023-04-17T12:20:23.568Z"
   },
   {
    "duration": 16,
    "start_time": "2023-04-17T12:20:30.150Z"
   },
   {
    "duration": 20,
    "start_time": "2023-04-17T12:21:19.643Z"
   },
   {
    "duration": 3,
    "start_time": "2023-04-17T12:38:41.617Z"
   },
   {
    "duration": 743,
    "start_time": "2023-04-17T12:38:41.798Z"
   },
   {
    "duration": 6,
    "start_time": "2023-04-17T12:38:42.543Z"
   },
   {
    "duration": 574,
    "start_time": "2023-04-17T12:38:42.550Z"
   },
   {
    "duration": 90,
    "start_time": "2023-04-17T12:38:43.126Z"
   },
   {
    "duration": 18,
    "start_time": "2023-04-17T12:38:43.217Z"
   },
   {
    "duration": 313,
    "start_time": "2023-04-17T12:38:43.236Z"
   },
   {
    "duration": 227,
    "start_time": "2023-04-17T12:38:43.551Z"
   },
   {
    "duration": 5,
    "start_time": "2023-04-17T12:38:43.780Z"
   },
   {
    "duration": 22,
    "start_time": "2023-04-17T12:38:43.787Z"
   },
   {
    "duration": 39,
    "start_time": "2023-04-17T12:38:43.810Z"
   },
   {
    "duration": 292,
    "start_time": "2023-04-17T12:38:43.851Z"
   },
   {
    "duration": 307,
    "start_time": "2023-04-17T12:38:44.144Z"
   },
   {
    "duration": 279,
    "start_time": "2023-04-17T12:38:44.453Z"
   },
   {
    "duration": 8,
    "start_time": "2023-04-17T12:38:44.734Z"
   },
   {
    "duration": 292,
    "start_time": "2023-04-17T12:38:44.947Z"
   },
   {
    "duration": 108,
    "start_time": "2023-04-17T12:38:46.357Z"
   },
   {
    "duration": 49,
    "start_time": "2023-04-17T12:38:47.905Z"
   },
   {
    "duration": 13,
    "start_time": "2023-04-17T12:38:48.351Z"
   },
   {
    "duration": 10,
    "start_time": "2023-04-17T12:38:59.787Z"
   },
   {
    "duration": 7,
    "start_time": "2023-04-17T12:39:11.817Z"
   },
   {
    "duration": 155,
    "start_time": "2023-04-17T12:39:46.308Z"
   },
   {
    "duration": 145,
    "start_time": "2023-04-17T12:39:51.958Z"
   },
   {
    "duration": 1023,
    "start_time": "2023-04-17T12:40:37.480Z"
   },
   {
    "duration": 480,
    "start_time": "2023-04-17T12:41:57.314Z"
   },
   {
    "duration": 258,
    "start_time": "2023-04-17T12:42:15.842Z"
   },
   {
    "duration": 79,
    "start_time": "2023-04-17T12:42:23.961Z"
   },
   {
    "duration": 9,
    "start_time": "2023-04-17T12:59:35.205Z"
   },
   {
    "duration": 12,
    "start_time": "2023-04-17T13:00:38.221Z"
   },
   {
    "duration": 3,
    "start_time": "2023-04-17T13:19:32.566Z"
   },
   {
    "duration": 738,
    "start_time": "2023-04-17T13:19:32.808Z"
   },
   {
    "duration": 4,
    "start_time": "2023-04-17T13:19:33.547Z"
   },
   {
    "duration": 605,
    "start_time": "2023-04-17T13:19:33.553Z"
   },
   {
    "duration": 106,
    "start_time": "2023-04-17T13:19:34.160Z"
   },
   {
    "duration": 18,
    "start_time": "2023-04-17T13:19:34.268Z"
   },
   {
    "duration": 313,
    "start_time": "2023-04-17T13:19:34.288Z"
   },
   {
    "duration": 245,
    "start_time": "2023-04-17T13:19:34.603Z"
   },
   {
    "duration": 6,
    "start_time": "2023-04-17T13:19:34.851Z"
   },
   {
    "duration": 30,
    "start_time": "2023-04-17T13:19:34.858Z"
   },
   {
    "duration": 22,
    "start_time": "2023-04-17T13:19:34.890Z"
   },
   {
    "duration": 312,
    "start_time": "2023-04-17T13:19:35.123Z"
   },
   {
    "duration": 315,
    "start_time": "2023-04-17T13:19:35.438Z"
   },
   {
    "duration": 292,
    "start_time": "2023-04-17T13:19:35.755Z"
   },
   {
    "duration": 8,
    "start_time": "2023-04-17T13:19:36.050Z"
   },
   {
    "duration": 300,
    "start_time": "2023-04-17T13:19:36.179Z"
   },
   {
    "duration": 110,
    "start_time": "2023-04-17T13:19:37.139Z"
   },
   {
    "duration": 52,
    "start_time": "2023-04-17T13:19:37.312Z"
   },
   {
    "duration": 79,
    "start_time": "2023-04-17T13:19:38.356Z"
   },
   {
    "duration": 1043,
    "start_time": "2023-04-17T13:21:19.897Z"
   },
   {
    "duration": 1033,
    "start_time": "2023-04-17T13:22:32.249Z"
   },
   {
    "duration": 1017,
    "start_time": "2023-04-17T13:25:06.665Z"
   },
   {
    "duration": 79,
    "start_time": "2023-04-17T13:25:46.727Z"
   },
   {
    "duration": 64,
    "start_time": "2023-04-17T13:25:50.659Z"
   },
   {
    "duration": 79,
    "start_time": "2023-04-17T13:26:03.727Z"
   },
   {
    "duration": 1102,
    "start_time": "2023-04-17T13:26:52.845Z"
   },
   {
    "duration": 80,
    "start_time": "2023-04-17T13:29:15.027Z"
   },
   {
    "duration": 55,
    "start_time": "2023-04-17T13:29:31.731Z"
   },
   {
    "duration": 80,
    "start_time": "2023-04-17T13:29:37.444Z"
   },
   {
    "duration": 4032,
    "start_time": "2023-04-17T13:40:31.262Z"
   },
   {
    "duration": 7,
    "start_time": "2023-04-17T13:40:45.277Z"
   },
   {
    "duration": 10,
    "start_time": "2023-04-17T13:41:03.033Z"
   },
   {
    "duration": 81,
    "start_time": "2023-04-17T13:41:07.247Z"
   },
   {
    "duration": 10,
    "start_time": "2023-04-17T13:41:08.082Z"
   },
   {
    "duration": 2351,
    "start_time": "2023-04-17T13:41:17.075Z"
   },
   {
    "duration": 6,
    "start_time": "2023-04-17T13:42:46.070Z"
   },
   {
    "duration": 10,
    "start_time": "2023-04-17T13:42:50.366Z"
   },
   {
    "duration": 6,
    "start_time": "2023-04-17T13:42:57.267Z"
   },
   {
    "duration": 5,
    "start_time": "2023-04-17T13:43:06.599Z"
   },
   {
    "duration": 4,
    "start_time": "2023-04-17T13:43:36.934Z"
   },
   {
    "duration": 5,
    "start_time": "2023-04-17T13:45:41.738Z"
   },
   {
    "duration": 5,
    "start_time": "2023-04-17T13:45:59.510Z"
   },
   {
    "duration": 5,
    "start_time": "2023-04-17T13:46:54.504Z"
   },
   {
    "duration": 28,
    "start_time": "2023-04-17T13:47:06.481Z"
   },
   {
    "duration": 12,
    "start_time": "2023-04-17T13:47:29.336Z"
   },
   {
    "duration": 12,
    "start_time": "2023-04-17T13:47:50.732Z"
   },
   {
    "duration": 18,
    "start_time": "2023-04-17T13:49:46.960Z"
   },
   {
    "duration": 254,
    "start_time": "2023-04-17T13:52:00.038Z"
   },
   {
    "duration": 20,
    "start_time": "2023-04-17T13:52:18.537Z"
   },
   {
    "duration": 19,
    "start_time": "2023-04-17T13:55:42.042Z"
   },
   {
    "duration": 19,
    "start_time": "2023-04-17T13:56:56.619Z"
   },
   {
    "duration": 229,
    "start_time": "2023-04-17T13:57:02.093Z"
   },
   {
    "duration": 17,
    "start_time": "2023-04-17T13:57:20.376Z"
   },
   {
    "duration": 442,
    "start_time": "2023-04-17T13:57:32.167Z"
   },
   {
    "duration": 913,
    "start_time": "2023-04-17T13:57:32.610Z"
   },
   {
    "duration": 3,
    "start_time": "2023-04-17T13:57:33.524Z"
   },
   {
    "duration": 766,
    "start_time": "2023-04-17T13:57:33.529Z"
   },
   {
    "duration": 116,
    "start_time": "2023-04-17T13:57:34.296Z"
   },
   {
    "duration": 23,
    "start_time": "2023-04-17T13:57:34.413Z"
   },
   {
    "duration": 358,
    "start_time": "2023-04-17T13:57:34.449Z"
   },
   {
    "duration": 306,
    "start_time": "2023-04-17T13:57:34.809Z"
   },
   {
    "duration": 6,
    "start_time": "2023-04-17T13:57:35.117Z"
   },
   {
    "duration": 45,
    "start_time": "2023-04-17T13:57:35.125Z"
   },
   {
    "duration": 55,
    "start_time": "2023-04-17T13:57:35.173Z"
   },
   {
    "duration": 698,
    "start_time": "2023-04-17T13:57:35.229Z"
   },
   {
    "duration": 340,
    "start_time": "2023-04-17T13:57:35.928Z"
   },
   {
    "duration": 361,
    "start_time": "2023-04-17T13:57:36.270Z"
   },
   {
    "duration": 17,
    "start_time": "2023-04-17T13:57:36.633Z"
   },
   {
    "duration": 343,
    "start_time": "2023-04-17T13:57:36.653Z"
   },
   {
    "duration": 121,
    "start_time": "2023-04-17T13:57:36.998Z"
   },
   {
    "duration": 62,
    "start_time": "2023-04-17T13:57:37.120Z"
   },
   {
    "duration": 100,
    "start_time": "2023-04-17T13:57:37.184Z"
   },
   {
    "duration": 5,
    "start_time": "2023-04-17T13:57:37.285Z"
   },
   {
    "duration": 102,
    "start_time": "2023-04-17T13:57:37.292Z"
   },
   {
    "duration": 15,
    "start_time": "2023-04-17T13:58:49.944Z"
   },
   {
    "duration": 19,
    "start_time": "2023-04-17T13:58:57.096Z"
   },
   {
    "duration": 56,
    "start_time": "2023-04-17T13:59:02.094Z"
   },
   {
    "duration": 55,
    "start_time": "2023-04-17T13:59:08.198Z"
   },
   {
    "duration": 58,
    "start_time": "2023-04-17T14:00:33.531Z"
   },
   {
    "duration": 12,
    "start_time": "2023-04-17T14:03:34.758Z"
   },
   {
    "duration": 6,
    "start_time": "2023-04-17T14:03:44.798Z"
   },
   {
    "duration": 7,
    "start_time": "2023-04-17T14:05:07.750Z"
   },
   {
    "duration": 38,
    "start_time": "2023-04-17T14:05:17.223Z"
   },
   {
    "duration": 9,
    "start_time": "2023-04-17T14:06:30.145Z"
   },
   {
    "duration": 51,
    "start_time": "2023-04-17T14:06:36.557Z"
   },
   {
    "duration": 37,
    "start_time": "2023-04-17T14:07:11.335Z"
   },
   {
    "duration": 117,
    "start_time": "2023-04-17T14:12:05.507Z"
   },
   {
    "duration": 65,
    "start_time": "2023-04-17T14:12:32.372Z"
   },
   {
    "duration": 67,
    "start_time": "2023-04-17T14:12:38.041Z"
   },
   {
    "duration": 39,
    "start_time": "2023-04-17T14:13:05.002Z"
   },
   {
    "duration": 215,
    "start_time": "2023-04-17T14:13:48.505Z"
   },
   {
    "duration": 290,
    "start_time": "2023-04-17T14:13:51.393Z"
   },
   {
    "duration": 57,
    "start_time": "2023-04-17T14:14:08.300Z"
   },
   {
    "duration": 63,
    "start_time": "2023-04-17T14:14:38.804Z"
   },
   {
    "duration": 62,
    "start_time": "2023-04-17T14:14:46.718Z"
   },
   {
    "duration": 60,
    "start_time": "2023-04-17T14:14:49.398Z"
   },
   {
    "duration": 6,
    "start_time": "2023-04-17T14:15:12.509Z"
   },
   {
    "duration": 358,
    "start_time": "2023-04-17T14:15:28.103Z"
   },
   {
    "duration": 52,
    "start_time": "2023-04-17T14:16:29.344Z"
   },
   {
    "duration": 24,
    "start_time": "2023-04-17T14:16:59.613Z"
   },
   {
    "duration": 39,
    "start_time": "2023-04-17T14:17:37.112Z"
   },
   {
    "duration": 70,
    "start_time": "2023-04-17T14:18:56.793Z"
   },
   {
    "duration": 17,
    "start_time": "2023-04-17T14:19:10.058Z"
   },
   {
    "duration": 32,
    "start_time": "2023-04-17T14:19:11.297Z"
   },
   {
    "duration": 60,
    "start_time": "2023-04-17T14:19:19.427Z"
   },
   {
    "duration": 476,
    "start_time": "2023-04-18T07:51:23.462Z"
   },
   {
    "duration": 1178,
    "start_time": "2023-04-18T07:51:23.941Z"
   },
   {
    "duration": 4,
    "start_time": "2023-04-18T07:51:25.120Z"
   },
   {
    "duration": 798,
    "start_time": "2023-04-18T07:51:25.126Z"
   },
   {
    "duration": 126,
    "start_time": "2023-04-18T07:51:25.926Z"
   },
   {
    "duration": 33,
    "start_time": "2023-04-18T07:51:26.055Z"
   },
   {
    "duration": 416,
    "start_time": "2023-04-18T07:51:26.090Z"
   },
   {
    "duration": 368,
    "start_time": "2023-04-18T07:51:26.507Z"
   },
   {
    "duration": 11,
    "start_time": "2023-04-18T07:51:26.878Z"
   },
   {
    "duration": 30,
    "start_time": "2023-04-18T07:51:26.891Z"
   },
   {
    "duration": 25,
    "start_time": "2023-04-18T07:51:26.923Z"
   },
   {
    "duration": 827,
    "start_time": "2023-04-18T07:51:27.302Z"
   },
   {
    "duration": 371,
    "start_time": "2023-04-18T07:51:28.131Z"
   },
   {
    "duration": 428,
    "start_time": "2023-04-18T07:51:28.504Z"
   },
   {
    "duration": 12,
    "start_time": "2023-04-18T07:51:29.062Z"
   },
   {
    "duration": 363,
    "start_time": "2023-04-18T07:51:29.957Z"
   },
   {
    "duration": 143,
    "start_time": "2023-04-18T07:51:31.063Z"
   },
   {
    "duration": 56,
    "start_time": "2023-04-18T07:51:31.671Z"
   },
   {
    "duration": 61,
    "start_time": "2023-04-18T07:51:33.002Z"
   },
   {
    "duration": 92,
    "start_time": "2023-04-18T07:51:33.228Z"
   },
   {
    "duration": 91,
    "start_time": "2023-04-18T07:54:24.804Z"
   },
   {
    "duration": 920,
    "start_time": "2023-04-18T07:55:05.960Z"
   },
   {
    "duration": 65,
    "start_time": "2023-04-18T07:55:13.607Z"
   },
   {
    "duration": 30,
    "start_time": "2023-04-18T08:07:00.717Z"
   },
   {
    "duration": 130,
    "start_time": "2023-04-18T08:08:53.662Z"
   },
   {
    "duration": 362,
    "start_time": "2023-04-18T08:09:05.818Z"
   },
   {
    "duration": 414,
    "start_time": "2023-04-18T08:22:54.577Z"
   },
   {
    "duration": 77,
    "start_time": "2023-04-18T15:19:26.038Z"
   },
   {
    "duration": 1365,
    "start_time": "2023-04-18T15:19:36.982Z"
   },
   {
    "duration": 3525,
    "start_time": "2023-04-18T15:19:38.349Z"
   },
   {
    "duration": 3,
    "start_time": "2023-04-18T15:19:41.877Z"
   },
   {
    "duration": 838,
    "start_time": "2023-04-18T15:19:41.882Z"
   },
   {
    "duration": 115,
    "start_time": "2023-04-18T15:19:42.723Z"
   },
   {
    "duration": 23,
    "start_time": "2023-04-18T15:19:42.840Z"
   },
   {
    "duration": 397,
    "start_time": "2023-04-18T15:19:42.865Z"
   },
   {
    "duration": 276,
    "start_time": "2023-04-18T15:19:43.264Z"
   },
   {
    "duration": 7,
    "start_time": "2023-04-18T15:19:43.541Z"
   },
   {
    "duration": 43,
    "start_time": "2023-04-18T15:19:43.551Z"
   },
   {
    "duration": 27,
    "start_time": "2023-04-18T15:19:43.603Z"
   },
   {
    "duration": 789,
    "start_time": "2023-04-18T15:19:43.632Z"
   },
   {
    "duration": 373,
    "start_time": "2023-04-18T15:19:44.423Z"
   },
   {
    "duration": 433,
    "start_time": "2023-04-18T15:19:52.935Z"
   },
   {
    "duration": 10,
    "start_time": "2023-04-18T15:19:53.370Z"
   },
   {
    "duration": 371,
    "start_time": "2023-04-18T15:19:54.558Z"
   },
   {
    "duration": 121,
    "start_time": "2023-04-18T15:19:56.654Z"
   },
   {
    "duration": 53,
    "start_time": "2023-04-18T15:19:58.935Z"
   },
   {
    "duration": 42,
    "start_time": "2023-04-18T15:20:00.799Z"
   },
   {
    "duration": 55,
    "start_time": "2023-04-18T15:20:01.330Z"
   },
   {
    "duration": 58,
    "start_time": "2023-04-18T15:20:04.151Z"
   },
   {
    "duration": 472,
    "start_time": "2023-04-18T15:20:04.968Z"
   },
   {
    "duration": 44,
    "start_time": "2023-04-18T15:29:18.830Z"
   },
   {
    "duration": 1329,
    "start_time": "2023-04-18T15:29:47.625Z"
   },
   {
    "duration": 998,
    "start_time": "2023-04-18T15:29:48.956Z"
   },
   {
    "duration": 5,
    "start_time": "2023-04-18T15:29:49.956Z"
   },
   {
    "duration": 828,
    "start_time": "2023-04-18T15:29:49.963Z"
   },
   {
    "duration": 116,
    "start_time": "2023-04-18T15:29:50.794Z"
   },
   {
    "duration": 27,
    "start_time": "2023-04-18T15:29:50.912Z"
   },
   {
    "duration": 420,
    "start_time": "2023-04-18T15:29:50.941Z"
   },
   {
    "duration": 364,
    "start_time": "2023-04-18T15:29:51.363Z"
   },
   {
    "duration": 8,
    "start_time": "2023-04-18T15:29:51.729Z"
   },
   {
    "duration": 40,
    "start_time": "2023-04-18T15:29:51.740Z"
   },
   {
    "duration": 30,
    "start_time": "2023-04-18T15:29:51.782Z"
   },
   {
    "duration": 639,
    "start_time": "2023-04-18T15:29:51.814Z"
   },
   {
    "duration": 398,
    "start_time": "2023-04-18T15:29:52.455Z"
   },
   {
    "duration": 363,
    "start_time": "2023-04-18T15:29:52.857Z"
   },
   {
    "duration": 18,
    "start_time": "2023-04-18T15:29:53.222Z"
   },
   {
    "duration": 501,
    "start_time": "2023-04-18T15:29:53.559Z"
   },
   {
    "duration": 122,
    "start_time": "2023-04-18T15:29:56.130Z"
   },
   {
    "duration": 47,
    "start_time": "2023-04-18T15:29:56.643Z"
   },
   {
    "duration": 33,
    "start_time": "2023-04-18T15:29:57.635Z"
   },
   {
    "duration": 49,
    "start_time": "2023-04-18T15:29:58.124Z"
   },
   {
    "duration": 173,
    "start_time": "2023-04-18T15:29:59.740Z"
   },
   {
    "duration": 111,
    "start_time": "2023-04-18T15:30:30.078Z"
   },
   {
    "duration": 641,
    "start_time": "2023-04-18T15:30:35.526Z"
   },
   {
    "duration": 28,
    "start_time": "2023-04-18T15:49:26.672Z"
   },
   {
    "duration": 15,
    "start_time": "2023-04-18T15:53:22.661Z"
   },
   {
    "duration": 4,
    "start_time": "2023-04-18T15:53:48.948Z"
   },
   {
    "duration": 520,
    "start_time": "2023-04-18T15:53:53.200Z"
   },
   {
    "duration": 24,
    "start_time": "2023-04-18T15:58:41.536Z"
   },
   {
    "duration": 15,
    "start_time": "2023-04-18T16:00:55.043Z"
   },
   {
    "duration": 8,
    "start_time": "2023-04-18T16:01:08.630Z"
   },
   {
    "duration": 23,
    "start_time": "2023-04-18T16:01:17.718Z"
   },
   {
    "duration": 152,
    "start_time": "2023-04-18T16:01:30.635Z"
   },
   {
    "duration": 59,
    "start_time": "2023-04-18T16:04:05.233Z"
   },
   {
    "duration": 15,
    "start_time": "2023-04-18T16:04:22.665Z"
   },
   {
    "duration": 155,
    "start_time": "2023-04-18T16:04:36.427Z"
   },
   {
    "duration": 110,
    "start_time": "2023-04-18T16:04:49.022Z"
   },
   {
    "duration": 1338,
    "start_time": "2023-04-19T15:05:49.654Z"
   },
   {
    "duration": 3980,
    "start_time": "2023-04-19T15:05:50.994Z"
   },
   {
    "duration": 4,
    "start_time": "2023-04-19T15:05:54.977Z"
   },
   {
    "duration": 903,
    "start_time": "2023-04-19T15:05:54.983Z"
   },
   {
    "duration": 114,
    "start_time": "2023-04-19T15:05:55.888Z"
   },
   {
    "duration": 31,
    "start_time": "2023-04-19T15:05:56.022Z"
   },
   {
    "duration": 436,
    "start_time": "2023-04-19T15:05:56.055Z"
   },
   {
    "duration": 313,
    "start_time": "2023-04-19T15:05:56.493Z"
   },
   {
    "duration": 9,
    "start_time": "2023-04-19T15:05:56.807Z"
   },
   {
    "duration": 40,
    "start_time": "2023-04-19T15:05:56.819Z"
   },
   {
    "duration": 28,
    "start_time": "2023-04-19T15:05:56.861Z"
   },
   {
    "duration": 811,
    "start_time": "2023-04-19T15:05:56.891Z"
   },
   {
    "duration": 439,
    "start_time": "2023-04-19T15:05:57.704Z"
   },
   {
    "duration": 510,
    "start_time": "2023-04-19T15:05:58.145Z"
   },
   {
    "duration": 14,
    "start_time": "2023-04-19T15:05:58.660Z"
   },
   {
    "duration": 429,
    "start_time": "2023-04-19T15:05:58.676Z"
   },
   {
    "duration": 152,
    "start_time": "2023-04-19T15:05:59.109Z"
   },
   {
    "duration": 63,
    "start_time": "2023-04-19T15:05:59.267Z"
   },
   {
    "duration": 47,
    "start_time": "2023-04-19T15:05:59.341Z"
   },
   {
    "duration": 70,
    "start_time": "2023-04-19T15:05:59.390Z"
   },
   {
    "duration": 87,
    "start_time": "2023-04-19T15:06:00.381Z"
   },
   {
    "duration": 679,
    "start_time": "2023-04-19T15:06:01.745Z"
   },
   {
    "duration": 590,
    "start_time": "2023-04-19T15:06:02.432Z"
   },
   {
    "duration": 159,
    "start_time": "2023-04-19T15:06:03.852Z"
   },
   {
    "duration": 20140,
    "start_time": "2023-04-19T15:10:05.457Z"
   },
   {
    "duration": 8,
    "start_time": "2023-04-19T15:10:29.152Z"
   },
   {
    "duration": 1512,
    "start_time": "2023-04-19T15:26:48.431Z"
   },
   {
    "duration": 1222,
    "start_time": "2023-04-19T15:26:49.945Z"
   },
   {
    "duration": 4,
    "start_time": "2023-04-19T15:26:52.196Z"
   },
   {
    "duration": 1281,
    "start_time": "2023-04-19T15:26:52.425Z"
   },
   {
    "duration": 126,
    "start_time": "2023-04-19T15:26:53.713Z"
   },
   {
    "duration": 32,
    "start_time": "2023-04-19T15:26:53.842Z"
   },
   {
    "duration": 413,
    "start_time": "2023-04-19T15:26:53.877Z"
   },
   {
    "duration": 386,
    "start_time": "2023-04-19T15:26:54.497Z"
   },
   {
    "duration": 9,
    "start_time": "2023-04-19T15:26:55.921Z"
   },
   {
    "duration": 37,
    "start_time": "2023-04-19T15:26:56.169Z"
   },
   {
    "duration": 34,
    "start_time": "2023-04-19T15:26:56.598Z"
   },
   {
    "duration": 742,
    "start_time": "2023-04-19T15:26:57.206Z"
   },
   {
    "duration": 418,
    "start_time": "2023-04-19T15:26:57.953Z"
   },
   {
    "duration": 400,
    "start_time": "2023-04-19T15:26:58.394Z"
   },
   {
    "duration": 22,
    "start_time": "2023-04-19T15:26:58.796Z"
   },
   {
    "duration": 566,
    "start_time": "2023-04-19T15:26:59.096Z"
   },
   {
    "duration": 145,
    "start_time": "2023-04-19T15:26:59.929Z"
   },
   {
    "duration": 53,
    "start_time": "2023-04-19T15:27:00.543Z"
   },
   {
    "duration": 63,
    "start_time": "2023-04-19T15:27:01.895Z"
   },
   {
    "duration": 95,
    "start_time": "2023-04-19T15:27:02.391Z"
   },
   {
    "duration": 87,
    "start_time": "2023-04-19T15:27:03.654Z"
   },
   {
    "duration": 694,
    "start_time": "2023-04-19T15:27:04.556Z"
   },
   {
    "duration": 606,
    "start_time": "2023-04-19T15:27:05.306Z"
   },
   {
    "duration": 167,
    "start_time": "2023-04-19T15:27:06.253Z"
   },
   {
    "duration": 2550452,
    "start_time": "2023-04-19T15:27:07.347Z"
   },
   {
    "duration": 20,
    "start_time": "2023-04-19T16:09:37.801Z"
   },
   {
    "duration": 82,
    "start_time": "2023-04-19T16:10:40.585Z"
   },
   {
    "duration": 11,
    "start_time": "2023-04-19T16:11:30.836Z"
   },
   {
    "duration": 104,
    "start_time": "2023-04-19T16:11:38.505Z"
   },
   {
    "duration": 1289,
    "start_time": "2023-04-19T16:15:15.188Z"
   },
   {
    "duration": 1585,
    "start_time": "2023-04-19T16:15:16.479Z"
   },
   {
    "duration": 3,
    "start_time": "2023-04-19T16:15:18.067Z"
   },
   {
    "duration": 1023,
    "start_time": "2023-04-19T16:15:18.185Z"
   },
   {
    "duration": 136,
    "start_time": "2023-04-19T16:15:21.045Z"
   },
   {
    "duration": 42,
    "start_time": "2023-04-19T16:15:21.606Z"
   },
   {
    "duration": 478,
    "start_time": "2023-04-19T16:15:22.030Z"
   },
   {
    "duration": 294,
    "start_time": "2023-04-19T16:15:22.515Z"
   },
   {
    "duration": 8,
    "start_time": "2023-04-19T16:15:22.812Z"
   },
   {
    "duration": 39,
    "start_time": "2023-04-19T16:15:22.823Z"
   },
   {
    "duration": 40,
    "start_time": "2023-04-19T16:15:23.149Z"
   },
   {
    "duration": 608,
    "start_time": "2023-04-19T16:15:23.688Z"
   },
   {
    "duration": 398,
    "start_time": "2023-04-19T16:15:24.299Z"
   },
   {
    "duration": 366,
    "start_time": "2023-04-19T16:15:24.700Z"
   },
   {
    "duration": 10,
    "start_time": "2023-04-19T16:15:25.067Z"
   },
   {
    "duration": 492,
    "start_time": "2023-04-19T16:15:25.079Z"
   },
   {
    "duration": 140,
    "start_time": "2023-04-19T16:15:25.754Z"
   },
   {
    "duration": 85,
    "start_time": "2023-04-19T16:15:26.139Z"
   },
   {
    "duration": 63,
    "start_time": "2023-04-19T16:15:26.941Z"
   },
   {
    "duration": 88,
    "start_time": "2023-04-19T16:15:27.128Z"
   },
   {
    "duration": 105,
    "start_time": "2023-04-19T16:15:27.782Z"
   },
   {
    "duration": 699,
    "start_time": "2023-04-19T16:15:28.206Z"
   },
   {
    "duration": 676,
    "start_time": "2023-04-19T16:15:28.908Z"
   },
   {
    "duration": 154,
    "start_time": "2023-04-19T16:15:29.587Z"
   },
   {
    "duration": 21385,
    "start_time": "2023-04-19T16:15:29.743Z"
   },
   {
    "duration": 82,
    "start_time": "2023-04-19T16:15:55.789Z"
   },
   {
    "duration": 12,
    "start_time": "2023-04-19T16:19:07.407Z"
   },
   {
    "duration": 1056,
    "start_time": "2023-04-19T16:19:07.645Z"
   },
   {
    "duration": 20,
    "start_time": "2023-04-19T16:19:08.704Z"
   },
   {
    "duration": 1116,
    "start_time": "2023-04-19T16:19:08.726Z"
   },
   {
    "duration": 101,
    "start_time": "2023-04-19T16:19:09.848Z"
   },
   {
    "duration": 19,
    "start_time": "2023-04-19T16:19:09.951Z"
   },
   {
    "duration": 477,
    "start_time": "2023-04-19T16:19:09.972Z"
   },
   {
    "duration": 302,
    "start_time": "2023-04-19T16:19:11.037Z"
   },
   {
    "duration": 10,
    "start_time": "2023-04-19T16:19:11.342Z"
   },
   {
    "duration": 22,
    "start_time": "2023-04-19T16:19:11.445Z"
   },
   {
    "duration": 33,
    "start_time": "2023-04-19T16:19:11.804Z"
   },
   {
    "duration": 358,
    "start_time": "2023-04-19T16:19:12.381Z"
   },
   {
    "duration": 387,
    "start_time": "2023-04-19T16:19:12.742Z"
   },
   {
    "duration": 359,
    "start_time": "2023-04-19T16:19:13.131Z"
   },
   {
    "duration": 41,
    "start_time": "2023-04-19T16:19:13.492Z"
   },
   {
    "duration": 388,
    "start_time": "2023-04-19T16:19:13.686Z"
   },
   {
    "duration": 169,
    "start_time": "2023-04-19T16:19:15.167Z"
   },
   {
    "duration": 64,
    "start_time": "2023-04-19T16:19:15.943Z"
   },
   {
    "duration": 42,
    "start_time": "2023-04-19T16:19:17.138Z"
   },
   {
    "duration": 51,
    "start_time": "2023-04-19T16:19:17.851Z"
   },
   {
    "duration": 88,
    "start_time": "2023-04-19T16:19:18.987Z"
   },
   {
    "duration": 633,
    "start_time": "2023-04-19T16:19:23.239Z"
   },
   {
    "duration": 626,
    "start_time": "2023-04-19T16:19:24.150Z"
   },
   {
    "duration": 152,
    "start_time": "2023-04-19T16:19:25.677Z"
   },
   {
    "duration": 1323,
    "start_time": "2023-04-19T16:22:21.852Z"
   },
   {
    "duration": 1202,
    "start_time": "2023-04-19T16:22:23.179Z"
   },
   {
    "duration": 7,
    "start_time": "2023-04-19T16:22:25.209Z"
   },
   {
    "duration": 973,
    "start_time": "2023-04-19T16:22:25.399Z"
   },
   {
    "duration": 116,
    "start_time": "2023-04-19T16:22:26.374Z"
   },
   {
    "duration": 53,
    "start_time": "2023-04-19T16:22:26.492Z"
   },
   {
    "duration": 528,
    "start_time": "2023-04-19T16:22:26.547Z"
   },
   {
    "duration": 352,
    "start_time": "2023-04-19T16:22:27.077Z"
   },
   {
    "duration": 9,
    "start_time": "2023-04-19T16:22:27.690Z"
   },
   {
    "duration": 25,
    "start_time": "2023-04-19T16:22:28.192Z"
   },
   {
    "duration": 30,
    "start_time": "2023-04-19T16:22:28.705Z"
   },
   {
    "duration": 575,
    "start_time": "2023-04-19T16:22:29.232Z"
   },
   {
    "duration": 390,
    "start_time": "2023-04-19T16:22:29.890Z"
   },
   {
    "duration": 452,
    "start_time": "2023-04-19T16:22:30.904Z"
   },
   {
    "duration": 13,
    "start_time": "2023-04-19T16:22:31.361Z"
   },
   {
    "duration": 501,
    "start_time": "2023-04-19T16:22:31.482Z"
   },
   {
    "duration": 133,
    "start_time": "2023-04-19T16:22:32.992Z"
   },
   {
    "duration": 69,
    "start_time": "2023-04-19T16:22:33.336Z"
   },
   {
    "duration": 50,
    "start_time": "2023-04-19T16:22:34.782Z"
   },
   {
    "duration": 74,
    "start_time": "2023-04-19T16:22:35.082Z"
   },
   {
    "duration": 101,
    "start_time": "2023-04-19T16:22:36.495Z"
   },
   {
    "duration": 629,
    "start_time": "2023-04-19T16:22:37.253Z"
   },
   {
    "duration": 570,
    "start_time": "2023-04-19T16:22:37.887Z"
   },
   {
    "duration": 142,
    "start_time": "2023-04-19T16:22:38.592Z"
   },
   {
    "duration": 276,
    "start_time": "2023-04-19T16:24:47.999Z"
   },
   {
    "duration": 52086,
    "start_time": "2023-04-19T16:27:16.433Z"
   },
   {
    "duration": 43354,
    "start_time": "2023-04-19T16:28:34.090Z"
   },
   {
    "duration": 64,
    "start_time": "2023-04-19T16:38:44.939Z"
   },
   {
    "duration": 33,
    "start_time": "2023-04-19T16:39:38.699Z"
   },
   {
    "duration": 531,
    "start_time": "2023-04-19T16:39:50.741Z"
   },
   {
    "duration": 954,
    "start_time": "2023-04-19T16:40:05.699Z"
   },
   {
    "duration": 828,
    "start_time": "2023-04-19T16:40:13.075Z"
   },
   {
    "duration": 985,
    "start_time": "2023-04-19T16:42:23.339Z"
   },
   {
    "duration": 765,
    "start_time": "2023-04-19T16:42:30.082Z"
   },
   {
    "duration": 889,
    "start_time": "2023-04-19T16:42:38.291Z"
   },
   {
    "duration": 816,
    "start_time": "2023-04-19T16:42:43.894Z"
   },
   {
    "duration": 733,
    "start_time": "2023-04-19T16:42:48.938Z"
   },
   {
    "duration": 800,
    "start_time": "2023-04-19T16:42:53.301Z"
   },
   {
    "duration": 783,
    "start_time": "2023-04-19T16:43:34.540Z"
   },
   {
    "duration": 4742270,
    "start_time": "2023-04-19T16:45:01.908Z"
   },
   {
    "duration": 15,
    "start_time": "2023-04-19T18:04:04.181Z"
   },
   {
    "duration": 1103,
    "start_time": "2023-04-20T11:41:39.712Z"
   },
   {
    "duration": 2925,
    "start_time": "2023-04-20T11:41:40.817Z"
   },
   {
    "duration": 3,
    "start_time": "2023-04-20T11:41:43.744Z"
   },
   {
    "duration": 675,
    "start_time": "2023-04-20T11:41:43.749Z"
   },
   {
    "duration": 111,
    "start_time": "2023-04-20T11:41:44.426Z"
   },
   {
    "duration": 33,
    "start_time": "2023-04-20T11:41:44.539Z"
   },
   {
    "duration": 326,
    "start_time": "2023-04-20T11:41:44.574Z"
   },
   {
    "duration": 261,
    "start_time": "2023-04-20T11:41:44.902Z"
   },
   {
    "duration": 7,
    "start_time": "2023-04-20T11:41:45.164Z"
   },
   {
    "duration": 33,
    "start_time": "2023-04-20T11:41:45.173Z"
   },
   {
    "duration": 23,
    "start_time": "2023-04-20T11:41:45.207Z"
   },
   {
    "duration": 688,
    "start_time": "2023-04-20T11:41:45.232Z"
   },
   {
    "duration": 302,
    "start_time": "2023-04-20T11:41:45.922Z"
   },
   {
    "duration": 396,
    "start_time": "2023-04-20T11:41:46.226Z"
   },
   {
    "duration": 10,
    "start_time": "2023-04-20T11:41:46.625Z"
   },
   {
    "duration": 365,
    "start_time": "2023-04-20T11:41:46.853Z"
   },
   {
    "duration": 98,
    "start_time": "2023-04-20T11:41:52.204Z"
   },
   {
    "duration": 53,
    "start_time": "2023-04-20T11:41:52.864Z"
   },
   {
    "duration": 29,
    "start_time": "2023-04-20T11:41:54.652Z"
   },
   {
    "duration": 38,
    "start_time": "2023-04-20T11:41:55.160Z"
   },
   {
    "duration": 66,
    "start_time": "2023-04-20T11:41:56.568Z"
   },
   {
    "duration": 571,
    "start_time": "2023-04-20T11:41:57.657Z"
   },
   {
    "duration": 396,
    "start_time": "2023-04-20T11:41:58.230Z"
   },
   {
    "duration": 100,
    "start_time": "2023-04-20T11:41:58.696Z"
   },
   {
    "duration": 21538,
    "start_time": "2023-04-20T11:42:09.436Z"
   },
   {
    "duration": 638,
    "start_time": "2023-04-20T11:42:30.976Z"
   },
   {
    "duration": 22310,
    "start_time": "2023-04-20T11:45:36.446Z"
   },
   {
    "duration": 580,
    "start_time": "2023-04-20T11:45:58.761Z"
   },
   {
    "duration": 455,
    "start_time": "2023-04-20T11:46:09.661Z"
   },
   {
    "duration": 416,
    "start_time": "2023-04-20T11:46:16.254Z"
   },
   {
    "duration": 469,
    "start_time": "2023-04-20T11:46:20.528Z"
   },
   {
    "duration": 64269,
    "start_time": "2023-04-20T11:49:33.609Z"
   },
   {
    "duration": 9,
    "start_time": "2023-04-20T11:50:37.880Z"
   },
   {
    "duration": 0,
    "start_time": "2023-04-20T11:50:37.890Z"
   },
   {
    "duration": 22797,
    "start_time": "2023-04-20T11:55:20.564Z"
   },
   {
    "duration": 14990,
    "start_time": "2023-04-20T11:56:22.871Z"
   },
   {
    "duration": 994,
    "start_time": "2023-04-20T11:56:37.863Z"
   },
   {
    "duration": 95,
    "start_time": "2023-04-20T11:56:38.860Z"
   },
   {
    "duration": 408,
    "start_time": "2023-04-20T11:56:57.432Z"
   },
   {
    "duration": 37,
    "start_time": "2023-04-20T11:56:57.940Z"
   },
   {
    "duration": 4,
    "start_time": "2023-04-20T11:56:58.157Z"
   },
   {
    "duration": 11,
    "start_time": "2023-04-20T12:01:34.319Z"
   },
   {
    "duration": 12,
    "start_time": "2023-04-20T14:35:39.119Z"
   },
   {
    "duration": 1998031,
    "start_time": "2023-04-20T14:35:46.341Z"
   },
   {
    "duration": 4,
    "start_time": "2023-04-20T15:09:04.374Z"
   },
   {
    "duration": 3,
    "start_time": "2023-04-20T15:23:14.623Z"
   },
   {
    "duration": 5375241,
    "start_time": "2023-04-20T15:25:10.427Z"
   },
   {
    "duration": 4,
    "start_time": "2023-04-20T16:54:45.670Z"
   },
   {
    "duration": 81,
    "start_time": "2023-04-20T16:54:45.676Z"
   },
   {
    "duration": 4,
    "start_time": "2023-04-20T18:29:02.074Z"
   },
   {
    "duration": 58,
    "start_time": "2023-04-20T18:31:25.809Z"
   },
   {
    "duration": 53,
    "start_time": "2023-04-20T18:32:23.039Z"
   },
   {
    "duration": 3,
    "start_time": "2023-04-20T18:33:48.317Z"
   },
   {
    "duration": 8034,
    "start_time": "2023-04-20T18:34:28.929Z"
   },
   {
    "duration": 910,
    "start_time": "2023-04-20T18:35:00.158Z"
   },
   {
    "duration": 5,
    "start_time": "2023-04-20T18:35:07.554Z"
   },
   {
    "duration": 8,
    "start_time": "2023-04-20T18:36:57.288Z"
   },
   {
    "duration": 57,
    "start_time": "2023-04-21T15:02:00.958Z"
   },
   {
    "duration": 1305,
    "start_time": "2023-04-21T15:02:05.756Z"
   },
   {
    "duration": 1058,
    "start_time": "2023-04-21T15:02:07.063Z"
   },
   {
    "duration": 3,
    "start_time": "2023-04-21T15:02:08.122Z"
   },
   {
    "duration": 709,
    "start_time": "2023-04-21T15:02:08.127Z"
   },
   {
    "duration": 100,
    "start_time": "2023-04-21T15:02:08.837Z"
   },
   {
    "duration": 24,
    "start_time": "2023-04-21T15:02:08.938Z"
   },
   {
    "duration": 359,
    "start_time": "2023-04-21T15:02:08.963Z"
   },
   {
    "duration": 259,
    "start_time": "2023-04-21T15:02:09.323Z"
   },
   {
    "duration": 6,
    "start_time": "2023-04-21T15:02:09.584Z"
   },
   {
    "duration": 42,
    "start_time": "2023-04-21T15:02:09.591Z"
   },
   {
    "duration": 21,
    "start_time": "2023-04-21T15:02:09.635Z"
   },
   {
    "duration": 645,
    "start_time": "2023-04-21T15:02:10.997Z"
   },
   {
    "duration": 319,
    "start_time": "2023-04-21T15:02:11.644Z"
   },
   {
    "duration": 370,
    "start_time": "2023-04-21T15:02:11.965Z"
   },
   {
    "duration": 9,
    "start_time": "2023-04-21T15:02:12.337Z"
   },
   {
    "duration": 320,
    "start_time": "2023-04-21T15:02:12.349Z"
   },
   {
    "duration": 92,
    "start_time": "2023-04-21T15:02:13.686Z"
   },
   {
    "duration": 52,
    "start_time": "2023-04-21T15:02:14.319Z"
   },
   {
    "duration": 34,
    "start_time": "2023-04-21T15:02:15.434Z"
   },
   {
    "duration": 46,
    "start_time": "2023-04-21T15:02:16.375Z"
   },
   {
    "duration": 73,
    "start_time": "2023-04-21T15:02:19.491Z"
   },
   {
    "duration": 589,
    "start_time": "2023-04-21T15:02:20.418Z"
   },
   {
    "duration": 423,
    "start_time": "2023-04-21T15:02:21.008Z"
   },
   {
    "duration": 100,
    "start_time": "2023-04-21T15:02:22.433Z"
   },
   {
    "duration": 3,
    "start_time": "2023-04-21T15:02:28.317Z"
   },
   {
    "duration": 10038,
    "start_time": "2023-04-21T15:02:40.097Z"
   }
  ],
  "kernelspec": {
   "display_name": "Python 3 (ipykernel)",
   "language": "python",
   "name": "python3"
  },
  "language_info": {
   "codemirror_mode": {
    "name": "ipython",
    "version": 3
   },
   "file_extension": ".py",
   "mimetype": "text/x-python",
   "name": "python",
   "nbconvert_exporter": "python",
   "pygments_lexer": "ipython3",
   "version": "3.9.5"
  },
  "toc": {
   "base_numbering": 1,
   "nav_menu": {},
   "number_sections": true,
   "sideBar": true,
   "skip_h1_title": true,
   "title_cell": "Table of Contents",
   "title_sidebar": "Contents",
   "toc_cell": false,
   "toc_position": {},
   "toc_section_display": true,
   "toc_window_display": false
  }
 },
 "nbformat": 4,
 "nbformat_minor": 2
}
