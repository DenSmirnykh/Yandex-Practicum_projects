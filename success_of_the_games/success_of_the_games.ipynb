{
 "cells": [
  {
   "cell_type": "markdown",
   "metadata": {},
   "source": [
    "# Выявление определяющих успешность игры закономерностей"
   ]
  },
  {
   "cell_type": "markdown",
   "metadata": {},
   "source": [
    "**Цель проекта:** выявить определяющие успешность игры закономерности, чтобы сделать ставку на потенциально популярный продукт и спланировать рекламные кампании 2017-ого года.\n",
    "\n",
    "**Задачи:** изучим общую информацию представленного нам файла с данными, после подготовки данных проводим исследовательский анализ данных и составим портрет пользователя каждого региона для определения показателей, влияющих на успешность игры.\n",
    "\n",
    "Для исследования нам были выданы из открытых источников исторические данные о продажах игр, оценки пользователей и экспертов, жанры и платформы до 2016 года. Данные за 2016 год могут быть неполными."
   ]
  },
  {
   "cell_type": "markdown",
   "metadata": {},
   "source": [
    "###  Открываем файл с данными и изучаем общую информацию"
   ]
  },
  {
   "cell_type": "code",
   "execution_count": 3,
   "metadata": {},
   "outputs": [],
   "source": [
    "import pandas as pd\n",
    "import numpy as np"
   ]
  },
  {
   "cell_type": "code",
   "execution_count": 4,
   "metadata": {},
   "outputs": [],
   "source": [
    "df = pd.read_csv('/datasets/games.csv')"
   ]
  },
  {
   "cell_type": "code",
   "execution_count": 5,
   "metadata": {},
   "outputs": [
    {
     "name": "stdout",
     "output_type": "stream",
     "text": [
      "<class 'pandas.core.frame.DataFrame'>\n",
      "RangeIndex: 16715 entries, 0 to 16714\n",
      "Data columns (total 11 columns):\n",
      " #   Column           Non-Null Count  Dtype  \n",
      "---  ------           --------------  -----  \n",
      " 0   Name             16713 non-null  object \n",
      " 1   Platform         16715 non-null  object \n",
      " 2   Year_of_Release  16446 non-null  float64\n",
      " 3   Genre            16713 non-null  object \n",
      " 4   NA_sales         16715 non-null  float64\n",
      " 5   EU_sales         16715 non-null  float64\n",
      " 6   JP_sales         16715 non-null  float64\n",
      " 7   Other_sales      16715 non-null  float64\n",
      " 8   Critic_Score     8137 non-null   float64\n",
      " 9   User_Score       10014 non-null  object \n",
      " 10  Rating           9949 non-null   object \n",
      "dtypes: float64(6), object(5)\n",
      "memory usage: 1.4+ MB\n",
      "None\n"
     ]
    },
    {
     "data": {
      "text/html": [
       "<div>\n",
       "<style scoped>\n",
       "    .dataframe tbody tr th:only-of-type {\n",
       "        vertical-align: middle;\n",
       "    }\n",
       "\n",
       "    .dataframe tbody tr th {\n",
       "        vertical-align: top;\n",
       "    }\n",
       "\n",
       "    .dataframe thead th {\n",
       "        text-align: right;\n",
       "    }\n",
       "</style>\n",
       "<table border=\"1\" class=\"dataframe\">\n",
       "  <thead>\n",
       "    <tr style=\"text-align: right;\">\n",
       "      <th></th>\n",
       "      <th>Name</th>\n",
       "      <th>Platform</th>\n",
       "      <th>Year_of_Release</th>\n",
       "      <th>Genre</th>\n",
       "      <th>NA_sales</th>\n",
       "      <th>EU_sales</th>\n",
       "      <th>JP_sales</th>\n",
       "      <th>Other_sales</th>\n",
       "      <th>Critic_Score</th>\n",
       "      <th>User_Score</th>\n",
       "      <th>Rating</th>\n",
       "    </tr>\n",
       "  </thead>\n",
       "  <tbody>\n",
       "    <tr>\n",
       "      <th>0</th>\n",
       "      <td>Wii Sports</td>\n",
       "      <td>Wii</td>\n",
       "      <td>2006.0</td>\n",
       "      <td>Sports</td>\n",
       "      <td>41.36</td>\n",
       "      <td>28.96</td>\n",
       "      <td>3.77</td>\n",
       "      <td>8.45</td>\n",
       "      <td>76.0</td>\n",
       "      <td>8</td>\n",
       "      <td>E</td>\n",
       "    </tr>\n",
       "    <tr>\n",
       "      <th>1</th>\n",
       "      <td>Super Mario Bros.</td>\n",
       "      <td>NES</td>\n",
       "      <td>1985.0</td>\n",
       "      <td>Platform</td>\n",
       "      <td>29.08</td>\n",
       "      <td>3.58</td>\n",
       "      <td>6.81</td>\n",
       "      <td>0.77</td>\n",
       "      <td>NaN</td>\n",
       "      <td>NaN</td>\n",
       "      <td>NaN</td>\n",
       "    </tr>\n",
       "    <tr>\n",
       "      <th>2</th>\n",
       "      <td>Mario Kart Wii</td>\n",
       "      <td>Wii</td>\n",
       "      <td>2008.0</td>\n",
       "      <td>Racing</td>\n",
       "      <td>15.68</td>\n",
       "      <td>12.76</td>\n",
       "      <td>3.79</td>\n",
       "      <td>3.29</td>\n",
       "      <td>82.0</td>\n",
       "      <td>8.3</td>\n",
       "      <td>E</td>\n",
       "    </tr>\n",
       "    <tr>\n",
       "      <th>3</th>\n",
       "      <td>Wii Sports Resort</td>\n",
       "      <td>Wii</td>\n",
       "      <td>2009.0</td>\n",
       "      <td>Sports</td>\n",
       "      <td>15.61</td>\n",
       "      <td>10.93</td>\n",
       "      <td>3.28</td>\n",
       "      <td>2.95</td>\n",
       "      <td>80.0</td>\n",
       "      <td>8</td>\n",
       "      <td>E</td>\n",
       "    </tr>\n",
       "    <tr>\n",
       "      <th>4</th>\n",
       "      <td>Pokemon Red/Pokemon Blue</td>\n",
       "      <td>GB</td>\n",
       "      <td>1996.0</td>\n",
       "      <td>Role-Playing</td>\n",
       "      <td>11.27</td>\n",
       "      <td>8.89</td>\n",
       "      <td>10.22</td>\n",
       "      <td>1.00</td>\n",
       "      <td>NaN</td>\n",
       "      <td>NaN</td>\n",
       "      <td>NaN</td>\n",
       "    </tr>\n",
       "    <tr>\n",
       "      <th>...</th>\n",
       "      <td>...</td>\n",
       "      <td>...</td>\n",
       "      <td>...</td>\n",
       "      <td>...</td>\n",
       "      <td>...</td>\n",
       "      <td>...</td>\n",
       "      <td>...</td>\n",
       "      <td>...</td>\n",
       "      <td>...</td>\n",
       "      <td>...</td>\n",
       "      <td>...</td>\n",
       "    </tr>\n",
       "    <tr>\n",
       "      <th>16710</th>\n",
       "      <td>Samurai Warriors: Sanada Maru</td>\n",
       "      <td>PS3</td>\n",
       "      <td>2016.0</td>\n",
       "      <td>Action</td>\n",
       "      <td>0.00</td>\n",
       "      <td>0.00</td>\n",
       "      <td>0.01</td>\n",
       "      <td>0.00</td>\n",
       "      <td>NaN</td>\n",
       "      <td>NaN</td>\n",
       "      <td>NaN</td>\n",
       "    </tr>\n",
       "    <tr>\n",
       "      <th>16711</th>\n",
       "      <td>LMA Manager 2007</td>\n",
       "      <td>X360</td>\n",
       "      <td>2006.0</td>\n",
       "      <td>Sports</td>\n",
       "      <td>0.00</td>\n",
       "      <td>0.01</td>\n",
       "      <td>0.00</td>\n",
       "      <td>0.00</td>\n",
       "      <td>NaN</td>\n",
       "      <td>NaN</td>\n",
       "      <td>NaN</td>\n",
       "    </tr>\n",
       "    <tr>\n",
       "      <th>16712</th>\n",
       "      <td>Haitaka no Psychedelica</td>\n",
       "      <td>PSV</td>\n",
       "      <td>2016.0</td>\n",
       "      <td>Adventure</td>\n",
       "      <td>0.00</td>\n",
       "      <td>0.00</td>\n",
       "      <td>0.01</td>\n",
       "      <td>0.00</td>\n",
       "      <td>NaN</td>\n",
       "      <td>NaN</td>\n",
       "      <td>NaN</td>\n",
       "    </tr>\n",
       "    <tr>\n",
       "      <th>16713</th>\n",
       "      <td>Spirits &amp; Spells</td>\n",
       "      <td>GBA</td>\n",
       "      <td>2003.0</td>\n",
       "      <td>Platform</td>\n",
       "      <td>0.01</td>\n",
       "      <td>0.00</td>\n",
       "      <td>0.00</td>\n",
       "      <td>0.00</td>\n",
       "      <td>NaN</td>\n",
       "      <td>NaN</td>\n",
       "      <td>NaN</td>\n",
       "    </tr>\n",
       "    <tr>\n",
       "      <th>16714</th>\n",
       "      <td>Winning Post 8 2016</td>\n",
       "      <td>PSV</td>\n",
       "      <td>2016.0</td>\n",
       "      <td>Simulation</td>\n",
       "      <td>0.00</td>\n",
       "      <td>0.00</td>\n",
       "      <td>0.01</td>\n",
       "      <td>0.00</td>\n",
       "      <td>NaN</td>\n",
       "      <td>NaN</td>\n",
       "      <td>NaN</td>\n",
       "    </tr>\n",
       "  </tbody>\n",
       "</table>\n",
       "<p>16715 rows × 11 columns</p>\n",
       "</div>"
      ],
      "text/plain": [
       "                                Name Platform  Year_of_Release         Genre  \\\n",
       "0                         Wii Sports      Wii           2006.0        Sports   \n",
       "1                  Super Mario Bros.      NES           1985.0      Platform   \n",
       "2                     Mario Kart Wii      Wii           2008.0        Racing   \n",
       "3                  Wii Sports Resort      Wii           2009.0        Sports   \n",
       "4           Pokemon Red/Pokemon Blue       GB           1996.0  Role-Playing   \n",
       "...                              ...      ...              ...           ...   \n",
       "16710  Samurai Warriors: Sanada Maru      PS3           2016.0        Action   \n",
       "16711               LMA Manager 2007     X360           2006.0        Sports   \n",
       "16712        Haitaka no Psychedelica      PSV           2016.0     Adventure   \n",
       "16713               Spirits & Spells      GBA           2003.0      Platform   \n",
       "16714            Winning Post 8 2016      PSV           2016.0    Simulation   \n",
       "\n",
       "       NA_sales  EU_sales  JP_sales  Other_sales  Critic_Score User_Score  \\\n",
       "0         41.36     28.96      3.77         8.45          76.0          8   \n",
       "1         29.08      3.58      6.81         0.77           NaN        NaN   \n",
       "2         15.68     12.76      3.79         3.29          82.0        8.3   \n",
       "3         15.61     10.93      3.28         2.95          80.0          8   \n",
       "4         11.27      8.89     10.22         1.00           NaN        NaN   \n",
       "...         ...       ...       ...          ...           ...        ...   \n",
       "16710      0.00      0.00      0.01         0.00           NaN        NaN   \n",
       "16711      0.00      0.01      0.00         0.00           NaN        NaN   \n",
       "16712      0.00      0.00      0.01         0.00           NaN        NaN   \n",
       "16713      0.01      0.00      0.00         0.00           NaN        NaN   \n",
       "16714      0.00      0.00      0.01         0.00           NaN        NaN   \n",
       "\n",
       "      Rating  \n",
       "0          E  \n",
       "1        NaN  \n",
       "2          E  \n",
       "3          E  \n",
       "4        NaN  \n",
       "...      ...  \n",
       "16710    NaN  \n",
       "16711    NaN  \n",
       "16712    NaN  \n",
       "16713    NaN  \n",
       "16714    NaN  \n",
       "\n",
       "[16715 rows x 11 columns]"
      ]
     },
     "execution_count": 5,
     "metadata": {},
     "output_type": "execute_result"
    }
   ],
   "source": [
    "print(df.info())\n",
    "df"
   ]
  },
  {
   "cell_type": "markdown",
   "metadata": {},
   "source": [
    "###  Подготовка данных"
   ]
  },
  {
   "cell_type": "markdown",
   "metadata": {},
   "source": [
    "#### Приведём название столбцов к нижнему регистру"
   ]
  },
  {
   "cell_type": "code",
   "execution_count": 6,
   "metadata": {},
   "outputs": [
    {
     "data": {
      "text/html": [
       "<div>\n",
       "<style scoped>\n",
       "    .dataframe tbody tr th:only-of-type {\n",
       "        vertical-align: middle;\n",
       "    }\n",
       "\n",
       "    .dataframe tbody tr th {\n",
       "        vertical-align: top;\n",
       "    }\n",
       "\n",
       "    .dataframe thead th {\n",
       "        text-align: right;\n",
       "    }\n",
       "</style>\n",
       "<table border=\"1\" class=\"dataframe\">\n",
       "  <thead>\n",
       "    <tr style=\"text-align: right;\">\n",
       "      <th></th>\n",
       "      <th>name</th>\n",
       "      <th>platform</th>\n",
       "      <th>year_of_release</th>\n",
       "      <th>genre</th>\n",
       "      <th>NA_sales</th>\n",
       "      <th>EU_sales</th>\n",
       "      <th>JP_sales</th>\n",
       "      <th>other_sales</th>\n",
       "      <th>critic_score</th>\n",
       "      <th>user_score</th>\n",
       "      <th>rating</th>\n",
       "    </tr>\n",
       "  </thead>\n",
       "  <tbody>\n",
       "    <tr>\n",
       "      <th>0</th>\n",
       "      <td>Wii Sports</td>\n",
       "      <td>Wii</td>\n",
       "      <td>2006.0</td>\n",
       "      <td>Sports</td>\n",
       "      <td>41.36</td>\n",
       "      <td>28.96</td>\n",
       "      <td>3.77</td>\n",
       "      <td>8.45</td>\n",
       "      <td>76.0</td>\n",
       "      <td>8</td>\n",
       "      <td>E</td>\n",
       "    </tr>\n",
       "    <tr>\n",
       "      <th>1</th>\n",
       "      <td>Super Mario Bros.</td>\n",
       "      <td>NES</td>\n",
       "      <td>1985.0</td>\n",
       "      <td>Platform</td>\n",
       "      <td>29.08</td>\n",
       "      <td>3.58</td>\n",
       "      <td>6.81</td>\n",
       "      <td>0.77</td>\n",
       "      <td>NaN</td>\n",
       "      <td>NaN</td>\n",
       "      <td>NaN</td>\n",
       "    </tr>\n",
       "    <tr>\n",
       "      <th>2</th>\n",
       "      <td>Mario Kart Wii</td>\n",
       "      <td>Wii</td>\n",
       "      <td>2008.0</td>\n",
       "      <td>Racing</td>\n",
       "      <td>15.68</td>\n",
       "      <td>12.76</td>\n",
       "      <td>3.79</td>\n",
       "      <td>3.29</td>\n",
       "      <td>82.0</td>\n",
       "      <td>8.3</td>\n",
       "      <td>E</td>\n",
       "    </tr>\n",
       "    <tr>\n",
       "      <th>3</th>\n",
       "      <td>Wii Sports Resort</td>\n",
       "      <td>Wii</td>\n",
       "      <td>2009.0</td>\n",
       "      <td>Sports</td>\n",
       "      <td>15.61</td>\n",
       "      <td>10.93</td>\n",
       "      <td>3.28</td>\n",
       "      <td>2.95</td>\n",
       "      <td>80.0</td>\n",
       "      <td>8</td>\n",
       "      <td>E</td>\n",
       "    </tr>\n",
       "    <tr>\n",
       "      <th>4</th>\n",
       "      <td>Pokemon Red/Pokemon Blue</td>\n",
       "      <td>GB</td>\n",
       "      <td>1996.0</td>\n",
       "      <td>Role-Playing</td>\n",
       "      <td>11.27</td>\n",
       "      <td>8.89</td>\n",
       "      <td>10.22</td>\n",
       "      <td>1.00</td>\n",
       "      <td>NaN</td>\n",
       "      <td>NaN</td>\n",
       "      <td>NaN</td>\n",
       "    </tr>\n",
       "  </tbody>\n",
       "</table>\n",
       "</div>"
      ],
      "text/plain": [
       "                       name platform  year_of_release         genre  NA_sales  \\\n",
       "0                Wii Sports      Wii           2006.0        Sports     41.36   \n",
       "1         Super Mario Bros.      NES           1985.0      Platform     29.08   \n",
       "2            Mario Kart Wii      Wii           2008.0        Racing     15.68   \n",
       "3         Wii Sports Resort      Wii           2009.0        Sports     15.61   \n",
       "4  Pokemon Red/Pokemon Blue       GB           1996.0  Role-Playing     11.27   \n",
       "\n",
       "   EU_sales  JP_sales  other_sales  critic_score user_score rating  \n",
       "0     28.96      3.77         8.45          76.0          8      E  \n",
       "1      3.58      6.81         0.77           NaN        NaN    NaN  \n",
       "2     12.76      3.79         3.29          82.0        8.3      E  \n",
       "3     10.93      3.28         2.95          80.0          8      E  \n",
       "4      8.89     10.22         1.00           NaN        NaN    NaN  "
      ]
     },
     "execution_count": 6,
     "metadata": {},
     "output_type": "execute_result"
    }
   ],
   "source": [
    "df = df.rename(columns={'Name': 'name', 'Platform': 'platform',\n",
    "                       'Year_of_Release': 'year_of_release', 'Genre': 'genre',\n",
    "                       'Other_sales': 'other_sales', 'Critic_Score': 'critic_score',\n",
    "                       'User_Score': 'user_score', 'Rating': 'rating',}\n",
    "              )\n",
    "df.head(5)"
   ]
  },
  {
   "cell_type": "markdown",
   "metadata": {},
   "source": [
    "#### Преобразование данных в нужные типы"
   ]
  },
  {
   "cell_type": "code",
   "execution_count": 7,
   "metadata": {},
   "outputs": [],
   "source": [
    "df['year_of_release'] = df['year_of_release'].fillna(0).astype(int)\n",
    "df.loc[df['year_of_release'] == 0, 'year_of_release'] = np.NAN\n",
    "\n",
    "df.loc[df['user_score'] == 'tbd', 'user_score'] = np.NAN\n",
    "df['user_score'] = df['user_score'].astype(float)"
   ]
  },
  {
   "cell_type": "markdown",
   "metadata": {},
   "source": [
    "В столбце year_of_release данные были преобразованы из float в int, т.к. год выпуска игры может быть только целочисленным значением. В столбце user_score данные были пребразованы в float.\n",
    "\n",
    "Для проведения дальнейших расчётов в столбце user_score заменим 'tbd' (аббревиатура от английского To Be Determined - подлежит определению) на Nan, после чего вместе со всеми пропущенными значениями заменим на медиану столбца. Раз оценка подлежит определению, справедливо будет считать её за пропущенную."
   ]
  },
  {
   "cell_type": "markdown",
   "metadata": {},
   "source": [
    "#### Обработка пропусков"
   ]
  },
  {
   "cell_type": "code",
   "execution_count": 8,
   "metadata": {},
   "outputs": [
    {
     "data": {
      "text/html": [
       "<div>\n",
       "<style scoped>\n",
       "    .dataframe tbody tr th:only-of-type {\n",
       "        vertical-align: middle;\n",
       "    }\n",
       "\n",
       "    .dataframe tbody tr th {\n",
       "        vertical-align: top;\n",
       "    }\n",
       "\n",
       "    .dataframe thead th {\n",
       "        text-align: right;\n",
       "    }\n",
       "</style>\n",
       "<table border=\"1\" class=\"dataframe\">\n",
       "  <thead>\n",
       "    <tr style=\"text-align: right;\">\n",
       "      <th></th>\n",
       "      <th>name</th>\n",
       "      <th>platform</th>\n",
       "      <th>year_of_release</th>\n",
       "      <th>genre</th>\n",
       "      <th>NA_sales</th>\n",
       "      <th>EU_sales</th>\n",
       "      <th>JP_sales</th>\n",
       "      <th>other_sales</th>\n",
       "      <th>critic_score</th>\n",
       "      <th>user_score</th>\n",
       "      <th>rating</th>\n",
       "    </tr>\n",
       "  </thead>\n",
       "  <tbody>\n",
       "    <tr>\n",
       "      <th>659</th>\n",
       "      <td>NaN</td>\n",
       "      <td>GEN</td>\n",
       "      <td>1993.0</td>\n",
       "      <td>NaN</td>\n",
       "      <td>1.78</td>\n",
       "      <td>0.53</td>\n",
       "      <td>0.00</td>\n",
       "      <td>0.08</td>\n",
       "      <td>NaN</td>\n",
       "      <td>NaN</td>\n",
       "      <td>NaN</td>\n",
       "    </tr>\n",
       "    <tr>\n",
       "      <th>14244</th>\n",
       "      <td>NaN</td>\n",
       "      <td>GEN</td>\n",
       "      <td>1993.0</td>\n",
       "      <td>NaN</td>\n",
       "      <td>0.00</td>\n",
       "      <td>0.00</td>\n",
       "      <td>0.03</td>\n",
       "      <td>0.00</td>\n",
       "      <td>NaN</td>\n",
       "      <td>NaN</td>\n",
       "      <td>NaN</td>\n",
       "    </tr>\n",
       "  </tbody>\n",
       "</table>\n",
       "</div>"
      ],
      "text/plain": [
       "      name platform  year_of_release genre  NA_sales  EU_sales  JP_sales  \\\n",
       "659    NaN      GEN           1993.0   NaN      1.78      0.53      0.00   \n",
       "14244  NaN      GEN           1993.0   NaN      0.00      0.00      0.03   \n",
       "\n",
       "       other_sales  critic_score  user_score rating  \n",
       "659           0.08           NaN         NaN    NaN  \n",
       "14244         0.00           NaN         NaN    NaN  "
      ]
     },
     "execution_count": 8,
     "metadata": {},
     "output_type": "execute_result"
    }
   ],
   "source": [
    "df.query('name.isna()')"
   ]
  },
  {
   "cell_type": "code",
   "execution_count": 9,
   "metadata": {},
   "outputs": [
    {
     "data": {
      "text/plain": [
       "0"
      ]
     },
     "execution_count": 9,
     "metadata": {},
     "output_type": "execute_result"
    }
   ],
   "source": [
    "df = df.query('not name.isna()')\n",
    "df['name'].isna().sum()"
   ]
  },
  {
   "cell_type": "markdown",
   "metadata": {},
   "source": [
    "У игры нет названия, жанра, а также отсутствуют какие-либо оценки и рейтинги, поэтому её можно не учитывать в нашем исследовании."
   ]
  },
  {
   "cell_type": "code",
   "execution_count": 10,
   "metadata": {},
   "outputs": [
    {
     "data": {
      "text/plain": [
       "array(['E', nan, 'M', 'T', 'E10+', 'K-A', 'AO', 'EC', 'RP'], dtype=object)"
      ]
     },
     "execution_count": 10,
     "metadata": {},
     "output_type": "execute_result"
    }
   ],
   "source": [
    "df['rating'].unique()"
   ]
  },
  {
   "cell_type": "markdown",
   "metadata": {},
   "source": [
    "В 1998-ом году рейтинг K-A был переименован в рейтинг E. Для удобства переименуем данные"
   ]
  },
  {
   "cell_type": "code",
   "execution_count": 11,
   "metadata": {},
   "outputs": [
    {
     "data": {
      "text/plain": [
       "array(['E', nan, 'M', 'T', 'E10+', 'AO', 'EC', 'RP'], dtype=object)"
      ]
     },
     "execution_count": 11,
     "metadata": {},
     "output_type": "execute_result"
    }
   ],
   "source": [
    "df.loc[df['rating'] == 'K-A', 'rating'] = 'E'\n",
    "df['rating'].unique()"
   ]
  },
  {
   "cell_type": "code",
   "execution_count": 12,
   "metadata": {},
   "outputs": [
    {
     "data": {
      "text/plain": [
       "5852"
      ]
     },
     "execution_count": 12,
     "metadata": {},
     "output_type": "execute_result"
    }
   ],
   "source": [
    "nan_rating = df.query('rating.isna()')\n",
    "nan_rating['name'].nunique()"
   ]
  },
  {
   "cell_type": "markdown",
   "metadata": {},
   "source": [
    "Слишком много игр, чтобы можно было бы вручную проставить пропущенные рейтинги. Поэтому было принято решение заменить пропущенные значения ('Nan') на 'unknown'."
   ]
  },
  {
   "cell_type": "code",
   "execution_count": 13,
   "metadata": {},
   "outputs": [
    {
     "data": {
      "text/plain": [
       "0"
      ]
     },
     "execution_count": 13,
     "metadata": {},
     "output_type": "execute_result"
    }
   ],
   "source": [
    "df.loc[df['rating'].isna(), 'rating'] = 'unknown'\n",
    "df['rating'].isna().sum()"
   ]
  },
  {
   "cell_type": "markdown",
   "metadata": {},
   "source": [
    "Пропущенные значения в строках c оценкой критиков и игроков мы оставим, т.к, вероятнее всего, значения пропущенны не случайно, а потому что для некоторых игр пользователи и критики не выставили свои оценки. "
   ]
  },
  {
   "cell_type": "markdown",
   "metadata": {},
   "source": [
    "Удалим строки с пропущенными годами"
   ]
  },
  {
   "cell_type": "code",
   "execution_count": 14,
   "metadata": {},
   "outputs": [
    {
     "data": {
      "text/plain": [
       "0"
      ]
     },
     "execution_count": 14,
     "metadata": {},
     "output_type": "execute_result"
    }
   ],
   "source": [
    "df = df.query('not year_of_release.isna()')\n",
    "df['year_of_release'].isna().sum()"
   ]
  },
  {
   "cell_type": "code",
   "execution_count": 15,
   "metadata": {},
   "outputs": [
    {
     "name": "stdout",
     "output_type": "stream",
     "text": [
      "<class 'pandas.core.frame.DataFrame'>\n",
      "Int64Index: 16444 entries, 0 to 16714\n",
      "Data columns (total 11 columns):\n",
      " #   Column           Non-Null Count  Dtype  \n",
      "---  ------           --------------  -----  \n",
      " 0   name             16444 non-null  object \n",
      " 1   platform         16444 non-null  object \n",
      " 2   year_of_release  16444 non-null  float64\n",
      " 3   genre            16444 non-null  object \n",
      " 4   NA_sales         16444 non-null  float64\n",
      " 5   EU_sales         16444 non-null  float64\n",
      " 6   JP_sales         16444 non-null  float64\n",
      " 7   other_sales      16444 non-null  float64\n",
      " 8   critic_score     7983 non-null   float64\n",
      " 9   user_score       7463 non-null   float64\n",
      " 10  rating           16444 non-null  object \n",
      "dtypes: float64(7), object(4)\n",
      "memory usage: 1.5+ MB\n"
     ]
    }
   ],
   "source": [
    "df.info()"
   ]
  },
  {
   "cell_type": "markdown",
   "metadata": {},
   "source": [
    "#### Подсчёт суммарной продажи во всех регионах"
   ]
  },
  {
   "cell_type": "code",
   "execution_count": 16,
   "metadata": {},
   "outputs": [
    {
     "data": {
      "text/html": [
       "<div>\n",
       "<style scoped>\n",
       "    .dataframe tbody tr th:only-of-type {\n",
       "        vertical-align: middle;\n",
       "    }\n",
       "\n",
       "    .dataframe tbody tr th {\n",
       "        vertical-align: top;\n",
       "    }\n",
       "\n",
       "    .dataframe thead th {\n",
       "        text-align: right;\n",
       "    }\n",
       "</style>\n",
       "<table border=\"1\" class=\"dataframe\">\n",
       "  <thead>\n",
       "    <tr style=\"text-align: right;\">\n",
       "      <th></th>\n",
       "      <th>name</th>\n",
       "      <th>platform</th>\n",
       "      <th>year_of_release</th>\n",
       "      <th>genre</th>\n",
       "      <th>NA_sales</th>\n",
       "      <th>EU_sales</th>\n",
       "      <th>JP_sales</th>\n",
       "      <th>other_sales</th>\n",
       "      <th>critic_score</th>\n",
       "      <th>user_score</th>\n",
       "      <th>rating</th>\n",
       "      <th>total_sales</th>\n",
       "    </tr>\n",
       "  </thead>\n",
       "  <tbody>\n",
       "    <tr>\n",
       "      <th>0</th>\n",
       "      <td>Wii Sports</td>\n",
       "      <td>Wii</td>\n",
       "      <td>2006.0</td>\n",
       "      <td>Sports</td>\n",
       "      <td>41.36</td>\n",
       "      <td>28.96</td>\n",
       "      <td>3.77</td>\n",
       "      <td>8.45</td>\n",
       "      <td>76.0</td>\n",
       "      <td>8.0</td>\n",
       "      <td>E</td>\n",
       "      <td>82.54</td>\n",
       "    </tr>\n",
       "    <tr>\n",
       "      <th>1</th>\n",
       "      <td>Super Mario Bros.</td>\n",
       "      <td>NES</td>\n",
       "      <td>1985.0</td>\n",
       "      <td>Platform</td>\n",
       "      <td>29.08</td>\n",
       "      <td>3.58</td>\n",
       "      <td>6.81</td>\n",
       "      <td>0.77</td>\n",
       "      <td>NaN</td>\n",
       "      <td>NaN</td>\n",
       "      <td>unknown</td>\n",
       "      <td>40.24</td>\n",
       "    </tr>\n",
       "    <tr>\n",
       "      <th>2</th>\n",
       "      <td>Mario Kart Wii</td>\n",
       "      <td>Wii</td>\n",
       "      <td>2008.0</td>\n",
       "      <td>Racing</td>\n",
       "      <td>15.68</td>\n",
       "      <td>12.76</td>\n",
       "      <td>3.79</td>\n",
       "      <td>3.29</td>\n",
       "      <td>82.0</td>\n",
       "      <td>8.3</td>\n",
       "      <td>E</td>\n",
       "      <td>35.52</td>\n",
       "    </tr>\n",
       "    <tr>\n",
       "      <th>3</th>\n",
       "      <td>Wii Sports Resort</td>\n",
       "      <td>Wii</td>\n",
       "      <td>2009.0</td>\n",
       "      <td>Sports</td>\n",
       "      <td>15.61</td>\n",
       "      <td>10.93</td>\n",
       "      <td>3.28</td>\n",
       "      <td>2.95</td>\n",
       "      <td>80.0</td>\n",
       "      <td>8.0</td>\n",
       "      <td>E</td>\n",
       "      <td>32.77</td>\n",
       "    </tr>\n",
       "    <tr>\n",
       "      <th>4</th>\n",
       "      <td>Pokemon Red/Pokemon Blue</td>\n",
       "      <td>GB</td>\n",
       "      <td>1996.0</td>\n",
       "      <td>Role-Playing</td>\n",
       "      <td>11.27</td>\n",
       "      <td>8.89</td>\n",
       "      <td>10.22</td>\n",
       "      <td>1.00</td>\n",
       "      <td>NaN</td>\n",
       "      <td>NaN</td>\n",
       "      <td>unknown</td>\n",
       "      <td>31.38</td>\n",
       "    </tr>\n",
       "  </tbody>\n",
       "</table>\n",
       "</div>"
      ],
      "text/plain": [
       "                       name platform  year_of_release         genre  NA_sales  \\\n",
       "0                Wii Sports      Wii           2006.0        Sports     41.36   \n",
       "1         Super Mario Bros.      NES           1985.0      Platform     29.08   \n",
       "2            Mario Kart Wii      Wii           2008.0        Racing     15.68   \n",
       "3         Wii Sports Resort      Wii           2009.0        Sports     15.61   \n",
       "4  Pokemon Red/Pokemon Blue       GB           1996.0  Role-Playing     11.27   \n",
       "\n",
       "   EU_sales  JP_sales  other_sales  critic_score  user_score   rating  \\\n",
       "0     28.96      3.77         8.45          76.0         8.0        E   \n",
       "1      3.58      6.81         0.77           NaN         NaN  unknown   \n",
       "2     12.76      3.79         3.29          82.0         8.3        E   \n",
       "3     10.93      3.28         2.95          80.0         8.0        E   \n",
       "4      8.89     10.22         1.00           NaN         NaN  unknown   \n",
       "\n",
       "   total_sales  \n",
       "0        82.54  \n",
       "1        40.24  \n",
       "2        35.52  \n",
       "3        32.77  \n",
       "4        31.38  "
      ]
     },
     "execution_count": 16,
     "metadata": {},
     "output_type": "execute_result"
    }
   ],
   "source": [
    "df['total_sales'] = df['NA_sales']+df['EU_sales']+df['JP_sales']+df['other_sales']\n",
    "df.head()"
   ]
  },
  {
   "cell_type": "markdown",
   "metadata": {},
   "source": [
    "#### Проверка на явные дубликаты"
   ]
  },
  {
   "cell_type": "code",
   "execution_count": 17,
   "metadata": {
    "scrolled": true
   },
   "outputs": [
    {
     "data": {
      "text/plain": [
       "0"
      ]
     },
     "execution_count": 17,
     "metadata": {},
     "output_type": "execute_result"
    }
   ],
   "source": [
    "df.duplicated().sum()"
   ]
  },
  {
   "cell_type": "markdown",
   "metadata": {},
   "source": [
    "Явные дубликаты отсутствуют"
   ]
  },
  {
   "cell_type": "markdown",
   "metadata": {},
   "source": [
    "###  Исследовательский анализ данных"
   ]
  },
  {
   "cell_type": "code",
   "execution_count": 57,
   "metadata": {},
   "outputs": [],
   "source": [
    "import seaborn as sns\n",
    "import matplotlib.pyplot as plt"
   ]
  },
  {
   "cell_type": "code",
   "execution_count": 58,
   "metadata": {},
   "outputs": [
    {
     "data": {
      "text/plain": [
       "[Text(0.5, 1.0, 'Годы выпуска игр'),\n",
       " Text(0.5, 0, 'год выпуска'),\n",
       " Text(0, 0.5, 'количество игр')]"
      ]
     },
     "execution_count": 58,
     "metadata": {},
     "output_type": "execute_result"
    },
    {
     "data": {
      "image/png": "[encoded data removed]",
      "text/plain": [
       "<Figure size 432x288 with 1 Axes>"
      ]
     },
     "metadata": {
      "needs_background": "light"
     },
     "output_type": "display_data"
    }
   ],
   "source": [
    "(\n",
    "    sns.histplot(df['year_of_release'], binwidth=1)\n",
    "    .set(title='Годы выпуска игр', xlabel='год выпуска', ylabel='количество игр')\n",
    ")"
   ]
  },
  {
   "cell_type": "markdown",
   "metadata": {},
   "source": [
    "С каждым годом количество выпускаемых игр растёт, пока не доходит до пика в 2008-2009 годах, после чего оно падает. В 2016-ом году количество выпускаемых игр резко возрасло"
   ]
  },
  {
   "cell_type": "code",
   "execution_count": 19,
   "metadata": {
    "scrolled": false
   },
   "outputs": [
    {
     "data": {
      "text/plain": [
       "Text(0, 0.5, 'суммарное количество проданных копий, млн')"
      ]
     },
     "execution_count": 19,
     "metadata": {},
     "output_type": "execute_result"
    },
    {
     "data": {
      "image/png": "[encoded data removed]",
      "text/plain": [
       "<Figure size 1080x720 with 1 Axes>"
      ]
     },
     "metadata": {
      "needs_background": "light"
     },
     "output_type": "display_data"
    }
   ],
   "source": [
    "ax=(\n",
    "    df.pivot_table(index='year_of_release', columns ='platform', values='total_sales', aggfunc='sum')\n",
    "    .plot(grid=True, figsize=(15, 10), title='Продажи по платформам', )\n",
    ")\n",
    "ax.set_xlabel('год выпуска')\n",
    "ax.set_ylabel('суммарное количество проданных копий, млн')"
   ]
  },
  {
   "cell_type": "code",
   "execution_count": 20,
   "metadata": {},
   "outputs": [
    {
     "data": {
      "text/plain": [
       "platform\n",
       "PS2     1233.56\n",
       "X360     961.24\n",
       "PS3      931.34\n",
       "Wii      891.18\n",
       "DS       802.78\n",
       "Name: total_sales, dtype: float64"
      ]
     },
     "execution_count": 20,
     "metadata": {},
     "output_type": "execute_result"
    }
   ],
   "source": [
    "df.groupby('platform')['total_sales'].sum().sort_values(ascending=False).head()"
   ]
  },
  {
   "cell_type": "markdown",
   "metadata": {},
   "source": [
    "В среднем, раз в 5 лет появляются новые и исчезают старые игровые платформы, заменяя друг друга на более продвинутые модели.\n",
    "\n",
    "Однако можно наблюдать, как PC игры стабильно продаются, начиная с начала 90-ых по сегодняшний день, не уходя с рынка, благодаря чему её можно считать достаточно стабильной платформой.\n",
    "\n",
    "\n",
    "Выше представлен рейтинг 5 платформ по суммарному количеству проданных копий за всё время."
   ]
  },
  {
   "cell_type": "code",
   "execution_count": 21,
   "metadata": {
    "scrolled": false
   },
   "outputs": [
    {
     "data": {
      "text/plain": [
       "Text(0, 0.5, 'суммарное количество проданных копий, млн')"
      ]
     },
     "execution_count": 21,
     "metadata": {},
     "output_type": "execute_result"
    },
    {
     "data": {
      "image/png": "[encoded data removed]",
      "text/plain": [
       "<Figure size 1080x720 with 1 Axes>"
      ]
     },
     "metadata": {
      "needs_background": "light"
     },
     "output_type": "display_data"
    }
   ],
   "source": [
    "actualy_df = df.query('year_of_release>=2015')\n",
    "actualy_df_ax = (\n",
    "    actualy_df.pivot_table(index='year_of_release', columns ='platform', values='total_sales', aggfunc='sum')\n",
    "    .plot(grid=True, figsize=(15, 10), title='Продажи по платформам')\n",
    ")\n",
    "actualy_df_ax.set_xlabel('год выпуска')\n",
    "actualy_df_ax.set_ylabel('суммарное количество проданных копий, млн')"
   ]
  },
  {
   "cell_type": "code",
   "execution_count": 22,
   "metadata": {},
   "outputs": [
    {
     "data": {
      "text/plain": [
       "platform\n",
       "PS4     188.15\n",
       "XOne     86.29\n",
       "3DS      42.92\n",
       "WiiU     20.95\n",
       "PS3      20.42\n",
       "Name: total_sales, dtype: float64"
      ]
     },
     "execution_count": 22,
     "metadata": {},
     "output_type": "execute_result"
    }
   ],
   "source": [
    "actualy_df.groupby('platform')['total_sales'].sum().sort_values(ascending=False).head()"
   ]
  },
  {
   "cell_type": "markdown",
   "metadata": {},
   "source": [
    "Можно заметить, что хоть уровни сумарного количества проданных копий за всё время у таких платформ, как WII, X360 и PS3 самые высокие, в период 2015-2016 годах заметно падение уровня продаж игр на всех платформах (за исключением игр для PC). \n",
    "\n",
    "Выше представлен рейтинг 5 платформ по суммарному количеству проданных копий за 2015-2016 года. Однако стоит учесть, что количество продаж игр для этих платформ, скорее всего, будет и дальше падать, а игры на таких платформах, как WII и X360 так и вовсе в следующем году могут исчезнуть с рынка.\n",
    "\n",
    "Также такой спад продаж игр может свидетельствовать о появлении новых игровых платформ в ближайшем будущем, как это было в предыдущие годы."
   ]
  },
  {
   "cell_type": "code",
   "execution_count": 82,
   "metadata": {},
   "outputs": [
    {
     "data": {
      "image/png": "[encoded data removed]",
      "text/plain": [
       "<Figure size 720x360 with 1 Axes>"
      ]
     },
     "metadata": {
      "needs_background": "light"
     },
     "output_type": "display_data"
    },
    {
     "data": {
      "text/html": [
       "<div>\n",
       "<style scoped>\n",
       "    .dataframe tbody tr th:only-of-type {\n",
       "        vertical-align: middle;\n",
       "    }\n",
       "\n",
       "    .dataframe tbody tr th {\n",
       "        vertical-align: top;\n",
       "    }\n",
       "\n",
       "    .dataframe thead th {\n",
       "        text-align: right;\n",
       "    }\n",
       "</style>\n",
       "<table border=\"1\" class=\"dataframe\">\n",
       "  <thead>\n",
       "    <tr style=\"text-align: right;\">\n",
       "      <th></th>\n",
       "      <th>count</th>\n",
       "      <th>mean</th>\n",
       "      <th>std</th>\n",
       "      <th>min</th>\n",
       "      <th>25%</th>\n",
       "      <th>50%</th>\n",
       "      <th>75%</th>\n",
       "      <th>max</th>\n",
       "    </tr>\n",
       "    <tr>\n",
       "      <th>platform</th>\n",
       "      <th></th>\n",
       "      <th></th>\n",
       "      <th></th>\n",
       "      <th></th>\n",
       "      <th></th>\n",
       "      <th></th>\n",
       "      <th></th>\n",
       "      <th></th>\n",
       "    </tr>\n",
       "  </thead>\n",
       "  <tbody>\n",
       "    <tr>\n",
       "      <th>3DS</th>\n",
       "      <td>132.0</td>\n",
       "      <td>0.325152</td>\n",
       "      <td>0.798620</td>\n",
       "      <td>0.01</td>\n",
       "      <td>0.030</td>\n",
       "      <td>0.090</td>\n",
       "      <td>0.2325</td>\n",
       "      <td>7.14</td>\n",
       "    </tr>\n",
       "    <tr>\n",
       "      <th>PC</th>\n",
       "      <td>104.0</td>\n",
       "      <td>0.132404</td>\n",
       "      <td>0.209449</td>\n",
       "      <td>0.01</td>\n",
       "      <td>0.020</td>\n",
       "      <td>0.050</td>\n",
       "      <td>0.1425</td>\n",
       "      <td>1.28</td>\n",
       "    </tr>\n",
       "    <tr>\n",
       "      <th>PS3</th>\n",
       "      <td>111.0</td>\n",
       "      <td>0.183964</td>\n",
       "      <td>0.342696</td>\n",
       "      <td>0.01</td>\n",
       "      <td>0.020</td>\n",
       "      <td>0.060</td>\n",
       "      <td>0.1600</td>\n",
       "      <td>2.70</td>\n",
       "    </tr>\n",
       "    <tr>\n",
       "      <th>PS4</th>\n",
       "      <td>301.0</td>\n",
       "      <td>0.625083</td>\n",
       "      <td>1.457063</td>\n",
       "      <td>0.01</td>\n",
       "      <td>0.050</td>\n",
       "      <td>0.120</td>\n",
       "      <td>0.4200</td>\n",
       "      <td>14.63</td>\n",
       "    </tr>\n",
       "    <tr>\n",
       "      <th>PSP</th>\n",
       "      <td>3.0</td>\n",
       "      <td>0.040000</td>\n",
       "      <td>0.034641</td>\n",
       "      <td>0.02</td>\n",
       "      <td>0.020</td>\n",
       "      <td>0.020</td>\n",
       "      <td>0.0500</td>\n",
       "      <td>0.08</td>\n",
       "    </tr>\n",
       "    <tr>\n",
       "      <th>PSV</th>\n",
       "      <td>195.0</td>\n",
       "      <td>0.053846</td>\n",
       "      <td>0.063669</td>\n",
       "      <td>0.01</td>\n",
       "      <td>0.020</td>\n",
       "      <td>0.030</td>\n",
       "      <td>0.0600</td>\n",
       "      <td>0.41</td>\n",
       "    </tr>\n",
       "    <tr>\n",
       "      <th>Wii</th>\n",
       "      <td>5.0</td>\n",
       "      <td>0.264000</td>\n",
       "      <td>0.390487</td>\n",
       "      <td>0.01</td>\n",
       "      <td>0.030</td>\n",
       "      <td>0.150</td>\n",
       "      <td>0.1800</td>\n",
       "      <td>0.95</td>\n",
       "    </tr>\n",
       "    <tr>\n",
       "      <th>WiiU</th>\n",
       "      <td>42.0</td>\n",
       "      <td>0.498810</td>\n",
       "      <td>0.850240</td>\n",
       "      <td>0.01</td>\n",
       "      <td>0.050</td>\n",
       "      <td>0.215</td>\n",
       "      <td>0.5175</td>\n",
       "      <td>4.44</td>\n",
       "    </tr>\n",
       "    <tr>\n",
       "      <th>X360</th>\n",
       "      <td>48.0</td>\n",
       "      <td>0.280833</td>\n",
       "      <td>0.381207</td>\n",
       "      <td>0.01</td>\n",
       "      <td>0.040</td>\n",
       "      <td>0.110</td>\n",
       "      <td>0.3525</td>\n",
       "      <td>1.70</td>\n",
       "    </tr>\n",
       "    <tr>\n",
       "      <th>XOne</th>\n",
       "      <td>167.0</td>\n",
       "      <td>0.516707</td>\n",
       "      <td>0.965940</td>\n",
       "      <td>0.01</td>\n",
       "      <td>0.035</td>\n",
       "      <td>0.130</td>\n",
       "      <td>0.5550</td>\n",
       "      <td>7.39</td>\n",
       "    </tr>\n",
       "  </tbody>\n",
       "</table>\n",
       "</div>"
      ],
      "text/plain": [
       "          count      mean       std   min    25%    50%     75%    max\n",
       "platform                                                              \n",
       "3DS       132.0  0.325152  0.798620  0.01  0.030  0.090  0.2325   7.14\n",
       "PC        104.0  0.132404  0.209449  0.01  0.020  0.050  0.1425   1.28\n",
       "PS3       111.0  0.183964  0.342696  0.01  0.020  0.060  0.1600   2.70\n",
       "PS4       301.0  0.625083  1.457063  0.01  0.050  0.120  0.4200  14.63\n",
       "PSP         3.0  0.040000  0.034641  0.02  0.020  0.020  0.0500   0.08\n",
       "PSV       195.0  0.053846  0.063669  0.01  0.020  0.030  0.0600   0.41\n",
       "Wii         5.0  0.264000  0.390487  0.01  0.030  0.150  0.1800   0.95\n",
       "WiiU       42.0  0.498810  0.850240  0.01  0.050  0.215  0.5175   4.44\n",
       "X360       48.0  0.280833  0.381207  0.01  0.040  0.110  0.3525   1.70\n",
       "XOne      167.0  0.516707  0.965940  0.01  0.035  0.130  0.5550   7.39"
      ]
     },
     "execution_count": 82,
     "metadata": {},
     "output_type": "execute_result"
    }
   ],
   "source": [
    "ax = actualy_df.boxplot(column='total_sales', by='platform', figsize=(10, 5))\n",
    "ax.set_xlabel('платформы')\n",
    "ax.set_ylabel('количество проданных копий игр, млн')\n",
    "ax.set_title('Количество продаж по платформам')\n",
    "plt.ylim(0, 1.5)\n",
    "plt.show()\n",
    "\n",
    "actualy_df.groupby('platform')['total_sales'].describe()"
   ]
  },
  {
   "cell_type": "markdown",
   "metadata": {},
   "source": [
    "По боксплотам можно отметить, что большее количество продаж, в среднем, на 2015-2016 года имеют игры, выпускаемые для Xbox One, WiiU, PS4 и Xbox 360. Первый квартиль для каждой платформы расположен на значении 0.02-0.05 млн проданных копий, что свидетельствует о том, что большинство игр продаются в небольшом количестве копий. Медиана смещена в сторону к первому квартилю, что ещё раз подтверждает прошлое утверждение. Исключение состовляют игры для платформы Wii, датасет которой имеет скошенность в отрицательную сторону."
   ]
  },
  {
   "cell_type": "code",
   "execution_count": 61,
   "metadata": {},
   "outputs": [],
   "source": [
    "actualy_PS4 = actualy_df.query('platform==\"PS4\"')\n",
    "actualy_other_platforms = actualy_df.query('platform!=\"PS4\"')"
   ]
  },
  {
   "cell_type": "code",
   "execution_count": 41,
   "metadata": {},
   "outputs": [
    {
     "name": "stdout",
     "output_type": "stream",
     "text": [
      "Корреляция между отзывами пользователей и продажами:  -0.05973845712638215\n"
     ]
    },
    {
     "data": {
      "image/png": "[encoded data removed]",
      "text/plain": [
       "<Figure size 432x288 with 1 Axes>"
      ]
     },
     "metadata": {
      "needs_background": "light"
     },
     "output_type": "display_data"
    }
   ],
   "source": [
    "(\n",
    "    sns.scatterplot(data=actualy_PS4, x=\"total_sales\", y=\"user_score\")\n",
    "    .set(xlabel='количество проданных копий, млн', ylabel='отзывы пользователей')\n",
    ")\n",
    "print('Корреляция между отзывами пользователей и продажами: ', actualy_PS4[\"total_sales\"].corr(actualy_PS4[\"user_score\"]))"
   ]
  },
  {
   "cell_type": "code",
   "execution_count": 67,
   "metadata": {
    "scrolled": true
   },
   "outputs": [
    {
     "name": "stdout",
     "output_type": "stream",
     "text": [
      "Корреляция между отзывами критиков и продажами:  0.3928485555130601\n"
     ]
    },
    {
     "data": {
      "image/png": "[encoded data removed]",
      "text/plain": [
       "<Figure size 432x288 with 1 Axes>"
      ]
     },
     "metadata": {
      "needs_background": "light"
     },
     "output_type": "display_data"
    }
   ],
   "source": [
    "(\n",
    "    sns.scatterplot(data=actualy_PS4, x=\"total_sales\", y=\"critic_score\", color=\"orange\")\n",
    "    .set(xlabel='количество проданных копий, млн', ylabel='отзывы критиков')\n",
    ")\n",
    "print('Корреляция между отзывами критиков и продажами: ', actualy_PS4[\"total_sales\"].corr(actualy_PS4[\"critic_score\"]))"
   ]
  },
  {
   "cell_type": "code",
   "execution_count": 63,
   "metadata": {},
   "outputs": [
    {
     "name": "stdout",
     "output_type": "stream",
     "text": [
      "Корреляция между отзывами пользователей и продажами:  0.01752113065632156\n"
     ]
    },
    {
     "data": {
      "image/png": "[encoded data removed]",
      "text/plain": [
       "<Figure size 432x288 with 1 Axes>"
      ]
     },
     "metadata": {
      "needs_background": "light"
     },
     "output_type": "display_data"
    }
   ],
   "source": [
    "(\n",
    "    sns.scatterplot(data=actualy_other_platforms, x=\"total_sales\", y=\"user_score\")\n",
    "    .set(xlabel='количество проданных копий, млн', ylabel='отзывы пользователей')\n",
    ")\n",
    "print('Корреляция между отзывами пользователей и продажами: ', actualy_other_platforms[\"total_sales\"].corr(actualy_other_platforms[\"user_score\"]))"
   ]
  },
  {
   "cell_type": "code",
   "execution_count": 66,
   "metadata": {},
   "outputs": [
    {
     "name": "stdout",
     "output_type": "stream",
     "text": [
      "Корреляция между отзывами критиков и продажами:  0.3032430209852095\n"
     ]
    },
    {
     "data": {
      "image/png": "[encoded data removed]",
      "text/plain": [
       "<Figure size 432x288 with 1 Axes>"
      ]
     },
     "metadata": {
      "needs_background": "light"
     },
     "output_type": "display_data"
    }
   ],
   "source": [
    "(\n",
    "    sns.scatterplot(data=actualy_other_platforms, x=\"total_sales\", y=\"critic_score\", color=\"orange\")\n",
    "    .set(xlabel='количество проданных копий, млн', ylabel='отзывы критиков')\n",
    ")\n",
    "print('Корреляция между отзывами критиков и продажами: ', actualy_other_platforms[\"total_sales\"].corr(actualy_other_platforms[\"critic_score\"]))"
   ]
  },
  {
   "cell_type": "markdown",
   "metadata": {},
   "source": [
    "В обоих случаях, корреляция слишком мала, чтобы судить о прямой (отзывы критиков) и обратной (отзывы пользователей) зависимостях продаж от отзывов. Однако, рассмотрев графики рассеивания, можно отметить зависимость: игры с высокими отзывами как пользователей, так и критиков, имеют в среднем большее количиство продаж, чем игры с низкими отзывами; причём это не зависит от того, какую платформу рассматривать."
   ]
  },
  {
   "cell_type": "code",
   "execution_count": 83,
   "metadata": {
    "scrolled": false
   },
   "outputs": [
    {
     "data": {
      "image/png": "[encoded data removed]",
      "text/plain": [
       "<Figure size 1080x360 with 1 Axes>"
      ]
     },
     "metadata": {
      "needs_background": "light"
     },
     "output_type": "display_data"
    },
    {
     "data": {
      "text/html": [
       "<div>\n",
       "<style scoped>\n",
       "    .dataframe tbody tr th:only-of-type {\n",
       "        vertical-align: middle;\n",
       "    }\n",
       "\n",
       "    .dataframe tbody tr th {\n",
       "        vertical-align: top;\n",
       "    }\n",
       "\n",
       "    .dataframe thead th {\n",
       "        text-align: right;\n",
       "    }\n",
       "</style>\n",
       "<table border=\"1\" class=\"dataframe\">\n",
       "  <thead>\n",
       "    <tr style=\"text-align: right;\">\n",
       "      <th></th>\n",
       "      <th>count</th>\n",
       "      <th>mean</th>\n",
       "      <th>std</th>\n",
       "      <th>min</th>\n",
       "      <th>25%</th>\n",
       "      <th>50%</th>\n",
       "      <th>75%</th>\n",
       "      <th>max</th>\n",
       "    </tr>\n",
       "    <tr>\n",
       "      <th>genre</th>\n",
       "      <th></th>\n",
       "      <th></th>\n",
       "      <th></th>\n",
       "      <th></th>\n",
       "      <th></th>\n",
       "      <th></th>\n",
       "      <th></th>\n",
       "      <th></th>\n",
       "    </tr>\n",
       "  </thead>\n",
       "  <tbody>\n",
       "    <tr>\n",
       "      <th>Action</th>\n",
       "      <td>431.0</td>\n",
       "      <td>0.236961</td>\n",
       "      <td>0.525858</td>\n",
       "      <td>0.01</td>\n",
       "      <td>0.0200</td>\n",
       "      <td>0.060</td>\n",
       "      <td>0.190</td>\n",
       "      <td>4.62</td>\n",
       "    </tr>\n",
       "    <tr>\n",
       "      <th>Adventure</th>\n",
       "      <td>110.0</td>\n",
       "      <td>0.108909</td>\n",
       "      <td>0.254260</td>\n",
       "      <td>0.01</td>\n",
       "      <td>0.0200</td>\n",
       "      <td>0.030</td>\n",
       "      <td>0.060</td>\n",
       "      <td>1.66</td>\n",
       "    </tr>\n",
       "    <tr>\n",
       "      <th>Fighting</th>\n",
       "      <td>37.0</td>\n",
       "      <td>0.334324</td>\n",
       "      <td>0.549695</td>\n",
       "      <td>0.01</td>\n",
       "      <td>0.0400</td>\n",
       "      <td>0.090</td>\n",
       "      <td>0.330</td>\n",
       "      <td>2.78</td>\n",
       "    </tr>\n",
       "    <tr>\n",
       "      <th>Misc</th>\n",
       "      <td>71.0</td>\n",
       "      <td>0.199577</td>\n",
       "      <td>0.286718</td>\n",
       "      <td>0.01</td>\n",
       "      <td>0.0300</td>\n",
       "      <td>0.060</td>\n",
       "      <td>0.290</td>\n",
       "      <td>1.58</td>\n",
       "    </tr>\n",
       "    <tr>\n",
       "      <th>Platform</th>\n",
       "      <td>28.0</td>\n",
       "      <td>0.331429</td>\n",
       "      <td>0.667387</td>\n",
       "      <td>0.01</td>\n",
       "      <td>0.0575</td>\n",
       "      <td>0.100</td>\n",
       "      <td>0.220</td>\n",
       "      <td>3.21</td>\n",
       "    </tr>\n",
       "    <tr>\n",
       "      <th>Puzzle</th>\n",
       "      <td>7.0</td>\n",
       "      <td>0.102857</td>\n",
       "      <td>0.170070</td>\n",
       "      <td>0.01</td>\n",
       "      <td>0.0150</td>\n",
       "      <td>0.030</td>\n",
       "      <td>0.085</td>\n",
       "      <td>0.48</td>\n",
       "    </tr>\n",
       "    <tr>\n",
       "      <th>Racing</th>\n",
       "      <td>42.0</td>\n",
       "      <td>0.258571</td>\n",
       "      <td>0.497342</td>\n",
       "      <td>0.01</td>\n",
       "      <td>0.0300</td>\n",
       "      <td>0.055</td>\n",
       "      <td>0.215</td>\n",
       "      <td>2.42</td>\n",
       "    </tr>\n",
       "    <tr>\n",
       "      <th>Role-Playing</th>\n",
       "      <td>132.0</td>\n",
       "      <td>0.422879</td>\n",
       "      <td>1.028082</td>\n",
       "      <td>0.01</td>\n",
       "      <td>0.0400</td>\n",
       "      <td>0.115</td>\n",
       "      <td>0.340</td>\n",
       "      <td>7.17</td>\n",
       "    </tr>\n",
       "    <tr>\n",
       "      <th>Shooter</th>\n",
       "      <td>81.0</td>\n",
       "      <td>1.305309</td>\n",
       "      <td>2.227297</td>\n",
       "      <td>0.01</td>\n",
       "      <td>0.1300</td>\n",
       "      <td>0.380</td>\n",
       "      <td>1.690</td>\n",
       "      <td>14.63</td>\n",
       "    </tr>\n",
       "    <tr>\n",
       "      <th>Simulation</th>\n",
       "      <td>33.0</td>\n",
       "      <td>0.228788</td>\n",
       "      <td>0.531018</td>\n",
       "      <td>0.01</td>\n",
       "      <td>0.0200</td>\n",
       "      <td>0.100</td>\n",
       "      <td>0.220</td>\n",
       "      <td>3.05</td>\n",
       "    </tr>\n",
       "    <tr>\n",
       "      <th>Sports</th>\n",
       "      <td>107.0</td>\n",
       "      <td>0.601215</td>\n",
       "      <td>1.292693</td>\n",
       "      <td>0.01</td>\n",
       "      <td>0.0450</td>\n",
       "      <td>0.120</td>\n",
       "      <td>0.495</td>\n",
       "      <td>8.58</td>\n",
       "    </tr>\n",
       "    <tr>\n",
       "      <th>Strategy</th>\n",
       "      <td>29.0</td>\n",
       "      <td>0.102759</td>\n",
       "      <td>0.115539</td>\n",
       "      <td>0.01</td>\n",
       "      <td>0.0200</td>\n",
       "      <td>0.050</td>\n",
       "      <td>0.140</td>\n",
       "      <td>0.52</td>\n",
       "    </tr>\n",
       "  </tbody>\n",
       "</table>\n",
       "</div>"
      ],
      "text/plain": [
       "              count      mean       std   min     25%    50%    75%    max\n",
       "genre                                                                     \n",
       "Action        431.0  0.236961  0.525858  0.01  0.0200  0.060  0.190   4.62\n",
       "Adventure     110.0  0.108909  0.254260  0.01  0.0200  0.030  0.060   1.66\n",
       "Fighting       37.0  0.334324  0.549695  0.01  0.0400  0.090  0.330   2.78\n",
       "Misc           71.0  0.199577  0.286718  0.01  0.0300  0.060  0.290   1.58\n",
       "Platform       28.0  0.331429  0.667387  0.01  0.0575  0.100  0.220   3.21\n",
       "Puzzle          7.0  0.102857  0.170070  0.01  0.0150  0.030  0.085   0.48\n",
       "Racing         42.0  0.258571  0.497342  0.01  0.0300  0.055  0.215   2.42\n",
       "Role-Playing  132.0  0.422879  1.028082  0.01  0.0400  0.115  0.340   7.17\n",
       "Shooter        81.0  1.305309  2.227297  0.01  0.1300  0.380  1.690  14.63\n",
       "Simulation     33.0  0.228788  0.531018  0.01  0.0200  0.100  0.220   3.05\n",
       "Sports        107.0  0.601215  1.292693  0.01  0.0450  0.120  0.495   8.58\n",
       "Strategy       29.0  0.102759  0.115539  0.01  0.0200  0.050  0.140   0.52"
      ]
     },
     "execution_count": 83,
     "metadata": {},
     "output_type": "execute_result"
    }
   ],
   "source": [
    "cx=actualy_df.boxplot(column='total_sales', by='genre', figsize=(15, 5))\n",
    "cx.set_xlabel('жанры')\n",
    "cx.set_ylabel('количество проданных копий игр, млн')\n",
    "cx.set_title('Количество продаж по жанрам')\n",
    "plt.ylim(0, 4)\n",
    "plt.show()\n",
    "\n",
    "actualy_df.groupby('genre')['total_sales'].describe()"
   ]
  },
  {
   "cell_type": "markdown",
   "metadata": {},
   "source": [
    "Самый стабильно приносящий высокий доход жанр - шутеры. Второе и третье места по стабильному доход занимают спортивные и RP игры соответственно. Самый низкий доход приносят игры, принадлежащие жанру головоломок и экшну."
   ]
  },
  {
   "cell_type": "markdown",
   "metadata": {},
   "source": [
    "###  Составление портрета пользователя каждого региона"
   ]
  },
  {
   "cell_type": "markdown",
   "metadata": {},
   "source": [
    "#### Самые популярные платформы"
   ]
  },
  {
   "cell_type": "code",
   "execution_count": 29,
   "metadata": {},
   "outputs": [],
   "source": [
    "def top_5_regions(data, region):\n",
    "    return display(actualy_df.pivot_table(index=data, values=region, aggfunc='sum')\n",
    "                   .sort_values(by=region, ascending=False).head()\n",
    "                  )"
   ]
  },
  {
   "cell_type": "markdown",
   "metadata": {},
   "source": [
    "##### Топ 5 популярных платформ в Европе:"
   ]
  },
  {
   "cell_type": "code",
   "execution_count": 30,
   "metadata": {},
   "outputs": [
    {
     "data": {
      "text/html": [
       "<div>\n",
       "<style scoped>\n",
       "    .dataframe tbody tr th:only-of-type {\n",
       "        vertical-align: middle;\n",
       "    }\n",
       "\n",
       "    .dataframe tbody tr th {\n",
       "        vertical-align: top;\n",
       "    }\n",
       "\n",
       "    .dataframe thead th {\n",
       "        text-align: right;\n",
       "    }\n",
       "</style>\n",
       "<table border=\"1\" class=\"dataframe\">\n",
       "  <thead>\n",
       "    <tr style=\"text-align: right;\">\n",
       "      <th></th>\n",
       "      <th>EU_sales</th>\n",
       "    </tr>\n",
       "    <tr>\n",
       "      <th>platform</th>\n",
       "      <th></th>\n",
       "    </tr>\n",
       "  </thead>\n",
       "  <tbody>\n",
       "    <tr>\n",
       "      <th>PS4</th>\n",
       "      <td>83.54</td>\n",
       "    </tr>\n",
       "    <tr>\n",
       "      <th>XOne</th>\n",
       "      <td>28.10</td>\n",
       "    </tr>\n",
       "    <tr>\n",
       "      <th>PC</th>\n",
       "      <td>9.10</td>\n",
       "    </tr>\n",
       "    <tr>\n",
       "      <th>3DS</th>\n",
       "      <td>7.39</td>\n",
       "    </tr>\n",
       "    <tr>\n",
       "      <th>PS3</th>\n",
       "      <td>7.30</td>\n",
       "    </tr>\n",
       "  </tbody>\n",
       "</table>\n",
       "</div>"
      ],
      "text/plain": [
       "          EU_sales\n",
       "platform          \n",
       "PS4          83.54\n",
       "XOne         28.10\n",
       "PC            9.10\n",
       "3DS           7.39\n",
       "PS3           7.30"
      ]
     },
     "metadata": {},
     "output_type": "display_data"
    }
   ],
   "source": [
    "top_5_regions('platform', 'EU_sales')"
   ]
  },
  {
   "cell_type": "markdown",
   "metadata": {},
   "source": [
    "##### Топ 5 популярных платформ в Северной Америке:"
   ]
  },
  {
   "cell_type": "code",
   "execution_count": 31,
   "metadata": {},
   "outputs": [
    {
     "data": {
      "text/html": [
       "<div>\n",
       "<style scoped>\n",
       "    .dataframe tbody tr th:only-of-type {\n",
       "        vertical-align: middle;\n",
       "    }\n",
       "\n",
       "    .dataframe tbody tr th {\n",
       "        vertical-align: top;\n",
       "    }\n",
       "\n",
       "    .dataframe thead th {\n",
       "        text-align: right;\n",
       "    }\n",
       "</style>\n",
       "<table border=\"1\" class=\"dataframe\">\n",
       "  <thead>\n",
       "    <tr style=\"text-align: right;\">\n",
       "      <th></th>\n",
       "      <th>NA_sales</th>\n",
       "    </tr>\n",
       "    <tr>\n",
       "      <th>platform</th>\n",
       "      <th></th>\n",
       "    </tr>\n",
       "  </thead>\n",
       "  <tbody>\n",
       "    <tr>\n",
       "      <th>PS4</th>\n",
       "      <td>63.86</td>\n",
       "    </tr>\n",
       "    <tr>\n",
       "      <th>XOne</th>\n",
       "      <td>50.30</td>\n",
       "    </tr>\n",
       "    <tr>\n",
       "      <th>3DS</th>\n",
       "      <td>10.31</td>\n",
       "    </tr>\n",
       "    <tr>\n",
       "      <th>WiiU</th>\n",
       "      <td>8.86</td>\n",
       "    </tr>\n",
       "    <tr>\n",
       "      <th>X360</th>\n",
       "      <td>8.05</td>\n",
       "    </tr>\n",
       "  </tbody>\n",
       "</table>\n",
       "</div>"
      ],
      "text/plain": [
       "          NA_sales\n",
       "platform          \n",
       "PS4          63.86\n",
       "XOne         50.30\n",
       "3DS          10.31\n",
       "WiiU          8.86\n",
       "X360          8.05"
      ]
     },
     "metadata": {},
     "output_type": "display_data"
    }
   ],
   "source": [
    "top_5_regions('platform', 'NA_sales')"
   ]
  },
  {
   "cell_type": "markdown",
   "metadata": {},
   "source": [
    "##### Топ 5 популярных платформ в Японии:"
   ]
  },
  {
   "cell_type": "code",
   "execution_count": 33,
   "metadata": {},
   "outputs": [
    {
     "data": {
      "text/html": [
       "<div>\n",
       "<style scoped>\n",
       "    .dataframe tbody tr th:only-of-type {\n",
       "        vertical-align: middle;\n",
       "    }\n",
       "\n",
       "    .dataframe tbody tr th {\n",
       "        vertical-align: top;\n",
       "    }\n",
       "\n",
       "    .dataframe thead th {\n",
       "        text-align: right;\n",
       "    }\n",
       "</style>\n",
       "<table border=\"1\" class=\"dataframe\">\n",
       "  <thead>\n",
       "    <tr style=\"text-align: right;\">\n",
       "      <th></th>\n",
       "      <th>JP_sales</th>\n",
       "    </tr>\n",
       "    <tr>\n",
       "      <th>platform</th>\n",
       "      <th></th>\n",
       "    </tr>\n",
       "  </thead>\n",
       "  <tbody>\n",
       "    <tr>\n",
       "      <th>3DS</th>\n",
       "      <td>23.55</td>\n",
       "    </tr>\n",
       "    <tr>\n",
       "      <th>PS4</th>\n",
       "      <td>12.05</td>\n",
       "    </tr>\n",
       "    <tr>\n",
       "      <th>PSV</th>\n",
       "      <td>8.41</td>\n",
       "    </tr>\n",
       "    <tr>\n",
       "      <th>PS3</th>\n",
       "      <td>4.97</td>\n",
       "    </tr>\n",
       "    <tr>\n",
       "      <th>WiiU</th>\n",
       "      <td>4.12</td>\n",
       "    </tr>\n",
       "  </tbody>\n",
       "</table>\n",
       "</div>"
      ],
      "text/plain": [
       "          JP_sales\n",
       "platform          \n",
       "3DS          23.55\n",
       "PS4          12.05\n",
       "PSV           8.41\n",
       "PS3           4.97\n",
       "WiiU          4.12"
      ]
     },
     "metadata": {},
     "output_type": "display_data"
    }
   ],
   "source": [
    "top_5_regions('platform', 'JP_sales')"
   ]
  },
  {
   "cell_type": "markdown",
   "metadata": {},
   "source": [
    "Для американского и европейских рынков характерны одинаковые лидирующие платформы: PS4 и Xbox One. Также в Европе люди чаще покупают игры для PC, чем в Японии и Северной Америке. В Японии же большой популярностью пользуются игры для протативных игровых систем  3DS и PS Vita, а также игры для PS4, которая занимает лидирующую позицию по продажам для всех регионов."
   ]
  },
  {
   "cell_type": "markdown",
   "metadata": {},
   "source": [
    "#### Самые популярные жанры"
   ]
  },
  {
   "cell_type": "markdown",
   "metadata": {},
   "source": [
    "##### Топ 5 популярных жанров в Европе:"
   ]
  },
  {
   "cell_type": "code",
   "execution_count": 34,
   "metadata": {},
   "outputs": [
    {
     "data": {
      "text/html": [
       "<div>\n",
       "<style scoped>\n",
       "    .dataframe tbody tr th:only-of-type {\n",
       "        vertical-align: middle;\n",
       "    }\n",
       "\n",
       "    .dataframe tbody tr th {\n",
       "        vertical-align: top;\n",
       "    }\n",
       "\n",
       "    .dataframe thead th {\n",
       "        text-align: right;\n",
       "    }\n",
       "</style>\n",
       "<table border=\"1\" class=\"dataframe\">\n",
       "  <thead>\n",
       "    <tr style=\"text-align: right;\">\n",
       "      <th></th>\n",
       "      <th>EU_sales</th>\n",
       "    </tr>\n",
       "    <tr>\n",
       "      <th>genre</th>\n",
       "      <th></th>\n",
       "    </tr>\n",
       "  </thead>\n",
       "  <tbody>\n",
       "    <tr>\n",
       "      <th>Shooter</th>\n",
       "      <td>40.28</td>\n",
       "    </tr>\n",
       "    <tr>\n",
       "      <th>Action</th>\n",
       "      <td>34.82</td>\n",
       "    </tr>\n",
       "    <tr>\n",
       "      <th>Sports</th>\n",
       "      <td>27.82</td>\n",
       "    </tr>\n",
       "    <tr>\n",
       "      <th>Role-Playing</th>\n",
       "      <td>17.21</td>\n",
       "    </tr>\n",
       "    <tr>\n",
       "      <th>Racing</th>\n",
       "      <td>6.52</td>\n",
       "    </tr>\n",
       "  </tbody>\n",
       "</table>\n",
       "</div>"
      ],
      "text/plain": [
       "              EU_sales\n",
       "genre                 \n",
       "Shooter          40.28\n",
       "Action           34.82\n",
       "Sports           27.82\n",
       "Role-Playing     17.21\n",
       "Racing            6.52"
      ]
     },
     "metadata": {},
     "output_type": "display_data"
    }
   ],
   "source": [
    "top_5_regions('genre', 'EU_sales')"
   ]
  },
  {
   "cell_type": "markdown",
   "metadata": {},
   "source": [
    "##### Топ 5 популярных жанров в Северной Америке:"
   ]
  },
  {
   "cell_type": "code",
   "execution_count": 35,
   "metadata": {},
   "outputs": [
    {
     "data": {
      "text/html": [
       "<div>\n",
       "<style scoped>\n",
       "    .dataframe tbody tr th:only-of-type {\n",
       "        vertical-align: middle;\n",
       "    }\n",
       "\n",
       "    .dataframe tbody tr th {\n",
       "        vertical-align: top;\n",
       "    }\n",
       "\n",
       "    .dataframe thead th {\n",
       "        text-align: right;\n",
       "    }\n",
       "</style>\n",
       "<table border=\"1\" class=\"dataframe\">\n",
       "  <thead>\n",
       "    <tr style=\"text-align: right;\">\n",
       "      <th></th>\n",
       "      <th>NA_sales</th>\n",
       "    </tr>\n",
       "    <tr>\n",
       "      <th>genre</th>\n",
       "      <th></th>\n",
       "    </tr>\n",
       "  </thead>\n",
       "  <tbody>\n",
       "    <tr>\n",
       "      <th>Shooter</th>\n",
       "      <td>48.18</td>\n",
       "    </tr>\n",
       "    <tr>\n",
       "      <th>Action</th>\n",
       "      <td>33.68</td>\n",
       "    </tr>\n",
       "    <tr>\n",
       "      <th>Sports</th>\n",
       "      <td>26.31</td>\n",
       "    </tr>\n",
       "    <tr>\n",
       "      <th>Role-Playing</th>\n",
       "      <td>19.82</td>\n",
       "    </tr>\n",
       "    <tr>\n",
       "      <th>Misc</th>\n",
       "      <td>5.58</td>\n",
       "    </tr>\n",
       "  </tbody>\n",
       "</table>\n",
       "</div>"
      ],
      "text/plain": [
       "              NA_sales\n",
       "genre                 \n",
       "Shooter          48.18\n",
       "Action           33.68\n",
       "Sports           26.31\n",
       "Role-Playing     19.82\n",
       "Misc              5.58"
      ]
     },
     "metadata": {},
     "output_type": "display_data"
    }
   ],
   "source": [
    "top_5_regions('genre', 'NA_sales')"
   ]
  },
  {
   "cell_type": "markdown",
   "metadata": {},
   "source": [
    "##### Топ 5 популярных жанров в Японии:"
   ]
  },
  {
   "cell_type": "code",
   "execution_count": 36,
   "metadata": {},
   "outputs": [
    {
     "data": {
      "text/html": [
       "<div>\n",
       "<style scoped>\n",
       "    .dataframe tbody tr th:only-of-type {\n",
       "        vertical-align: middle;\n",
       "    }\n",
       "\n",
       "    .dataframe tbody tr th {\n",
       "        vertical-align: top;\n",
       "    }\n",
       "\n",
       "    .dataframe thead th {\n",
       "        text-align: right;\n",
       "    }\n",
       "</style>\n",
       "<table border=\"1\" class=\"dataframe\">\n",
       "  <thead>\n",
       "    <tr style=\"text-align: right;\">\n",
       "      <th></th>\n",
       "      <th>JP_sales</th>\n",
       "    </tr>\n",
       "    <tr>\n",
       "      <th>genre</th>\n",
       "      <th></th>\n",
       "    </tr>\n",
       "  </thead>\n",
       "  <tbody>\n",
       "    <tr>\n",
       "      <th>Action</th>\n",
       "      <td>23.05</td>\n",
       "    </tr>\n",
       "    <tr>\n",
       "      <th>Role-Playing</th>\n",
       "      <td>13.41</td>\n",
       "    </tr>\n",
       "    <tr>\n",
       "      <th>Shooter</th>\n",
       "      <td>3.79</td>\n",
       "    </tr>\n",
       "    <tr>\n",
       "      <th>Misc</th>\n",
       "      <td>3.19</td>\n",
       "    </tr>\n",
       "    <tr>\n",
       "      <th>Adventure</th>\n",
       "      <td>2.22</td>\n",
       "    </tr>\n",
       "  </tbody>\n",
       "</table>\n",
       "</div>"
      ],
      "text/plain": [
       "              JP_sales\n",
       "genre                 \n",
       "Action           23.05\n",
       "Role-Playing     13.41\n",
       "Shooter           3.79\n",
       "Misc              3.19\n",
       "Adventure         2.22"
      ]
     },
     "metadata": {},
     "output_type": "display_data"
    }
   ],
   "source": [
    "top_5_regions('genre', 'JP_sales')"
   ]
  },
  {
   "cell_type": "markdown",
   "metadata": {},
   "source": [
    "Рейтинг продаж по жанрам для Европы и Северной Америки практически схож: большой спрос имеют шутеры, экшн-игры, спортивные игры и RP игры. В Японии лидирующие позиции занимают два жанра: экшн-игры и RP игры."
   ]
  },
  {
   "cell_type": "markdown",
   "metadata": {},
   "source": [
    "#### Влияние рейтинга ESRB на продажи"
   ]
  },
  {
   "cell_type": "markdown",
   "metadata": {},
   "source": [
    "##### Топ 5 популярных жанров в Европе:"
   ]
  },
  {
   "cell_type": "code",
   "execution_count": 40,
   "metadata": {},
   "outputs": [
    {
     "data": {
      "text/html": [
       "<div>\n",
       "<style scoped>\n",
       "    .dataframe tbody tr th:only-of-type {\n",
       "        vertical-align: middle;\n",
       "    }\n",
       "\n",
       "    .dataframe tbody tr th {\n",
       "        vertical-align: top;\n",
       "    }\n",
       "\n",
       "    .dataframe thead th {\n",
       "        text-align: right;\n",
       "    }\n",
       "</style>\n",
       "<table border=\"1\" class=\"dataframe\">\n",
       "  <thead>\n",
       "    <tr style=\"text-align: right;\">\n",
       "      <th></th>\n",
       "      <th>EU_sales</th>\n",
       "    </tr>\n",
       "    <tr>\n",
       "      <th>rating</th>\n",
       "      <th></th>\n",
       "    </tr>\n",
       "  </thead>\n",
       "  <tbody>\n",
       "    <tr>\n",
       "      <th>M</th>\n",
       "      <td>45.54</td>\n",
       "    </tr>\n",
       "    <tr>\n",
       "      <th>unknown</th>\n",
       "      <td>35.71</td>\n",
       "    </tr>\n",
       "    <tr>\n",
       "      <th>E</th>\n",
       "      <td>34.83</td>\n",
       "    </tr>\n",
       "    <tr>\n",
       "      <th>T</th>\n",
       "      <td>20.32</td>\n",
       "    </tr>\n",
       "    <tr>\n",
       "      <th>E10+</th>\n",
       "      <td>11.54</td>\n",
       "    </tr>\n",
       "  </tbody>\n",
       "</table>\n",
       "</div>"
      ],
      "text/plain": [
       "         EU_sales\n",
       "rating           \n",
       "M           45.54\n",
       "unknown     35.71\n",
       "E           34.83\n",
       "T           20.32\n",
       "E10+        11.54"
      ]
     },
     "metadata": {},
     "output_type": "display_data"
    }
   ],
   "source": [
    "top_5_regions('rating', 'EU_sales')"
   ]
  },
  {
   "cell_type": "markdown",
   "metadata": {},
   "source": [
    "##### Топ 5 популярных жанров в Северной Америке:"
   ]
  },
  {
   "cell_type": "code",
   "execution_count": 38,
   "metadata": {},
   "outputs": [
    {
     "data": {
      "text/html": [
       "<div>\n",
       "<style scoped>\n",
       "    .dataframe tbody tr th:only-of-type {\n",
       "        vertical-align: middle;\n",
       "    }\n",
       "\n",
       "    .dataframe tbody tr th {\n",
       "        vertical-align: top;\n",
       "    }\n",
       "\n",
       "    .dataframe thead th {\n",
       "        text-align: right;\n",
       "    }\n",
       "</style>\n",
       "<table border=\"1\" class=\"dataframe\">\n",
       "  <thead>\n",
       "    <tr style=\"text-align: right;\">\n",
       "      <th></th>\n",
       "      <th>NA_sales</th>\n",
       "    </tr>\n",
       "    <tr>\n",
       "      <th>rating</th>\n",
       "      <th></th>\n",
       "    </tr>\n",
       "  </thead>\n",
       "  <tbody>\n",
       "    <tr>\n",
       "      <th>M</th>\n",
       "      <td>47.03</td>\n",
       "    </tr>\n",
       "    <tr>\n",
       "      <th>unknown</th>\n",
       "      <td>37.44</td>\n",
       "    </tr>\n",
       "    <tr>\n",
       "      <th>E</th>\n",
       "      <td>26.59</td>\n",
       "    </tr>\n",
       "    <tr>\n",
       "      <th>T</th>\n",
       "      <td>22.86</td>\n",
       "    </tr>\n",
       "    <tr>\n",
       "      <th>E10+</th>\n",
       "      <td>17.87</td>\n",
       "    </tr>\n",
       "  </tbody>\n",
       "</table>\n",
       "</div>"
      ],
      "text/plain": [
       "         NA_sales\n",
       "rating           \n",
       "M           47.03\n",
       "unknown     37.44\n",
       "E           26.59\n",
       "T           22.86\n",
       "E10+        17.87"
      ]
     },
     "metadata": {},
     "output_type": "display_data"
    }
   ],
   "source": [
    "top_5_regions('rating', 'NA_sales')"
   ]
  },
  {
   "cell_type": "markdown",
   "metadata": {},
   "source": [
    "##### Топ 5 популярных жанров в Японии:"
   ]
  },
  {
   "cell_type": "code",
   "execution_count": 41,
   "metadata": {},
   "outputs": [
    {
     "data": {
      "text/html": [
       "<div>\n",
       "<style scoped>\n",
       "    .dataframe tbody tr th:only-of-type {\n",
       "        vertical-align: middle;\n",
       "    }\n",
       "\n",
       "    .dataframe tbody tr th {\n",
       "        vertical-align: top;\n",
       "    }\n",
       "\n",
       "    .dataframe thead th {\n",
       "        text-align: right;\n",
       "    }\n",
       "</style>\n",
       "<table border=\"1\" class=\"dataframe\">\n",
       "  <thead>\n",
       "    <tr style=\"text-align: right;\">\n",
       "      <th></th>\n",
       "      <th>JP_sales</th>\n",
       "    </tr>\n",
       "    <tr>\n",
       "      <th>rating</th>\n",
       "      <th></th>\n",
       "    </tr>\n",
       "  </thead>\n",
       "  <tbody>\n",
       "    <tr>\n",
       "      <th>unknown</th>\n",
       "      <td>32.89</td>\n",
       "    </tr>\n",
       "    <tr>\n",
       "      <th>T</th>\n",
       "      <td>7.70</td>\n",
       "    </tr>\n",
       "    <tr>\n",
       "      <th>E</th>\n",
       "      <td>5.25</td>\n",
       "    </tr>\n",
       "    <tr>\n",
       "      <th>M</th>\n",
       "      <td>4.29</td>\n",
       "    </tr>\n",
       "    <tr>\n",
       "      <th>E10+</th>\n",
       "      <td>3.27</td>\n",
       "    </tr>\n",
       "  </tbody>\n",
       "</table>\n",
       "</div>"
      ],
      "text/plain": [
       "         JP_sales\n",
       "rating           \n",
       "unknown     32.89\n",
       "T            7.70\n",
       "E            5.25\n",
       "M            4.29\n",
       "E10+         3.27"
      ]
     },
     "metadata": {},
     "output_type": "display_data"
    }
   ],
   "source": [
    "top_5_regions('rating', 'JP_sales')"
   ]
  },
  {
   "cell_type": "markdown",
   "metadata": {},
   "source": [
    "В рейтингах не представлены такие рейтинги ESRB, как AO, EC, RP, т.к. такие игры за рассматриваемый нами период не выходили. В целом, за всё время, таких игры выпускалось в очень небольшом количистве.\n",
    "\n",
    "В Европе и Северной Америке топ продаж игр в зависимости от рейтинга совпадает: больше всего продаж имеют игры с рейтингом M. В Японии первое место занимает рейтинги, не указанные в столбце оценки ESRB, а игры с рейтингом M уже имеют крайне низкое количество продаж."
   ]
  },
  {
   "cell_type": "markdown",
   "metadata": {},
   "source": [
    "###  Проверка гипотезы"
   ]
  },
  {
   "cell_type": "code",
   "execution_count": 42,
   "metadata": {},
   "outputs": [],
   "source": [
    "from scipy import stats as st"
   ]
  },
  {
   "cell_type": "code",
   "execution_count": 59,
   "metadata": {},
   "outputs": [],
   "source": [
    "hypothesis_df = actualy_df.query('not user_score.isna()')"
   ]
  },
  {
   "cell_type": "code",
   "execution_count": 60,
   "metadata": {},
   "outputs": [
    {
     "data": {
      "text/html": [
       "<div>\n",
       "<style scoped>\n",
       "    .dataframe tbody tr th:only-of-type {\n",
       "        vertical-align: middle;\n",
       "    }\n",
       "\n",
       "    .dataframe tbody tr th {\n",
       "        vertical-align: top;\n",
       "    }\n",
       "\n",
       "    .dataframe thead th {\n",
       "        text-align: right;\n",
       "    }\n",
       "</style>\n",
       "<table border=\"1\" class=\"dataframe\">\n",
       "  <thead>\n",
       "    <tr style=\"text-align: right;\">\n",
       "      <th></th>\n",
       "      <th>name</th>\n",
       "      <th>platform</th>\n",
       "      <th>year_of_release</th>\n",
       "      <th>genre</th>\n",
       "      <th>NA_sales</th>\n",
       "      <th>EU_sales</th>\n",
       "      <th>JP_sales</th>\n",
       "      <th>other_sales</th>\n",
       "      <th>critic_score</th>\n",
       "      <th>user_score</th>\n",
       "      <th>rating</th>\n",
       "      <th>total_sales</th>\n",
       "    </tr>\n",
       "  </thead>\n",
       "  <tbody>\n",
       "    <tr>\n",
       "      <th>77</th>\n",
       "      <td>FIFA 16</td>\n",
       "      <td>PS4</td>\n",
       "      <td>2015.0</td>\n",
       "      <td>Sports</td>\n",
       "      <td>1.12</td>\n",
       "      <td>6.12</td>\n",
       "      <td>0.06</td>\n",
       "      <td>1.28</td>\n",
       "      <td>82.0</td>\n",
       "      <td>4.3</td>\n",
       "      <td>E</td>\n",
       "      <td>8.58</td>\n",
       "    </tr>\n",
       "    <tr>\n",
       "      <th>94</th>\n",
       "      <td>FIFA 17</td>\n",
       "      <td>PS4</td>\n",
       "      <td>2016.0</td>\n",
       "      <td>Sports</td>\n",
       "      <td>0.66</td>\n",
       "      <td>5.75</td>\n",
       "      <td>0.08</td>\n",
       "      <td>1.11</td>\n",
       "      <td>85.0</td>\n",
       "      <td>5.0</td>\n",
       "      <td>E</td>\n",
       "      <td>7.60</td>\n",
       "    </tr>\n",
       "    <tr>\n",
       "      <th>105</th>\n",
       "      <td>Fallout 4</td>\n",
       "      <td>PS4</td>\n",
       "      <td>2015.0</td>\n",
       "      <td>Role-Playing</td>\n",
       "      <td>2.53</td>\n",
       "      <td>3.27</td>\n",
       "      <td>0.24</td>\n",
       "      <td>1.13</td>\n",
       "      <td>87.0</td>\n",
       "      <td>6.5</td>\n",
       "      <td>M</td>\n",
       "      <td>7.17</td>\n",
       "    </tr>\n",
       "    <tr>\n",
       "      <th>171</th>\n",
       "      <td>Uncharted 4: A Thief's End</td>\n",
       "      <td>PS4</td>\n",
       "      <td>2016.0</td>\n",
       "      <td>Shooter</td>\n",
       "      <td>1.85</td>\n",
       "      <td>2.50</td>\n",
       "      <td>0.19</td>\n",
       "      <td>0.85</td>\n",
       "      <td>93.0</td>\n",
       "      <td>7.9</td>\n",
       "      <td>T</td>\n",
       "      <td>5.39</td>\n",
       "    </tr>\n",
       "    <tr>\n",
       "      <th>231</th>\n",
       "      <td>Uncharted: The Nathan Drake Collection</td>\n",
       "      <td>PS4</td>\n",
       "      <td>2015.0</td>\n",
       "      <td>Action</td>\n",
       "      <td>2.07</td>\n",
       "      <td>1.71</td>\n",
       "      <td>0.08</td>\n",
       "      <td>0.76</td>\n",
       "      <td>86.0</td>\n",
       "      <td>8.1</td>\n",
       "      <td>T</td>\n",
       "      <td>4.62</td>\n",
       "    </tr>\n",
       "    <tr>\n",
       "      <th>...</th>\n",
       "      <td>...</td>\n",
       "      <td>...</td>\n",
       "      <td>...</td>\n",
       "      <td>...</td>\n",
       "      <td>...</td>\n",
       "      <td>...</td>\n",
       "      <td>...</td>\n",
       "      <td>...</td>\n",
       "      <td>...</td>\n",
       "      <td>...</td>\n",
       "      <td>...</td>\n",
       "      <td>...</td>\n",
       "    </tr>\n",
       "    <tr>\n",
       "      <th>16618</th>\n",
       "      <td>Xblaze: Lost Memories</td>\n",
       "      <td>PSV</td>\n",
       "      <td>2015.0</td>\n",
       "      <td>Adventure</td>\n",
       "      <td>0.01</td>\n",
       "      <td>0.00</td>\n",
       "      <td>0.00</td>\n",
       "      <td>0.00</td>\n",
       "      <td>NaN</td>\n",
       "      <td>7.0</td>\n",
       "      <td>M</td>\n",
       "      <td>0.01</td>\n",
       "    </tr>\n",
       "    <tr>\n",
       "      <th>16630</th>\n",
       "      <td>Sébastien Loeb Rally Evo</td>\n",
       "      <td>XOne</td>\n",
       "      <td>2016.0</td>\n",
       "      <td>Racing</td>\n",
       "      <td>0.00</td>\n",
       "      <td>0.01</td>\n",
       "      <td>0.00</td>\n",
       "      <td>0.00</td>\n",
       "      <td>63.0</td>\n",
       "      <td>8.2</td>\n",
       "      <td>E</td>\n",
       "      <td>0.01</td>\n",
       "    </tr>\n",
       "    <tr>\n",
       "      <th>16643</th>\n",
       "      <td>Rugby Challenge 3</td>\n",
       "      <td>XOne</td>\n",
       "      <td>2016.0</td>\n",
       "      <td>Sports</td>\n",
       "      <td>0.00</td>\n",
       "      <td>0.01</td>\n",
       "      <td>0.00</td>\n",
       "      <td>0.00</td>\n",
       "      <td>NaN</td>\n",
       "      <td>6.6</td>\n",
       "      <td>E</td>\n",
       "      <td>0.01</td>\n",
       "    </tr>\n",
       "    <tr>\n",
       "      <th>16652</th>\n",
       "      <td>Fast Racing Neo</td>\n",
       "      <td>WiiU</td>\n",
       "      <td>2016.0</td>\n",
       "      <td>Action</td>\n",
       "      <td>0.00</td>\n",
       "      <td>0.01</td>\n",
       "      <td>0.00</td>\n",
       "      <td>0.00</td>\n",
       "      <td>81.0</td>\n",
       "      <td>8.5</td>\n",
       "      <td>E</td>\n",
       "      <td>0.01</td>\n",
       "    </tr>\n",
       "    <tr>\n",
       "      <th>16660</th>\n",
       "      <td>Prison Architect</td>\n",
       "      <td>XOne</td>\n",
       "      <td>2016.0</td>\n",
       "      <td>Action</td>\n",
       "      <td>0.01</td>\n",
       "      <td>0.00</td>\n",
       "      <td>0.00</td>\n",
       "      <td>0.00</td>\n",
       "      <td>74.0</td>\n",
       "      <td>6.7</td>\n",
       "      <td>unknown</td>\n",
       "      <td>0.01</td>\n",
       "    </tr>\n",
       "  </tbody>\n",
       "</table>\n",
       "<p>559 rows × 12 columns</p>\n",
       "</div>"
      ],
      "text/plain": [
       "                                         name platform  year_of_release  \\\n",
       "77                                    FIFA 16      PS4           2015.0   \n",
       "94                                    FIFA 17      PS4           2016.0   \n",
       "105                                 Fallout 4      PS4           2015.0   \n",
       "171                Uncharted 4: A Thief's End      PS4           2016.0   \n",
       "231    Uncharted: The Nathan Drake Collection      PS4           2015.0   \n",
       "...                                       ...      ...              ...   \n",
       "16618                   Xblaze: Lost Memories      PSV           2015.0   \n",
       "16630                Sébastien Loeb Rally Evo     XOne           2016.0   \n",
       "16643                       Rugby Challenge 3     XOne           2016.0   \n",
       "16652                        Fast Racing Neo      WiiU           2016.0   \n",
       "16660                        Prison Architect     XOne           2016.0   \n",
       "\n",
       "              genre  NA_sales  EU_sales  JP_sales  other_sales  critic_score  \\\n",
       "77           Sports      1.12      6.12      0.06         1.28          82.0   \n",
       "94           Sports      0.66      5.75      0.08         1.11          85.0   \n",
       "105    Role-Playing      2.53      3.27      0.24         1.13          87.0   \n",
       "171         Shooter      1.85      2.50      0.19         0.85          93.0   \n",
       "231          Action      2.07      1.71      0.08         0.76          86.0   \n",
       "...             ...       ...       ...       ...          ...           ...   \n",
       "16618     Adventure      0.01      0.00      0.00         0.00           NaN   \n",
       "16630        Racing      0.00      0.01      0.00         0.00          63.0   \n",
       "16643        Sports      0.00      0.01      0.00         0.00           NaN   \n",
       "16652        Action      0.00      0.01      0.00         0.00          81.0   \n",
       "16660        Action      0.01      0.00      0.00         0.00          74.0   \n",
       "\n",
       "       user_score   rating  total_sales  \n",
       "77            4.3        E         8.58  \n",
       "94            5.0        E         7.60  \n",
       "105           6.5        M         7.17  \n",
       "171           7.9        T         5.39  \n",
       "231           8.1        T         4.62  \n",
       "...           ...      ...          ...  \n",
       "16618         7.0        M         0.01  \n",
       "16630         8.2        E         0.01  \n",
       "16643         6.6        E         0.01  \n",
       "16652         8.5        E         0.01  \n",
       "16660         6.7  unknown         0.01  \n",
       "\n",
       "[559 rows x 12 columns]"
      ]
     },
     "execution_count": 60,
     "metadata": {},
     "output_type": "execute_result"
    }
   ],
   "source": [
    "hypothesis_df"
   ]
  },
  {
   "cell_type": "markdown",
   "metadata": {},
   "source": [
    "#### Проверка гипотезы: cредние пользовательские рейтинги платформ Xbox One и PC одинаковые"
   ]
  },
  {
   "cell_type": "markdown",
   "metadata": {},
   "source": [
    "H_0: Средняя оценка пользователей (user_score) игр на Xbox One = средняя оценка пользователей (user_score) игр на PC\n",
    "\n",
    "H_1: Средняя оценка пользователей (user_score) игр на Xbox One ≠ средняя оценка пользователей (user_score) игр на PC\n",
    "\n",
    "alpha = 0.05"
   ]
  },
  {
   "cell_type": "code",
   "execution_count": 61,
   "metadata": {
    "scrolled": true
   },
   "outputs": [
    {
     "name": "stdout",
     "output_type": "stream",
     "text": [
      "p-значение: 0.2946308864003345\n",
      "Не получилось отвергнуть нулевую гипотезу\n"
     ]
    }
   ],
   "source": [
    "results = st.ttest_ind(\n",
    "    hypothesis_df[hypothesis_df['platform'] =='XOne']['user_score'],\n",
    "    hypothesis_df[hypothesis_df['platform'] =='PC']['user_score'],\n",
    "    equal_var = False\n",
    ") \n",
    "\n",
    "alpha = 0.05 \n",
    "\n",
    "print('p-значение:', results.pvalue) \n",
    "\n",
    "if results.pvalue < alpha:\n",
    "    print(\"Отвергаем нулевую гипотезу\")\n",
    "else:\n",
    "    print(\"Не получилось отвергнуть нулевую гипотезу\")"
   ]
  },
  {
   "cell_type": "markdown",
   "metadata": {},
   "source": [
    "**Вывод:** cредние пользовательские рейтинги платформ Xbox One и PC одинаковые"
   ]
  },
  {
   "cell_type": "markdown",
   "metadata": {},
   "source": [
    "#### Проверка гипотезы: cредние пользовательские рейтинги жанров Action  и Sports разные"
   ]
  },
  {
   "cell_type": "markdown",
   "metadata": {},
   "source": [
    "H_0: Средняя оценка пользователей (user_score) экшн-игр = средняя оценка пользователей (user_score) спортивных игр\n",
    "\n",
    "H_1: Средняя оценка пользователей (user_score) экшн-игр ≠ средняя оценка пользователей (user_score) спортивных игр\n",
    "\n",
    "alpha = 0.05"
   ]
  },
  {
   "cell_type": "code",
   "execution_count": 62,
   "metadata": {},
   "outputs": [
    {
     "name": "stdout",
     "output_type": "stream",
     "text": [
      "p-значение: 5.97163549920592e-10\n",
      "Отвергаем нулевую гипотезу\n"
     ]
    }
   ],
   "source": [
    "results = st.ttest_ind(\n",
    "    hypothesis_df[hypothesis_df['genre'] =='Action']['user_score'],\n",
    "    hypothesis_df[hypothesis_df['genre'] =='Sports']['user_score'],\n",
    "    equal_var = False\n",
    ") \n",
    "\n",
    "alpha = 0.05 \n",
    "\n",
    "print('p-значение:', results.pvalue) \n",
    "\n",
    "if results.pvalue < alpha:\n",
    "    print(\"Отвергаем нулевую гипотезу\")\n",
    "else:\n",
    "    print(\"Не получилось отвергнуть нулевую гипотезу\")"
   ]
  },
  {
   "cell_type": "markdown",
   "metadata": {},
   "source": [
    "**Вывод:** cредние пользовательские рейтинги жанров Action и Sports разные"
   ]
  },
  {
   "cell_type": "markdown",
   "metadata": {},
   "source": [
    "###  Общий вывод:"
   ]
  },
  {
   "cell_type": "markdown",
   "metadata": {},
   "source": [
    "В результате исследования удалось выявить следующие определяющие успешность игры закономерности на 2017-ый год:\n",
    "\n",
    "- количество продаж копий игр зависит от игровой платформы. Так, например, большее сумарное количество продаж, в среднем, на 2015-2016 года имеют игры, выпускаемые для Xbox One, WiiU, PS4 и Xbox 360. Если рассматривать этот параметр отдельно для каждого региона, то можно увидеть следующую закономерность: для американского и европейских рынков лидирующими платформами являются PS4 и Xbox One, когда как в Японии - 3DS и PS4. Лучше всего обратить внимание на PS4, которая занимает лидирующие позицию по продажам для всех регионов;\n",
    "\n",
    "\n",
    "- количество продаж копий игр зависит от жанра, причём этот параметр варьируется в зависимости от региона. Рейтинг продаж по жанрам для Европы и Северной Америки практически схож: большой спрос имеют шутеры, экшн-игры, спортивные игры и RP игры. В Японии лидирующие позиции занимают два жанра: экшн-игры и RP игры;\n",
    "\n",
    "\n",
    "- количество продаж копий игр зависит от рейтинга ESRB: в Северной Америке и Европе больше всего продаж имеют игры с рейтингом M, в то время как в Японии игры с этим рейтингом продаются в небольшом количестве;\n",
    "\n",
    "\n",
    "- игры с высокими отзывами как пользователей, так и критиков, имеют в среднем большее количиство продаж, чем игры с низкими отзывами.\n",
    "\n",
    "Вышепредставленные закономерности помогут сделать ставку на потенциально популярный продукт и спланировать рекламные кампании. "
   ]
  }
 ],
 "metadata": {
  "ExecuteTimeLog": [
   {
    "duration": 48,
    "start_time": "2023-01-16T07:24:46.773Z"
   },
   {
    "duration": 345,
    "start_time": "2023-01-16T07:24:53.568Z"
   },
   {
    "duration": 494,
    "start_time": "2023-01-16T07:24:53.947Z"
   },
   {
    "duration": 32,
    "start_time": "2023-01-16T07:25:00.080Z"
   },
   {
    "duration": 3,
    "start_time": "2023-01-16T07:25:18.745Z"
   },
   {
    "duration": 20,
    "start_time": "2023-01-16T07:29:44.230Z"
   },
   {
    "duration": 22,
    "start_time": "2023-01-16T07:31:55.181Z"
   },
   {
    "duration": 39,
    "start_time": "2023-01-16T07:32:09.159Z"
   },
   {
    "duration": 4,
    "start_time": "2023-01-16T07:39:20.444Z"
   },
   {
    "duration": 21,
    "start_time": "2023-01-16T07:39:29.201Z"
   },
   {
    "duration": 4,
    "start_time": "2023-01-16T07:39:41.816Z"
   },
   {
    "duration": 16,
    "start_time": "2023-01-16T07:42:11.213Z"
   },
   {
    "duration": 34,
    "start_time": "2023-01-16T07:43:14.474Z"
   },
   {
    "duration": 4,
    "start_time": "2023-01-16T07:44:15.946Z"
   },
   {
    "duration": 12,
    "start_time": "2023-01-16T07:45:51.298Z"
   },
   {
    "duration": 5,
    "start_time": "2023-01-16T07:46:44.600Z"
   },
   {
    "duration": 14,
    "start_time": "2023-01-16T07:46:50.607Z"
   },
   {
    "duration": 13,
    "start_time": "2023-01-16T07:52:58.253Z"
   },
   {
    "duration": 4,
    "start_time": "2023-01-16T07:53:05.388Z"
   },
   {
    "duration": 10,
    "start_time": "2023-01-16T07:56:19.106Z"
   },
   {
    "duration": 9,
    "start_time": "2023-01-16T07:56:21.664Z"
   },
   {
    "duration": 7,
    "start_time": "2023-01-16T07:57:04.051Z"
   },
   {
    "duration": 7,
    "start_time": "2023-01-16T08:01:58.914Z"
   },
   {
    "duration": 10,
    "start_time": "2023-01-16T08:02:21.715Z"
   },
   {
    "duration": 13,
    "start_time": "2023-01-16T08:02:41.295Z"
   },
   {
    "duration": 14,
    "start_time": "2023-01-16T08:03:00.134Z"
   },
   {
    "duration": 16,
    "start_time": "2023-01-16T08:05:26.553Z"
   },
   {
    "duration": 9,
    "start_time": "2023-01-16T08:05:48.348Z"
   },
   {
    "duration": 9,
    "start_time": "2023-01-16T08:06:10.142Z"
   },
   {
    "duration": 5,
    "start_time": "2023-01-16T08:06:18.791Z"
   },
   {
    "duration": 11,
    "start_time": "2023-01-16T08:09:22.794Z"
   },
   {
    "duration": 13,
    "start_time": "2023-01-16T08:09:31.465Z"
   },
   {
    "duration": 15,
    "start_time": "2023-01-16T08:17:35.552Z"
   },
   {
    "duration": 15,
    "start_time": "2023-01-16T08:18:33.549Z"
   },
   {
    "duration": 14,
    "start_time": "2023-01-16T08:19:39.095Z"
   },
   {
    "duration": 29,
    "start_time": "2023-01-16T08:19:41.453Z"
   },
   {
    "duration": 9,
    "start_time": "2023-01-16T08:19:46.953Z"
   },
   {
    "duration": 14,
    "start_time": "2023-01-16T08:19:51.337Z"
   },
   {
    "duration": 13,
    "start_time": "2023-01-16T08:20:30.420Z"
   },
   {
    "duration": 15,
    "start_time": "2023-01-16T08:20:31.636Z"
   },
   {
    "duration": 10,
    "start_time": "2023-01-16T08:20:39.809Z"
   },
   {
    "duration": 14,
    "start_time": "2023-01-16T08:20:39.966Z"
   },
   {
    "duration": 10,
    "start_time": "2023-01-16T08:24:54.509Z"
   },
   {
    "duration": 18,
    "start_time": "2023-01-16T08:24:56.589Z"
   },
   {
    "duration": 15,
    "start_time": "2023-01-16T08:25:02.937Z"
   },
   {
    "duration": 10,
    "start_time": "2023-01-16T08:25:44.622Z"
   },
   {
    "duration": 15,
    "start_time": "2023-01-16T08:25:45.233Z"
   },
   {
    "duration": 3,
    "start_time": "2023-01-16T08:26:22.171Z"
   },
   {
    "duration": 50,
    "start_time": "2023-01-16T08:26:22.327Z"
   },
   {
    "duration": 30,
    "start_time": "2023-01-16T08:26:22.468Z"
   },
   {
    "duration": 15,
    "start_time": "2023-01-16T08:26:22.875Z"
   },
   {
    "duration": 10,
    "start_time": "2023-01-16T08:26:23.160Z"
   },
   {
    "duration": 14,
    "start_time": "2023-01-16T08:26:25.261Z"
   },
   {
    "duration": 15,
    "start_time": "2023-01-16T08:26:25.769Z"
   },
   {
    "duration": 12,
    "start_time": "2023-01-16T08:26:30.561Z"
   },
   {
    "duration": 14,
    "start_time": "2023-01-16T08:26:31.463Z"
   },
   {
    "duration": 5,
    "start_time": "2023-01-16T08:26:54.183Z"
   },
   {
    "duration": 16,
    "start_time": "2023-01-16T08:26:54.734Z"
   },
   {
    "duration": 11,
    "start_time": "2023-01-16T08:27:52.974Z"
   },
   {
    "duration": 14,
    "start_time": "2023-01-16T08:27:53.496Z"
   },
   {
    "duration": 10,
    "start_time": "2023-01-16T08:27:58.968Z"
   },
   {
    "duration": 21,
    "start_time": "2023-01-16T08:27:59.226Z"
   },
   {
    "duration": 15,
    "start_time": "2023-01-16T08:28:05.444Z"
   },
   {
    "duration": 13,
    "start_time": "2023-01-16T08:28:08.455Z"
   },
   {
    "duration": 71,
    "start_time": "2023-01-16T08:28:42.887Z"
   },
   {
    "duration": 9,
    "start_time": "2023-01-16T08:28:55.526Z"
   },
   {
    "duration": 13,
    "start_time": "2023-01-16T08:28:56.282Z"
   },
   {
    "duration": 44,
    "start_time": "2023-01-16T08:29:30.913Z"
   },
   {
    "duration": 2,
    "start_time": "2023-01-16T08:32:34.828Z"
   },
   {
    "duration": 61,
    "start_time": "2023-01-16T08:32:35.299Z"
   },
   {
    "duration": 36,
    "start_time": "2023-01-16T08:32:50.391Z"
   },
   {
    "duration": 3,
    "start_time": "2023-01-16T08:33:02.266Z"
   },
   {
    "duration": 54,
    "start_time": "2023-01-16T08:33:02.475Z"
   },
   {
    "duration": 30,
    "start_time": "2023-01-16T08:33:02.623Z"
   },
   {
    "duration": 16,
    "start_time": "2023-01-16T08:33:03.058Z"
   },
   {
    "duration": 10,
    "start_time": "2023-01-16T08:33:03.353Z"
   },
   {
    "duration": 13,
    "start_time": "2023-01-16T08:33:03.817Z"
   },
   {
    "duration": 18,
    "start_time": "2023-01-16T08:33:04.004Z"
   },
   {
    "duration": 27,
    "start_time": "2023-01-16T08:33:04.173Z"
   },
   {
    "duration": 14,
    "start_time": "2023-01-16T08:33:04.335Z"
   },
   {
    "duration": 28,
    "start_time": "2023-01-16T08:33:27.584Z"
   },
   {
    "duration": 28,
    "start_time": "2023-01-16T08:34:03.453Z"
   },
   {
    "duration": 31,
    "start_time": "2023-01-16T08:34:08.927Z"
   },
   {
    "duration": 6,
    "start_time": "2023-01-16T08:35:05.282Z"
   },
   {
    "duration": 13,
    "start_time": "2023-01-16T08:35:07.248Z"
   },
   {
    "duration": 6,
    "start_time": "2023-01-16T08:35:17.026Z"
   },
   {
    "duration": 15,
    "start_time": "2023-01-16T08:35:18.020Z"
   },
   {
    "duration": 7,
    "start_time": "2023-01-16T08:35:42.357Z"
   },
   {
    "duration": 18,
    "start_time": "2023-01-16T08:35:43.316Z"
   },
   {
    "duration": 10,
    "start_time": "2023-01-16T08:35:46.248Z"
   },
   {
    "duration": 13,
    "start_time": "2023-01-16T08:35:46.500Z"
   },
   {
    "duration": 3,
    "start_time": "2023-01-16T09:09:35.506Z"
   },
   {
    "duration": 54,
    "start_time": "2023-01-16T09:09:35.685Z"
   },
   {
    "duration": 30,
    "start_time": "2023-01-16T09:09:35.863Z"
   },
   {
    "duration": 16,
    "start_time": "2023-01-16T09:09:36.343Z"
   },
   {
    "duration": 10,
    "start_time": "2023-01-16T09:09:36.676Z"
   },
   {
    "duration": 15,
    "start_time": "2023-01-16T09:09:37.174Z"
   },
   {
    "duration": 17,
    "start_time": "2023-01-16T09:09:37.360Z"
   },
   {
    "duration": 8,
    "start_time": "2023-01-16T09:09:37.533Z"
   },
   {
    "duration": 18,
    "start_time": "2023-01-16T09:09:37.710Z"
   },
   {
    "duration": 28,
    "start_time": "2023-01-16T09:11:53.434Z"
   },
   {
    "duration": 21,
    "start_time": "2023-01-16T09:11:53.941Z"
   },
   {
    "duration": 11,
    "start_time": "2023-01-16T09:12:20.216Z"
   },
   {
    "duration": 21,
    "start_time": "2023-01-16T09:12:22.013Z"
   },
   {
    "duration": 17,
    "start_time": "2023-01-16T09:12:29.073Z"
   },
   {
    "duration": 29,
    "start_time": "2023-01-16T09:13:14.634Z"
   },
   {
    "duration": 10,
    "start_time": "2023-01-16T09:18:56.278Z"
   },
   {
    "duration": 5,
    "start_time": "2023-01-16T09:19:26.977Z"
   },
   {
    "duration": 9,
    "start_time": "2023-01-16T09:19:43.904Z"
   },
   {
    "duration": 6,
    "start_time": "2023-01-16T09:19:47.687Z"
   },
   {
    "duration": 6,
    "start_time": "2023-01-16T09:20:01.872Z"
   },
   {
    "duration": 5,
    "start_time": "2023-01-16T09:20:36.087Z"
   },
   {
    "duration": 10,
    "start_time": "2023-01-16T09:27:57.259Z"
   },
   {
    "duration": 38,
    "start_time": "2023-01-16T09:28:01.515Z"
   },
   {
    "duration": 6,
    "start_time": "2023-01-16T09:37:41.556Z"
   },
   {
    "duration": 19,
    "start_time": "2023-01-16T09:39:30.319Z"
   },
   {
    "duration": 9,
    "start_time": "2023-01-16T09:39:49.076Z"
   },
   {
    "duration": 8,
    "start_time": "2023-01-16T09:39:52.853Z"
   },
   {
    "duration": 8,
    "start_time": "2023-01-16T09:39:57.772Z"
   },
   {
    "duration": 9,
    "start_time": "2023-01-16T09:40:17.244Z"
   },
   {
    "duration": 11,
    "start_time": "2023-01-16T09:40:21.154Z"
   },
   {
    "duration": 1262,
    "start_time": "2023-01-16T09:40:29.284Z"
   },
   {
    "duration": 924,
    "start_time": "2023-01-16T09:40:47.878Z"
   },
   {
    "duration": 1019,
    "start_time": "2023-01-16T09:41:09.165Z"
   },
   {
    "duration": 17,
    "start_time": "2023-01-16T09:41:24.136Z"
   },
   {
    "duration": 8,
    "start_time": "2023-01-16T09:44:49.027Z"
   },
   {
    "duration": 11,
    "start_time": "2023-01-16T09:49:49.858Z"
   },
   {
    "duration": 22,
    "start_time": "2023-01-16T09:49:55.249Z"
   },
   {
    "duration": 19,
    "start_time": "2023-01-16T09:50:36.106Z"
   },
   {
    "duration": 11,
    "start_time": "2023-01-16T09:51:07.730Z"
   },
   {
    "duration": 18,
    "start_time": "2023-01-16T09:51:12.714Z"
   },
   {
    "duration": 9,
    "start_time": "2023-01-16T09:55:15.221Z"
   },
   {
    "duration": 9,
    "start_time": "2023-01-16T09:55:28.684Z"
   },
   {
    "duration": 11,
    "start_time": "2023-01-16T09:55:39.571Z"
   },
   {
    "duration": 3,
    "start_time": "2023-01-16T09:56:57.337Z"
   },
   {
    "duration": 52,
    "start_time": "2023-01-16T09:56:57.499Z"
   },
   {
    "duration": 32,
    "start_time": "2023-01-16T09:56:57.657Z"
   },
   {
    "duration": 21,
    "start_time": "2023-01-16T09:56:58.146Z"
   },
   {
    "duration": 10,
    "start_time": "2023-01-16T09:56:58.488Z"
   },
   {
    "duration": 23,
    "start_time": "2023-01-16T09:56:59.064Z"
   },
   {
    "duration": 21,
    "start_time": "2023-01-16T09:56:59.270Z"
   },
   {
    "duration": 5,
    "start_time": "2023-01-16T09:56:59.763Z"
   },
   {
    "duration": 7,
    "start_time": "2023-01-16T09:57:00.240Z"
   },
   {
    "duration": 12,
    "start_time": "2023-01-16T09:57:00.475Z"
   },
   {
    "duration": 24,
    "start_time": "2023-01-16T09:57:42.019Z"
   },
   {
    "duration": 10,
    "start_time": "2023-01-16T09:58:02.945Z"
   },
   {
    "duration": 16,
    "start_time": "2023-01-16T09:58:20.080Z"
   },
   {
    "duration": 17,
    "start_time": "2023-01-16T09:58:33.100Z"
   },
   {
    "duration": 16,
    "start_time": "2023-01-16T09:59:28.244Z"
   },
   {
    "duration": 21,
    "start_time": "2023-01-16T10:03:47.570Z"
   },
   {
    "duration": 10,
    "start_time": "2023-01-16T10:10:04.388Z"
   },
   {
    "duration": 15,
    "start_time": "2023-01-16T10:10:12.877Z"
   },
   {
    "duration": 25,
    "start_time": "2023-01-16T10:10:40.613Z"
   },
   {
    "duration": 14,
    "start_time": "2023-01-16T10:10:41.372Z"
   },
   {
    "duration": 9,
    "start_time": "2023-01-16T10:11:25.929Z"
   },
   {
    "duration": 16,
    "start_time": "2023-01-16T10:11:42.866Z"
   },
   {
    "duration": 13,
    "start_time": "2023-01-16T10:11:43.193Z"
   },
   {
    "duration": 18,
    "start_time": "2023-01-16T10:11:43.623Z"
   },
   {
    "duration": 15,
    "start_time": "2023-01-16T10:11:43.787Z"
   },
   {
    "duration": 6,
    "start_time": "2023-01-16T10:11:44.126Z"
   },
   {
    "duration": 9,
    "start_time": "2023-01-16T10:11:44.460Z"
   },
   {
    "duration": 12,
    "start_time": "2023-01-16T10:11:44.642Z"
   },
   {
    "duration": 8,
    "start_time": "2023-01-16T10:11:45.057Z"
   },
   {
    "duration": 7,
    "start_time": "2023-01-16T10:11:45.433Z"
   },
   {
    "duration": 13,
    "start_time": "2023-01-16T10:11:45.638Z"
   },
   {
    "duration": 5,
    "start_time": "2023-01-16T10:14:27.015Z"
   },
   {
    "duration": 5,
    "start_time": "2023-01-16T10:14:30.035Z"
   },
   {
    "duration": 11,
    "start_time": "2023-01-16T10:14:32.892Z"
   },
   {
    "duration": 11,
    "start_time": "2023-01-16T10:14:33.044Z"
   },
   {
    "duration": 3,
    "start_time": "2023-01-16T10:15:04.008Z"
   },
   {
    "duration": 54,
    "start_time": "2023-01-16T10:15:04.181Z"
   },
   {
    "duration": 34,
    "start_time": "2023-01-16T10:15:04.347Z"
   },
   {
    "duration": 17,
    "start_time": "2023-01-16T10:15:04.854Z"
   },
   {
    "duration": 9,
    "start_time": "2023-01-16T10:15:05.227Z"
   },
   {
    "duration": 17,
    "start_time": "2023-01-16T10:15:05.774Z"
   },
   {
    "duration": 13,
    "start_time": "2023-01-16T10:15:05.961Z"
   },
   {
    "duration": 5,
    "start_time": "2023-01-16T10:15:06.339Z"
   },
   {
    "duration": 7,
    "start_time": "2023-01-16T10:15:06.733Z"
   },
   {
    "duration": 12,
    "start_time": "2023-01-16T10:15:06.925Z"
   },
   {
    "duration": 8,
    "start_time": "2023-01-16T10:15:07.363Z"
   },
   {
    "duration": 7,
    "start_time": "2023-01-16T10:15:07.759Z"
   },
   {
    "duration": 14,
    "start_time": "2023-01-16T10:15:07.955Z"
   },
   {
    "duration": 25,
    "start_time": "2023-01-16T10:23:50.329Z"
   },
   {
    "duration": 375,
    "start_time": "2023-01-16T11:01:33.328Z"
   },
   {
    "duration": 188,
    "start_time": "2023-01-16T11:01:33.705Z"
   },
   {
    "duration": 45,
    "start_time": "2023-01-16T11:01:33.895Z"
   },
   {
    "duration": 17,
    "start_time": "2023-01-16T11:01:33.942Z"
   },
   {
    "duration": 10,
    "start_time": "2023-01-16T11:01:33.961Z"
   },
   {
    "duration": 39,
    "start_time": "2023-01-16T11:01:33.973Z"
   },
   {
    "duration": 10,
    "start_time": "2023-01-16T11:01:34.013Z"
   },
   {
    "duration": 9,
    "start_time": "2023-01-16T11:01:34.025Z"
   },
   {
    "duration": 12,
    "start_time": "2023-01-16T11:01:34.036Z"
   },
   {
    "duration": 18,
    "start_time": "2023-01-16T11:01:34.049Z"
   },
   {
    "duration": 41,
    "start_time": "2023-01-16T11:01:34.069Z"
   },
   {
    "duration": 7,
    "start_time": "2023-01-16T11:01:34.112Z"
   },
   {
    "duration": 13,
    "start_time": "2023-01-16T11:01:34.121Z"
   },
   {
    "duration": 18,
    "start_time": "2023-01-16T11:01:34.137Z"
   },
   {
    "duration": 410,
    "start_time": "2023-01-16T14:02:07.479Z"
   },
   {
    "duration": 202,
    "start_time": "2023-01-16T14:02:07.891Z"
   },
   {
    "duration": 40,
    "start_time": "2023-01-16T14:02:08.095Z"
   },
   {
    "duration": 17,
    "start_time": "2023-01-16T14:02:08.168Z"
   },
   {
    "duration": 11,
    "start_time": "2023-01-16T14:02:08.498Z"
   },
   {
    "duration": 17,
    "start_time": "2023-01-16T14:02:09.024Z"
   },
   {
    "duration": 12,
    "start_time": "2023-01-16T14:02:09.180Z"
   },
   {
    "duration": 4,
    "start_time": "2023-01-16T14:02:09.532Z"
   },
   {
    "duration": 7,
    "start_time": "2023-01-16T14:02:09.884Z"
   },
   {
    "duration": 10,
    "start_time": "2023-01-16T14:02:10.074Z"
   },
   {
    "duration": 7,
    "start_time": "2023-01-16T14:02:10.388Z"
   },
   {
    "duration": 7,
    "start_time": "2023-01-16T14:02:10.740Z"
   },
   {
    "duration": 10,
    "start_time": "2023-01-16T14:02:11.068Z"
   },
   {
    "duration": 15,
    "start_time": "2023-01-16T14:02:11.262Z"
   },
   {
    "duration": 18,
    "start_time": "2023-01-16T14:02:11.607Z"
   },
   {
    "duration": 6,
    "start_time": "2023-01-16T14:09:59.144Z"
   },
   {
    "duration": 563,
    "start_time": "2023-01-16T14:10:20.536Z"
   },
   {
    "duration": 8,
    "start_time": "2023-01-16T14:14:18.600Z"
   },
   {
    "duration": 84,
    "start_time": "2023-01-16T14:18:53.361Z"
   },
   {
    "duration": 21,
    "start_time": "2023-01-16T14:19:09.297Z"
   },
   {
    "duration": 8,
    "start_time": "2023-01-16T14:22:34.981Z"
   },
   {
    "duration": 11,
    "start_time": "2023-01-16T14:22:40.787Z"
   },
   {
    "duration": 11,
    "start_time": "2023-01-16T14:22:49.221Z"
   },
   {
    "duration": 6,
    "start_time": "2023-01-16T14:24:24.603Z"
   },
   {
    "duration": 15,
    "start_time": "2023-01-16T14:24:30.000Z"
   },
   {
    "duration": 135,
    "start_time": "2023-01-16T14:24:46.337Z"
   },
   {
    "duration": 11,
    "start_time": "2023-01-16T14:24:59.088Z"
   },
   {
    "duration": 5,
    "start_time": "2023-01-16T14:25:39.749Z"
   },
   {
    "duration": 10,
    "start_time": "2023-01-16T14:32:01.521Z"
   },
   {
    "duration": 17,
    "start_time": "2023-01-16T14:32:23.116Z"
   },
   {
    "duration": 73,
    "start_time": "2023-01-16T14:32:37.398Z"
   },
   {
    "duration": 10,
    "start_time": "2023-01-16T14:36:02.504Z"
   },
   {
    "duration": 11,
    "start_time": "2023-01-16T14:36:55.598Z"
   },
   {
    "duration": 10,
    "start_time": "2023-01-16T14:37:03.455Z"
   },
   {
    "duration": 127,
    "start_time": "2023-01-16T14:37:12.942Z"
   },
   {
    "duration": 185,
    "start_time": "2023-01-16T14:37:43.862Z"
   },
   {
    "duration": 12,
    "start_time": "2023-01-16T14:38:57.169Z"
   },
   {
    "duration": 13,
    "start_time": "2023-01-16T14:39:14.490Z"
   },
   {
    "duration": 11,
    "start_time": "2023-01-16T14:39:43.256Z"
   },
   {
    "duration": 10,
    "start_time": "2023-01-16T14:41:21.426Z"
   },
   {
    "duration": 11,
    "start_time": "2023-01-16T14:41:41.478Z"
   },
   {
    "duration": 2294,
    "start_time": "2023-01-16T14:45:07.403Z"
   },
   {
    "duration": 775,
    "start_time": "2023-01-16T14:45:28.506Z"
   },
   {
    "duration": 17,
    "start_time": "2023-01-16T14:45:46.316Z"
   },
   {
    "duration": 740,
    "start_time": "2023-01-16T14:45:57.430Z"
   },
   {
    "duration": 7,
    "start_time": "2023-01-16T14:46:04.204Z"
   },
   {
    "duration": 17,
    "start_time": "2023-01-16T14:46:12.442Z"
   },
   {
    "duration": 134,
    "start_time": "2023-01-16T14:57:45.042Z"
   },
   {
    "duration": 11,
    "start_time": "2023-01-16T14:58:36.213Z"
   },
   {
    "duration": 17,
    "start_time": "2023-01-16T14:59:27.149Z"
   },
   {
    "duration": 68,
    "start_time": "2023-01-16T14:59:40.172Z"
   },
   {
    "duration": 468,
    "start_time": "2023-01-16T15:00:04.871Z"
   },
   {
    "duration": 517,
    "start_time": "2023-01-16T15:00:47.434Z"
   },
   {
    "duration": 516,
    "start_time": "2023-01-16T15:00:55.676Z"
   },
   {
    "duration": 473,
    "start_time": "2023-01-16T15:01:25.221Z"
   },
   {
    "duration": 588,
    "start_time": "2023-01-16T15:01:33.064Z"
   },
   {
    "duration": 121,
    "start_time": "2023-01-16T15:02:51.352Z"
   },
   {
    "duration": 184,
    "start_time": "2023-01-16T15:03:02.272Z"
   },
   {
    "duration": 8,
    "start_time": "2023-01-16T15:03:15.368Z"
   },
   {
    "duration": 8,
    "start_time": "2023-01-16T15:07:59.953Z"
   },
   {
    "duration": 6,
    "start_time": "2023-01-16T15:08:07.153Z"
   },
   {
    "duration": 8,
    "start_time": "2023-01-16T15:08:39.458Z"
   },
   {
    "duration": 308,
    "start_time": "2023-01-16T15:10:10.736Z"
   },
   {
    "duration": 289,
    "start_time": "2023-01-16T15:10:44.121Z"
   },
   {
    "duration": 271,
    "start_time": "2023-01-16T15:15:43.345Z"
   },
   {
    "duration": 350,
    "start_time": "2023-01-16T15:15:49.877Z"
   },
   {
    "duration": 261,
    "start_time": "2023-01-16T15:20:28.685Z"
   },
   {
    "duration": 278,
    "start_time": "2023-01-16T15:20:38.322Z"
   },
   {
    "duration": 522,
    "start_time": "2023-01-16T15:45:23.622Z"
   },
   {
    "duration": 610,
    "start_time": "2023-01-16T15:51:05.432Z"
   },
   {
    "duration": 555,
    "start_time": "2023-01-16T15:51:23.247Z"
   },
   {
    "duration": 304,
    "start_time": "2023-01-16T15:53:30.561Z"
   },
   {
    "duration": 791,
    "start_time": "2023-01-16T16:01:52.878Z"
   },
   {
    "duration": 9,
    "start_time": "2023-01-16T16:03:06.648Z"
   },
   {
    "duration": 14,
    "start_time": "2023-01-16T16:03:20.218Z"
   },
   {
    "duration": 8,
    "start_time": "2023-01-16T16:03:43.988Z"
   },
   {
    "duration": 8,
    "start_time": "2023-01-16T16:03:56.498Z"
   },
   {
    "duration": 10,
    "start_time": "2023-01-16T16:05:02.653Z"
   },
   {
    "duration": 10,
    "start_time": "2023-01-16T16:05:20.727Z"
   },
   {
    "duration": 9,
    "start_time": "2023-01-16T16:07:04.338Z"
   },
   {
    "duration": 9,
    "start_time": "2023-01-16T16:07:18.929Z"
   },
   {
    "duration": 8,
    "start_time": "2023-01-16T16:08:43.042Z"
   },
   {
    "duration": 7,
    "start_time": "2023-01-16T16:09:47.764Z"
   },
   {
    "duration": 7,
    "start_time": "2023-01-16T16:20:58.006Z"
   },
   {
    "duration": 45,
    "start_time": "2023-01-17T06:02:09.224Z"
   },
   {
    "duration": 406,
    "start_time": "2023-01-17T06:02:17.056Z"
   },
   {
    "duration": 206,
    "start_time": "2023-01-17T06:02:17.464Z"
   },
   {
    "duration": 36,
    "start_time": "2023-01-17T06:02:17.671Z"
   },
   {
    "duration": 15,
    "start_time": "2023-01-17T06:02:17.938Z"
   },
   {
    "duration": 12,
    "start_time": "2023-01-17T06:02:18.305Z"
   },
   {
    "duration": 16,
    "start_time": "2023-01-17T06:02:19.955Z"
   },
   {
    "duration": 10,
    "start_time": "2023-01-17T06:02:19.973Z"
   },
   {
    "duration": 5,
    "start_time": "2023-01-17T06:02:19.984Z"
   },
   {
    "duration": 8,
    "start_time": "2023-01-17T06:02:19.990Z"
   },
   {
    "duration": 10,
    "start_time": "2023-01-17T06:02:20.000Z"
   },
   {
    "duration": 8,
    "start_time": "2023-01-17T06:02:20.012Z"
   },
   {
    "duration": 29,
    "start_time": "2023-01-17T06:02:20.021Z"
   },
   {
    "duration": 7,
    "start_time": "2023-01-17T06:02:20.052Z"
   },
   {
    "duration": 11,
    "start_time": "2023-01-17T06:02:20.061Z"
   },
   {
    "duration": 15,
    "start_time": "2023-01-17T06:02:20.077Z"
   },
   {
    "duration": 561,
    "start_time": "2023-01-17T06:02:20.148Z"
   },
   {
    "duration": 537,
    "start_time": "2023-01-17T06:02:20.711Z"
   },
   {
    "duration": 8,
    "start_time": "2023-01-17T06:02:21.250Z"
   },
   {
    "duration": 472,
    "start_time": "2023-01-17T06:02:21.259Z"
   },
   {
    "duration": 9,
    "start_time": "2023-01-17T06:02:21.749Z"
   },
   {
    "duration": 153,
    "start_time": "2023-01-17T06:02:21.760Z"
   },
   {
    "duration": 192,
    "start_time": "2023-01-17T06:03:24.047Z"
   },
   {
    "duration": 98,
    "start_time": "2023-01-17T06:03:40.600Z"
   },
   {
    "duration": 108,
    "start_time": "2023-01-17T06:04:45.992Z"
   },
   {
    "duration": 102,
    "start_time": "2023-01-17T06:04:53.796Z"
   },
   {
    "duration": 118,
    "start_time": "2023-01-17T06:05:36.908Z"
   },
   {
    "duration": 101,
    "start_time": "2023-01-17T06:05:54.091Z"
   },
   {
    "duration": 124,
    "start_time": "2023-01-17T06:15:25.436Z"
   },
   {
    "duration": 105,
    "start_time": "2023-01-17T06:15:32.291Z"
   },
   {
    "duration": 190,
    "start_time": "2023-01-17T06:16:05.413Z"
   },
   {
    "duration": 140,
    "start_time": "2023-01-17T06:16:28.552Z"
   },
   {
    "duration": 164,
    "start_time": "2023-01-17T06:16:42.479Z"
   },
   {
    "duration": 187,
    "start_time": "2023-01-17T06:16:49.744Z"
   },
   {
    "duration": 20,
    "start_time": "2023-01-17T06:19:05.431Z"
   },
   {
    "duration": 27,
    "start_time": "2023-01-17T06:44:31.599Z"
   },
   {
    "duration": 148,
    "start_time": "2023-01-17T06:44:56.825Z"
   },
   {
    "duration": 164,
    "start_time": "2023-01-17T06:45:40.750Z"
   },
   {
    "duration": 152,
    "start_time": "2023-01-17T06:47:07.409Z"
   },
   {
    "duration": 151,
    "start_time": "2023-01-17T06:47:23.111Z"
   },
   {
    "duration": 106,
    "start_time": "2023-01-17T06:48:51.020Z"
   },
   {
    "duration": 153,
    "start_time": "2023-01-17T06:49:09.685Z"
   },
   {
    "duration": 368,
    "start_time": "2023-01-17T06:50:23.988Z"
   },
   {
    "duration": 304,
    "start_time": "2023-01-17T06:52:27.664Z"
   },
   {
    "duration": 314,
    "start_time": "2023-01-17T06:53:00.451Z"
   },
   {
    "duration": 302,
    "start_time": "2023-01-17T06:54:00.805Z"
   },
   {
    "duration": 60,
    "start_time": "2023-01-17T06:57:15.040Z"
   },
   {
    "duration": 295,
    "start_time": "2023-01-17T06:57:50.711Z"
   },
   {
    "duration": 313,
    "start_time": "2023-01-17T06:58:30.371Z"
   },
   {
    "duration": 307,
    "start_time": "2023-01-17T06:59:13.358Z"
   },
   {
    "duration": 411,
    "start_time": "2023-01-17T07:02:25.972Z"
   },
   {
    "duration": 8,
    "start_time": "2023-01-17T07:11:40.529Z"
   },
   {
    "duration": 8,
    "start_time": "2023-01-17T07:11:45.923Z"
   },
   {
    "duration": 13,
    "start_time": "2023-01-17T07:11:51.755Z"
   },
   {
    "duration": 14,
    "start_time": "2023-01-17T07:13:02.041Z"
   },
   {
    "duration": 14,
    "start_time": "2023-01-17T07:13:12.643Z"
   },
   {
    "duration": 13,
    "start_time": "2023-01-17T07:13:45.895Z"
   },
   {
    "duration": 13,
    "start_time": "2023-01-17T07:13:59.155Z"
   },
   {
    "duration": 13,
    "start_time": "2023-01-17T07:14:17.716Z"
   },
   {
    "duration": 135,
    "start_time": "2023-01-17T07:14:45.170Z"
   },
   {
    "duration": 15,
    "start_time": "2023-01-17T07:14:49.593Z"
   },
   {
    "duration": 342,
    "start_time": "2023-01-17T13:13:22.998Z"
   },
   {
    "duration": 182,
    "start_time": "2023-01-17T13:13:23.342Z"
   },
   {
    "duration": 35,
    "start_time": "2023-01-17T13:13:23.526Z"
   },
   {
    "duration": 19,
    "start_time": "2023-01-17T13:13:23.888Z"
   },
   {
    "duration": 10,
    "start_time": "2023-01-17T13:13:24.238Z"
   },
   {
    "duration": 18,
    "start_time": "2023-01-17T13:13:24.774Z"
   },
   {
    "duration": 12,
    "start_time": "2023-01-17T13:13:24.980Z"
   },
   {
    "duration": 5,
    "start_time": "2023-01-17T13:13:25.325Z"
   },
   {
    "duration": 6,
    "start_time": "2023-01-17T13:13:25.689Z"
   },
   {
    "duration": 14,
    "start_time": "2023-01-17T13:13:25.876Z"
   },
   {
    "duration": 7,
    "start_time": "2023-01-17T13:13:26.247Z"
   },
   {
    "duration": 7,
    "start_time": "2023-01-17T13:13:26.623Z"
   },
   {
    "duration": 10,
    "start_time": "2023-01-17T13:13:29.255Z"
   },
   {
    "duration": 12,
    "start_time": "2023-01-17T13:13:29.481Z"
   },
   {
    "duration": 15,
    "start_time": "2023-01-17T13:13:30.165Z"
   },
   {
    "duration": 551,
    "start_time": "2023-01-17T13:13:30.645Z"
   },
   {
    "duration": 539,
    "start_time": "2023-01-17T13:13:31.292Z"
   },
   {
    "duration": 9,
    "start_time": "2023-01-17T13:13:31.832Z"
   },
   {
    "duration": 341,
    "start_time": "2023-01-17T13:13:32.423Z"
   },
   {
    "duration": 8,
    "start_time": "2023-01-17T13:13:32.826Z"
   },
   {
    "duration": 110,
    "start_time": "2023-01-17T13:13:33.905Z"
   },
   {
    "duration": 298,
    "start_time": "2023-01-17T13:13:34.863Z"
   },
   {
    "duration": 281,
    "start_time": "2023-01-17T13:13:35.383Z"
   },
   {
    "duration": 16,
    "start_time": "2023-01-17T13:13:36.577Z"
   },
   {
    "duration": 69,
    "start_time": "2023-01-17T13:39:45.950Z"
   },
   {
    "duration": 7,
    "start_time": "2023-01-17T13:39:51.365Z"
   },
   {
    "duration": 12,
    "start_time": "2023-01-17T13:39:54.502Z"
   },
   {
    "duration": 34,
    "start_time": "2023-01-17T13:40:00.323Z"
   },
   {
    "duration": 8,
    "start_time": "2023-01-17T13:41:26.703Z"
   },
   {
    "duration": 14,
    "start_time": "2023-01-17T13:41:30.704Z"
   },
   {
    "duration": 17,
    "start_time": "2023-01-17T13:45:01.908Z"
   },
   {
    "duration": 31,
    "start_time": "2023-01-17T13:47:55.735Z"
   },
   {
    "duration": 28,
    "start_time": "2023-01-17T13:48:15.456Z"
   },
   {
    "duration": 17,
    "start_time": "2023-01-17T13:48:27.683Z"
   },
   {
    "duration": 10,
    "start_time": "2023-01-17T13:48:49.503Z"
   },
   {
    "duration": 17,
    "start_time": "2023-01-17T13:48:55.519Z"
   },
   {
    "duration": 22,
    "start_time": "2023-01-17T13:49:40.015Z"
   },
   {
    "duration": 21,
    "start_time": "2023-01-17T13:51:22.542Z"
   },
   {
    "duration": 11,
    "start_time": "2023-01-17T13:52:17.185Z"
   },
   {
    "duration": 9,
    "start_time": "2023-01-17T13:57:54.152Z"
   },
   {
    "duration": 12,
    "start_time": "2023-01-17T13:58:02.038Z"
   },
   {
    "duration": 21,
    "start_time": "2023-01-17T13:58:10.131Z"
   },
   {
    "duration": 12,
    "start_time": "2023-01-17T13:58:44.645Z"
   },
   {
    "duration": 12,
    "start_time": "2023-01-17T14:02:32.687Z"
   },
   {
    "duration": 16,
    "start_time": "2023-01-17T14:02:57.225Z"
   },
   {
    "duration": 13,
    "start_time": "2023-01-17T14:03:19.425Z"
   },
   {
    "duration": 12,
    "start_time": "2023-01-17T14:05:37.702Z"
   },
   {
    "duration": 13,
    "start_time": "2023-01-17T14:05:56.066Z"
   },
   {
    "duration": 12,
    "start_time": "2023-01-17T14:16:04.642Z"
   },
   {
    "duration": 12,
    "start_time": "2023-01-17T14:16:17.110Z"
   },
   {
    "duration": 279,
    "start_time": "2023-01-17T14:17:12.491Z"
   },
   {
    "duration": 7,
    "start_time": "2023-01-17T14:17:16.117Z"
   },
   {
    "duration": 108,
    "start_time": "2023-01-17T14:17:36.455Z"
   },
   {
    "duration": 281,
    "start_time": "2023-01-17T14:18:10.374Z"
   },
   {
    "duration": 277,
    "start_time": "2023-01-17T14:18:17.074Z"
   },
   {
    "duration": 16,
    "start_time": "2023-01-17T14:18:18.006Z"
   },
   {
    "duration": 13,
    "start_time": "2023-01-17T14:18:18.815Z"
   },
   {
    "duration": 13,
    "start_time": "2023-01-17T14:18:19.161Z"
   },
   {
    "duration": 14,
    "start_time": "2023-01-17T14:18:19.963Z"
   },
   {
    "duration": 12,
    "start_time": "2023-01-17T14:18:20.751Z"
   },
   {
    "duration": 12,
    "start_time": "2023-01-17T14:18:25.633Z"
   },
   {
    "duration": 2,
    "start_time": "2023-01-17T14:19:14.450Z"
   },
   {
    "duration": 53,
    "start_time": "2023-01-17T14:19:14.605Z"
   },
   {
    "duration": 32,
    "start_time": "2023-01-17T14:19:14.779Z"
   },
   {
    "duration": 18,
    "start_time": "2023-01-17T14:19:15.307Z"
   },
   {
    "duration": 9,
    "start_time": "2023-01-17T14:19:15.849Z"
   },
   {
    "duration": 18,
    "start_time": "2023-01-17T14:19:16.403Z"
   },
   {
    "duration": 10,
    "start_time": "2023-01-17T14:19:16.840Z"
   },
   {
    "duration": 5,
    "start_time": "2023-01-17T14:19:17.229Z"
   },
   {
    "duration": 7,
    "start_time": "2023-01-17T14:19:17.607Z"
   },
   {
    "duration": 11,
    "start_time": "2023-01-17T14:19:17.765Z"
   },
   {
    "duration": 7,
    "start_time": "2023-01-17T14:19:18.157Z"
   },
   {
    "duration": 7,
    "start_time": "2023-01-17T14:19:18.604Z"
   },
   {
    "duration": 9,
    "start_time": "2023-01-17T14:19:18.960Z"
   },
   {
    "duration": 14,
    "start_time": "2023-01-17T14:19:19.155Z"
   },
   {
    "duration": 17,
    "start_time": "2023-01-17T14:19:19.534Z"
   },
   {
    "duration": 182,
    "start_time": "2023-01-17T14:19:19.927Z"
   },
   {
    "duration": 624,
    "start_time": "2023-01-17T14:19:20.334Z"
   },
   {
    "duration": 10,
    "start_time": "2023-01-17T14:19:20.961Z"
   },
   {
    "duration": 332,
    "start_time": "2023-01-17T14:19:20.973Z"
   },
   {
    "duration": 8,
    "start_time": "2023-01-17T14:19:21.308Z"
   },
   {
    "duration": 118,
    "start_time": "2023-01-17T14:19:21.835Z"
   },
   {
    "duration": 309,
    "start_time": "2023-01-17T14:19:22.687Z"
   },
   {
    "duration": 278,
    "start_time": "2023-01-17T14:19:23.102Z"
   },
   {
    "duration": 14,
    "start_time": "2023-01-17T14:19:23.983Z"
   },
   {
    "duration": 12,
    "start_time": "2023-01-17T14:19:25.779Z"
   },
   {
    "duration": 12,
    "start_time": "2023-01-17T14:19:26.618Z"
   },
   {
    "duration": 13,
    "start_time": "2023-01-17T14:19:29.802Z"
   },
   {
    "duration": 12,
    "start_time": "2023-01-17T14:19:31.402Z"
   },
   {
    "duration": 22,
    "start_time": "2023-01-17T14:19:44.218Z"
   },
   {
    "duration": 12,
    "start_time": "2023-01-17T14:21:56.939Z"
   },
   {
    "duration": 12,
    "start_time": "2023-01-17T14:34:49.896Z"
   },
   {
    "duration": 14,
    "start_time": "2023-01-17T14:35:36.762Z"
   },
   {
    "duration": 15,
    "start_time": "2023-01-17T14:35:41.678Z"
   },
   {
    "duration": 24,
    "start_time": "2023-01-17T14:35:44.072Z"
   },
   {
    "duration": 21,
    "start_time": "2023-01-17T14:36:30.064Z"
   },
   {
    "duration": 11,
    "start_time": "2023-01-17T14:37:31.539Z"
   },
   {
    "duration": 365,
    "start_time": "2023-01-18T08:38:38.221Z"
   },
   {
    "duration": 191,
    "start_time": "2023-01-18T08:38:38.588Z"
   },
   {
    "duration": 41,
    "start_time": "2023-01-18T08:38:38.781Z"
   },
   {
    "duration": 15,
    "start_time": "2023-01-18T08:38:39.017Z"
   },
   {
    "duration": 11,
    "start_time": "2023-01-18T08:38:39.336Z"
   },
   {
    "duration": 18,
    "start_time": "2023-01-18T08:38:39.866Z"
   },
   {
    "duration": 11,
    "start_time": "2023-01-18T08:38:40.021Z"
   },
   {
    "duration": 6,
    "start_time": "2023-01-18T08:38:40.369Z"
   },
   {
    "duration": 7,
    "start_time": "2023-01-18T08:38:40.736Z"
   },
   {
    "duration": 15,
    "start_time": "2023-01-18T08:38:40.940Z"
   },
   {
    "duration": 10,
    "start_time": "2023-01-18T08:38:41.309Z"
   },
   {
    "duration": 7,
    "start_time": "2023-01-18T08:38:41.706Z"
   },
   {
    "duration": 10,
    "start_time": "2023-01-18T08:38:42.107Z"
   },
   {
    "duration": 11,
    "start_time": "2023-01-18T08:38:42.306Z"
   },
   {
    "duration": 17,
    "start_time": "2023-01-18T08:38:42.775Z"
   },
   {
    "duration": 569,
    "start_time": "2023-01-18T08:38:43.322Z"
   },
   {
    "duration": 621,
    "start_time": "2023-01-18T08:38:43.969Z"
   },
   {
    "duration": 9,
    "start_time": "2023-01-18T08:38:44.592Z"
   },
   {
    "duration": 421,
    "start_time": "2023-01-18T08:38:44.926Z"
   },
   {
    "duration": 8,
    "start_time": "2023-01-18T08:38:45.350Z"
   },
   {
    "duration": 122,
    "start_time": "2023-01-18T08:38:45.908Z"
   },
   {
    "duration": 419,
    "start_time": "2023-01-18T08:38:46.565Z"
   },
   {
    "duration": 323,
    "start_time": "2023-01-18T08:38:46.987Z"
   },
   {
    "duration": 21,
    "start_time": "2023-01-18T08:38:47.570Z"
   },
   {
    "duration": 17,
    "start_time": "2023-01-18T08:38:48.817Z"
   },
   {
    "duration": 13,
    "start_time": "2023-01-18T08:38:49.464Z"
   },
   {
    "duration": 19,
    "start_time": "2023-01-18T08:38:50.161Z"
   },
   {
    "duration": 18,
    "start_time": "2023-01-18T08:38:51.628Z"
   },
   {
    "duration": 18,
    "start_time": "2023-01-18T08:38:51.740Z"
   },
   {
    "duration": 12,
    "start_time": "2023-01-18T08:39:26.969Z"
   },
   {
    "duration": 13,
    "start_time": "2023-01-18T08:43:43.716Z"
   },
   {
    "duration": 13,
    "start_time": "2023-01-18T08:43:44.609Z"
   },
   {
    "duration": 12,
    "start_time": "2023-01-18T08:43:45.445Z"
   },
   {
    "duration": 25,
    "start_time": "2023-01-18T09:35:52.937Z"
   },
   {
    "duration": 15,
    "start_time": "2023-01-18T09:36:06.409Z"
   },
   {
    "duration": 14,
    "start_time": "2023-01-18T09:44:51.002Z"
   },
   {
    "duration": 26,
    "start_time": "2023-01-18T09:44:56.474Z"
   },
   {
    "duration": 79,
    "start_time": "2023-01-18T09:51:03.996Z"
   },
   {
    "duration": 15,
    "start_time": "2023-01-18T09:51:19.984Z"
   },
   {
    "duration": 13,
    "start_time": "2023-01-18T09:51:21.570Z"
   },
   {
    "duration": 13,
    "start_time": "2023-01-18T09:51:23.320Z"
   },
   {
    "duration": 7,
    "start_time": "2023-01-18T09:57:24.366Z"
   },
   {
    "duration": 7,
    "start_time": "2023-01-18T09:57:29.610Z"
   },
   {
    "duration": 9,
    "start_time": "2023-01-18T10:09:20.896Z"
   },
   {
    "duration": 236,
    "start_time": "2023-01-18T10:11:49.434Z"
   },
   {
    "duration": 222,
    "start_time": "2023-01-18T10:11:57.144Z"
   },
   {
    "duration": 242,
    "start_time": "2023-01-18T10:12:01.443Z"
   },
   {
    "duration": 319,
    "start_time": "2023-01-18T10:12:04.962Z"
   },
   {
    "duration": 119,
    "start_time": "2023-01-18T10:13:18.611Z"
   },
   {
    "duration": 295,
    "start_time": "2023-01-18T10:13:50.626Z"
   },
   {
    "duration": 241,
    "start_time": "2023-01-18T10:13:58.636Z"
   },
   {
    "duration": 248,
    "start_time": "2023-01-18T10:14:16.661Z"
   },
   {
    "duration": 240,
    "start_time": "2023-01-18T10:14:28.228Z"
   },
   {
    "duration": 326,
    "start_time": "2023-01-18T10:14:40.133Z"
   },
   {
    "duration": 257,
    "start_time": "2023-01-18T10:15:32.585Z"
   },
   {
    "duration": 260,
    "start_time": "2023-01-18T10:16:05.349Z"
   },
   {
    "duration": 264,
    "start_time": "2023-01-18T10:28:02.769Z"
   },
   {
    "duration": 286,
    "start_time": "2023-01-18T10:28:49.996Z"
   },
   {
    "duration": 10,
    "start_time": "2023-01-18T10:48:56.620Z"
   },
   {
    "duration": 504,
    "start_time": "2023-01-18T10:49:28.516Z"
   },
   {
    "duration": 9,
    "start_time": "2023-01-18T10:49:29.100Z"
   },
   {
    "duration": 6,
    "start_time": "2023-01-18T10:53:01.444Z"
   },
   {
    "duration": 8,
    "start_time": "2023-01-18T10:53:16.249Z"
   },
   {
    "duration": 9,
    "start_time": "2023-01-18T10:53:19.183Z"
   },
   {
    "duration": 7,
    "start_time": "2023-01-18T10:56:59.420Z"
   },
   {
    "duration": 8,
    "start_time": "2023-01-18T10:57:03.611Z"
   },
   {
    "duration": 8,
    "start_time": "2023-01-18T11:00:23.574Z"
   },
   {
    "duration": 8,
    "start_time": "2023-01-18T11:01:12.662Z"
   },
   {
    "duration": 8,
    "start_time": "2023-01-18T11:01:21.598Z"
   },
   {
    "duration": 428,
    "start_time": "2023-01-19T04:28:24.543Z"
   },
   {
    "duration": 213,
    "start_time": "2023-01-19T04:28:25.062Z"
   },
   {
    "duration": 38,
    "start_time": "2023-01-19T04:28:25.278Z"
   },
   {
    "duration": 18,
    "start_time": "2023-01-19T04:28:25.318Z"
   },
   {
    "duration": 12,
    "start_time": "2023-01-19T04:28:25.406Z"
   },
   {
    "duration": 17,
    "start_time": "2023-01-19T04:28:25.560Z"
   },
   {
    "duration": 11,
    "start_time": "2023-01-19T04:28:25.630Z"
   },
   {
    "duration": 5,
    "start_time": "2023-01-19T04:28:25.740Z"
   },
   {
    "duration": 7,
    "start_time": "2023-01-19T04:28:25.840Z"
   },
   {
    "duration": 13,
    "start_time": "2023-01-19T04:28:25.887Z"
   },
   {
    "duration": 7,
    "start_time": "2023-01-19T04:28:25.985Z"
   },
   {
    "duration": 8,
    "start_time": "2023-01-19T04:28:26.099Z"
   },
   {
    "duration": 12,
    "start_time": "2023-01-19T04:28:26.229Z"
   },
   {
    "duration": 15,
    "start_time": "2023-01-19T04:28:26.301Z"
   },
   {
    "duration": 17,
    "start_time": "2023-01-19T04:28:26.418Z"
   },
   {
    "duration": 592,
    "start_time": "2023-01-19T04:28:26.519Z"
   },
   {
    "duration": 585,
    "start_time": "2023-01-19T04:28:27.114Z"
   },
   {
    "duration": 8,
    "start_time": "2023-01-19T04:28:27.700Z"
   },
   {
    "duration": 364,
    "start_time": "2023-01-19T04:28:27.710Z"
   },
   {
    "duration": 7,
    "start_time": "2023-01-19T04:28:28.076Z"
   },
   {
    "duration": 298,
    "start_time": "2023-01-19T04:28:28.084Z"
   },
   {
    "duration": 340,
    "start_time": "2023-01-19T04:28:28.384Z"
   },
   {
    "duration": 363,
    "start_time": "2023-01-19T04:28:28.726Z"
   },
   {
    "duration": 24,
    "start_time": "2023-01-19T04:28:29.092Z"
   },
   {
    "duration": 12,
    "start_time": "2023-01-19T04:28:29.625Z"
   },
   {
    "duration": 13,
    "start_time": "2023-01-19T04:28:30.123Z"
   },
   {
    "duration": 14,
    "start_time": "2023-01-19T04:28:30.585Z"
   },
   {
    "duration": 13,
    "start_time": "2023-01-19T04:28:31.003Z"
   },
   {
    "duration": 24,
    "start_time": "2023-01-19T04:28:31.618Z"
   },
   {
    "duration": 14,
    "start_time": "2023-01-19T04:28:32.005Z"
   },
   {
    "duration": 19,
    "start_time": "2023-01-19T04:28:32.371Z"
   },
   {
    "duration": 12,
    "start_time": "2023-01-19T04:28:32.783Z"
   },
   {
    "duration": 20,
    "start_time": "2023-01-19T04:28:33.398Z"
   },
   {
    "duration": 15,
    "start_time": "2023-01-19T04:28:33.825Z"
   },
   {
    "duration": 19,
    "start_time": "2023-01-19T04:28:34.243Z"
   },
   {
    "duration": 13,
    "start_time": "2023-01-19T04:28:34.662Z"
   },
   {
    "duration": 559,
    "start_time": "2023-01-19T04:28:35.264Z"
   },
   {
    "duration": 11,
    "start_time": "2023-01-19T04:28:35.889Z"
   },
   {
    "duration": 6,
    "start_time": "2023-01-19T04:28:36.720Z"
   },
   {
    "duration": 447,
    "start_time": "2023-01-19T09:12:27.992Z"
   },
   {
    "duration": 56,
    "start_time": "2023-01-19T09:12:28.441Z"
   },
   {
    "duration": 58,
    "start_time": "2023-01-19T09:12:28.500Z"
   },
   {
    "duration": 22,
    "start_time": "2023-01-19T09:12:28.560Z"
   },
   {
    "duration": 27,
    "start_time": "2023-01-19T09:12:28.586Z"
   },
   {
    "duration": 54,
    "start_time": "2023-01-19T09:12:28.616Z"
   },
   {
    "duration": 16,
    "start_time": "2023-01-19T09:12:28.672Z"
   },
   {
    "duration": 30,
    "start_time": "2023-01-19T09:12:28.690Z"
   },
   {
    "duration": 26,
    "start_time": "2023-01-19T09:12:28.722Z"
   },
   {
    "duration": 39,
    "start_time": "2023-01-19T09:12:28.750Z"
   },
   {
    "duration": 16,
    "start_time": "2023-01-19T09:12:28.791Z"
   },
   {
    "duration": 19,
    "start_time": "2023-01-19T09:12:28.809Z"
   },
   {
    "duration": 15,
    "start_time": "2023-01-19T09:12:28.831Z"
   },
   {
    "duration": 27,
    "start_time": "2023-01-19T09:12:28.850Z"
   },
   {
    "duration": 44,
    "start_time": "2023-01-19T09:12:28.879Z"
   },
   {
    "duration": 466,
    "start_time": "2023-01-19T09:12:28.926Z"
   },
   {
    "duration": 630,
    "start_time": "2023-01-19T09:12:29.394Z"
   },
   {
    "duration": 17,
    "start_time": "2023-01-19T09:12:30.027Z"
   },
   {
    "duration": 373,
    "start_time": "2023-01-19T09:12:30.046Z"
   },
   {
    "duration": 21,
    "start_time": "2023-01-19T09:12:30.423Z"
   },
   {
    "duration": 414,
    "start_time": "2023-01-19T09:12:30.446Z"
   },
   {
    "duration": 392,
    "start_time": "2023-01-19T09:12:30.862Z"
   },
   {
    "duration": 366,
    "start_time": "2023-01-19T09:12:31.256Z"
   },
   {
    "duration": 24,
    "start_time": "2023-01-19T09:12:31.624Z"
   },
   {
    "duration": 26,
    "start_time": "2023-01-19T09:12:31.650Z"
   },
   {
    "duration": 37,
    "start_time": "2023-01-19T09:12:31.678Z"
   },
   {
    "duration": 35,
    "start_time": "2023-01-19T09:12:31.717Z"
   },
   {
    "duration": 57,
    "start_time": "2023-01-19T09:12:31.755Z"
   },
   {
    "duration": 35,
    "start_time": "2023-01-19T09:12:31.814Z"
   },
   {
    "duration": 48,
    "start_time": "2023-01-19T09:12:31.853Z"
   },
   {
    "duration": 41,
    "start_time": "2023-01-19T09:12:31.903Z"
   },
   {
    "duration": 56,
    "start_time": "2023-01-19T09:12:31.946Z"
   },
   {
    "duration": 49,
    "start_time": "2023-01-19T09:12:32.004Z"
   },
   {
    "duration": 12,
    "start_time": "2023-01-19T09:12:32.056Z"
   },
   {
    "duration": 34,
    "start_time": "2023-01-19T09:12:32.070Z"
   },
   {
    "duration": 30,
    "start_time": "2023-01-19T09:12:32.107Z"
   },
   {
    "duration": 549,
    "start_time": "2023-01-19T09:12:32.139Z"
   },
   {
    "duration": 9,
    "start_time": "2023-01-19T09:12:32.690Z"
   },
   {
    "duration": 27,
    "start_time": "2023-01-19T09:12:32.701Z"
   },
   {
    "duration": 118,
    "start_time": "2023-01-19T09:25:48.662Z"
   },
   {
    "duration": 24,
    "start_time": "2023-01-19T09:26:53.756Z"
   },
   {
    "duration": 55,
    "start_time": "2023-01-19T09:27:13.394Z"
   },
   {
    "duration": 487,
    "start_time": "2023-01-19T09:27:20.050Z"
   },
   {
    "duration": 71,
    "start_time": "2023-01-19T09:27:20.540Z"
   },
   {
    "duration": 60,
    "start_time": "2023-01-19T09:27:20.613Z"
   },
   {
    "duration": 21,
    "start_time": "2023-01-19T09:27:20.676Z"
   },
   {
    "duration": 26,
    "start_time": "2023-01-19T09:27:20.701Z"
   },
   {
    "duration": 57,
    "start_time": "2023-01-19T09:27:20.737Z"
   },
   {
    "duration": 17,
    "start_time": "2023-01-19T09:27:20.797Z"
   },
   {
    "duration": 6,
    "start_time": "2023-01-19T09:27:20.817Z"
   },
   {
    "duration": 44,
    "start_time": "2023-01-19T09:27:20.825Z"
   },
   {
    "duration": 38,
    "start_time": "2023-01-19T09:27:20.870Z"
   },
   {
    "duration": 20,
    "start_time": "2023-01-19T09:27:20.909Z"
   },
   {
    "duration": 35,
    "start_time": "2023-01-19T09:27:20.931Z"
   },
   {
    "duration": 18,
    "start_time": "2023-01-19T09:27:20.968Z"
   },
   {
    "duration": 25,
    "start_time": "2023-01-19T09:27:20.990Z"
   },
   {
    "duration": 41,
    "start_time": "2023-01-19T09:27:21.017Z"
   },
   {
    "duration": 540,
    "start_time": "2023-01-19T09:27:21.060Z"
   },
   {
    "duration": 660,
    "start_time": "2023-01-19T09:27:21.602Z"
   },
   {
    "duration": 8,
    "start_time": "2023-01-19T09:27:22.264Z"
   },
   {
    "duration": 474,
    "start_time": "2023-01-19T09:27:22.274Z"
   },
   {
    "duration": 12,
    "start_time": "2023-01-19T09:27:22.750Z"
   },
   {
    "duration": 433,
    "start_time": "2023-01-19T09:27:22.765Z"
   },
   {
    "duration": 407,
    "start_time": "2023-01-19T09:27:23.200Z"
   },
   {
    "duration": 406,
    "start_time": "2023-01-19T09:27:23.610Z"
   },
   {
    "duration": 36,
    "start_time": "2023-01-19T09:27:24.018Z"
   },
   {
    "duration": 75,
    "start_time": "2023-01-19T09:27:24.058Z"
   },
   {
    "duration": 59,
    "start_time": "2023-01-19T09:27:24.135Z"
   },
   {
    "duration": 54,
    "start_time": "2023-01-19T09:27:24.196Z"
   },
   {
    "duration": 84,
    "start_time": "2023-01-19T09:27:24.252Z"
   },
   {
    "duration": 93,
    "start_time": "2023-01-19T09:27:24.338Z"
   },
   {
    "duration": 19,
    "start_time": "2023-01-19T09:27:24.433Z"
   },
   {
    "duration": 39,
    "start_time": "2023-01-19T09:27:24.458Z"
   },
   {
    "duration": 36,
    "start_time": "2023-01-19T09:27:24.499Z"
   },
   {
    "duration": 123,
    "start_time": "2023-01-19T09:27:24.541Z"
   },
   {
    "duration": 33,
    "start_time": "2023-01-19T09:27:24.666Z"
   },
   {
    "duration": 64,
    "start_time": "2023-01-19T09:27:24.701Z"
   },
   {
    "duration": 45,
    "start_time": "2023-01-19T09:27:24.767Z"
   },
   {
    "duration": 63,
    "start_time": "2023-01-19T09:27:24.814Z"
   },
   {
    "duration": 492,
    "start_time": "2023-01-19T09:27:24.878Z"
   },
   {
    "duration": 8,
    "start_time": "2023-01-19T09:27:25.372Z"
   },
   {
    "duration": 41,
    "start_time": "2023-01-19T09:27:25.382Z"
   },
   {
    "duration": 17,
    "start_time": "2023-01-19T09:28:13.929Z"
   },
   {
    "duration": 2,
    "start_time": "2023-01-19T09:28:44.568Z"
   },
   {
    "duration": 51,
    "start_time": "2023-01-19T11:19:20.633Z"
   },
   {
    "duration": 368,
    "start_time": "2023-01-19T11:19:26.569Z"
   },
   {
    "duration": 90,
    "start_time": "2023-01-19T11:19:26.939Z"
   },
   {
    "duration": 37,
    "start_time": "2023-01-19T11:19:27.031Z"
   },
   {
    "duration": 16,
    "start_time": "2023-01-19T11:19:27.343Z"
   },
   {
    "duration": 11,
    "start_time": "2023-01-19T11:19:27.968Z"
   },
   {
    "duration": 16,
    "start_time": "2023-01-19T11:19:29.085Z"
   },
   {
    "duration": 12,
    "start_time": "2023-01-19T11:19:29.539Z"
   },
   {
    "duration": 4,
    "start_time": "2023-01-19T11:19:30.937Z"
   },
   {
    "duration": 7,
    "start_time": "2023-01-19T11:19:31.772Z"
   },
   {
    "duration": 10,
    "start_time": "2023-01-19T11:19:32.092Z"
   },
   {
    "duration": 8,
    "start_time": "2023-01-19T11:19:33.263Z"
   },
   {
    "duration": 53,
    "start_time": "2023-01-19T11:19:35.158Z"
   },
   {
    "duration": 27,
    "start_time": "2023-01-19T11:19:40.434Z"
   },
   {
    "duration": 27,
    "start_time": "2023-01-19T11:19:42.048Z"
   },
   {
    "duration": 16,
    "start_time": "2023-01-19T11:19:45.287Z"
   },
   {
    "duration": 10,
    "start_time": "2023-01-19T11:20:26.269Z"
   },
   {
    "duration": 28,
    "start_time": "2023-01-19T11:20:37.870Z"
   },
   {
    "duration": 28,
    "start_time": "2023-01-19T11:21:07.437Z"
   },
   {
    "duration": 31,
    "start_time": "2023-01-19T11:21:12.142Z"
   },
   {
    "duration": 18,
    "start_time": "2023-01-19T11:21:25.643Z"
   },
   {
    "duration": 10,
    "start_time": "2023-01-19T11:21:40.747Z"
   },
   {
    "duration": 24,
    "start_time": "2023-01-19T11:22:23.040Z"
   },
   {
    "duration": 22,
    "start_time": "2023-01-19T11:22:43.913Z"
   },
   {
    "duration": 24,
    "start_time": "2023-01-19T11:22:48.355Z"
   },
   {
    "duration": 26,
    "start_time": "2023-01-19T11:23:18.259Z"
   },
   {
    "duration": 24,
    "start_time": "2023-01-19T11:23:25.756Z"
   },
   {
    "duration": 24,
    "start_time": "2023-01-19T11:23:32.469Z"
   },
   {
    "duration": 23,
    "start_time": "2023-01-19T11:28:22.246Z"
   },
   {
    "duration": 24,
    "start_time": "2023-01-19T11:28:28.428Z"
   },
   {
    "duration": 3,
    "start_time": "2023-01-19T11:30:23.057Z"
   },
   {
    "duration": 47,
    "start_time": "2023-01-19T11:30:23.348Z"
   },
   {
    "duration": 33,
    "start_time": "2023-01-19T11:30:23.615Z"
   },
   {
    "duration": 16,
    "start_time": "2023-01-19T11:30:24.714Z"
   },
   {
    "duration": 23,
    "start_time": "2023-01-19T11:30:26.979Z"
   },
   {
    "duration": 22,
    "start_time": "2023-01-19T11:30:36.169Z"
   },
   {
    "duration": 10,
    "start_time": "2023-01-19T11:30:48.388Z"
   },
   {
    "duration": 17,
    "start_time": "2023-01-19T11:30:49.460Z"
   },
   {
    "duration": 10,
    "start_time": "2023-01-19T11:30:49.702Z"
   },
   {
    "duration": 6,
    "start_time": "2023-01-19T11:30:50.887Z"
   },
   {
    "duration": 7,
    "start_time": "2023-01-19T11:30:52.162Z"
   },
   {
    "duration": 13,
    "start_time": "2023-01-19T11:30:53.211Z"
   },
   {
    "duration": 6,
    "start_time": "2023-01-19T11:30:54.089Z"
   },
   {
    "duration": 23,
    "start_time": "2023-01-19T11:30:55.145Z"
   },
   {
    "duration": 22,
    "start_time": "2023-01-19T11:31:05.992Z"
   },
   {
    "duration": 10,
    "start_time": "2023-01-19T11:32:42.306Z"
   },
   {
    "duration": 10,
    "start_time": "2023-01-19T11:33:00.568Z"
   },
   {
    "duration": 9,
    "start_time": "2023-01-19T11:33:04.864Z"
   },
   {
    "duration": 23,
    "start_time": "2023-01-19T11:33:19.337Z"
   },
   {
    "duration": 11,
    "start_time": "2023-01-19T11:33:58.770Z"
   },
   {
    "duration": 9,
    "start_time": "2023-01-19T11:34:13.360Z"
   },
   {
    "duration": 9,
    "start_time": "2023-01-19T11:34:34.010Z"
   },
   {
    "duration": 22,
    "start_time": "2023-01-19T11:35:29.406Z"
   },
   {
    "duration": 29,
    "start_time": "2023-01-19T11:36:41.779Z"
   },
   {
    "duration": 25,
    "start_time": "2023-01-19T11:37:23.595Z"
   },
   {
    "duration": 10,
    "start_time": "2023-01-19T11:38:18.204Z"
   },
   {
    "duration": 7,
    "start_time": "2023-01-19T11:39:10.672Z"
   },
   {
    "duration": 12,
    "start_time": "2023-01-19T11:39:11.667Z"
   },
   {
    "duration": 14,
    "start_time": "2023-01-19T11:39:12.458Z"
   },
   {
    "duration": 16,
    "start_time": "2023-01-19T11:39:13.169Z"
   },
   {
    "duration": 610,
    "start_time": "2023-01-19T11:39:26.298Z"
   },
   {
    "duration": 573,
    "start_time": "2023-01-19T11:39:28.216Z"
   },
   {
    "duration": 9,
    "start_time": "2023-01-19T11:39:29.564Z"
   },
   {
    "duration": 357,
    "start_time": "2023-01-19T11:39:30.691Z"
   },
   {
    "duration": 8,
    "start_time": "2023-01-19T11:39:33.807Z"
   },
   {
    "duration": 3,
    "start_time": "2023-01-19T11:39:35.541Z"
   },
   {
    "duration": 289,
    "start_time": "2023-01-19T11:39:36.543Z"
   },
   {
    "duration": 202,
    "start_time": "2023-01-19T11:39:41.206Z"
   },
   {
    "duration": 126,
    "start_time": "2023-01-19T11:39:43.561Z"
   },
   {
    "duration": 3,
    "start_time": "2023-01-19T11:40:59.508Z"
   },
   {
    "duration": 49,
    "start_time": "2023-01-19T11:40:59.674Z"
   },
   {
    "duration": 33,
    "start_time": "2023-01-19T11:40:59.838Z"
   },
   {
    "duration": 17,
    "start_time": "2023-01-19T11:41:00.361Z"
   },
   {
    "duration": 10,
    "start_time": "2023-01-19T11:41:00.942Z"
   },
   {
    "duration": 19,
    "start_time": "2023-01-19T11:41:02.238Z"
   },
   {
    "duration": 11,
    "start_time": "2023-01-19T11:41:03.087Z"
   },
   {
    "duration": 5,
    "start_time": "2023-01-19T11:41:05.894Z"
   },
   {
    "duration": 7,
    "start_time": "2023-01-19T11:41:06.522Z"
   },
   {
    "duration": 13,
    "start_time": "2023-01-19T11:41:06.901Z"
   },
   {
    "duration": 7,
    "start_time": "2023-01-19T11:41:07.400Z"
   },
   {
    "duration": 10,
    "start_time": "2023-01-19T11:41:08.465Z"
   },
   {
    "duration": 13,
    "start_time": "2023-01-19T11:41:08.861Z"
   },
   {
    "duration": 18,
    "start_time": "2023-01-19T11:41:10.310Z"
   },
   {
    "duration": 191,
    "start_time": "2023-01-19T11:41:11.990Z"
   },
   {
    "duration": 572,
    "start_time": "2023-01-19T11:41:12.862Z"
   },
   {
    "duration": 9,
    "start_time": "2023-01-19T11:41:13.436Z"
   },
   {
    "duration": 311,
    "start_time": "2023-01-19T11:41:13.692Z"
   },
   {
    "duration": 8,
    "start_time": "2023-01-19T11:41:14.496Z"
   },
   {
    "duration": 3,
    "start_time": "2023-01-19T11:41:15.391Z"
   },
   {
    "duration": 275,
    "start_time": "2023-01-19T11:41:15.865Z"
   },
   {
    "duration": 392,
    "start_time": "2023-01-19T11:41:17.661Z"
   },
   {
    "duration": 288,
    "start_time": "2023-01-19T11:41:26.248Z"
   },
   {
    "duration": 15,
    "start_time": "2023-01-19T11:41:31.309Z"
   },
   {
    "duration": 12,
    "start_time": "2023-01-19T11:41:33.980Z"
   },
   {
    "duration": 3,
    "start_time": "2023-01-19T11:41:35.185Z"
   },
   {
    "duration": 13,
    "start_time": "2023-01-19T11:41:36.598Z"
   },
   {
    "duration": 17,
    "start_time": "2023-01-19T11:41:37.201Z"
   },
   {
    "duration": 14,
    "start_time": "2023-01-19T11:41:37.546Z"
   },
   {
    "duration": 13,
    "start_time": "2023-01-19T11:41:39.001Z"
   },
   {
    "duration": 13,
    "start_time": "2023-01-19T11:41:40.071Z"
   },
   {
    "duration": 12,
    "start_time": "2023-01-19T11:41:40.482Z"
   },
   {
    "duration": 13,
    "start_time": "2023-01-19T11:41:40.844Z"
   },
   {
    "duration": 24,
    "start_time": "2023-01-19T11:41:41.700Z"
   },
   {
    "duration": 15,
    "start_time": "2023-01-19T11:41:42.705Z"
   },
   {
    "duration": 13,
    "start_time": "2023-01-19T11:41:43.683Z"
   },
   {
    "duration": 18,
    "start_time": "2023-01-19T11:41:44.260Z"
   },
   {
    "duration": 437,
    "start_time": "2023-01-19T11:41:47.895Z"
   },
   {
    "duration": 8,
    "start_time": "2023-01-19T11:41:49.194Z"
   },
   {
    "duration": 8,
    "start_time": "2023-01-19T11:41:53.460Z"
   },
   {
    "duration": 8,
    "start_time": "2023-01-19T11:47:28.789Z"
   },
   {
    "duration": 8,
    "start_time": "2023-01-19T11:47:39.647Z"
   },
   {
    "duration": 7,
    "start_time": "2023-01-19T11:50:58.822Z"
   },
   {
    "duration": 6,
    "start_time": "2023-01-19T11:51:23.860Z"
   },
   {
    "duration": 17,
    "start_time": "2023-01-19T11:54:51.062Z"
   },
   {
    "duration": 15,
    "start_time": "2023-01-19T11:59:58.296Z"
   },
   {
    "duration": 17,
    "start_time": "2023-01-19T12:00:37.210Z"
   },
   {
    "duration": 15,
    "start_time": "2023-01-19T12:00:55.366Z"
   },
   {
    "duration": 20,
    "start_time": "2023-01-19T12:01:04.642Z"
   },
   {
    "duration": 14,
    "start_time": "2023-01-19T12:01:13.411Z"
   },
   {
    "duration": 14,
    "start_time": "2023-01-19T12:01:30.536Z"
   },
   {
    "duration": 16,
    "start_time": "2023-01-19T12:01:57.418Z"
   },
   {
    "duration": 4,
    "start_time": "2023-01-19T12:03:50.368Z"
   },
   {
    "duration": 116,
    "start_time": "2023-01-19T12:03:56.142Z"
   },
   {
    "duration": 283,
    "start_time": "2023-01-19T12:04:39.370Z"
   },
   {
    "duration": 84,
    "start_time": "2023-01-19T12:05:20.128Z"
   },
   {
    "duration": 371,
    "start_time": "2023-01-19T12:05:32.076Z"
   },
   {
    "duration": 295,
    "start_time": "2023-01-19T12:05:41.137Z"
   },
   {
    "duration": 270,
    "start_time": "2023-01-19T12:05:49.471Z"
   },
   {
    "duration": 279,
    "start_time": "2023-01-19T12:05:52.443Z"
   },
   {
    "duration": 298,
    "start_time": "2023-01-19T12:06:05.514Z"
   },
   {
    "duration": 2,
    "start_time": "2023-01-19T12:10:21.546Z"
   },
   {
    "duration": 48,
    "start_time": "2023-01-19T12:10:21.695Z"
   },
   {
    "duration": 35,
    "start_time": "2023-01-19T12:10:21.875Z"
   },
   {
    "duration": 17,
    "start_time": "2023-01-19T12:10:22.371Z"
   },
   {
    "duration": 10,
    "start_time": "2023-01-19T12:10:22.908Z"
   },
   {
    "duration": 18,
    "start_time": "2023-01-19T12:10:23.652Z"
   },
   {
    "duration": 11,
    "start_time": "2023-01-19T12:10:23.850Z"
   },
   {
    "duration": 7,
    "start_time": "2023-01-19T12:10:24.420Z"
   },
   {
    "duration": 7,
    "start_time": "2023-01-19T12:10:24.810Z"
   },
   {
    "duration": 13,
    "start_time": "2023-01-19T12:10:25.007Z"
   },
   {
    "duration": 8,
    "start_time": "2023-01-19T12:10:25.403Z"
   },
   {
    "duration": 8,
    "start_time": "2023-01-19T12:10:25.981Z"
   },
   {
    "duration": 11,
    "start_time": "2023-01-19T12:10:26.648Z"
   },
   {
    "duration": 13,
    "start_time": "2023-01-19T12:10:26.842Z"
   },
   {
    "duration": 21,
    "start_time": "2023-01-19T12:10:27.246Z"
   },
   {
    "duration": 16,
    "start_time": "2023-01-19T12:10:27.970Z"
   },
   {
    "duration": 207,
    "start_time": "2023-01-19T12:10:28.899Z"
   },
   {
    "duration": 695,
    "start_time": "2023-01-19T12:10:30.493Z"
   },
   {
    "duration": 20,
    "start_time": "2023-01-19T12:10:31.190Z"
   },
   {
    "duration": 307,
    "start_time": "2023-01-19T12:10:32.348Z"
   },
   {
    "duration": 8,
    "start_time": "2023-01-19T12:10:33.369Z"
   },
   {
    "duration": 4,
    "start_time": "2023-01-19T12:10:34.265Z"
   },
   {
    "duration": 284,
    "start_time": "2023-01-19T12:10:35.197Z"
   },
   {
    "duration": 361,
    "start_time": "2023-01-19T12:10:36.969Z"
   },
   {
    "duration": 340,
    "start_time": "2023-01-19T12:10:37.332Z"
   },
   {
    "duration": 283,
    "start_time": "2023-01-19T12:10:38.165Z"
   },
   {
    "duration": 282,
    "start_time": "2023-01-19T12:12:44.767Z"
   },
   {
    "duration": 480,
    "start_time": "2023-01-19T12:14:52.246Z"
   },
   {
    "duration": 344,
    "start_time": "2023-01-19T12:15:05.643Z"
   },
   {
    "duration": 333,
    "start_time": "2023-01-19T12:15:15.671Z"
   },
   {
    "duration": 348,
    "start_time": "2023-01-19T12:15:33.968Z"
   },
   {
    "duration": 331,
    "start_time": "2023-01-19T12:15:43.462Z"
   },
   {
    "duration": 15,
    "start_time": "2023-01-19T12:38:02.574Z"
   },
   {
    "duration": 14,
    "start_time": "2023-01-19T12:42:20.761Z"
   },
   {
    "duration": 13,
    "start_time": "2023-01-19T12:42:45.744Z"
   },
   {
    "duration": 13,
    "start_time": "2023-01-19T12:43:58.971Z"
   },
   {
    "duration": 14,
    "start_time": "2023-01-19T12:44:19.519Z"
   },
   {
    "duration": 13,
    "start_time": "2023-01-19T12:45:35.691Z"
   },
   {
    "duration": 14,
    "start_time": "2023-01-19T12:46:16.912Z"
   },
   {
    "duration": 3,
    "start_time": "2023-01-19T12:46:42.661Z"
   },
   {
    "duration": 3,
    "start_time": "2023-01-19T13:12:00.012Z"
   },
   {
    "duration": 50,
    "start_time": "2023-01-19T13:12:00.169Z"
   },
   {
    "duration": 37,
    "start_time": "2023-01-19T13:12:00.381Z"
   },
   {
    "duration": 17,
    "start_time": "2023-01-19T13:12:01.452Z"
   },
   {
    "duration": 11,
    "start_time": "2023-01-19T13:12:02.859Z"
   },
   {
    "duration": 18,
    "start_time": "2023-01-19T13:12:04.877Z"
   },
   {
    "duration": 12,
    "start_time": "2023-01-19T13:12:05.267Z"
   },
   {
    "duration": 5,
    "start_time": "2023-01-19T13:12:06.166Z"
   },
   {
    "duration": 7,
    "start_time": "2023-01-19T13:12:06.584Z"
   },
   {
    "duration": 11,
    "start_time": "2023-01-19T13:12:06.766Z"
   },
   {
    "duration": 8,
    "start_time": "2023-01-19T13:12:07.153Z"
   },
   {
    "duration": 8,
    "start_time": "2023-01-19T13:12:07.778Z"
   },
   {
    "duration": 13,
    "start_time": "2023-01-19T13:12:09.209Z"
   },
   {
    "duration": 14,
    "start_time": "2023-01-19T13:12:10.373Z"
   },
   {
    "duration": 16,
    "start_time": "2023-01-19T13:12:12.211Z"
   },
   {
    "duration": 19,
    "start_time": "2023-01-19T13:12:12.906Z"
   },
   {
    "duration": 183,
    "start_time": "2023-01-19T13:12:14.768Z"
   },
   {
    "duration": 554,
    "start_time": "2023-01-19T13:12:15.572Z"
   },
   {
    "duration": 10,
    "start_time": "2023-01-19T13:12:16.128Z"
   },
   {
    "duration": 289,
    "start_time": "2023-01-19T13:12:18.052Z"
   },
   {
    "duration": 7,
    "start_time": "2023-01-19T13:12:19.870Z"
   },
   {
    "duration": 3,
    "start_time": "2023-01-19T13:12:22.185Z"
   },
   {
    "duration": 464,
    "start_time": "2023-01-19T13:12:22.801Z"
   },
   {
    "duration": 128,
    "start_time": "2023-01-19T13:12:25.566Z"
   },
   {
    "duration": 119,
    "start_time": "2023-01-19T13:12:26.547Z"
   },
   {
    "duration": 19,
    "start_time": "2023-01-19T13:12:55.748Z"
   },
   {
    "duration": 3,
    "start_time": "2023-01-19T13:13:39.581Z"
   },
   {
    "duration": 46,
    "start_time": "2023-01-19T13:13:39.759Z"
   },
   {
    "duration": 31,
    "start_time": "2023-01-19T13:13:39.948Z"
   },
   {
    "duration": 18,
    "start_time": "2023-01-19T13:13:40.974Z"
   },
   {
    "duration": 10,
    "start_time": "2023-01-19T13:13:41.547Z"
   },
   {
    "duration": 17,
    "start_time": "2023-01-19T13:13:42.395Z"
   },
   {
    "duration": 14,
    "start_time": "2023-01-19T13:13:42.665Z"
   },
   {
    "duration": 5,
    "start_time": "2023-01-19T13:13:43.552Z"
   },
   {
    "duration": 8,
    "start_time": "2023-01-19T13:13:44.381Z"
   },
   {
    "duration": 11,
    "start_time": "2023-01-19T13:13:44.720Z"
   },
   {
    "duration": 7,
    "start_time": "2023-01-19T13:13:45.570Z"
   },
   {
    "duration": 6,
    "start_time": "2023-01-19T13:13:46.750Z"
   },
   {
    "duration": 10,
    "start_time": "2023-01-19T13:15:43.982Z"
   },
   {
    "duration": 16,
    "start_time": "2023-01-19T13:15:44.169Z"
   },
   {
    "duration": 18,
    "start_time": "2023-01-19T13:15:44.567Z"
   },
   {
    "duration": 15,
    "start_time": "2023-01-19T13:15:46.151Z"
   },
   {
    "duration": 188,
    "start_time": "2023-01-19T13:15:46.829Z"
   },
   {
    "duration": 560,
    "start_time": "2023-01-19T13:15:47.196Z"
   },
   {
    "duration": 9,
    "start_time": "2023-01-19T13:15:47.757Z"
   },
   {
    "duration": 305,
    "start_time": "2023-01-19T13:15:47.784Z"
   },
   {
    "duration": 8,
    "start_time": "2023-01-19T13:15:48.172Z"
   },
   {
    "duration": 3,
    "start_time": "2023-01-19T13:15:48.572Z"
   },
   {
    "duration": 264,
    "start_time": "2023-01-19T13:15:48.756Z"
   },
   {
    "duration": 318,
    "start_time": "2023-01-19T13:15:49.368Z"
   },
   {
    "duration": 317,
    "start_time": "2023-01-19T13:15:49.688Z"
   },
   {
    "duration": 477,
    "start_time": "2023-01-19T15:09:33.611Z"
   },
   {
    "duration": 140,
    "start_time": "2023-01-19T15:09:34.098Z"
   },
   {
    "duration": 68,
    "start_time": "2023-01-19T15:09:34.242Z"
   },
   {
    "duration": 35,
    "start_time": "2023-01-19T15:09:34.312Z"
   },
   {
    "duration": 32,
    "start_time": "2023-01-19T15:09:34.349Z"
   },
   {
    "duration": 57,
    "start_time": "2023-01-19T15:09:34.390Z"
   },
   {
    "duration": 30,
    "start_time": "2023-01-19T15:09:34.449Z"
   },
   {
    "duration": 38,
    "start_time": "2023-01-19T15:09:34.485Z"
   },
   {
    "duration": 11,
    "start_time": "2023-01-19T15:09:34.531Z"
   },
   {
    "duration": 19,
    "start_time": "2023-01-19T15:09:34.544Z"
   },
   {
    "duration": 52,
    "start_time": "2023-01-19T15:09:34.565Z"
   },
   {
    "duration": 10,
    "start_time": "2023-01-19T15:09:34.620Z"
   },
   {
    "duration": 16,
    "start_time": "2023-01-19T15:09:34.631Z"
   },
   {
    "duration": 17,
    "start_time": "2023-01-19T15:09:34.650Z"
   },
   {
    "duration": 47,
    "start_time": "2023-01-19T15:09:34.671Z"
   },
   {
    "duration": 20,
    "start_time": "2023-01-19T15:09:34.720Z"
   },
   {
    "duration": 954,
    "start_time": "2023-01-19T15:09:34.742Z"
   },
   {
    "duration": 748,
    "start_time": "2023-01-19T15:09:35.700Z"
   },
   {
    "duration": 14,
    "start_time": "2023-01-19T15:09:36.449Z"
   },
   {
    "duration": 519,
    "start_time": "2023-01-19T15:09:36.468Z"
   },
   {
    "duration": 17,
    "start_time": "2023-01-19T15:09:36.992Z"
   },
   {
    "duration": 9,
    "start_time": "2023-01-19T15:09:37.012Z"
   },
   {
    "duration": 387,
    "start_time": "2023-01-19T15:09:37.023Z"
   },
   {
    "duration": 491,
    "start_time": "2023-01-19T15:09:37.412Z"
   },
   {
    "duration": 461,
    "start_time": "2023-01-19T15:09:37.910Z"
   },
   {
    "duration": 436,
    "start_time": "2023-01-19T15:09:38.375Z"
   },
   {
    "duration": 14,
    "start_time": "2023-01-19T15:09:38.813Z"
   },
   {
    "duration": 15,
    "start_time": "2023-01-19T15:09:38.829Z"
   },
   {
    "duration": 52,
    "start_time": "2023-01-19T15:09:38.846Z"
   },
   {
    "duration": 46,
    "start_time": "2023-01-19T15:09:38.903Z"
   },
   {
    "duration": 85,
    "start_time": "2023-01-19T15:09:38.951Z"
   },
   {
    "duration": 31,
    "start_time": "2023-01-19T15:09:39.038Z"
   },
   {
    "duration": 38,
    "start_time": "2023-01-19T15:09:39.073Z"
   },
   {
    "duration": 22,
    "start_time": "2023-01-19T15:09:39.113Z"
   },
   {
    "duration": 23,
    "start_time": "2023-01-19T15:09:39.137Z"
   },
   {
    "duration": 64,
    "start_time": "2023-01-19T15:09:39.162Z"
   },
   {
    "duration": 19,
    "start_time": "2023-01-19T15:09:39.228Z"
   },
   {
    "duration": 70,
    "start_time": "2023-01-19T15:09:39.249Z"
   },
   {
    "duration": 27,
    "start_time": "2023-01-19T15:09:39.321Z"
   },
   {
    "duration": 674,
    "start_time": "2023-01-19T15:09:39.350Z"
   },
   {
    "duration": 20,
    "start_time": "2023-01-19T15:09:40.029Z"
   },
   {
    "duration": 57,
    "start_time": "2023-01-19T15:09:40.051Z"
   },
   {
    "duration": 7,
    "start_time": "2023-01-20T07:48:55.346Z"
   },
   {
    "duration": 73,
    "start_time": "2023-01-20T07:49:36.358Z"
   },
   {
    "duration": 54,
    "start_time": "2023-01-20T07:49:39.065Z"
   },
   {
    "duration": 398,
    "start_time": "2023-01-20T07:49:51.375Z"
   },
   {
    "duration": 242,
    "start_time": "2023-01-20T07:49:51.775Z"
   },
   {
    "duration": 40,
    "start_time": "2023-01-20T07:49:52.019Z"
   },
   {
    "duration": 16,
    "start_time": "2023-01-20T07:49:52.224Z"
   },
   {
    "duration": 22,
    "start_time": "2023-01-20T07:49:52.700Z"
   },
   {
    "duration": 16,
    "start_time": "2023-01-20T07:49:53.344Z"
   },
   {
    "duration": 11,
    "start_time": "2023-01-20T07:49:53.517Z"
   },
   {
    "duration": 5,
    "start_time": "2023-01-20T07:49:53.966Z"
   },
   {
    "duration": 17,
    "start_time": "2023-01-20T07:49:54.298Z"
   },
   {
    "duration": 11,
    "start_time": "2023-01-20T07:49:54.458Z"
   },
   {
    "duration": 11,
    "start_time": "2023-01-20T07:49:54.807Z"
   },
   {
    "duration": 13,
    "start_time": "2023-01-20T07:49:55.934Z"
   },
   {
    "duration": 18,
    "start_time": "2023-01-20T07:49:56.114Z"
   },
   {
    "duration": 24,
    "start_time": "2023-01-20T07:49:56.482Z"
   },
   {
    "duration": 16,
    "start_time": "2023-01-20T07:49:57.061Z"
   },
   {
    "duration": 610,
    "start_time": "2023-01-20T07:49:58.248Z"
   },
   {
    "duration": 614,
    "start_time": "2023-01-20T07:49:58.859Z"
   },
   {
    "duration": 8,
    "start_time": "2023-01-20T07:49:59.475Z"
   },
   {
    "duration": 381,
    "start_time": "2023-01-20T07:50:02.742Z"
   },
   {
    "duration": 7,
    "start_time": "2023-01-20T07:50:03.125Z"
   },
   {
    "duration": 3,
    "start_time": "2023-01-20T07:50:03.449Z"
   },
   {
    "duration": 305,
    "start_time": "2023-01-20T07:50:03.644Z"
   },
   {
    "duration": 329,
    "start_time": "2023-01-20T07:50:04.726Z"
   },
   {
    "duration": 320,
    "start_time": "2023-01-20T07:50:05.068Z"
   },
   {
    "duration": 357,
    "start_time": "2023-01-20T07:50:06.762Z"
   },
   {
    "duration": 3,
    "start_time": "2023-01-20T07:50:15.342Z"
   },
   {
    "duration": 15,
    "start_time": "2023-01-20T07:50:17.125Z"
   },
   {
    "duration": 14,
    "start_time": "2023-01-20T07:50:48.460Z"
   },
   {
    "duration": 15,
    "start_time": "2023-01-20T07:50:51.355Z"
   },
   {
    "duration": 14,
    "start_time": "2023-01-20T07:50:57.822Z"
   },
   {
    "duration": 13,
    "start_time": "2023-01-20T07:51:22.846Z"
   },
   {
    "duration": 26,
    "start_time": "2023-01-20T07:51:31.096Z"
   },
   {
    "duration": 12,
    "start_time": "2023-01-20T07:51:37.956Z"
   },
   {
    "duration": 15,
    "start_time": "2023-01-20T07:52:19.416Z"
   },
   {
    "duration": 13,
    "start_time": "2023-01-20T07:52:44.420Z"
   },
   {
    "duration": 14,
    "start_time": "2023-01-20T07:52:46.617Z"
   },
   {
    "duration": 20,
    "start_time": "2023-01-20T07:52:49.896Z"
   },
   {
    "duration": 14,
    "start_time": "2023-01-20T07:52:52.646Z"
   },
   {
    "duration": 481,
    "start_time": "2023-01-20T07:52:54.346Z"
   },
   {
    "duration": 8,
    "start_time": "2023-01-20T07:52:54.829Z"
   },
   {
    "duration": 7,
    "start_time": "2023-01-20T07:52:59.145Z"
   },
   {
    "duration": 8,
    "start_time": "2023-01-20T07:53:12.611Z"
   },
   {
    "duration": 27,
    "start_time": "2023-01-20T07:53:27.172Z"
   },
   {
    "duration": 9,
    "start_time": "2023-01-20T07:54:10.118Z"
   },
   {
    "duration": 22,
    "start_time": "2023-01-20T07:54:12.038Z"
   },
   {
    "duration": 7,
    "start_time": "2023-01-20T07:54:27.817Z"
   },
   {
    "duration": 30,
    "start_time": "2023-01-20T07:54:29.215Z"
   },
   {
    "duration": 6,
    "start_time": "2023-01-20T07:54:55.460Z"
   },
   {
    "duration": 27,
    "start_time": "2023-01-20T07:54:56.049Z"
   },
   {
    "duration": 17,
    "start_time": "2023-01-20T07:55:20.185Z"
   },
   {
    "duration": 21,
    "start_time": "2023-01-20T07:55:20.818Z"
   },
   {
    "duration": 8,
    "start_time": "2023-01-20T07:55:57.277Z"
   },
   {
    "duration": 23,
    "start_time": "2023-01-20T07:55:58.038Z"
   },
   {
    "duration": 8,
    "start_time": "2023-01-20T07:56:04.222Z"
   },
   {
    "duration": 10,
    "start_time": "2023-01-20T07:56:06.437Z"
   },
   {
    "duration": 7,
    "start_time": "2023-01-20T07:57:04.577Z"
   },
   {
    "duration": 24,
    "start_time": "2023-01-20T07:57:05.353Z"
   },
   {
    "duration": 7,
    "start_time": "2023-01-20T07:57:10.671Z"
   },
   {
    "duration": 8,
    "start_time": "2023-01-20T07:57:16.385Z"
   },
   {
    "duration": 1381,
    "start_time": "2023-01-21T06:47:25.231Z"
   },
   {
    "duration": 3,
    "start_time": "2023-01-21T06:47:28.957Z"
   },
   {
    "duration": 2,
    "start_time": "2023-01-21T06:47:33.680Z"
   },
   {
    "duration": 100,
    "start_time": "2023-01-21T06:47:33.850Z"
   },
   {
    "duration": 35,
    "start_time": "2023-01-21T06:47:34.012Z"
   },
   {
    "duration": 16,
    "start_time": "2023-01-21T06:47:34.496Z"
   },
   {
    "duration": 12,
    "start_time": "2023-01-21T06:47:35.037Z"
   },
   {
    "duration": 18,
    "start_time": "2023-01-21T06:47:35.771Z"
   },
   {
    "duration": 11,
    "start_time": "2023-01-21T06:47:35.968Z"
   },
   {
    "duration": 6,
    "start_time": "2023-01-21T06:47:36.465Z"
   },
   {
    "duration": 7,
    "start_time": "2023-01-21T06:47:36.827Z"
   },
   {
    "duration": 11,
    "start_time": "2023-01-21T06:47:37.001Z"
   },
   {
    "duration": 11,
    "start_time": "2023-01-21T06:47:37.351Z"
   },
   {
    "duration": 10,
    "start_time": "2023-01-21T06:47:38.450Z"
   },
   {
    "duration": 12,
    "start_time": "2023-01-21T06:47:38.653Z"
   },
   {
    "duration": 18,
    "start_time": "2023-01-21T06:47:39.048Z"
   },
   {
    "duration": 15,
    "start_time": "2023-01-21T06:47:39.691Z"
   },
   {
    "duration": 198,
    "start_time": "2023-01-21T06:47:41.041Z"
   },
   {
    "duration": 586,
    "start_time": "2023-01-21T06:47:41.924Z"
   },
   {
    "duration": 8,
    "start_time": "2023-01-21T06:47:42.513Z"
   },
   {
    "duration": 294,
    "start_time": "2023-01-21T06:47:43.787Z"
   },
   {
    "duration": 9,
    "start_time": "2023-01-21T06:47:45.056Z"
   },
   {
    "duration": 2,
    "start_time": "2023-01-21T06:47:48.226Z"
   },
   {
    "duration": 282,
    "start_time": "2023-01-21T06:47:52.813Z"
   },
   {
    "duration": 319,
    "start_time": "2023-01-21T06:47:56.348Z"
   },
   {
    "duration": 308,
    "start_time": "2023-01-21T06:47:59.023Z"
   },
   {
    "duration": 207,
    "start_time": "2023-01-21T06:49:08.221Z"
   },
   {
    "duration": 137,
    "start_time": "2023-01-21T06:49:28.259Z"
   },
   {
    "duration": 110,
    "start_time": "2023-01-21T06:50:21.028Z"
   },
   {
    "duration": 230,
    "start_time": "2023-01-21T06:51:17.879Z"
   },
   {
    "duration": 138,
    "start_time": "2023-01-21T06:51:59.030Z"
   },
   {
    "duration": 297,
    "start_time": "2023-01-21T06:54:45.840Z"
   },
   {
    "duration": 308,
    "start_time": "2023-01-21T06:55:07.054Z"
   },
   {
    "duration": 301,
    "start_time": "2023-01-21T06:55:53.996Z"
   },
   {
    "duration": 151,
    "start_time": "2023-01-21T06:57:10.486Z"
   },
   {
    "duration": 164,
    "start_time": "2023-01-21T06:57:38.307Z"
   },
   {
    "duration": 150,
    "start_time": "2023-01-21T06:57:44.363Z"
   },
   {
    "duration": 162,
    "start_time": "2023-01-21T06:58:14.544Z"
   },
   {
    "duration": 151,
    "start_time": "2023-01-21T06:58:33.663Z"
   },
   {
    "duration": 147,
    "start_time": "2023-01-21T06:58:38.278Z"
   },
   {
    "duration": 161,
    "start_time": "2023-01-21T06:58:49.700Z"
   },
   {
    "duration": 240,
    "start_time": "2023-01-21T06:58:52.215Z"
   },
   {
    "duration": 5,
    "start_time": "2023-01-21T06:59:32.938Z"
   },
   {
    "duration": 3,
    "start_time": "2023-01-21T07:05:54.515Z"
   },
   {
    "duration": 2,
    "start_time": "2023-01-21T07:06:04.476Z"
   },
   {
    "duration": 214,
    "start_time": "2023-01-21T07:06:23.197Z"
   },
   {
    "duration": 1084,
    "start_time": "2023-01-21T07:06:41.839Z"
   },
   {
    "duration": 150,
    "start_time": "2023-01-21T07:06:53.578Z"
   },
   {
    "duration": 158,
    "start_time": "2023-01-21T07:07:01.097Z"
   },
   {
    "duration": 170,
    "start_time": "2023-01-21T07:07:05.838Z"
   },
   {
    "duration": 246,
    "start_time": "2023-01-21T07:07:13.109Z"
   },
   {
    "duration": 188,
    "start_time": "2023-01-21T07:07:20.175Z"
   },
   {
    "duration": 188,
    "start_time": "2023-01-21T07:07:26.249Z"
   },
   {
    "duration": 245,
    "start_time": "2023-01-21T07:07:49.431Z"
   },
   {
    "duration": 174,
    "start_time": "2023-01-21T07:07:56.900Z"
   },
   {
    "duration": 300,
    "start_time": "2023-01-21T07:08:21.057Z"
   },
   {
    "duration": 3,
    "start_time": "2023-01-21T07:09:03.935Z"
   },
   {
    "duration": 192,
    "start_time": "2023-01-21T07:11:03.076Z"
   },
   {
    "duration": 1899,
    "start_time": "2023-01-21T07:37:01.517Z"
   },
   {
    "duration": 1815,
    "start_time": "2023-01-21T07:38:10.048Z"
   },
   {
    "duration": 7,
    "start_time": "2023-01-21T07:40:11.995Z"
   },
   {
    "duration": 139,
    "start_time": "2023-01-21T07:43:24.834Z"
   },
   {
    "duration": 129,
    "start_time": "2023-01-21T07:43:50.191Z"
   },
   {
    "duration": 130,
    "start_time": "2023-01-21T07:43:53.498Z"
   },
   {
    "duration": 269,
    "start_time": "2023-01-21T07:44:16.506Z"
   },
   {
    "duration": 137,
    "start_time": "2023-01-21T07:46:24.126Z"
   },
   {
    "duration": 138,
    "start_time": "2023-01-21T07:46:38.891Z"
   },
   {
    "duration": 277,
    "start_time": "2023-01-21T07:49:22.213Z"
   },
   {
    "duration": 351,
    "start_time": "2023-01-21T07:49:37.151Z"
   },
   {
    "duration": 134,
    "start_time": "2023-01-21T07:50:27.486Z"
   },
   {
    "duration": 277,
    "start_time": "2023-01-21T07:50:45.701Z"
   },
   {
    "duration": 297,
    "start_time": "2023-01-21T07:50:56.979Z"
   },
   {
    "duration": 268,
    "start_time": "2023-01-21T07:53:59.747Z"
   },
   {
    "duration": 251,
    "start_time": "2023-01-21T07:54:21.025Z"
   },
   {
    "duration": 245,
    "start_time": "2023-01-21T07:54:48.910Z"
   },
   {
    "duration": 452,
    "start_time": "2023-01-21T07:55:11.111Z"
   },
   {
    "duration": 207,
    "start_time": "2023-01-21T07:55:17.606Z"
   },
   {
    "duration": 226,
    "start_time": "2023-01-21T07:55:22.484Z"
   },
   {
    "duration": 269,
    "start_time": "2023-01-21T07:55:29.597Z"
   },
   {
    "duration": 259,
    "start_time": "2023-01-21T08:00:53.067Z"
   },
   {
    "duration": 239,
    "start_time": "2023-01-21T08:01:10.785Z"
   },
   {
    "duration": 277,
    "start_time": "2023-01-21T08:02:52.031Z"
   },
   {
    "duration": 330,
    "start_time": "2023-01-21T08:03:30.428Z"
   }
  ],
  "kernelspec": {
   "display_name": "Python 3 (ipykernel)",
   "language": "python",
   "name": "python3"
  },
  "language_info": {
   "codemirror_mode": {
    "name": "ipython",
    "version": 3
   },
   "file_extension": ".py",
   "mimetype": "text/x-python",
   "name": "python",
   "nbconvert_exporter": "python",
   "pygments_lexer": "ipython3",
   "version": "3.9.5"
  },
  "toc": {
   "base_numbering": 1,
   "nav_menu": {
    "height": "513px",
    "width": "625px"
   },
   "number_sections": true,
   "sideBar": true,
   "skip_h1_title": true,
   "title_cell": "Table of Contents",
   "title_sidebar": "Contents",
   "toc_cell": false,
   "toc_position": {},
   "toc_section_display": true,
   "toc_window_display": false
  }
 },
 "nbformat": 4,
 "nbformat_minor": 2
}
